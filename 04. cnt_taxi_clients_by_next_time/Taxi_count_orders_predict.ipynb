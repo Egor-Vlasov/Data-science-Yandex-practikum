{
 "cells": [
  {
   "cell_type": "markdown",
   "metadata": {
    "toc": true
   },
   "source": [
    "<h1>Содержание<span class=\"tocSkip\"></span></h1>\n",
    "<div class=\"toc\"><ul class=\"toc-item\"><li><span><a href=\"#Импорты-и-необходимые-функции\" data-toc-modified-id=\"Импорты-и-необходимые-функции-1\"><span class=\"toc-item-num\">1&nbsp;&nbsp;</span>Импорты и необходимые функции</a></span></li><li><span><a href=\"#Подготовка\" data-toc-modified-id=\"Подготовка-2\"><span class=\"toc-item-num\">2&nbsp;&nbsp;</span>Подготовка</a></span><ul class=\"toc-item\"><li><span><a href=\"#Загрузка-данных-и-просмотр\" data-toc-modified-id=\"Загрузка-данных-и-просмотр-2.1\"><span class=\"toc-item-num\">2.1&nbsp;&nbsp;</span>Загрузка данных и просмотр</a></span></li></ul></li><li><span><a href=\"#Анализ\" data-toc-modified-id=\"Анализ-3\"><span class=\"toc-item-num\">3&nbsp;&nbsp;</span>Анализ</a></span></li><li><span><a href=\"#Обучение\" data-toc-modified-id=\"Обучение-4\"><span class=\"toc-item-num\">4&nbsp;&nbsp;</span>Обучение</a></span><ul class=\"toc-item\"><li><span><a href=\"#Подготовка-данных\" data-toc-modified-id=\"Подготовка-данных-4.1\"><span class=\"toc-item-num\">4.1&nbsp;&nbsp;</span>Подготовка данных</a></span></li><li><span><a href=\"#Линейная-регрессия\" data-toc-modified-id=\"Линейная-регрессия-4.2\"><span class=\"toc-item-num\">4.2&nbsp;&nbsp;</span>Линейная регрессия</a></span></li><li><span><a href=\"#Деревья\" data-toc-modified-id=\"Деревья-4.3\"><span class=\"toc-item-num\">4.3&nbsp;&nbsp;</span>Деревья</a></span></li><li><span><a href=\"#LightGBM\" data-toc-modified-id=\"LightGBM-4.4\"><span class=\"toc-item-num\">4.4&nbsp;&nbsp;</span>LightGBM</a></span></li><li><span><a href=\"#Catboost\" data-toc-modified-id=\"Catboost-4.5\"><span class=\"toc-item-num\">4.5&nbsp;&nbsp;</span>Catboost</a></span></li></ul></li><li><span><a href=\"#Тестирование\" data-toc-modified-id=\"Тестирование-5\"><span class=\"toc-item-num\">5&nbsp;&nbsp;</span>Тестирование</a></span></li><li><span><a href=\"#Итог\" data-toc-modified-id=\"Итог-6\"><span class=\"toc-item-num\">6&nbsp;&nbsp;</span>Итог</a></span></li><li><span><a href=\"#Чек-лист-проверки\" data-toc-modified-id=\"Чек-лист-проверки-7\"><span class=\"toc-item-num\">7&nbsp;&nbsp;</span>Чек-лист проверки</a></span></li></ul></div>"
   ]
  },
  {
   "cell_type": "markdown",
   "metadata": {},
   "source": [
    "#  Прогнозирование заказов такси"
   ]
  },
  {
   "cell_type": "markdown",
   "metadata": {},
   "source": [
    "Компания «Чётенькое такси» собрала исторические данные о заказах такси в аэропортах. Чтобы привлекать больше водителей в период пиковой нагрузки, нужно спрогнозировать количество заказов такси на следующий час. Постройте модель для такого предсказания.\n",
    "\n",
    "Значение метрики *RMSE* на тестовой выборке должно быть не больше 48.\n",
    "\n",
    "Вам нужно:\n",
    "\n",
    "1. Загрузить данные и выполнить их ресемплирование по одному часу.\n",
    "2. Проанализировать данные.\n",
    "3. Обучить разные модели с различными гиперпараметрами. Сделать тестовую выборку размером 10% от исходных данных.\n",
    "4. Проверить данные на тестовой выборке и сделать выводы.\n",
    "\n",
    "\n",
    "Данные лежат в файле `taxi.csv`. Количество заказов находится в столбце `num_orders` (от англ. *number of orders*, «число заказов»)."
   ]
  },
  {
   "cell_type": "markdown",
   "metadata": {},
   "source": [
    "## Импорты и необходимые функции"
   ]
  },
  {
   "cell_type": "code",
   "execution_count": 1,
   "metadata": {},
   "outputs": [
    {
     "name": "stdout",
     "output_type": "stream",
     "text": [
      "Note: you may need to restart the kernel to use updated packages.\n"
     ]
    }
   ],
   "source": [
    "pip install phik -q"
   ]
  },
  {
   "cell_type": "code",
   "execution_count": 2,
   "metadata": {},
   "outputs": [
    {
     "name": "stdout",
     "output_type": "stream",
     "text": [
      "Note: you may need to restart the kernel to use updated packages.\n"
     ]
    }
   ],
   "source": [
    "pip install shap -q"
   ]
  },
  {
   "cell_type": "code",
   "execution_count": 3,
   "metadata": {},
   "outputs": [
    {
     "name": "stdout",
     "output_type": "stream",
     "text": [
      "Note: you may need to restart the kernel to use updated packages.\n"
     ]
    }
   ],
   "source": [
    "pip install catboost -q"
   ]
  },
  {
   "cell_type": "code",
   "execution_count": 4,
   "metadata": {},
   "outputs": [
    {
     "name": "stdout",
     "output_type": "stream",
     "text": [
      "Note: you may need to restart the kernel to use updated packages.\n"
     ]
    }
   ],
   "source": [
    "pip install imblearn -q"
   ]
  },
  {
   "cell_type": "code",
   "execution_count": 5,
   "metadata": {},
   "outputs": [
    {
     "name": "stdout",
     "output_type": "stream",
     "text": [
      "Note: you may need to restart the kernel to use updated packages.\n"
     ]
    }
   ],
   "source": [
    "pip install optuna -q"
   ]
  },
  {
   "cell_type": "code",
   "execution_count": 6,
   "metadata": {},
   "outputs": [],
   "source": [
    "#Импортируем необходимые библиотеки для работы \n",
    "import pandas as pd\n",
    "from math import *\n",
    "import numpy as np\n",
    "from scipy import stats as st\n",
    "from sqlalchemy import create_engine \n",
    "\n",
    "# Метрики и оОбработка данных\n",
    "from imblearn.combine import SMOTETomek\n",
    "from sklearn.metrics import mean_squared_error\n",
    "from sklearn.model_selection import train_test_split\n",
    "from sklearn.preprocessing import (StandardScaler, OneHotEncoder, OrdinalEncoder, MinMaxScaler, LabelEncoder)\n",
    "\n",
    "from sklearn.feature_selection import SelectKBest, f_classif\n",
    "from sklearn.pipeline import Pipeline\n",
    "from sklearn.impute import SimpleImputer\n",
    "from sklearn.compose import ColumnTransformer\n",
    "from sklearn.inspection import permutation_importance\n",
    "from sklearn.model_selection import StratifiedKFold\n",
    "from sklearn.preprocessing import MultiLabelBinarizer\n",
    "import optuna\n",
    "from optuna.samplers import TPESampler\n",
    "from sklearn.model_selection import cross_val_score\n",
    "from sklearn.model_selection import cross_validate\n",
    "from sklearn.model_selection import TimeSeriesSplit\n",
    "\n",
    "# Графическое отображение\n",
    "import matplotlib.pyplot as plt\n",
    "import seaborn as sns\n",
    "import phik\n",
    "import shap\n",
    "from statsmodels.tsa.seasonal import seasonal_decompose\n",
    "\n",
    "# Модели обучения\n",
    "from catboost import CatBoostRegressor\n",
    "from sklearn.linear_model import LinearRegression\n",
    "from sklearn.tree import DecisionTreeRegressor\n",
    "from sklearn.svm import SVR\n",
    "from sklearn.ensemble import RandomForestRegressor\n",
    "import lightgbm as lgb\n",
    "\n",
    "from sklearn.model_selection import RandomizedSearchCV, GridSearchCV\n",
    "\n",
    "import warnings\n",
    "warnings.filterwarnings(\"ignore\")\n",
    "\n",
    "#Зададим константы\n",
    "TEST_SIZE = 0.1\n",
    "RANDOM_STATE = 42"
   ]
  },
  {
   "cell_type": "code",
   "execution_count": 7,
   "metadata": {},
   "outputs": [],
   "source": [
    "def prepare_data(X, y):\n",
    "   \n",
    "    X_train, X_test, y_train, y_test = train_test_split(\n",
    "    X,\n",
    "    y,\n",
    "    test_size = TEST_SIZE, \n",
    "    random_state = RANDOM_STATE,\n",
    "    shuffle = False)\n",
    "    \n",
    "    return X_train, X_test, y_train, y_test"
   ]
  },
  {
   "cell_type": "code",
   "execution_count": 8,
   "metadata": {},
   "outputs": [],
   "source": [
    "# Функция для отображения информации о датасете\n",
    "def show_info(df):\n",
    "    print('Количество строк выборки составляет:',df.shape[0],'\\n',\"==\"*50)\n",
    "    display(\"Первые пять строк\", df.head())\n",
    "    print('Общая информация о данных\\n','=='*50)\n",
    "    print(df.info())\n",
    "    display('Описание',df.describe().T,\"==\"*50)\n",
    "    print('Количество явных дубликатов составляет',df.duplicated().sum())"
   ]
  },
  {
   "cell_type": "code",
   "execution_count": 9,
   "metadata": {},
   "outputs": [],
   "source": [
    "# Функция отображения гистограм и боксплотов для исследовательского анализа\n",
    "def search_plot(df_col, title_name, bins):\n",
    "\n",
    "    mean = df_col.mean()\n",
    "    median = df_col.median()\n",
    "    \n",
    "    fig, ax = plt.subplots(2, 1, figsize=(10, 10))\n",
    "    fig.suptitle(f\"{title_name}\", fontsize=13)\n",
    "    \n",
    "    sns.histplot(df_col, bins=bins, kde=True, ax=ax[0])\n",
    "    ax[0].set_title('Гистограмма', fontsize=10)\n",
    "    ax[0].set_xlabel(title_name)\n",
    "    ax[0].set_ylabel('Частота')\n",
    "    ax[0].grid(True)\n",
    "    \n",
    "    ax[0].axvline(mean, color='red', linestyle='--', label=f'Среднее = {mean:.2f}')\n",
    "    ax[0].axvline(median, color='purple', linestyle='-.', label=f'Медиана = {median:.2f}')\n",
    "    ax[0].legend()\n",
    "\n",
    "    sns.boxplot(x=df_col, ax=ax[1], color='pink')\n",
    "    ax[1].set_title('Диаграмма размаха', fontsize=10)\n",
    "    ax[1].axvline(median, color='green', linestyle='-.')\n",
    "    ax[1].grid(True)\n",
    "\n",
    "    plt.tight_layout(rect=[0, 0, 1, 0.95])\n",
    "    plt.show()\n",
    "    \n",
    "    \n",
    "    display(df_col.describe().T)\n",
    "    print('')\n",
    "    \n",
    "    stat, p = st.shapiro(df_col)\n",
    "    alpha = 0.1  # Уровень значимости\n",
    "    if p > alpha:\n",
    "        print(\"По тесту Шапиро-Уилка: Распределение похоже на нормальное\")\n",
    "    else:\n",
    "        print(\"По тесту Шапиро-Уилка: Распределение отличается от нормального\")"
   ]
  },
  {
   "cell_type": "markdown",
   "metadata": {},
   "source": [
    "## Подготовка"
   ]
  },
  {
   "cell_type": "markdown",
   "metadata": {},
   "source": [
    "### Загрузка данных и просмотр"
   ]
  },
  {
   "cell_type": "code",
   "execution_count": 10,
   "metadata": {},
   "outputs": [],
   "source": [
    "df = pd.read_csv('/datasets/taxi.csv', index_col=[0], parse_dates=[0])"
   ]
  },
  {
   "cell_type": "code",
   "execution_count": 11,
   "metadata": {},
   "outputs": [
    {
     "name": "stdout",
     "output_type": "stream",
     "text": [
      "Количество строк выборки составляет: 26496 \n",
      " ====================================================================================================\n"
     ]
    },
    {
     "data": {
      "text/plain": [
       "'Первые пять строк'"
      ]
     },
     "metadata": {},
     "output_type": "display_data"
    },
    {
     "data": {
      "text/html": [
       "<div>\n",
       "<style scoped>\n",
       "    .dataframe tbody tr th:only-of-type {\n",
       "        vertical-align: middle;\n",
       "    }\n",
       "\n",
       "    .dataframe tbody tr th {\n",
       "        vertical-align: top;\n",
       "    }\n",
       "\n",
       "    .dataframe thead th {\n",
       "        text-align: right;\n",
       "    }\n",
       "</style>\n",
       "<table border=\"1\" class=\"dataframe\">\n",
       "  <thead>\n",
       "    <tr style=\"text-align: right;\">\n",
       "      <th></th>\n",
       "      <th>num_orders</th>\n",
       "    </tr>\n",
       "    <tr>\n",
       "      <th>datetime</th>\n",
       "      <th></th>\n",
       "    </tr>\n",
       "  </thead>\n",
       "  <tbody>\n",
       "    <tr>\n",
       "      <th>2018-03-01 00:00:00</th>\n",
       "      <td>9</td>\n",
       "    </tr>\n",
       "    <tr>\n",
       "      <th>2018-03-01 00:10:00</th>\n",
       "      <td>14</td>\n",
       "    </tr>\n",
       "    <tr>\n",
       "      <th>2018-03-01 00:20:00</th>\n",
       "      <td>28</td>\n",
       "    </tr>\n",
       "    <tr>\n",
       "      <th>2018-03-01 00:30:00</th>\n",
       "      <td>20</td>\n",
       "    </tr>\n",
       "    <tr>\n",
       "      <th>2018-03-01 00:40:00</th>\n",
       "      <td>32</td>\n",
       "    </tr>\n",
       "  </tbody>\n",
       "</table>\n",
       "</div>"
      ],
      "text/plain": [
       "                     num_orders\n",
       "datetime                       \n",
       "2018-03-01 00:00:00           9\n",
       "2018-03-01 00:10:00          14\n",
       "2018-03-01 00:20:00          28\n",
       "2018-03-01 00:30:00          20\n",
       "2018-03-01 00:40:00          32"
      ]
     },
     "metadata": {},
     "output_type": "display_data"
    },
    {
     "name": "stdout",
     "output_type": "stream",
     "text": [
      "Общая информация о данных\n",
      " ====================================================================================================\n",
      "<class 'pandas.core.frame.DataFrame'>\n",
      "DatetimeIndex: 26496 entries, 2018-03-01 00:00:00 to 2018-08-31 23:50:00\n",
      "Data columns (total 1 columns):\n",
      " #   Column      Non-Null Count  Dtype\n",
      "---  ------      --------------  -----\n",
      " 0   num_orders  26496 non-null  int64\n",
      "dtypes: int64(1)\n",
      "memory usage: 414.0 KB\n",
      "None\n"
     ]
    },
    {
     "data": {
      "text/plain": [
       "'Описание'"
      ]
     },
     "metadata": {},
     "output_type": "display_data"
    },
    {
     "data": {
      "text/html": [
       "<div>\n",
       "<style scoped>\n",
       "    .dataframe tbody tr th:only-of-type {\n",
       "        vertical-align: middle;\n",
       "    }\n",
       "\n",
       "    .dataframe tbody tr th {\n",
       "        vertical-align: top;\n",
       "    }\n",
       "\n",
       "    .dataframe thead th {\n",
       "        text-align: right;\n",
       "    }\n",
       "</style>\n",
       "<table border=\"1\" class=\"dataframe\">\n",
       "  <thead>\n",
       "    <tr style=\"text-align: right;\">\n",
       "      <th></th>\n",
       "      <th>count</th>\n",
       "      <th>mean</th>\n",
       "      <th>std</th>\n",
       "      <th>min</th>\n",
       "      <th>25%</th>\n",
       "      <th>50%</th>\n",
       "      <th>75%</th>\n",
       "      <th>max</th>\n",
       "    </tr>\n",
       "  </thead>\n",
       "  <tbody>\n",
       "    <tr>\n",
       "      <th>num_orders</th>\n",
       "      <td>26496.0</td>\n",
       "      <td>14.070463</td>\n",
       "      <td>9.21133</td>\n",
       "      <td>0.0</td>\n",
       "      <td>8.0</td>\n",
       "      <td>13.0</td>\n",
       "      <td>19.0</td>\n",
       "      <td>119.0</td>\n",
       "    </tr>\n",
       "  </tbody>\n",
       "</table>\n",
       "</div>"
      ],
      "text/plain": [
       "              count       mean      std  min  25%   50%   75%    max\n",
       "num_orders  26496.0  14.070463  9.21133  0.0  8.0  13.0  19.0  119.0"
      ]
     },
     "metadata": {},
     "output_type": "display_data"
    },
    {
     "data": {
      "text/plain": [
       "'===================================================================================================='"
      ]
     },
     "metadata": {},
     "output_type": "display_data"
    },
    {
     "name": "stdout",
     "output_type": "stream",
     "text": [
      "Количество явных дубликатов составляет 26415\n"
     ]
    }
   ],
   "source": [
    "show_info(df)"
   ]
  },
  {
   "cell_type": "code",
   "execution_count": 12,
   "metadata": {},
   "outputs": [
    {
     "name": "stdout",
     "output_type": "stream",
     "text": [
      "Кол-во пропусков в данных составляет: num_orders    0\n",
      "dtype: int64\n"
     ]
    }
   ],
   "source": [
    "print('Кол-во пропусков в данных составляет:', df.isna().sum())"
   ]
  },
  {
   "cell_type": "code",
   "execution_count": 13,
   "metadata": {},
   "outputs": [],
   "source": [
    "df = df.sort_index()"
   ]
  },
  {
   "cell_type": "code",
   "execution_count": 14,
   "metadata": {},
   "outputs": [
    {
     "name": "stdout",
     "output_type": "stream",
     "text": [
      "True\n"
     ]
    }
   ],
   "source": [
    "print(df.index.is_monotonic)"
   ]
  },
  {
   "cell_type": "code",
   "execution_count": 15,
   "metadata": {
    "scrolled": true
   },
   "outputs": [
    {
     "name": "stdout",
     "output_type": "stream",
     "text": [
      " Начальная дата: 2018-03-01 00:00:00 \n",
      " Конечная дата: 2018-08-31 23:50:00\n"
     ]
    }
   ],
   "source": [
    "print(' Начальная дата:',df.index[0],'\\n',\n",
    "       'Конечная дата:',df.index[-1])"
   ]
  },
  {
   "cell_type": "markdown",
   "metadata": {},
   "source": [
    "В данных пропусков нет, индекс монотонный.     \n",
    "Данные представлены за 6 месяцев работы.     \n",
    "Замечаний нет, сделаем ресемпл данных по часовым значениям"
   ]
  },
  {
   "cell_type": "code",
   "execution_count": 16,
   "metadata": {},
   "outputs": [],
   "source": [
    "# ресемплинг - среднее по каждому часу\n",
    "df = df.resample('1H').sum()"
   ]
  },
  {
   "cell_type": "code",
   "execution_count": 17,
   "metadata": {},
   "outputs": [
    {
     "name": "stdout",
     "output_type": "stream",
     "text": [
      "Количество строк выборки составляет: 4416 \n",
      " ====================================================================================================\n"
     ]
    },
    {
     "data": {
      "text/plain": [
       "'Первые пять строк'"
      ]
     },
     "metadata": {},
     "output_type": "display_data"
    },
    {
     "data": {
      "text/html": [
       "<div>\n",
       "<style scoped>\n",
       "    .dataframe tbody tr th:only-of-type {\n",
       "        vertical-align: middle;\n",
       "    }\n",
       "\n",
       "    .dataframe tbody tr th {\n",
       "        vertical-align: top;\n",
       "    }\n",
       "\n",
       "    .dataframe thead th {\n",
       "        text-align: right;\n",
       "    }\n",
       "</style>\n",
       "<table border=\"1\" class=\"dataframe\">\n",
       "  <thead>\n",
       "    <tr style=\"text-align: right;\">\n",
       "      <th></th>\n",
       "      <th>num_orders</th>\n",
       "    </tr>\n",
       "    <tr>\n",
       "      <th>datetime</th>\n",
       "      <th></th>\n",
       "    </tr>\n",
       "  </thead>\n",
       "  <tbody>\n",
       "    <tr>\n",
       "      <th>2018-03-01 00:00:00</th>\n",
       "      <td>124</td>\n",
       "    </tr>\n",
       "    <tr>\n",
       "      <th>2018-03-01 01:00:00</th>\n",
       "      <td>85</td>\n",
       "    </tr>\n",
       "    <tr>\n",
       "      <th>2018-03-01 02:00:00</th>\n",
       "      <td>71</td>\n",
       "    </tr>\n",
       "    <tr>\n",
       "      <th>2018-03-01 03:00:00</th>\n",
       "      <td>66</td>\n",
       "    </tr>\n",
       "    <tr>\n",
       "      <th>2018-03-01 04:00:00</th>\n",
       "      <td>43</td>\n",
       "    </tr>\n",
       "  </tbody>\n",
       "</table>\n",
       "</div>"
      ],
      "text/plain": [
       "                     num_orders\n",
       "datetime                       \n",
       "2018-03-01 00:00:00         124\n",
       "2018-03-01 01:00:00          85\n",
       "2018-03-01 02:00:00          71\n",
       "2018-03-01 03:00:00          66\n",
       "2018-03-01 04:00:00          43"
      ]
     },
     "metadata": {},
     "output_type": "display_data"
    },
    {
     "name": "stdout",
     "output_type": "stream",
     "text": [
      "Общая информация о данных\n",
      " ====================================================================================================\n",
      "<class 'pandas.core.frame.DataFrame'>\n",
      "DatetimeIndex: 4416 entries, 2018-03-01 00:00:00 to 2018-08-31 23:00:00\n",
      "Freq: H\n",
      "Data columns (total 1 columns):\n",
      " #   Column      Non-Null Count  Dtype\n",
      "---  ------      --------------  -----\n",
      " 0   num_orders  4416 non-null   int64\n",
      "dtypes: int64(1)\n",
      "memory usage: 69.0 KB\n",
      "None\n"
     ]
    },
    {
     "data": {
      "text/plain": [
       "'Описание'"
      ]
     },
     "metadata": {},
     "output_type": "display_data"
    },
    {
     "data": {
      "text/html": [
       "<div>\n",
       "<style scoped>\n",
       "    .dataframe tbody tr th:only-of-type {\n",
       "        vertical-align: middle;\n",
       "    }\n",
       "\n",
       "    .dataframe tbody tr th {\n",
       "        vertical-align: top;\n",
       "    }\n",
       "\n",
       "    .dataframe thead th {\n",
       "        text-align: right;\n",
       "    }\n",
       "</style>\n",
       "<table border=\"1\" class=\"dataframe\">\n",
       "  <thead>\n",
       "    <tr style=\"text-align: right;\">\n",
       "      <th></th>\n",
       "      <th>count</th>\n",
       "      <th>mean</th>\n",
       "      <th>std</th>\n",
       "      <th>min</th>\n",
       "      <th>25%</th>\n",
       "      <th>50%</th>\n",
       "      <th>75%</th>\n",
       "      <th>max</th>\n",
       "    </tr>\n",
       "  </thead>\n",
       "  <tbody>\n",
       "    <tr>\n",
       "      <th>num_orders</th>\n",
       "      <td>4416.0</td>\n",
       "      <td>84.422781</td>\n",
       "      <td>45.023853</td>\n",
       "      <td>0.0</td>\n",
       "      <td>54.0</td>\n",
       "      <td>78.0</td>\n",
       "      <td>107.0</td>\n",
       "      <td>462.0</td>\n",
       "    </tr>\n",
       "  </tbody>\n",
       "</table>\n",
       "</div>"
      ],
      "text/plain": [
       "             count       mean        std  min   25%   50%    75%    max\n",
       "num_orders  4416.0  84.422781  45.023853  0.0  54.0  78.0  107.0  462.0"
      ]
     },
     "metadata": {},
     "output_type": "display_data"
    },
    {
     "data": {
      "text/plain": [
       "'===================================================================================================='"
      ]
     },
     "metadata": {},
     "output_type": "display_data"
    },
    {
     "name": "stdout",
     "output_type": "stream",
     "text": [
      "Количество явных дубликатов составляет 4165\n"
     ]
    }
   ],
   "source": [
    "show_info(df)"
   ]
  },
  {
   "cell_type": "markdown",
   "metadata": {},
   "source": [
    "## Анализ"
   ]
  },
  {
   "cell_type": "code",
   "execution_count": 18,
   "metadata": {
    "scrolled": false
   },
   "outputs": [
    {
     "data": {
      "image/png": "[encoded data removed]",
      "text/plain": [
       "<Figure size 720x720 with 2 Axes>"
      ]
     },
     "metadata": {
      "needs_background": "light"
     },
     "output_type": "display_data"
    },
    {
     "data": {
      "text/plain": [
       "count    4416.000000\n",
       "mean       84.422781\n",
       "std        45.023853\n",
       "min         0.000000\n",
       "25%        54.000000\n",
       "50%        78.000000\n",
       "75%       107.000000\n",
       "max       462.000000\n",
       "Name: num_orders, dtype: float64"
      ]
     },
     "metadata": {},
     "output_type": "display_data"
    },
    {
     "name": "stdout",
     "output_type": "stream",
     "text": [
      "\n",
      "По тесту Шапиро-Уилка: Распределение отличается от нормального\n"
     ]
    }
   ],
   "source": [
    "search_plot(df['num_orders'],'кол-во заказов',30)"
   ]
  },
  {
   "cell_type": "markdown",
   "metadata": {},
   "source": [
    "По диаграмме можно сказать, что она смещена вправо, так как среднее значение выше медианы. Наблюдаются выбросы -- возможно что заказов со временем становится больше"
   ]
  },
  {
   "cell_type": "code",
   "execution_count": 19,
   "metadata": {
    "scrolled": false
   },
   "outputs": [
    {
     "data": {
      "image/png": "[encoded data removed]",
      "text/plain": [
       "<Figure size 864x576 with 1 Axes>"
      ]
     },
     "metadata": {
      "needs_background": "light"
     },
     "output_type": "display_data"
    }
   ],
   "source": [
    "df.plot(figsize=(12, 8));"
   ]
  },
  {
   "cell_type": "markdown",
   "metadata": {},
   "source": [
    "В почасовом графике нет возможности проанализировать график, поэтому для анализа сделаем ресемпл по дням"
   ]
  },
  {
   "cell_type": "code",
   "execution_count": 20,
   "metadata": {},
   "outputs": [],
   "source": [
    "srch_1 = df.copy()"
   ]
  },
  {
   "cell_type": "code",
   "execution_count": 21,
   "metadata": {
    "scrolled": false
   },
   "outputs": [
    {
     "data": {
      "image/png": "[encoded data removed]",
      "text/plain": [
       "<Figure size 864x576 with 1 Axes>"
      ]
     },
     "metadata": {
      "needs_background": "light"
     },
     "output_type": "display_data"
    }
   ],
   "source": [
    "srch_1= srch_1.resample('1D').sum()\n",
    "srch_1['rolling_mean'] = srch_1.rolling(15).mean()\n",
    "srch_1.plot(figsize=(12, 8));"
   ]
  },
  {
   "cell_type": "markdown",
   "metadata": {},
   "source": [
    "Нестационарный временной ряд, так как меняется среднее значение"
   ]
  },
  {
   "cell_type": "code",
   "execution_count": 22,
   "metadata": {
    "scrolled": false
   },
   "outputs": [],
   "source": [
    "decomposed = seasonal_decompose(srch_1['num_orders'])"
   ]
  },
  {
   "cell_type": "code",
   "execution_count": 23,
   "metadata": {
    "scrolled": false
   },
   "outputs": [
    {
     "data": {
      "image/png": "[encoded data removed]",
      "text/plain": [
       "<Figure size 720x864 with 3 Axes>"
      ]
     },
     "metadata": {
      "needs_background": "light"
     },
     "output_type": "display_data"
    }
   ],
   "source": [
    "plt.figure(figsize=(10, 12))\n",
    "plt.subplot(311)\n",
    "\n",
    "decomposed.trend.plot(ax=plt.gca())\n",
    "plt.title('Тренд',fontsize=16)\n",
    "plt.subplot(312)\n",
    "decomposed.seasonal.plot(ax=plt.gca())  \n",
    "plt.title('Сезонность',fontsize=16)\n",
    "plt.subplot(313)\n",
    "decomposed.resid.plot(ax=plt.gca())\n",
    "plt.title('Остатки',fontsize=16)\n",
    "plt.tight_layout()"
   ]
  },
  {
   "cell_type": "markdown",
   "metadata": {},
   "source": [
    "1) **Тренд** показывает устойчивый рост во времени с некоторыми незначительными колебаниями.Рост становится более выраженным к концу периода, что может говорить о ускорении тренда. Возможно из-за сезона отпусков или маркетинговыми афишами.      \n",
    "2) **Сезонная компонента**: амплитуда и форма колебаний стабильны, что говорит о постоянном сезонном эффекте на протяжении всего периода     \n",
    "3) **Остатки**: график характеризуется нерегулярными колебаниями без явной тенденции или повторяющихся паттернов"
   ]
  },
  {
   "cell_type": "code",
   "execution_count": 24,
   "metadata": {
    "scrolled": false
   },
   "outputs": [
    {
     "data": {
      "image/png": "[encoded data removed]",
      "text/plain": [
       "<Figure size 864x576 with 1 Axes>"
      ]
     },
     "metadata": {
      "needs_background": "light"
     },
     "output_type": "display_data"
    }
   ],
   "source": [
    "decomposed.seasonal['2018-04-09':'2018-04-23'].plot(figsize=(12, 8))\n",
    "plt.title('Сезонность в период с 9 по 23 апреля 2018 года',fontsize=16);"
   ]
  },
  {
   "cell_type": "code",
   "execution_count": 25,
   "metadata": {},
   "outputs": [
    {
     "data": {
      "image/png": "[encoded data removed]",
      "text/plain": [
       "<Figure size 864x432 with 1 Axes>"
      ]
     },
     "metadata": {
      "needs_background": "light"
     },
     "output_type": "display_data"
    }
   ],
   "source": [
    "weekday_seasonal = decomposed.seasonal.groupby(decomposed.seasonal.index.dayofweek).mean()\n",
    "\n",
    "# Создаем подписи для дней недели\n",
    "weekday_names = ['Пн', 'Вт', 'Ср', 'Чт', 'Пт', 'Сб', 'Вс']\n",
    "\n",
    "plt.figure(figsize=(12, 6))\n",
    "weekday_seasonal.plot(kind='bar', color='skyblue')\n",
    "plt.title('Средняя недельная сезонность по дням недели', fontsize=16)\n",
    "plt.xlabel('День недели', fontsize=12)\n",
    "plt.ylabel('Сезонная компонента', fontsize=12)\n",
    "plt.xticks(range(7), weekday_names, rotation=0)  \n",
    "plt.grid(axis='y', linestyle='--', alpha=0.7)\n",
    "plt.show()"
   ]
  },
  {
   "cell_type": "markdown",
   "metadata": {},
   "source": [
    "По понедельникам и пятница виден всплеск заказов, а в воскресенье и вторник -> уменьшение     \n",
    "Возможно это связано с рабочей неделей. В понедельник все прилетают на работу, а в пятницу возвращаются."
   ]
  },
  {
   "cell_type": "code",
   "execution_count": 26,
   "metadata": {},
   "outputs": [],
   "source": [
    "srch_2 = df.copy().resample('1D').sum()"
   ]
  },
  {
   "cell_type": "code",
   "execution_count": 27,
   "metadata": {},
   "outputs": [],
   "source": [
    "srch_2 = srch_2 - srch_2.shift()"
   ]
  },
  {
   "cell_type": "code",
   "execution_count": 28,
   "metadata": {
    "scrolled": true
   },
   "outputs": [
    {
     "data": {
      "image/png": "[encoded data removed]",
      "text/plain": [
       "<Figure size 864x576 with 1 Axes>"
      ]
     },
     "metadata": {
      "needs_background": "light"
     },
     "output_type": "display_data"
    }
   ],
   "source": [
    "srch_2['mean'] = srch_2['num_orders'].rolling(15).mean()\n",
    "srch_2['std'] = srch_2['num_orders'].rolling(15).std()\n",
    "srch_2.plot(figsize=(12, 8));"
   ]
  },
  {
   "cell_type": "markdown",
   "metadata": {},
   "source": [
    "Заметно что с августа идет увеличение стандартного отклонения и среднего значения. Как раз на те даты, которые придется предсказать в этом проекте"
   ]
  },
  {
   "cell_type": "code",
   "execution_count": 29,
   "metadata": {},
   "outputs": [],
   "source": [
    "srch_3 = df.copy()"
   ]
  },
  {
   "cell_type": "code",
   "execution_count": 30,
   "metadata": {},
   "outputs": [],
   "source": [
    "decomposed_2 = seasonal_decompose(srch_3['num_orders'])"
   ]
  },
  {
   "cell_type": "code",
   "execution_count": 31,
   "metadata": {},
   "outputs": [
    {
     "data": {
      "image/png": "[encoded data removed]",
      "text/plain": [
       "<Figure size 864x432 with 1 Axes>"
      ]
     },
     "metadata": {
      "needs_background": "light"
     },
     "output_type": "display_data"
    }
   ],
   "source": [
    "hourly_seasonal = decomposed_2.seasonal.groupby(decomposed_2.seasonal.index.hour).mean()\n",
    "\n",
    "plt.figure(figsize=(12, 6))\n",
    "hourly_seasonal.plot(kind='bar', color='skyblue')\n",
    "plt.title('Средняя суточная сезонность за весь период', fontsize=16)\n",
    "plt.xlabel('Час дня', fontsize=12)\n",
    "plt.ylabel('Сезонная компонента', fontsize=12)\n",
    "plt.xticks(rotation=0)\n",
    "plt.grid(axis='y', linestyle='--', alpha=0.7)\n",
    "plt.show()"
   ]
  },
  {
   "cell_type": "markdown",
   "metadata": {},
   "source": [
    "1) Основные пики заказов такси в аэропорту — в полночь и в середине/конце дня (около 15:00 и 23:00).    \n",
    "2) Низкая активность в ранние утренние часы."
   ]
  },
  {
   "cell_type": "markdown",
   "metadata": {},
   "source": [
    "## Обучение"
   ]
  },
  {
   "cell_type": "code",
   "execution_count": 32,
   "metadata": {},
   "outputs": [],
   "source": [
    "def make_features(data, max_lag, rolling_mean_size):\n",
    "#    data['month'] = data.index.month\n",
    "    data['day'] = data.index.day\n",
    "    data['dayofweek'] = data.index.dayofweek\n",
    "    data['hour'] = data.index.hour\n",
    "    \n",
    "    for lag in range(1, max_lag + 1):\n",
    "        data['lag_{}'.format(lag)] = data['num_orders'].shift(lag)\n",
    "#        data['lag_power{}'.format(lag)] = data['num_orders'].shift(lag)**2\n",
    "#        data['lag_sqrt{}'.format(lag)] = data['num_orders'].shift(lag)**0.5\n",
    "    data['rolling_mean'] = data['num_orders'].shift().rolling(rolling_mean_size).mean()    \n",
    "#    data['rolling_mean_power'] = data['num_orders'].shift().rolling(rolling_mean_size).mean()**0.5    \n",
    "    data.dropna(inplace=True)    \n",
    "    \n",
    "     \n"
   ]
  },
  {
   "cell_type": "code",
   "execution_count": 33,
   "metadata": {},
   "outputs": [],
   "source": [
    "t1 = df.copy()"
   ]
  },
  {
   "cell_type": "code",
   "execution_count": 34,
   "metadata": {},
   "outputs": [],
   "source": [
    "make_features(t1,24,24)"
   ]
  },
  {
   "cell_type": "markdown",
   "metadata": {},
   "source": [
    "### Подготовка данных"
   ]
  },
  {
   "cell_type": "code",
   "execution_count": 35,
   "metadata": {},
   "outputs": [],
   "source": [
    "X = t1.drop(['num_orders'], axis=1)\n",
    "y = t1['num_orders']"
   ]
  },
  {
   "cell_type": "code",
   "execution_count": 36,
   "metadata": {},
   "outputs": [],
   "source": [
    "X_train, X_test, y_train, y_test = prepare_data(X, y)"
   ]
  },
  {
   "cell_type": "code",
   "execution_count": 37,
   "metadata": {
    "scrolled": false
   },
   "outputs": [
    {
     "name": "stdout",
     "output_type": "stream",
     "text": [
      "\n",
      "-----Даты начала и конца тренировочной выборки-----\n",
      "            2018-03-02 00:00:00\n",
      "            2018-08-13 15:00:00\n",
      "-----Даты начала и конца тестовой выборки-----\n",
      "            2018-08-13 16:00:00\n",
      "            2018-08-31 23:00:00\n",
      "-----------------------------------------------\n",
      "Размер тренировочной выборки:  (3952, 28)\n",
      "Размер тестовой выборки:       (440, 28)\n",
      "    \n"
     ]
    }
   ],
   "source": [
    "print(f'''\n",
    "-----Даты начала и конца тренировочной выборки-----\n",
    "            {X_train.index[0]}\n",
    "            {X_train.index[-1]}\n",
    "-----Даты начала и конца тестовой выборки-----\n",
    "            {X_test.index[0]}\n",
    "            {X_test.index[-1]}\n",
    "-----------------------------------------------\n",
    "Размер тренировочной выборки:  {X_train.shape}\n",
    "Размер тестовой выборки:       {X_test.shape}\n",
    "    ''' )"
   ]
  },
  {
   "cell_type": "code",
   "execution_count": 38,
   "metadata": {},
   "outputs": [],
   "source": [
    "num_columns = X_train.select_dtypes(include='number').columns.tolist()\n",
    "ohe_columns = X_train.select_dtypes(include='object').columns.tolist()"
   ]
  },
  {
   "cell_type": "code",
   "execution_count": 39,
   "metadata": {},
   "outputs": [],
   "source": [
    "param_grid_tree = [\n",
    "    # Гиперпараметры DecisionTreeRegressor\n",
    "    {\n",
    "        'models': [DecisionTreeRegressor(random_state=RANDOM_STATE)],\n",
    "        'models__max_depth': [3, 7, 10, None],\n",
    "        'models__min_samples_leaf': [2, 4],\n",
    "        'models__max_features': [0.5, 1]\n",
    "    }\n",
    "]\n",
    "param_linear = [\n",
    "     # Гиперпараметры LinearRegression\n",
    "    {\n",
    "        'models': [LinearRegression()],\n",
    "        'models__fit_intercept': [True, False],\n",
    "        'models__positive': [True, False]  \n",
    "    }\n",
    "]    "
   ]
  },
  {
   "cell_type": "markdown",
   "metadata": {},
   "source": [
    "### Линейная регрессия"
   ]
  },
  {
   "cell_type": "code",
   "execution_count": 40,
   "metadata": {},
   "outputs": [],
   "source": [
    "tscv = TimeSeriesSplit(n_splits=5)"
   ]
  },
  {
   "cell_type": "code",
   "execution_count": 41,
   "metadata": {},
   "outputs": [],
   "source": [
    "pipeline = Pipeline([\n",
    "    ('scaler', StandardScaler()),\n",
    "    ('models', LinearRegression())\n",
    "])"
   ]
  },
  {
   "cell_type": "code",
   "execution_count": 42,
   "metadata": {},
   "outputs": [],
   "source": [
    "gs_lr = GridSearchCV(\n",
    "    pipeline, \n",
    "    param_linear, \n",
    "    cv=tscv,\n",
    "    scoring='neg_root_mean_squared_error',\n",
    "    n_jobs=1\n",
    ")"
   ]
  },
  {
   "cell_type": "code",
   "execution_count": 43,
   "metadata": {
    "scrolled": false
   },
   "outputs": [
    {
     "data": {
      "text/html": [
       "<style>#sk-container-id-1 {\n",
       "  /* Definition of color scheme common for light and dark mode */\n",
       "  --sklearn-color-text: #000;\n",
       "  --sklearn-color-text-muted: #666;\n",
       "  --sklearn-color-line: gray;\n",
       "  /* Definition of color scheme for unfitted estimators */\n",
       "  --sklearn-color-unfitted-level-0: #fff5e6;\n",
       "  --sklearn-color-unfitted-level-1: #f6e4d2;\n",
       "  --sklearn-color-unfitted-level-2: #ffe0b3;\n",
       "  --sklearn-color-unfitted-level-3: chocolate;\n",
       "  /* Definition of color scheme for fitted estimators */\n",
       "  --sklearn-color-fitted-level-0: #f0f8ff;\n",
       "  --sklearn-color-fitted-level-1: #d4ebff;\n",
       "  --sklearn-color-fitted-level-2: #b3dbfd;\n",
       "  --sklearn-color-fitted-level-3: cornflowerblue;\n",
       "\n",
       "  /* Specific color for light theme */\n",
       "  --sklearn-color-text-on-default-background: var(--sg-text-color, var(--theme-code-foreground, var(--jp-content-font-color1, black)));\n",
       "  --sklearn-color-background: var(--sg-background-color, var(--theme-background, var(--jp-layout-color0, white)));\n",
       "  --sklearn-color-border-box: var(--sg-text-color, var(--theme-code-foreground, var(--jp-content-font-color1, black)));\n",
       "  --sklearn-color-icon: #696969;\n",
       "\n",
       "  @media (prefers-color-scheme: dark) {\n",
       "    /* Redefinition of color scheme for dark theme */\n",
       "    --sklearn-color-text-on-default-background: var(--sg-text-color, var(--theme-code-foreground, var(--jp-content-font-color1, white)));\n",
       "    --sklearn-color-background: var(--sg-background-color, var(--theme-background, var(--jp-layout-color0, #111)));\n",
       "    --sklearn-color-border-box: var(--sg-text-color, var(--theme-code-foreground, var(--jp-content-font-color1, white)));\n",
       "    --sklearn-color-icon: #878787;\n",
       "  }\n",
       "}\n",
       "\n",
       "#sk-container-id-1 {\n",
       "  color: var(--sklearn-color-text);\n",
       "}\n",
       "\n",
       "#sk-container-id-1 pre {\n",
       "  padding: 0;\n",
       "}\n",
       "\n",
       "#sk-container-id-1 input.sk-hidden--visually {\n",
       "  border: 0;\n",
       "  clip: rect(1px 1px 1px 1px);\n",
       "  clip: rect(1px, 1px, 1px, 1px);\n",
       "  height: 1px;\n",
       "  margin: -1px;\n",
       "  overflow: hidden;\n",
       "  padding: 0;\n",
       "  position: absolute;\n",
       "  width: 1px;\n",
       "}\n",
       "\n",
       "#sk-container-id-1 div.sk-dashed-wrapped {\n",
       "  border: 1px dashed var(--sklearn-color-line);\n",
       "  margin: 0 0.4em 0.5em 0.4em;\n",
       "  box-sizing: border-box;\n",
       "  padding-bottom: 0.4em;\n",
       "  background-color: var(--sklearn-color-background);\n",
       "}\n",
       "\n",
       "#sk-container-id-1 div.sk-container {\n",
       "  /* jupyter's `normalize.less` sets `[hidden] { display: none; }`\n",
       "     but bootstrap.min.css set `[hidden] { display: none !important; }`\n",
       "     so we also need the `!important` here to be able to override the\n",
       "     default hidden behavior on the sphinx rendered scikit-learn.org.\n",
       "     See: https://github.com/scikit-learn/scikit-learn/issues/21755 */\n",
       "  display: inline-block !important;\n",
       "  position: relative;\n",
       "}\n",
       "\n",
       "#sk-container-id-1 div.sk-text-repr-fallback {\n",
       "  display: none;\n",
       "}\n",
       "\n",
       "div.sk-parallel-item,\n",
       "div.sk-serial,\n",
       "div.sk-item {\n",
       "  /* draw centered vertical line to link estimators */\n",
       "  background-image: linear-gradient(var(--sklearn-color-text-on-default-background), var(--sklearn-color-text-on-default-background));\n",
       "  background-size: 2px 100%;\n",
       "  background-repeat: no-repeat;\n",
       "  background-position: center center;\n",
       "}\n",
       "\n",
       "/* Parallel-specific style estimator block */\n",
       "\n",
       "#sk-container-id-1 div.sk-parallel-item::after {\n",
       "  content: \"\";\n",
       "  width: 100%;\n",
       "  border-bottom: 2px solid var(--sklearn-color-text-on-default-background);\n",
       "  flex-grow: 1;\n",
       "}\n",
       "\n",
       "#sk-container-id-1 div.sk-parallel {\n",
       "  display: flex;\n",
       "  align-items: stretch;\n",
       "  justify-content: center;\n",
       "  background-color: var(--sklearn-color-background);\n",
       "  position: relative;\n",
       "}\n",
       "\n",
       "#sk-container-id-1 div.sk-parallel-item {\n",
       "  display: flex;\n",
       "  flex-direction: column;\n",
       "}\n",
       "\n",
       "#sk-container-id-1 div.sk-parallel-item:first-child::after {\n",
       "  align-self: flex-end;\n",
       "  width: 50%;\n",
       "}\n",
       "\n",
       "#sk-container-id-1 div.sk-parallel-item:last-child::after {\n",
       "  align-self: flex-start;\n",
       "  width: 50%;\n",
       "}\n",
       "\n",
       "#sk-container-id-1 div.sk-parallel-item:only-child::after {\n",
       "  width: 0;\n",
       "}\n",
       "\n",
       "/* Serial-specific style estimator block */\n",
       "\n",
       "#sk-container-id-1 div.sk-serial {\n",
       "  display: flex;\n",
       "  flex-direction: column;\n",
       "  align-items: center;\n",
       "  background-color: var(--sklearn-color-background);\n",
       "  padding-right: 1em;\n",
       "  padding-left: 1em;\n",
       "}\n",
       "\n",
       "\n",
       "/* Toggleable style: style used for estimator/Pipeline/ColumnTransformer box that is\n",
       "clickable and can be expanded/collapsed.\n",
       "- Pipeline and ColumnTransformer use this feature and define the default style\n",
       "- Estimators will overwrite some part of the style using the `sk-estimator` class\n",
       "*/\n",
       "\n",
       "/* Pipeline and ColumnTransformer style (default) */\n",
       "\n",
       "#sk-container-id-1 div.sk-toggleable {\n",
       "  /* Default theme specific background. It is overwritten whether we have a\n",
       "  specific estimator or a Pipeline/ColumnTransformer */\n",
       "  background-color: var(--sklearn-color-background);\n",
       "}\n",
       "\n",
       "/* Toggleable label */\n",
       "#sk-container-id-1 label.sk-toggleable__label {\n",
       "  cursor: pointer;\n",
       "  display: flex;\n",
       "  width: 100%;\n",
       "  margin-bottom: 0;\n",
       "  padding: 0.5em;\n",
       "  box-sizing: border-box;\n",
       "  text-align: center;\n",
       "  align-items: start;\n",
       "  justify-content: space-between;\n",
       "  gap: 0.5em;\n",
       "}\n",
       "\n",
       "#sk-container-id-1 label.sk-toggleable__label .caption {\n",
       "  font-size: 0.6rem;\n",
       "  font-weight: lighter;\n",
       "  color: var(--sklearn-color-text-muted);\n",
       "}\n",
       "\n",
       "#sk-container-id-1 label.sk-toggleable__label-arrow:before {\n",
       "  /* Arrow on the left of the label */\n",
       "  content: \"▸\";\n",
       "  float: left;\n",
       "  margin-right: 0.25em;\n",
       "  color: var(--sklearn-color-icon);\n",
       "}\n",
       "\n",
       "#sk-container-id-1 label.sk-toggleable__label-arrow:hover:before {\n",
       "  color: var(--sklearn-color-text);\n",
       "}\n",
       "\n",
       "/* Toggleable content - dropdown */\n",
       "\n",
       "#sk-container-id-1 div.sk-toggleable__content {\n",
       "  max-height: 0;\n",
       "  max-width: 0;\n",
       "  overflow: hidden;\n",
       "  text-align: left;\n",
       "  /* unfitted */\n",
       "  background-color: var(--sklearn-color-unfitted-level-0);\n",
       "}\n",
       "\n",
       "#sk-container-id-1 div.sk-toggleable__content.fitted {\n",
       "  /* fitted */\n",
       "  background-color: var(--sklearn-color-fitted-level-0);\n",
       "}\n",
       "\n",
       "#sk-container-id-1 div.sk-toggleable__content pre {\n",
       "  margin: 0.2em;\n",
       "  border-radius: 0.25em;\n",
       "  color: var(--sklearn-color-text);\n",
       "  /* unfitted */\n",
       "  background-color: var(--sklearn-color-unfitted-level-0);\n",
       "}\n",
       "\n",
       "#sk-container-id-1 div.sk-toggleable__content.fitted pre {\n",
       "  /* unfitted */\n",
       "  background-color: var(--sklearn-color-fitted-level-0);\n",
       "}\n",
       "\n",
       "#sk-container-id-1 input.sk-toggleable__control:checked~div.sk-toggleable__content {\n",
       "  /* Expand drop-down */\n",
       "  max-height: 200px;\n",
       "  max-width: 100%;\n",
       "  overflow: auto;\n",
       "}\n",
       "\n",
       "#sk-container-id-1 input.sk-toggleable__control:checked~label.sk-toggleable__label-arrow:before {\n",
       "  content: \"▾\";\n",
       "}\n",
       "\n",
       "/* Pipeline/ColumnTransformer-specific style */\n",
       "\n",
       "#sk-container-id-1 div.sk-label input.sk-toggleable__control:checked~label.sk-toggleable__label {\n",
       "  color: var(--sklearn-color-text);\n",
       "  background-color: var(--sklearn-color-unfitted-level-2);\n",
       "}\n",
       "\n",
       "#sk-container-id-1 div.sk-label.fitted input.sk-toggleable__control:checked~label.sk-toggleable__label {\n",
       "  background-color: var(--sklearn-color-fitted-level-2);\n",
       "}\n",
       "\n",
       "/* Estimator-specific style */\n",
       "\n",
       "/* Colorize estimator box */\n",
       "#sk-container-id-1 div.sk-estimator input.sk-toggleable__control:checked~label.sk-toggleable__label {\n",
       "  /* unfitted */\n",
       "  background-color: var(--sklearn-color-unfitted-level-2);\n",
       "}\n",
       "\n",
       "#sk-container-id-1 div.sk-estimator.fitted input.sk-toggleable__control:checked~label.sk-toggleable__label {\n",
       "  /* fitted */\n",
       "  background-color: var(--sklearn-color-fitted-level-2);\n",
       "}\n",
       "\n",
       "#sk-container-id-1 div.sk-label label.sk-toggleable__label,\n",
       "#sk-container-id-1 div.sk-label label {\n",
       "  /* The background is the default theme color */\n",
       "  color: var(--sklearn-color-text-on-default-background);\n",
       "}\n",
       "\n",
       "/* On hover, darken the color of the background */\n",
       "#sk-container-id-1 div.sk-label:hover label.sk-toggleable__label {\n",
       "  color: var(--sklearn-color-text);\n",
       "  background-color: var(--sklearn-color-unfitted-level-2);\n",
       "}\n",
       "\n",
       "/* Label box, darken color on hover, fitted */\n",
       "#sk-container-id-1 div.sk-label.fitted:hover label.sk-toggleable__label.fitted {\n",
       "  color: var(--sklearn-color-text);\n",
       "  background-color: var(--sklearn-color-fitted-level-2);\n",
       "}\n",
       "\n",
       "/* Estimator label */\n",
       "\n",
       "#sk-container-id-1 div.sk-label label {\n",
       "  font-family: monospace;\n",
       "  font-weight: bold;\n",
       "  display: inline-block;\n",
       "  line-height: 1.2em;\n",
       "}\n",
       "\n",
       "#sk-container-id-1 div.sk-label-container {\n",
       "  text-align: center;\n",
       "}\n",
       "\n",
       "/* Estimator-specific */\n",
       "#sk-container-id-1 div.sk-estimator {\n",
       "  font-family: monospace;\n",
       "  border: 1px dotted var(--sklearn-color-border-box);\n",
       "  border-radius: 0.25em;\n",
       "  box-sizing: border-box;\n",
       "  margin-bottom: 0.5em;\n",
       "  /* unfitted */\n",
       "  background-color: var(--sklearn-color-unfitted-level-0);\n",
       "}\n",
       "\n",
       "#sk-container-id-1 div.sk-estimator.fitted {\n",
       "  /* fitted */\n",
       "  background-color: var(--sklearn-color-fitted-level-0);\n",
       "}\n",
       "\n",
       "/* on hover */\n",
       "#sk-container-id-1 div.sk-estimator:hover {\n",
       "  /* unfitted */\n",
       "  background-color: var(--sklearn-color-unfitted-level-2);\n",
       "}\n",
       "\n",
       "#sk-container-id-1 div.sk-estimator.fitted:hover {\n",
       "  /* fitted */\n",
       "  background-color: var(--sklearn-color-fitted-level-2);\n",
       "}\n",
       "\n",
       "/* Specification for estimator info (e.g. \"i\" and \"?\") */\n",
       "\n",
       "/* Common style for \"i\" and \"?\" */\n",
       "\n",
       ".sk-estimator-doc-link,\n",
       "a:link.sk-estimator-doc-link,\n",
       "a:visited.sk-estimator-doc-link {\n",
       "  float: right;\n",
       "  font-size: smaller;\n",
       "  line-height: 1em;\n",
       "  font-family: monospace;\n",
       "  background-color: var(--sklearn-color-background);\n",
       "  border-radius: 1em;\n",
       "  height: 1em;\n",
       "  width: 1em;\n",
       "  text-decoration: none !important;\n",
       "  margin-left: 0.5em;\n",
       "  text-align: center;\n",
       "  /* unfitted */\n",
       "  border: var(--sklearn-color-unfitted-level-1) 1pt solid;\n",
       "  color: var(--sklearn-color-unfitted-level-1);\n",
       "}\n",
       "\n",
       ".sk-estimator-doc-link.fitted,\n",
       "a:link.sk-estimator-doc-link.fitted,\n",
       "a:visited.sk-estimator-doc-link.fitted {\n",
       "  /* fitted */\n",
       "  border: var(--sklearn-color-fitted-level-1) 1pt solid;\n",
       "  color: var(--sklearn-color-fitted-level-1);\n",
       "}\n",
       "\n",
       "/* On hover */\n",
       "div.sk-estimator:hover .sk-estimator-doc-link:hover,\n",
       ".sk-estimator-doc-link:hover,\n",
       "div.sk-label-container:hover .sk-estimator-doc-link:hover,\n",
       ".sk-estimator-doc-link:hover {\n",
       "  /* unfitted */\n",
       "  background-color: var(--sklearn-color-unfitted-level-3);\n",
       "  color: var(--sklearn-color-background);\n",
       "  text-decoration: none;\n",
       "}\n",
       "\n",
       "div.sk-estimator.fitted:hover .sk-estimator-doc-link.fitted:hover,\n",
       ".sk-estimator-doc-link.fitted:hover,\n",
       "div.sk-label-container:hover .sk-estimator-doc-link.fitted:hover,\n",
       ".sk-estimator-doc-link.fitted:hover {\n",
       "  /* fitted */\n",
       "  background-color: var(--sklearn-color-fitted-level-3);\n",
       "  color: var(--sklearn-color-background);\n",
       "  text-decoration: none;\n",
       "}\n",
       "\n",
       "/* Span, style for the box shown on hovering the info icon */\n",
       ".sk-estimator-doc-link span {\n",
       "  display: none;\n",
       "  z-index: 9999;\n",
       "  position: relative;\n",
       "  font-weight: normal;\n",
       "  right: .2ex;\n",
       "  padding: .5ex;\n",
       "  margin: .5ex;\n",
       "  width: min-content;\n",
       "  min-width: 20ex;\n",
       "  max-width: 50ex;\n",
       "  color: var(--sklearn-color-text);\n",
       "  box-shadow: 2pt 2pt 4pt #999;\n",
       "  /* unfitted */\n",
       "  background: var(--sklearn-color-unfitted-level-0);\n",
       "  border: .5pt solid var(--sklearn-color-unfitted-level-3);\n",
       "}\n",
       "\n",
       ".sk-estimator-doc-link.fitted span {\n",
       "  /* fitted */\n",
       "  background: var(--sklearn-color-fitted-level-0);\n",
       "  border: var(--sklearn-color-fitted-level-3);\n",
       "}\n",
       "\n",
       ".sk-estimator-doc-link:hover span {\n",
       "  display: block;\n",
       "}\n",
       "\n",
       "/* \"?\"-specific style due to the `<a>` HTML tag */\n",
       "\n",
       "#sk-container-id-1 a.estimator_doc_link {\n",
       "  float: right;\n",
       "  font-size: 1rem;\n",
       "  line-height: 1em;\n",
       "  font-family: monospace;\n",
       "  background-color: var(--sklearn-color-background);\n",
       "  border-radius: 1rem;\n",
       "  height: 1rem;\n",
       "  width: 1rem;\n",
       "  text-decoration: none;\n",
       "  /* unfitted */\n",
       "  color: var(--sklearn-color-unfitted-level-1);\n",
       "  border: var(--sklearn-color-unfitted-level-1) 1pt solid;\n",
       "}\n",
       "\n",
       "#sk-container-id-1 a.estimator_doc_link.fitted {\n",
       "  /* fitted */\n",
       "  border: var(--sklearn-color-fitted-level-1) 1pt solid;\n",
       "  color: var(--sklearn-color-fitted-level-1);\n",
       "}\n",
       "\n",
       "/* On hover */\n",
       "#sk-container-id-1 a.estimator_doc_link:hover {\n",
       "  /* unfitted */\n",
       "  background-color: var(--sklearn-color-unfitted-level-3);\n",
       "  color: var(--sklearn-color-background);\n",
       "  text-decoration: none;\n",
       "}\n",
       "\n",
       "#sk-container-id-1 a.estimator_doc_link.fitted:hover {\n",
       "  /* fitted */\n",
       "  background-color: var(--sklearn-color-fitted-level-3);\n",
       "}\n",
       "</style><div id=\"sk-container-id-1\" class=\"sk-top-container\"><div class=\"sk-text-repr-fallback\"><pre>GridSearchCV(cv=TimeSeriesSplit(gap=0, max_train_size=None, n_splits=5, test_size=None),\n",
       "             estimator=Pipeline(steps=[(&#x27;scaler&#x27;, StandardScaler()),\n",
       "                                       (&#x27;models&#x27;, LinearRegression())]),\n",
       "             n_jobs=1,\n",
       "             param_grid=[{&#x27;models&#x27;: [LinearRegression()],\n",
       "                          &#x27;models__fit_intercept&#x27;: [True, False],\n",
       "                          &#x27;models__positive&#x27;: [True, False]}],\n",
       "             scoring=&#x27;neg_root_mean_squared_error&#x27;)</pre><b>In a Jupyter environment, please rerun this cell to show the HTML representation or trust the notebook. <br />On GitHub, the HTML representation is unable to render, please try loading this page with nbviewer.org.</b></div><div class=\"sk-container\" hidden><div class=\"sk-item sk-dashed-wrapped\"><div class=\"sk-label-container\"><div class=\"sk-label fitted sk-toggleable\"><input class=\"sk-toggleable__control sk-hidden--visually\" id=\"sk-estimator-id-1\" type=\"checkbox\" ><label for=\"sk-estimator-id-1\" class=\"sk-toggleable__label fitted sk-toggleable__label-arrow\"><div><div>GridSearchCV</div></div><div><a class=\"sk-estimator-doc-link fitted\" rel=\"noreferrer\" target=\"_blank\" href=\"https://scikit-learn.org/1.6/modules/generated/sklearn.model_selection.GridSearchCV.html\">?<span>Documentation for GridSearchCV</span></a><span class=\"sk-estimator-doc-link fitted\">i<span>Fitted</span></span></div></label><div class=\"sk-toggleable__content fitted\"><pre>GridSearchCV(cv=TimeSeriesSplit(gap=0, max_train_size=None, n_splits=5, test_size=None),\n",
       "             estimator=Pipeline(steps=[(&#x27;scaler&#x27;, StandardScaler()),\n",
       "                                       (&#x27;models&#x27;, LinearRegression())]),\n",
       "             n_jobs=1,\n",
       "             param_grid=[{&#x27;models&#x27;: [LinearRegression()],\n",
       "                          &#x27;models__fit_intercept&#x27;: [True, False],\n",
       "                          &#x27;models__positive&#x27;: [True, False]}],\n",
       "             scoring=&#x27;neg_root_mean_squared_error&#x27;)</pre></div> </div></div><div class=\"sk-parallel\"><div class=\"sk-parallel-item\"><div class=\"sk-item\"><div class=\"sk-label-container\"><div class=\"sk-label fitted sk-toggleable\"><input class=\"sk-toggleable__control sk-hidden--visually\" id=\"sk-estimator-id-2\" type=\"checkbox\" ><label for=\"sk-estimator-id-2\" class=\"sk-toggleable__label fitted sk-toggleable__label-arrow\"><div><div>best_estimator_: Pipeline</div></div></label><div class=\"sk-toggleable__content fitted\"><pre>Pipeline(steps=[(&#x27;scaler&#x27;, StandardScaler()),\n",
       "                (&#x27;models&#x27;, LinearRegression(positive=True))])</pre></div> </div></div><div class=\"sk-serial\"><div class=\"sk-item\"><div class=\"sk-serial\"><div class=\"sk-item\"><div class=\"sk-estimator fitted sk-toggleable\"><input class=\"sk-toggleable__control sk-hidden--visually\" id=\"sk-estimator-id-3\" type=\"checkbox\" ><label for=\"sk-estimator-id-3\" class=\"sk-toggleable__label fitted sk-toggleable__label-arrow\"><div><div>StandardScaler</div></div><div><a class=\"sk-estimator-doc-link fitted\" rel=\"noreferrer\" target=\"_blank\" href=\"https://scikit-learn.org/1.6/modules/generated/sklearn.preprocessing.StandardScaler.html\">?<span>Documentation for StandardScaler</span></a></div></label><div class=\"sk-toggleable__content fitted\"><pre>StandardScaler()</pre></div> </div></div><div class=\"sk-item\"><div class=\"sk-estimator fitted sk-toggleable\"><input class=\"sk-toggleable__control sk-hidden--visually\" id=\"sk-estimator-id-4\" type=\"checkbox\" ><label for=\"sk-estimator-id-4\" class=\"sk-toggleable__label fitted sk-toggleable__label-arrow\"><div><div>LinearRegression</div></div><div><a class=\"sk-estimator-doc-link fitted\" rel=\"noreferrer\" target=\"_blank\" href=\"https://scikit-learn.org/1.6/modules/generated/sklearn.linear_model.LinearRegression.html\">?<span>Documentation for LinearRegression</span></a></div></label><div class=\"sk-toggleable__content fitted\"><pre>LinearRegression(positive=True)</pre></div> </div></div></div></div></div></div></div></div></div></div></div>"
      ],
      "text/plain": [
       "GridSearchCV(cv=TimeSeriesSplit(gap=0, max_train_size=None, n_splits=5, test_size=None),\n",
       "             estimator=Pipeline(steps=[('scaler', StandardScaler()),\n",
       "                                       ('models', LinearRegression())]),\n",
       "             n_jobs=1,\n",
       "             param_grid=[{'models': [LinearRegression()],\n",
       "                          'models__fit_intercept': [True, False],\n",
       "                          'models__positive': [True, False]}],\n",
       "             scoring='neg_root_mean_squared_error')"
      ]
     },
     "execution_count": 43,
     "metadata": {},
     "output_type": "execute_result"
    }
   ],
   "source": [
    "gs_lr.fit(X_train, y_train)"
   ]
  },
  {
   "cell_type": "code",
   "execution_count": 44,
   "metadata": {},
   "outputs": [
    {
     "name": "stdout",
     "output_type": "stream",
     "text": [
      "Лучший RMSE: 27.12133741684381\n"
     ]
    }
   ],
   "source": [
    "cv_results = []\n",
    "best_score_lr = -gs_lr.best_score_  \n",
    "print(\"Лучший RMSE:\", best_score_lr)\n",
    "cv_results.append({'RMSE_Linear_Regression':best_score_lr})"
   ]
  },
  {
   "cell_type": "markdown",
   "metadata": {},
   "source": [
    "### Деревья"
   ]
  },
  {
   "cell_type": "code",
   "execution_count": 45,
   "metadata": {},
   "outputs": [],
   "source": [
    "gs_tree = GridSearchCV(\n",
    "    pipeline, \n",
    "    param_grid_tree, \n",
    "    cv=tscv,\n",
    "    scoring='neg_root_mean_squared_error',\n",
    "    n_jobs=-1\n",
    ")"
   ]
  },
  {
   "cell_type": "code",
   "execution_count": 46,
   "metadata": {},
   "outputs": [
    {
     "data": {
      "text/html": [
       "<style>#sk-container-id-2 {\n",
       "  /* Definition of color scheme common for light and dark mode */\n",
       "  --sklearn-color-text: #000;\n",
       "  --sklearn-color-text-muted: #666;\n",
       "  --sklearn-color-line: gray;\n",
       "  /* Definition of color scheme for unfitted estimators */\n",
       "  --sklearn-color-unfitted-level-0: #fff5e6;\n",
       "  --sklearn-color-unfitted-level-1: #f6e4d2;\n",
       "  --sklearn-color-unfitted-level-2: #ffe0b3;\n",
       "  --sklearn-color-unfitted-level-3: chocolate;\n",
       "  /* Definition of color scheme for fitted estimators */\n",
       "  --sklearn-color-fitted-level-0: #f0f8ff;\n",
       "  --sklearn-color-fitted-level-1: #d4ebff;\n",
       "  --sklearn-color-fitted-level-2: #b3dbfd;\n",
       "  --sklearn-color-fitted-level-3: cornflowerblue;\n",
       "\n",
       "  /* Specific color for light theme */\n",
       "  --sklearn-color-text-on-default-background: var(--sg-text-color, var(--theme-code-foreground, var(--jp-content-font-color1, black)));\n",
       "  --sklearn-color-background: var(--sg-background-color, var(--theme-background, var(--jp-layout-color0, white)));\n",
       "  --sklearn-color-border-box: var(--sg-text-color, var(--theme-code-foreground, var(--jp-content-font-color1, black)));\n",
       "  --sklearn-color-icon: #696969;\n",
       "\n",
       "  @media (prefers-color-scheme: dark) {\n",
       "    /* Redefinition of color scheme for dark theme */\n",
       "    --sklearn-color-text-on-default-background: var(--sg-text-color, var(--theme-code-foreground, var(--jp-content-font-color1, white)));\n",
       "    --sklearn-color-background: var(--sg-background-color, var(--theme-background, var(--jp-layout-color0, #111)));\n",
       "    --sklearn-color-border-box: var(--sg-text-color, var(--theme-code-foreground, var(--jp-content-font-color1, white)));\n",
       "    --sklearn-color-icon: #878787;\n",
       "  }\n",
       "}\n",
       "\n",
       "#sk-container-id-2 {\n",
       "  color: var(--sklearn-color-text);\n",
       "}\n",
       "\n",
       "#sk-container-id-2 pre {\n",
       "  padding: 0;\n",
       "}\n",
       "\n",
       "#sk-container-id-2 input.sk-hidden--visually {\n",
       "  border: 0;\n",
       "  clip: rect(1px 1px 1px 1px);\n",
       "  clip: rect(1px, 1px, 1px, 1px);\n",
       "  height: 1px;\n",
       "  margin: -1px;\n",
       "  overflow: hidden;\n",
       "  padding: 0;\n",
       "  position: absolute;\n",
       "  width: 1px;\n",
       "}\n",
       "\n",
       "#sk-container-id-2 div.sk-dashed-wrapped {\n",
       "  border: 1px dashed var(--sklearn-color-line);\n",
       "  margin: 0 0.4em 0.5em 0.4em;\n",
       "  box-sizing: border-box;\n",
       "  padding-bottom: 0.4em;\n",
       "  background-color: var(--sklearn-color-background);\n",
       "}\n",
       "\n",
       "#sk-container-id-2 div.sk-container {\n",
       "  /* jupyter's `normalize.less` sets `[hidden] { display: none; }`\n",
       "     but bootstrap.min.css set `[hidden] { display: none !important; }`\n",
       "     so we also need the `!important` here to be able to override the\n",
       "     default hidden behavior on the sphinx rendered scikit-learn.org.\n",
       "     See: https://github.com/scikit-learn/scikit-learn/issues/21755 */\n",
       "  display: inline-block !important;\n",
       "  position: relative;\n",
       "}\n",
       "\n",
       "#sk-container-id-2 div.sk-text-repr-fallback {\n",
       "  display: none;\n",
       "}\n",
       "\n",
       "div.sk-parallel-item,\n",
       "div.sk-serial,\n",
       "div.sk-item {\n",
       "  /* draw centered vertical line to link estimators */\n",
       "  background-image: linear-gradient(var(--sklearn-color-text-on-default-background), var(--sklearn-color-text-on-default-background));\n",
       "  background-size: 2px 100%;\n",
       "  background-repeat: no-repeat;\n",
       "  background-position: center center;\n",
       "}\n",
       "\n",
       "/* Parallel-specific style estimator block */\n",
       "\n",
       "#sk-container-id-2 div.sk-parallel-item::after {\n",
       "  content: \"\";\n",
       "  width: 100%;\n",
       "  border-bottom: 2px solid var(--sklearn-color-text-on-default-background);\n",
       "  flex-grow: 1;\n",
       "}\n",
       "\n",
       "#sk-container-id-2 div.sk-parallel {\n",
       "  display: flex;\n",
       "  align-items: stretch;\n",
       "  justify-content: center;\n",
       "  background-color: var(--sklearn-color-background);\n",
       "  position: relative;\n",
       "}\n",
       "\n",
       "#sk-container-id-2 div.sk-parallel-item {\n",
       "  display: flex;\n",
       "  flex-direction: column;\n",
       "}\n",
       "\n",
       "#sk-container-id-2 div.sk-parallel-item:first-child::after {\n",
       "  align-self: flex-end;\n",
       "  width: 50%;\n",
       "}\n",
       "\n",
       "#sk-container-id-2 div.sk-parallel-item:last-child::after {\n",
       "  align-self: flex-start;\n",
       "  width: 50%;\n",
       "}\n",
       "\n",
       "#sk-container-id-2 div.sk-parallel-item:only-child::after {\n",
       "  width: 0;\n",
       "}\n",
       "\n",
       "/* Serial-specific style estimator block */\n",
       "\n",
       "#sk-container-id-2 div.sk-serial {\n",
       "  display: flex;\n",
       "  flex-direction: column;\n",
       "  align-items: center;\n",
       "  background-color: var(--sklearn-color-background);\n",
       "  padding-right: 1em;\n",
       "  padding-left: 1em;\n",
       "}\n",
       "\n",
       "\n",
       "/* Toggleable style: style used for estimator/Pipeline/ColumnTransformer box that is\n",
       "clickable and can be expanded/collapsed.\n",
       "- Pipeline and ColumnTransformer use this feature and define the default style\n",
       "- Estimators will overwrite some part of the style using the `sk-estimator` class\n",
       "*/\n",
       "\n",
       "/* Pipeline and ColumnTransformer style (default) */\n",
       "\n",
       "#sk-container-id-2 div.sk-toggleable {\n",
       "  /* Default theme specific background. It is overwritten whether we have a\n",
       "  specific estimator or a Pipeline/ColumnTransformer */\n",
       "  background-color: var(--sklearn-color-background);\n",
       "}\n",
       "\n",
       "/* Toggleable label */\n",
       "#sk-container-id-2 label.sk-toggleable__label {\n",
       "  cursor: pointer;\n",
       "  display: flex;\n",
       "  width: 100%;\n",
       "  margin-bottom: 0;\n",
       "  padding: 0.5em;\n",
       "  box-sizing: border-box;\n",
       "  text-align: center;\n",
       "  align-items: start;\n",
       "  justify-content: space-between;\n",
       "  gap: 0.5em;\n",
       "}\n",
       "\n",
       "#sk-container-id-2 label.sk-toggleable__label .caption {\n",
       "  font-size: 0.6rem;\n",
       "  font-weight: lighter;\n",
       "  color: var(--sklearn-color-text-muted);\n",
       "}\n",
       "\n",
       "#sk-container-id-2 label.sk-toggleable__label-arrow:before {\n",
       "  /* Arrow on the left of the label */\n",
       "  content: \"▸\";\n",
       "  float: left;\n",
       "  margin-right: 0.25em;\n",
       "  color: var(--sklearn-color-icon);\n",
       "}\n",
       "\n",
       "#sk-container-id-2 label.sk-toggleable__label-arrow:hover:before {\n",
       "  color: var(--sklearn-color-text);\n",
       "}\n",
       "\n",
       "/* Toggleable content - dropdown */\n",
       "\n",
       "#sk-container-id-2 div.sk-toggleable__content {\n",
       "  max-height: 0;\n",
       "  max-width: 0;\n",
       "  overflow: hidden;\n",
       "  text-align: left;\n",
       "  /* unfitted */\n",
       "  background-color: var(--sklearn-color-unfitted-level-0);\n",
       "}\n",
       "\n",
       "#sk-container-id-2 div.sk-toggleable__content.fitted {\n",
       "  /* fitted */\n",
       "  background-color: var(--sklearn-color-fitted-level-0);\n",
       "}\n",
       "\n",
       "#sk-container-id-2 div.sk-toggleable__content pre {\n",
       "  margin: 0.2em;\n",
       "  border-radius: 0.25em;\n",
       "  color: var(--sklearn-color-text);\n",
       "  /* unfitted */\n",
       "  background-color: var(--sklearn-color-unfitted-level-0);\n",
       "}\n",
       "\n",
       "#sk-container-id-2 div.sk-toggleable__content.fitted pre {\n",
       "  /* unfitted */\n",
       "  background-color: var(--sklearn-color-fitted-level-0);\n",
       "}\n",
       "\n",
       "#sk-container-id-2 input.sk-toggleable__control:checked~div.sk-toggleable__content {\n",
       "  /* Expand drop-down */\n",
       "  max-height: 200px;\n",
       "  max-width: 100%;\n",
       "  overflow: auto;\n",
       "}\n",
       "\n",
       "#sk-container-id-2 input.sk-toggleable__control:checked~label.sk-toggleable__label-arrow:before {\n",
       "  content: \"▾\";\n",
       "}\n",
       "\n",
       "/* Pipeline/ColumnTransformer-specific style */\n",
       "\n",
       "#sk-container-id-2 div.sk-label input.sk-toggleable__control:checked~label.sk-toggleable__label {\n",
       "  color: var(--sklearn-color-text);\n",
       "  background-color: var(--sklearn-color-unfitted-level-2);\n",
       "}\n",
       "\n",
       "#sk-container-id-2 div.sk-label.fitted input.sk-toggleable__control:checked~label.sk-toggleable__label {\n",
       "  background-color: var(--sklearn-color-fitted-level-2);\n",
       "}\n",
       "\n",
       "/* Estimator-specific style */\n",
       "\n",
       "/* Colorize estimator box */\n",
       "#sk-container-id-2 div.sk-estimator input.sk-toggleable__control:checked~label.sk-toggleable__label {\n",
       "  /* unfitted */\n",
       "  background-color: var(--sklearn-color-unfitted-level-2);\n",
       "}\n",
       "\n",
       "#sk-container-id-2 div.sk-estimator.fitted input.sk-toggleable__control:checked~label.sk-toggleable__label {\n",
       "  /* fitted */\n",
       "  background-color: var(--sklearn-color-fitted-level-2);\n",
       "}\n",
       "\n",
       "#sk-container-id-2 div.sk-label label.sk-toggleable__label,\n",
       "#sk-container-id-2 div.sk-label label {\n",
       "  /* The background is the default theme color */\n",
       "  color: var(--sklearn-color-text-on-default-background);\n",
       "}\n",
       "\n",
       "/* On hover, darken the color of the background */\n",
       "#sk-container-id-2 div.sk-label:hover label.sk-toggleable__label {\n",
       "  color: var(--sklearn-color-text);\n",
       "  background-color: var(--sklearn-color-unfitted-level-2);\n",
       "}\n",
       "\n",
       "/* Label box, darken color on hover, fitted */\n",
       "#sk-container-id-2 div.sk-label.fitted:hover label.sk-toggleable__label.fitted {\n",
       "  color: var(--sklearn-color-text);\n",
       "  background-color: var(--sklearn-color-fitted-level-2);\n",
       "}\n",
       "\n",
       "/* Estimator label */\n",
       "\n",
       "#sk-container-id-2 div.sk-label label {\n",
       "  font-family: monospace;\n",
       "  font-weight: bold;\n",
       "  display: inline-block;\n",
       "  line-height: 1.2em;\n",
       "}\n",
       "\n",
       "#sk-container-id-2 div.sk-label-container {\n",
       "  text-align: center;\n",
       "}\n",
       "\n",
       "/* Estimator-specific */\n",
       "#sk-container-id-2 div.sk-estimator {\n",
       "  font-family: monospace;\n",
       "  border: 1px dotted var(--sklearn-color-border-box);\n",
       "  border-radius: 0.25em;\n",
       "  box-sizing: border-box;\n",
       "  margin-bottom: 0.5em;\n",
       "  /* unfitted */\n",
       "  background-color: var(--sklearn-color-unfitted-level-0);\n",
       "}\n",
       "\n",
       "#sk-container-id-2 div.sk-estimator.fitted {\n",
       "  /* fitted */\n",
       "  background-color: var(--sklearn-color-fitted-level-0);\n",
       "}\n",
       "\n",
       "/* on hover */\n",
       "#sk-container-id-2 div.sk-estimator:hover {\n",
       "  /* unfitted */\n",
       "  background-color: var(--sklearn-color-unfitted-level-2);\n",
       "}\n",
       "\n",
       "#sk-container-id-2 div.sk-estimator.fitted:hover {\n",
       "  /* fitted */\n",
       "  background-color: var(--sklearn-color-fitted-level-2);\n",
       "}\n",
       "\n",
       "/* Specification for estimator info (e.g. \"i\" and \"?\") */\n",
       "\n",
       "/* Common style for \"i\" and \"?\" */\n",
       "\n",
       ".sk-estimator-doc-link,\n",
       "a:link.sk-estimator-doc-link,\n",
       "a:visited.sk-estimator-doc-link {\n",
       "  float: right;\n",
       "  font-size: smaller;\n",
       "  line-height: 1em;\n",
       "  font-family: monospace;\n",
       "  background-color: var(--sklearn-color-background);\n",
       "  border-radius: 1em;\n",
       "  height: 1em;\n",
       "  width: 1em;\n",
       "  text-decoration: none !important;\n",
       "  margin-left: 0.5em;\n",
       "  text-align: center;\n",
       "  /* unfitted */\n",
       "  border: var(--sklearn-color-unfitted-level-1) 1pt solid;\n",
       "  color: var(--sklearn-color-unfitted-level-1);\n",
       "}\n",
       "\n",
       ".sk-estimator-doc-link.fitted,\n",
       "a:link.sk-estimator-doc-link.fitted,\n",
       "a:visited.sk-estimator-doc-link.fitted {\n",
       "  /* fitted */\n",
       "  border: var(--sklearn-color-fitted-level-1) 1pt solid;\n",
       "  color: var(--sklearn-color-fitted-level-1);\n",
       "}\n",
       "\n",
       "/* On hover */\n",
       "div.sk-estimator:hover .sk-estimator-doc-link:hover,\n",
       ".sk-estimator-doc-link:hover,\n",
       "div.sk-label-container:hover .sk-estimator-doc-link:hover,\n",
       ".sk-estimator-doc-link:hover {\n",
       "  /* unfitted */\n",
       "  background-color: var(--sklearn-color-unfitted-level-3);\n",
       "  color: var(--sklearn-color-background);\n",
       "  text-decoration: none;\n",
       "}\n",
       "\n",
       "div.sk-estimator.fitted:hover .sk-estimator-doc-link.fitted:hover,\n",
       ".sk-estimator-doc-link.fitted:hover,\n",
       "div.sk-label-container:hover .sk-estimator-doc-link.fitted:hover,\n",
       ".sk-estimator-doc-link.fitted:hover {\n",
       "  /* fitted */\n",
       "  background-color: var(--sklearn-color-fitted-level-3);\n",
       "  color: var(--sklearn-color-background);\n",
       "  text-decoration: none;\n",
       "}\n",
       "\n",
       "/* Span, style for the box shown on hovering the info icon */\n",
       ".sk-estimator-doc-link span {\n",
       "  display: none;\n",
       "  z-index: 9999;\n",
       "  position: relative;\n",
       "  font-weight: normal;\n",
       "  right: .2ex;\n",
       "  padding: .5ex;\n",
       "  margin: .5ex;\n",
       "  width: min-content;\n",
       "  min-width: 20ex;\n",
       "  max-width: 50ex;\n",
       "  color: var(--sklearn-color-text);\n",
       "  box-shadow: 2pt 2pt 4pt #999;\n",
       "  /* unfitted */\n",
       "  background: var(--sklearn-color-unfitted-level-0);\n",
       "  border: .5pt solid var(--sklearn-color-unfitted-level-3);\n",
       "}\n",
       "\n",
       ".sk-estimator-doc-link.fitted span {\n",
       "  /* fitted */\n",
       "  background: var(--sklearn-color-fitted-level-0);\n",
       "  border: var(--sklearn-color-fitted-level-3);\n",
       "}\n",
       "\n",
       ".sk-estimator-doc-link:hover span {\n",
       "  display: block;\n",
       "}\n",
       "\n",
       "/* \"?\"-specific style due to the `<a>` HTML tag */\n",
       "\n",
       "#sk-container-id-2 a.estimator_doc_link {\n",
       "  float: right;\n",
       "  font-size: 1rem;\n",
       "  line-height: 1em;\n",
       "  font-family: monospace;\n",
       "  background-color: var(--sklearn-color-background);\n",
       "  border-radius: 1rem;\n",
       "  height: 1rem;\n",
       "  width: 1rem;\n",
       "  text-decoration: none;\n",
       "  /* unfitted */\n",
       "  color: var(--sklearn-color-unfitted-level-1);\n",
       "  border: var(--sklearn-color-unfitted-level-1) 1pt solid;\n",
       "}\n",
       "\n",
       "#sk-container-id-2 a.estimator_doc_link.fitted {\n",
       "  /* fitted */\n",
       "  border: var(--sklearn-color-fitted-level-1) 1pt solid;\n",
       "  color: var(--sklearn-color-fitted-level-1);\n",
       "}\n",
       "\n",
       "/* On hover */\n",
       "#sk-container-id-2 a.estimator_doc_link:hover {\n",
       "  /* unfitted */\n",
       "  background-color: var(--sklearn-color-unfitted-level-3);\n",
       "  color: var(--sklearn-color-background);\n",
       "  text-decoration: none;\n",
       "}\n",
       "\n",
       "#sk-container-id-2 a.estimator_doc_link.fitted:hover {\n",
       "  /* fitted */\n",
       "  background-color: var(--sklearn-color-fitted-level-3);\n",
       "}\n",
       "</style><div id=\"sk-container-id-2\" class=\"sk-top-container\"><div class=\"sk-text-repr-fallback\"><pre>GridSearchCV(cv=TimeSeriesSplit(gap=0, max_train_size=None, n_splits=5, test_size=None),\n",
       "             estimator=Pipeline(steps=[(&#x27;scaler&#x27;, StandardScaler()),\n",
       "                                       (&#x27;models&#x27;, LinearRegression())]),\n",
       "             n_jobs=-1,\n",
       "             param_grid=[{&#x27;models&#x27;: [DecisionTreeRegressor(random_state=42)],\n",
       "                          &#x27;models__max_depth&#x27;: [3, 7, 10, None],\n",
       "                          &#x27;models__max_features&#x27;: [0.5, 1],\n",
       "                          &#x27;models__min_samples_leaf&#x27;: [2, 4]}],\n",
       "             scoring=&#x27;neg_root_mean_squared_error&#x27;)</pre><b>In a Jupyter environment, please rerun this cell to show the HTML representation or trust the notebook. <br />On GitHub, the HTML representation is unable to render, please try loading this page with nbviewer.org.</b></div><div class=\"sk-container\" hidden><div class=\"sk-item sk-dashed-wrapped\"><div class=\"sk-label-container\"><div class=\"sk-label fitted sk-toggleable\"><input class=\"sk-toggleable__control sk-hidden--visually\" id=\"sk-estimator-id-5\" type=\"checkbox\" ><label for=\"sk-estimator-id-5\" class=\"sk-toggleable__label fitted sk-toggleable__label-arrow\"><div><div>GridSearchCV</div></div><div><a class=\"sk-estimator-doc-link fitted\" rel=\"noreferrer\" target=\"_blank\" href=\"https://scikit-learn.org/1.6/modules/generated/sklearn.model_selection.GridSearchCV.html\">?<span>Documentation for GridSearchCV</span></a><span class=\"sk-estimator-doc-link fitted\">i<span>Fitted</span></span></div></label><div class=\"sk-toggleable__content fitted\"><pre>GridSearchCV(cv=TimeSeriesSplit(gap=0, max_train_size=None, n_splits=5, test_size=None),\n",
       "             estimator=Pipeline(steps=[(&#x27;scaler&#x27;, StandardScaler()),\n",
       "                                       (&#x27;models&#x27;, LinearRegression())]),\n",
       "             n_jobs=-1,\n",
       "             param_grid=[{&#x27;models&#x27;: [DecisionTreeRegressor(random_state=42)],\n",
       "                          &#x27;models__max_depth&#x27;: [3, 7, 10, None],\n",
       "                          &#x27;models__max_features&#x27;: [0.5, 1],\n",
       "                          &#x27;models__min_samples_leaf&#x27;: [2, 4]}],\n",
       "             scoring=&#x27;neg_root_mean_squared_error&#x27;)</pre></div> </div></div><div class=\"sk-parallel\"><div class=\"sk-parallel-item\"><div class=\"sk-item\"><div class=\"sk-label-container\"><div class=\"sk-label fitted sk-toggleable\"><input class=\"sk-toggleable__control sk-hidden--visually\" id=\"sk-estimator-id-6\" type=\"checkbox\" ><label for=\"sk-estimator-id-6\" class=\"sk-toggleable__label fitted sk-toggleable__label-arrow\"><div><div>best_estimator_: Pipeline</div></div></label><div class=\"sk-toggleable__content fitted\"><pre>Pipeline(steps=[(&#x27;scaler&#x27;, StandardScaler()),\n",
       "                (&#x27;models&#x27;,\n",
       "                 DecisionTreeRegressor(max_depth=7, max_features=0.5,\n",
       "                                       min_samples_leaf=4, random_state=42))])</pre></div> </div></div><div class=\"sk-serial\"><div class=\"sk-item\"><div class=\"sk-serial\"><div class=\"sk-item\"><div class=\"sk-estimator fitted sk-toggleable\"><input class=\"sk-toggleable__control sk-hidden--visually\" id=\"sk-estimator-id-7\" type=\"checkbox\" ><label for=\"sk-estimator-id-7\" class=\"sk-toggleable__label fitted sk-toggleable__label-arrow\"><div><div>StandardScaler</div></div><div><a class=\"sk-estimator-doc-link fitted\" rel=\"noreferrer\" target=\"_blank\" href=\"https://scikit-learn.org/1.6/modules/generated/sklearn.preprocessing.StandardScaler.html\">?<span>Documentation for StandardScaler</span></a></div></label><div class=\"sk-toggleable__content fitted\"><pre>StandardScaler()</pre></div> </div></div><div class=\"sk-item\"><div class=\"sk-estimator fitted sk-toggleable\"><input class=\"sk-toggleable__control sk-hidden--visually\" id=\"sk-estimator-id-8\" type=\"checkbox\" ><label for=\"sk-estimator-id-8\" class=\"sk-toggleable__label fitted sk-toggleable__label-arrow\"><div><div>DecisionTreeRegressor</div></div><div><a class=\"sk-estimator-doc-link fitted\" rel=\"noreferrer\" target=\"_blank\" href=\"https://scikit-learn.org/1.6/modules/generated/sklearn.tree.DecisionTreeRegressor.html\">?<span>Documentation for DecisionTreeRegressor</span></a></div></label><div class=\"sk-toggleable__content fitted\"><pre>DecisionTreeRegressor(max_depth=7, max_features=0.5, min_samples_leaf=4,\n",
       "                      random_state=42)</pre></div> </div></div></div></div></div></div></div></div></div></div></div>"
      ],
      "text/plain": [
       "GridSearchCV(cv=TimeSeriesSplit(gap=0, max_train_size=None, n_splits=5, test_size=None),\n",
       "             estimator=Pipeline(steps=[('scaler', StandardScaler()),\n",
       "                                       ('models', LinearRegression())]),\n",
       "             n_jobs=-1,\n",
       "             param_grid=[{'models': [DecisionTreeRegressor(random_state=42)],\n",
       "                          'models__max_depth': [3, 7, 10, None],\n",
       "                          'models__max_features': [0.5, 1],\n",
       "                          'models__min_samples_leaf': [2, 4]}],\n",
       "             scoring='neg_root_mean_squared_error')"
      ]
     },
     "execution_count": 46,
     "metadata": {},
     "output_type": "execute_result"
    }
   ],
   "source": [
    "gs_tree.fit(X_train, y_train)"
   ]
  },
  {
   "cell_type": "code",
   "execution_count": 47,
   "metadata": {},
   "outputs": [
    {
     "name": "stdout",
     "output_type": "stream",
     "text": [
      "Лучший RMSE: 29.3256281483924\n"
     ]
    }
   ],
   "source": [
    "best_score_tree = -gs_tree.best_score_  \n",
    "print(\"Лучший RMSE:\", best_score_tree)\n",
    "cv_results.append({'RMSE_Tree_regressor':best_score_tree})"
   ]
  },
  {
   "cell_type": "markdown",
   "metadata": {},
   "source": [
    "### LightGBM"
   ]
  },
  {
   "cell_type": "code",
   "execution_count": 48,
   "metadata": {},
   "outputs": [],
   "source": [
    "model_lgbm = lgb.LGBMRegressor(\n",
    "    boosting_type='gbdt',\n",
    "    objective='regression',\n",
    "    n_estimators=100,\n",
    "    random_state=42,\n",
    "    verbose=-1  \n",
    ")"
   ]
  },
  {
   "cell_type": "code",
   "execution_count": 49,
   "metadata": {},
   "outputs": [],
   "source": [
    "param_grid_lgbm = {\n",
    "    'learning_rate': [0.01, 0.1]\n",
    "}"
   ]
  },
  {
   "cell_type": "code",
   "execution_count": 50,
   "metadata": {},
   "outputs": [],
   "source": [
    "grid_lgbm = GridSearchCV(\n",
    "    estimator=model_lgbm,\n",
    "    param_grid=param_grid_lgbm,\n",
    "    scoring='neg_root_mean_squared_error',  \n",
    "    cv=tscv,  \n",
    "    n_jobs=-1 \n",
    ")"
   ]
  },
  {
   "cell_type": "code",
   "execution_count": 51,
   "metadata": {},
   "outputs": [
    {
     "data": {
      "text/html": [
       "<style>#sk-container-id-3 {\n",
       "  /* Definition of color scheme common for light and dark mode */\n",
       "  --sklearn-color-text: #000;\n",
       "  --sklearn-color-text-muted: #666;\n",
       "  --sklearn-color-line: gray;\n",
       "  /* Definition of color scheme for unfitted estimators */\n",
       "  --sklearn-color-unfitted-level-0: #fff5e6;\n",
       "  --sklearn-color-unfitted-level-1: #f6e4d2;\n",
       "  --sklearn-color-unfitted-level-2: #ffe0b3;\n",
       "  --sklearn-color-unfitted-level-3: chocolate;\n",
       "  /* Definition of color scheme for fitted estimators */\n",
       "  --sklearn-color-fitted-level-0: #f0f8ff;\n",
       "  --sklearn-color-fitted-level-1: #d4ebff;\n",
       "  --sklearn-color-fitted-level-2: #b3dbfd;\n",
       "  --sklearn-color-fitted-level-3: cornflowerblue;\n",
       "\n",
       "  /* Specific color for light theme */\n",
       "  --sklearn-color-text-on-default-background: var(--sg-text-color, var(--theme-code-foreground, var(--jp-content-font-color1, black)));\n",
       "  --sklearn-color-background: var(--sg-background-color, var(--theme-background, var(--jp-layout-color0, white)));\n",
       "  --sklearn-color-border-box: var(--sg-text-color, var(--theme-code-foreground, var(--jp-content-font-color1, black)));\n",
       "  --sklearn-color-icon: #696969;\n",
       "\n",
       "  @media (prefers-color-scheme: dark) {\n",
       "    /* Redefinition of color scheme for dark theme */\n",
       "    --sklearn-color-text-on-default-background: var(--sg-text-color, var(--theme-code-foreground, var(--jp-content-font-color1, white)));\n",
       "    --sklearn-color-background: var(--sg-background-color, var(--theme-background, var(--jp-layout-color0, #111)));\n",
       "    --sklearn-color-border-box: var(--sg-text-color, var(--theme-code-foreground, var(--jp-content-font-color1, white)));\n",
       "    --sklearn-color-icon: #878787;\n",
       "  }\n",
       "}\n",
       "\n",
       "#sk-container-id-3 {\n",
       "  color: var(--sklearn-color-text);\n",
       "}\n",
       "\n",
       "#sk-container-id-3 pre {\n",
       "  padding: 0;\n",
       "}\n",
       "\n",
       "#sk-container-id-3 input.sk-hidden--visually {\n",
       "  border: 0;\n",
       "  clip: rect(1px 1px 1px 1px);\n",
       "  clip: rect(1px, 1px, 1px, 1px);\n",
       "  height: 1px;\n",
       "  margin: -1px;\n",
       "  overflow: hidden;\n",
       "  padding: 0;\n",
       "  position: absolute;\n",
       "  width: 1px;\n",
       "}\n",
       "\n",
       "#sk-container-id-3 div.sk-dashed-wrapped {\n",
       "  border: 1px dashed var(--sklearn-color-line);\n",
       "  margin: 0 0.4em 0.5em 0.4em;\n",
       "  box-sizing: border-box;\n",
       "  padding-bottom: 0.4em;\n",
       "  background-color: var(--sklearn-color-background);\n",
       "}\n",
       "\n",
       "#sk-container-id-3 div.sk-container {\n",
       "  /* jupyter's `normalize.less` sets `[hidden] { display: none; }`\n",
       "     but bootstrap.min.css set `[hidden] { display: none !important; }`\n",
       "     so we also need the `!important` here to be able to override the\n",
       "     default hidden behavior on the sphinx rendered scikit-learn.org.\n",
       "     See: https://github.com/scikit-learn/scikit-learn/issues/21755 */\n",
       "  display: inline-block !important;\n",
       "  position: relative;\n",
       "}\n",
       "\n",
       "#sk-container-id-3 div.sk-text-repr-fallback {\n",
       "  display: none;\n",
       "}\n",
       "\n",
       "div.sk-parallel-item,\n",
       "div.sk-serial,\n",
       "div.sk-item {\n",
       "  /* draw centered vertical line to link estimators */\n",
       "  background-image: linear-gradient(var(--sklearn-color-text-on-default-background), var(--sklearn-color-text-on-default-background));\n",
       "  background-size: 2px 100%;\n",
       "  background-repeat: no-repeat;\n",
       "  background-position: center center;\n",
       "}\n",
       "\n",
       "/* Parallel-specific style estimator block */\n",
       "\n",
       "#sk-container-id-3 div.sk-parallel-item::after {\n",
       "  content: \"\";\n",
       "  width: 100%;\n",
       "  border-bottom: 2px solid var(--sklearn-color-text-on-default-background);\n",
       "  flex-grow: 1;\n",
       "}\n",
       "\n",
       "#sk-container-id-3 div.sk-parallel {\n",
       "  display: flex;\n",
       "  align-items: stretch;\n",
       "  justify-content: center;\n",
       "  background-color: var(--sklearn-color-background);\n",
       "  position: relative;\n",
       "}\n",
       "\n",
       "#sk-container-id-3 div.sk-parallel-item {\n",
       "  display: flex;\n",
       "  flex-direction: column;\n",
       "}\n",
       "\n",
       "#sk-container-id-3 div.sk-parallel-item:first-child::after {\n",
       "  align-self: flex-end;\n",
       "  width: 50%;\n",
       "}\n",
       "\n",
       "#sk-container-id-3 div.sk-parallel-item:last-child::after {\n",
       "  align-self: flex-start;\n",
       "  width: 50%;\n",
       "}\n",
       "\n",
       "#sk-container-id-3 div.sk-parallel-item:only-child::after {\n",
       "  width: 0;\n",
       "}\n",
       "\n",
       "/* Serial-specific style estimator block */\n",
       "\n",
       "#sk-container-id-3 div.sk-serial {\n",
       "  display: flex;\n",
       "  flex-direction: column;\n",
       "  align-items: center;\n",
       "  background-color: var(--sklearn-color-background);\n",
       "  padding-right: 1em;\n",
       "  padding-left: 1em;\n",
       "}\n",
       "\n",
       "\n",
       "/* Toggleable style: style used for estimator/Pipeline/ColumnTransformer box that is\n",
       "clickable and can be expanded/collapsed.\n",
       "- Pipeline and ColumnTransformer use this feature and define the default style\n",
       "- Estimators will overwrite some part of the style using the `sk-estimator` class\n",
       "*/\n",
       "\n",
       "/* Pipeline and ColumnTransformer style (default) */\n",
       "\n",
       "#sk-container-id-3 div.sk-toggleable {\n",
       "  /* Default theme specific background. It is overwritten whether we have a\n",
       "  specific estimator or a Pipeline/ColumnTransformer */\n",
       "  background-color: var(--sklearn-color-background);\n",
       "}\n",
       "\n",
       "/* Toggleable label */\n",
       "#sk-container-id-3 label.sk-toggleable__label {\n",
       "  cursor: pointer;\n",
       "  display: flex;\n",
       "  width: 100%;\n",
       "  margin-bottom: 0;\n",
       "  padding: 0.5em;\n",
       "  box-sizing: border-box;\n",
       "  text-align: center;\n",
       "  align-items: start;\n",
       "  justify-content: space-between;\n",
       "  gap: 0.5em;\n",
       "}\n",
       "\n",
       "#sk-container-id-3 label.sk-toggleable__label .caption {\n",
       "  font-size: 0.6rem;\n",
       "  font-weight: lighter;\n",
       "  color: var(--sklearn-color-text-muted);\n",
       "}\n",
       "\n",
       "#sk-container-id-3 label.sk-toggleable__label-arrow:before {\n",
       "  /* Arrow on the left of the label */\n",
       "  content: \"▸\";\n",
       "  float: left;\n",
       "  margin-right: 0.25em;\n",
       "  color: var(--sklearn-color-icon);\n",
       "}\n",
       "\n",
       "#sk-container-id-3 label.sk-toggleable__label-arrow:hover:before {\n",
       "  color: var(--sklearn-color-text);\n",
       "}\n",
       "\n",
       "/* Toggleable content - dropdown */\n",
       "\n",
       "#sk-container-id-3 div.sk-toggleable__content {\n",
       "  max-height: 0;\n",
       "  max-width: 0;\n",
       "  overflow: hidden;\n",
       "  text-align: left;\n",
       "  /* unfitted */\n",
       "  background-color: var(--sklearn-color-unfitted-level-0);\n",
       "}\n",
       "\n",
       "#sk-container-id-3 div.sk-toggleable__content.fitted {\n",
       "  /* fitted */\n",
       "  background-color: var(--sklearn-color-fitted-level-0);\n",
       "}\n",
       "\n",
       "#sk-container-id-3 div.sk-toggleable__content pre {\n",
       "  margin: 0.2em;\n",
       "  border-radius: 0.25em;\n",
       "  color: var(--sklearn-color-text);\n",
       "  /* unfitted */\n",
       "  background-color: var(--sklearn-color-unfitted-level-0);\n",
       "}\n",
       "\n",
       "#sk-container-id-3 div.sk-toggleable__content.fitted pre {\n",
       "  /* unfitted */\n",
       "  background-color: var(--sklearn-color-fitted-level-0);\n",
       "}\n",
       "\n",
       "#sk-container-id-3 input.sk-toggleable__control:checked~div.sk-toggleable__content {\n",
       "  /* Expand drop-down */\n",
       "  max-height: 200px;\n",
       "  max-width: 100%;\n",
       "  overflow: auto;\n",
       "}\n",
       "\n",
       "#sk-container-id-3 input.sk-toggleable__control:checked~label.sk-toggleable__label-arrow:before {\n",
       "  content: \"▾\";\n",
       "}\n",
       "\n",
       "/* Pipeline/ColumnTransformer-specific style */\n",
       "\n",
       "#sk-container-id-3 div.sk-label input.sk-toggleable__control:checked~label.sk-toggleable__label {\n",
       "  color: var(--sklearn-color-text);\n",
       "  background-color: var(--sklearn-color-unfitted-level-2);\n",
       "}\n",
       "\n",
       "#sk-container-id-3 div.sk-label.fitted input.sk-toggleable__control:checked~label.sk-toggleable__label {\n",
       "  background-color: var(--sklearn-color-fitted-level-2);\n",
       "}\n",
       "\n",
       "/* Estimator-specific style */\n",
       "\n",
       "/* Colorize estimator box */\n",
       "#sk-container-id-3 div.sk-estimator input.sk-toggleable__control:checked~label.sk-toggleable__label {\n",
       "  /* unfitted */\n",
       "  background-color: var(--sklearn-color-unfitted-level-2);\n",
       "}\n",
       "\n",
       "#sk-container-id-3 div.sk-estimator.fitted input.sk-toggleable__control:checked~label.sk-toggleable__label {\n",
       "  /* fitted */\n",
       "  background-color: var(--sklearn-color-fitted-level-2);\n",
       "}\n",
       "\n",
       "#sk-container-id-3 div.sk-label label.sk-toggleable__label,\n",
       "#sk-container-id-3 div.sk-label label {\n",
       "  /* The background is the default theme color */\n",
       "  color: var(--sklearn-color-text-on-default-background);\n",
       "}\n",
       "\n",
       "/* On hover, darken the color of the background */\n",
       "#sk-container-id-3 div.sk-label:hover label.sk-toggleable__label {\n",
       "  color: var(--sklearn-color-text);\n",
       "  background-color: var(--sklearn-color-unfitted-level-2);\n",
       "}\n",
       "\n",
       "/* Label box, darken color on hover, fitted */\n",
       "#sk-container-id-3 div.sk-label.fitted:hover label.sk-toggleable__label.fitted {\n",
       "  color: var(--sklearn-color-text);\n",
       "  background-color: var(--sklearn-color-fitted-level-2);\n",
       "}\n",
       "\n",
       "/* Estimator label */\n",
       "\n",
       "#sk-container-id-3 div.sk-label label {\n",
       "  font-family: monospace;\n",
       "  font-weight: bold;\n",
       "  display: inline-block;\n",
       "  line-height: 1.2em;\n",
       "}\n",
       "\n",
       "#sk-container-id-3 div.sk-label-container {\n",
       "  text-align: center;\n",
       "}\n",
       "\n",
       "/* Estimator-specific */\n",
       "#sk-container-id-3 div.sk-estimator {\n",
       "  font-family: monospace;\n",
       "  border: 1px dotted var(--sklearn-color-border-box);\n",
       "  border-radius: 0.25em;\n",
       "  box-sizing: border-box;\n",
       "  margin-bottom: 0.5em;\n",
       "  /* unfitted */\n",
       "  background-color: var(--sklearn-color-unfitted-level-0);\n",
       "}\n",
       "\n",
       "#sk-container-id-3 div.sk-estimator.fitted {\n",
       "  /* fitted */\n",
       "  background-color: var(--sklearn-color-fitted-level-0);\n",
       "}\n",
       "\n",
       "/* on hover */\n",
       "#sk-container-id-3 div.sk-estimator:hover {\n",
       "  /* unfitted */\n",
       "  background-color: var(--sklearn-color-unfitted-level-2);\n",
       "}\n",
       "\n",
       "#sk-container-id-3 div.sk-estimator.fitted:hover {\n",
       "  /* fitted */\n",
       "  background-color: var(--sklearn-color-fitted-level-2);\n",
       "}\n",
       "\n",
       "/* Specification for estimator info (e.g. \"i\" and \"?\") */\n",
       "\n",
       "/* Common style for \"i\" and \"?\" */\n",
       "\n",
       ".sk-estimator-doc-link,\n",
       "a:link.sk-estimator-doc-link,\n",
       "a:visited.sk-estimator-doc-link {\n",
       "  float: right;\n",
       "  font-size: smaller;\n",
       "  line-height: 1em;\n",
       "  font-family: monospace;\n",
       "  background-color: var(--sklearn-color-background);\n",
       "  border-radius: 1em;\n",
       "  height: 1em;\n",
       "  width: 1em;\n",
       "  text-decoration: none !important;\n",
       "  margin-left: 0.5em;\n",
       "  text-align: center;\n",
       "  /* unfitted */\n",
       "  border: var(--sklearn-color-unfitted-level-1) 1pt solid;\n",
       "  color: var(--sklearn-color-unfitted-level-1);\n",
       "}\n",
       "\n",
       ".sk-estimator-doc-link.fitted,\n",
       "a:link.sk-estimator-doc-link.fitted,\n",
       "a:visited.sk-estimator-doc-link.fitted {\n",
       "  /* fitted */\n",
       "  border: var(--sklearn-color-fitted-level-1) 1pt solid;\n",
       "  color: var(--sklearn-color-fitted-level-1);\n",
       "}\n",
       "\n",
       "/* On hover */\n",
       "div.sk-estimator:hover .sk-estimator-doc-link:hover,\n",
       ".sk-estimator-doc-link:hover,\n",
       "div.sk-label-container:hover .sk-estimator-doc-link:hover,\n",
       ".sk-estimator-doc-link:hover {\n",
       "  /* unfitted */\n",
       "  background-color: var(--sklearn-color-unfitted-level-3);\n",
       "  color: var(--sklearn-color-background);\n",
       "  text-decoration: none;\n",
       "}\n",
       "\n",
       "div.sk-estimator.fitted:hover .sk-estimator-doc-link.fitted:hover,\n",
       ".sk-estimator-doc-link.fitted:hover,\n",
       "div.sk-label-container:hover .sk-estimator-doc-link.fitted:hover,\n",
       ".sk-estimator-doc-link.fitted:hover {\n",
       "  /* fitted */\n",
       "  background-color: var(--sklearn-color-fitted-level-3);\n",
       "  color: var(--sklearn-color-background);\n",
       "  text-decoration: none;\n",
       "}\n",
       "\n",
       "/* Span, style for the box shown on hovering the info icon */\n",
       ".sk-estimator-doc-link span {\n",
       "  display: none;\n",
       "  z-index: 9999;\n",
       "  position: relative;\n",
       "  font-weight: normal;\n",
       "  right: .2ex;\n",
       "  padding: .5ex;\n",
       "  margin: .5ex;\n",
       "  width: min-content;\n",
       "  min-width: 20ex;\n",
       "  max-width: 50ex;\n",
       "  color: var(--sklearn-color-text);\n",
       "  box-shadow: 2pt 2pt 4pt #999;\n",
       "  /* unfitted */\n",
       "  background: var(--sklearn-color-unfitted-level-0);\n",
       "  border: .5pt solid var(--sklearn-color-unfitted-level-3);\n",
       "}\n",
       "\n",
       ".sk-estimator-doc-link.fitted span {\n",
       "  /* fitted */\n",
       "  background: var(--sklearn-color-fitted-level-0);\n",
       "  border: var(--sklearn-color-fitted-level-3);\n",
       "}\n",
       "\n",
       ".sk-estimator-doc-link:hover span {\n",
       "  display: block;\n",
       "}\n",
       "\n",
       "/* \"?\"-specific style due to the `<a>` HTML tag */\n",
       "\n",
       "#sk-container-id-3 a.estimator_doc_link {\n",
       "  float: right;\n",
       "  font-size: 1rem;\n",
       "  line-height: 1em;\n",
       "  font-family: monospace;\n",
       "  background-color: var(--sklearn-color-background);\n",
       "  border-radius: 1rem;\n",
       "  height: 1rem;\n",
       "  width: 1rem;\n",
       "  text-decoration: none;\n",
       "  /* unfitted */\n",
       "  color: var(--sklearn-color-unfitted-level-1);\n",
       "  border: var(--sklearn-color-unfitted-level-1) 1pt solid;\n",
       "}\n",
       "\n",
       "#sk-container-id-3 a.estimator_doc_link.fitted {\n",
       "  /* fitted */\n",
       "  border: var(--sklearn-color-fitted-level-1) 1pt solid;\n",
       "  color: var(--sklearn-color-fitted-level-1);\n",
       "}\n",
       "\n",
       "/* On hover */\n",
       "#sk-container-id-3 a.estimator_doc_link:hover {\n",
       "  /* unfitted */\n",
       "  background-color: var(--sklearn-color-unfitted-level-3);\n",
       "  color: var(--sklearn-color-background);\n",
       "  text-decoration: none;\n",
       "}\n",
       "\n",
       "#sk-container-id-3 a.estimator_doc_link.fitted:hover {\n",
       "  /* fitted */\n",
       "  background-color: var(--sklearn-color-fitted-level-3);\n",
       "}\n",
       "</style><div id=\"sk-container-id-3\" class=\"sk-top-container\"><div class=\"sk-text-repr-fallback\"><pre>GridSearchCV(cv=TimeSeriesSplit(gap=0, max_train_size=None, n_splits=5, test_size=None),\n",
       "             estimator=LGBMRegressor(objective=&#x27;regression&#x27;, random_state=42,\n",
       "                                     verbose=-1),\n",
       "             n_jobs=-1, param_grid={&#x27;learning_rate&#x27;: [0.01, 0.1]},\n",
       "             scoring=&#x27;neg_root_mean_squared_error&#x27;)</pre><b>In a Jupyter environment, please rerun this cell to show the HTML representation or trust the notebook. <br />On GitHub, the HTML representation is unable to render, please try loading this page with nbviewer.org.</b></div><div class=\"sk-container\" hidden><div class=\"sk-item sk-dashed-wrapped\"><div class=\"sk-label-container\"><div class=\"sk-label fitted sk-toggleable\"><input class=\"sk-toggleable__control sk-hidden--visually\" id=\"sk-estimator-id-9\" type=\"checkbox\" ><label for=\"sk-estimator-id-9\" class=\"sk-toggleable__label fitted sk-toggleable__label-arrow\"><div><div>GridSearchCV</div></div><div><a class=\"sk-estimator-doc-link fitted\" rel=\"noreferrer\" target=\"_blank\" href=\"https://scikit-learn.org/1.6/modules/generated/sklearn.model_selection.GridSearchCV.html\">?<span>Documentation for GridSearchCV</span></a><span class=\"sk-estimator-doc-link fitted\">i<span>Fitted</span></span></div></label><div class=\"sk-toggleable__content fitted\"><pre>GridSearchCV(cv=TimeSeriesSplit(gap=0, max_train_size=None, n_splits=5, test_size=None),\n",
       "             estimator=LGBMRegressor(objective=&#x27;regression&#x27;, random_state=42,\n",
       "                                     verbose=-1),\n",
       "             n_jobs=-1, param_grid={&#x27;learning_rate&#x27;: [0.01, 0.1]},\n",
       "             scoring=&#x27;neg_root_mean_squared_error&#x27;)</pre></div> </div></div><div class=\"sk-parallel\"><div class=\"sk-parallel-item\"><div class=\"sk-item\"><div class=\"sk-label-container\"><div class=\"sk-label fitted sk-toggleable\"><input class=\"sk-toggleable__control sk-hidden--visually\" id=\"sk-estimator-id-10\" type=\"checkbox\" ><label for=\"sk-estimator-id-10\" class=\"sk-toggleable__label fitted sk-toggleable__label-arrow\"><div><div>best_estimator_: LGBMRegressor</div></div></label><div class=\"sk-toggleable__content fitted\"><pre>LGBMRegressor(objective=&#x27;regression&#x27;, random_state=42, verbose=-1)</pre></div> </div></div><div class=\"sk-serial\"><div class=\"sk-item\"><div class=\"sk-estimator fitted sk-toggleable\"><input class=\"sk-toggleable__control sk-hidden--visually\" id=\"sk-estimator-id-11\" type=\"checkbox\" ><label for=\"sk-estimator-id-11\" class=\"sk-toggleable__label fitted sk-toggleable__label-arrow\"><div><div>LGBMRegressor</div></div></label><div class=\"sk-toggleable__content fitted\"><pre>LGBMRegressor(objective=&#x27;regression&#x27;, random_state=42, verbose=-1)</pre></div> </div></div></div></div></div></div></div></div></div>"
      ],
      "text/plain": [
       "GridSearchCV(cv=TimeSeriesSplit(gap=0, max_train_size=None, n_splits=5, test_size=None),\n",
       "             estimator=LGBMRegressor(objective='regression', random_state=42,\n",
       "                                     verbose=-1),\n",
       "             n_jobs=-1, param_grid={'learning_rate': [0.01, 0.1]},\n",
       "             scoring='neg_root_mean_squared_error')"
      ]
     },
     "execution_count": 51,
     "metadata": {},
     "output_type": "execute_result"
    }
   ],
   "source": [
    "grid_lgbm.fit(X_train, y_train)"
   ]
  },
  {
   "cell_type": "code",
   "execution_count": 52,
   "metadata": {},
   "outputs": [
    {
     "name": "stdout",
     "output_type": "stream",
     "text": [
      "Лучший RMSE: 25.182991984954597\n"
     ]
    }
   ],
   "source": [
    "best_score_lgbm = -grid_lgbm.best_score_  \n",
    "print(\"Лучший RMSE:\", best_score_lgbm)\n"
   ]
  },
  {
   "cell_type": "code",
   "execution_count": 53,
   "metadata": {},
   "outputs": [],
   "source": [
    "cv_results.append({'RMSE_Light_GBM':best_score_lgbm})"
   ]
  },
  {
   "cell_type": "markdown",
   "metadata": {},
   "source": [
    "### Catboost"
   ]
  },
  {
   "cell_type": "code",
   "execution_count": 54,
   "metadata": {},
   "outputs": [],
   "source": [
    "model_catboost = CatBoostRegressor(verbose=False)"
   ]
  },
  {
   "cell_type": "code",
   "execution_count": 55,
   "metadata": {},
   "outputs": [],
   "source": [
    "param_grid_catboost = {\n",
    "    'depth': [3,5,7,10],  \n",
    "    'learning_rate': [0.01, 0.1],  \n",
    "    'iterations': [100, 500],  \n",
    "    'l2_leaf_reg': [2, 5] \n",
    "}"
   ]
  },
  {
   "cell_type": "code",
   "execution_count": 56,
   "metadata": {},
   "outputs": [],
   "source": [
    "gs_catboost = GridSearchCV(\n",
    "    model_catboost, \n",
    "    param_grid_catboost, \n",
    "    cv=tscv,\n",
    "    scoring='neg_root_mean_squared_error',\n",
    "    n_jobs=-1\n",
    ")"
   ]
  },
  {
   "cell_type": "code",
   "execution_count": 57,
   "metadata": {},
   "outputs": [
    {
     "data": {
      "text/html": [
       "<style>#sk-container-id-4 {\n",
       "  /* Definition of color scheme common for light and dark mode */\n",
       "  --sklearn-color-text: #000;\n",
       "  --sklearn-color-text-muted: #666;\n",
       "  --sklearn-color-line: gray;\n",
       "  /* Definition of color scheme for unfitted estimators */\n",
       "  --sklearn-color-unfitted-level-0: #fff5e6;\n",
       "  --sklearn-color-unfitted-level-1: #f6e4d2;\n",
       "  --sklearn-color-unfitted-level-2: #ffe0b3;\n",
       "  --sklearn-color-unfitted-level-3: chocolate;\n",
       "  /* Definition of color scheme for fitted estimators */\n",
       "  --sklearn-color-fitted-level-0: #f0f8ff;\n",
       "  --sklearn-color-fitted-level-1: #d4ebff;\n",
       "  --sklearn-color-fitted-level-2: #b3dbfd;\n",
       "  --sklearn-color-fitted-level-3: cornflowerblue;\n",
       "\n",
       "  /* Specific color for light theme */\n",
       "  --sklearn-color-text-on-default-background: var(--sg-text-color, var(--theme-code-foreground, var(--jp-content-font-color1, black)));\n",
       "  --sklearn-color-background: var(--sg-background-color, var(--theme-background, var(--jp-layout-color0, white)));\n",
       "  --sklearn-color-border-box: var(--sg-text-color, var(--theme-code-foreground, var(--jp-content-font-color1, black)));\n",
       "  --sklearn-color-icon: #696969;\n",
       "\n",
       "  @media (prefers-color-scheme: dark) {\n",
       "    /* Redefinition of color scheme for dark theme */\n",
       "    --sklearn-color-text-on-default-background: var(--sg-text-color, var(--theme-code-foreground, var(--jp-content-font-color1, white)));\n",
       "    --sklearn-color-background: var(--sg-background-color, var(--theme-background, var(--jp-layout-color0, #111)));\n",
       "    --sklearn-color-border-box: var(--sg-text-color, var(--theme-code-foreground, var(--jp-content-font-color1, white)));\n",
       "    --sklearn-color-icon: #878787;\n",
       "  }\n",
       "}\n",
       "\n",
       "#sk-container-id-4 {\n",
       "  color: var(--sklearn-color-text);\n",
       "}\n",
       "\n",
       "#sk-container-id-4 pre {\n",
       "  padding: 0;\n",
       "}\n",
       "\n",
       "#sk-container-id-4 input.sk-hidden--visually {\n",
       "  border: 0;\n",
       "  clip: rect(1px 1px 1px 1px);\n",
       "  clip: rect(1px, 1px, 1px, 1px);\n",
       "  height: 1px;\n",
       "  margin: -1px;\n",
       "  overflow: hidden;\n",
       "  padding: 0;\n",
       "  position: absolute;\n",
       "  width: 1px;\n",
       "}\n",
       "\n",
       "#sk-container-id-4 div.sk-dashed-wrapped {\n",
       "  border: 1px dashed var(--sklearn-color-line);\n",
       "  margin: 0 0.4em 0.5em 0.4em;\n",
       "  box-sizing: border-box;\n",
       "  padding-bottom: 0.4em;\n",
       "  background-color: var(--sklearn-color-background);\n",
       "}\n",
       "\n",
       "#sk-container-id-4 div.sk-container {\n",
       "  /* jupyter's `normalize.less` sets `[hidden] { display: none; }`\n",
       "     but bootstrap.min.css set `[hidden] { display: none !important; }`\n",
       "     so we also need the `!important` here to be able to override the\n",
       "     default hidden behavior on the sphinx rendered scikit-learn.org.\n",
       "     See: https://github.com/scikit-learn/scikit-learn/issues/21755 */\n",
       "  display: inline-block !important;\n",
       "  position: relative;\n",
       "}\n",
       "\n",
       "#sk-container-id-4 div.sk-text-repr-fallback {\n",
       "  display: none;\n",
       "}\n",
       "\n",
       "div.sk-parallel-item,\n",
       "div.sk-serial,\n",
       "div.sk-item {\n",
       "  /* draw centered vertical line to link estimators */\n",
       "  background-image: linear-gradient(var(--sklearn-color-text-on-default-background), var(--sklearn-color-text-on-default-background));\n",
       "  background-size: 2px 100%;\n",
       "  background-repeat: no-repeat;\n",
       "  background-position: center center;\n",
       "}\n",
       "\n",
       "/* Parallel-specific style estimator block */\n",
       "\n",
       "#sk-container-id-4 div.sk-parallel-item::after {\n",
       "  content: \"\";\n",
       "  width: 100%;\n",
       "  border-bottom: 2px solid var(--sklearn-color-text-on-default-background);\n",
       "  flex-grow: 1;\n",
       "}\n",
       "\n",
       "#sk-container-id-4 div.sk-parallel {\n",
       "  display: flex;\n",
       "  align-items: stretch;\n",
       "  justify-content: center;\n",
       "  background-color: var(--sklearn-color-background);\n",
       "  position: relative;\n",
       "}\n",
       "\n",
       "#sk-container-id-4 div.sk-parallel-item {\n",
       "  display: flex;\n",
       "  flex-direction: column;\n",
       "}\n",
       "\n",
       "#sk-container-id-4 div.sk-parallel-item:first-child::after {\n",
       "  align-self: flex-end;\n",
       "  width: 50%;\n",
       "}\n",
       "\n",
       "#sk-container-id-4 div.sk-parallel-item:last-child::after {\n",
       "  align-self: flex-start;\n",
       "  width: 50%;\n",
       "}\n",
       "\n",
       "#sk-container-id-4 div.sk-parallel-item:only-child::after {\n",
       "  width: 0;\n",
       "}\n",
       "\n",
       "/* Serial-specific style estimator block */\n",
       "\n",
       "#sk-container-id-4 div.sk-serial {\n",
       "  display: flex;\n",
       "  flex-direction: column;\n",
       "  align-items: center;\n",
       "  background-color: var(--sklearn-color-background);\n",
       "  padding-right: 1em;\n",
       "  padding-left: 1em;\n",
       "}\n",
       "\n",
       "\n",
       "/* Toggleable style: style used for estimator/Pipeline/ColumnTransformer box that is\n",
       "clickable and can be expanded/collapsed.\n",
       "- Pipeline and ColumnTransformer use this feature and define the default style\n",
       "- Estimators will overwrite some part of the style using the `sk-estimator` class\n",
       "*/\n",
       "\n",
       "/* Pipeline and ColumnTransformer style (default) */\n",
       "\n",
       "#sk-container-id-4 div.sk-toggleable {\n",
       "  /* Default theme specific background. It is overwritten whether we have a\n",
       "  specific estimator or a Pipeline/ColumnTransformer */\n",
       "  background-color: var(--sklearn-color-background);\n",
       "}\n",
       "\n",
       "/* Toggleable label */\n",
       "#sk-container-id-4 label.sk-toggleable__label {\n",
       "  cursor: pointer;\n",
       "  display: flex;\n",
       "  width: 100%;\n",
       "  margin-bottom: 0;\n",
       "  padding: 0.5em;\n",
       "  box-sizing: border-box;\n",
       "  text-align: center;\n",
       "  align-items: start;\n",
       "  justify-content: space-between;\n",
       "  gap: 0.5em;\n",
       "}\n",
       "\n",
       "#sk-container-id-4 label.sk-toggleable__label .caption {\n",
       "  font-size: 0.6rem;\n",
       "  font-weight: lighter;\n",
       "  color: var(--sklearn-color-text-muted);\n",
       "}\n",
       "\n",
       "#sk-container-id-4 label.sk-toggleable__label-arrow:before {\n",
       "  /* Arrow on the left of the label */\n",
       "  content: \"▸\";\n",
       "  float: left;\n",
       "  margin-right: 0.25em;\n",
       "  color: var(--sklearn-color-icon);\n",
       "}\n",
       "\n",
       "#sk-container-id-4 label.sk-toggleable__label-arrow:hover:before {\n",
       "  color: var(--sklearn-color-text);\n",
       "}\n",
       "\n",
       "/* Toggleable content - dropdown */\n",
       "\n",
       "#sk-container-id-4 div.sk-toggleable__content {\n",
       "  max-height: 0;\n",
       "  max-width: 0;\n",
       "  overflow: hidden;\n",
       "  text-align: left;\n",
       "  /* unfitted */\n",
       "  background-color: var(--sklearn-color-unfitted-level-0);\n",
       "}\n",
       "\n",
       "#sk-container-id-4 div.sk-toggleable__content.fitted {\n",
       "  /* fitted */\n",
       "  background-color: var(--sklearn-color-fitted-level-0);\n",
       "}\n",
       "\n",
       "#sk-container-id-4 div.sk-toggleable__content pre {\n",
       "  margin: 0.2em;\n",
       "  border-radius: 0.25em;\n",
       "  color: var(--sklearn-color-text);\n",
       "  /* unfitted */\n",
       "  background-color: var(--sklearn-color-unfitted-level-0);\n",
       "}\n",
       "\n",
       "#sk-container-id-4 div.sk-toggleable__content.fitted pre {\n",
       "  /* unfitted */\n",
       "  background-color: var(--sklearn-color-fitted-level-0);\n",
       "}\n",
       "\n",
       "#sk-container-id-4 input.sk-toggleable__control:checked~div.sk-toggleable__content {\n",
       "  /* Expand drop-down */\n",
       "  max-height: 200px;\n",
       "  max-width: 100%;\n",
       "  overflow: auto;\n",
       "}\n",
       "\n",
       "#sk-container-id-4 input.sk-toggleable__control:checked~label.sk-toggleable__label-arrow:before {\n",
       "  content: \"▾\";\n",
       "}\n",
       "\n",
       "/* Pipeline/ColumnTransformer-specific style */\n",
       "\n",
       "#sk-container-id-4 div.sk-label input.sk-toggleable__control:checked~label.sk-toggleable__label {\n",
       "  color: var(--sklearn-color-text);\n",
       "  background-color: var(--sklearn-color-unfitted-level-2);\n",
       "}\n",
       "\n",
       "#sk-container-id-4 div.sk-label.fitted input.sk-toggleable__control:checked~label.sk-toggleable__label {\n",
       "  background-color: var(--sklearn-color-fitted-level-2);\n",
       "}\n",
       "\n",
       "/* Estimator-specific style */\n",
       "\n",
       "/* Colorize estimator box */\n",
       "#sk-container-id-4 div.sk-estimator input.sk-toggleable__control:checked~label.sk-toggleable__label {\n",
       "  /* unfitted */\n",
       "  background-color: var(--sklearn-color-unfitted-level-2);\n",
       "}\n",
       "\n",
       "#sk-container-id-4 div.sk-estimator.fitted input.sk-toggleable__control:checked~label.sk-toggleable__label {\n",
       "  /* fitted */\n",
       "  background-color: var(--sklearn-color-fitted-level-2);\n",
       "}\n",
       "\n",
       "#sk-container-id-4 div.sk-label label.sk-toggleable__label,\n",
       "#sk-container-id-4 div.sk-label label {\n",
       "  /* The background is the default theme color */\n",
       "  color: var(--sklearn-color-text-on-default-background);\n",
       "}\n",
       "\n",
       "/* On hover, darken the color of the background */\n",
       "#sk-container-id-4 div.sk-label:hover label.sk-toggleable__label {\n",
       "  color: var(--sklearn-color-text);\n",
       "  background-color: var(--sklearn-color-unfitted-level-2);\n",
       "}\n",
       "\n",
       "/* Label box, darken color on hover, fitted */\n",
       "#sk-container-id-4 div.sk-label.fitted:hover label.sk-toggleable__label.fitted {\n",
       "  color: var(--sklearn-color-text);\n",
       "  background-color: var(--sklearn-color-fitted-level-2);\n",
       "}\n",
       "\n",
       "/* Estimator label */\n",
       "\n",
       "#sk-container-id-4 div.sk-label label {\n",
       "  font-family: monospace;\n",
       "  font-weight: bold;\n",
       "  display: inline-block;\n",
       "  line-height: 1.2em;\n",
       "}\n",
       "\n",
       "#sk-container-id-4 div.sk-label-container {\n",
       "  text-align: center;\n",
       "}\n",
       "\n",
       "/* Estimator-specific */\n",
       "#sk-container-id-4 div.sk-estimator {\n",
       "  font-family: monospace;\n",
       "  border: 1px dotted var(--sklearn-color-border-box);\n",
       "  border-radius: 0.25em;\n",
       "  box-sizing: border-box;\n",
       "  margin-bottom: 0.5em;\n",
       "  /* unfitted */\n",
       "  background-color: var(--sklearn-color-unfitted-level-0);\n",
       "}\n",
       "\n",
       "#sk-container-id-4 div.sk-estimator.fitted {\n",
       "  /* fitted */\n",
       "  background-color: var(--sklearn-color-fitted-level-0);\n",
       "}\n",
       "\n",
       "/* on hover */\n",
       "#sk-container-id-4 div.sk-estimator:hover {\n",
       "  /* unfitted */\n",
       "  background-color: var(--sklearn-color-unfitted-level-2);\n",
       "}\n",
       "\n",
       "#sk-container-id-4 div.sk-estimator.fitted:hover {\n",
       "  /* fitted */\n",
       "  background-color: var(--sklearn-color-fitted-level-2);\n",
       "}\n",
       "\n",
       "/* Specification for estimator info (e.g. \"i\" and \"?\") */\n",
       "\n",
       "/* Common style for \"i\" and \"?\" */\n",
       "\n",
       ".sk-estimator-doc-link,\n",
       "a:link.sk-estimator-doc-link,\n",
       "a:visited.sk-estimator-doc-link {\n",
       "  float: right;\n",
       "  font-size: smaller;\n",
       "  line-height: 1em;\n",
       "  font-family: monospace;\n",
       "  background-color: var(--sklearn-color-background);\n",
       "  border-radius: 1em;\n",
       "  height: 1em;\n",
       "  width: 1em;\n",
       "  text-decoration: none !important;\n",
       "  margin-left: 0.5em;\n",
       "  text-align: center;\n",
       "  /* unfitted */\n",
       "  border: var(--sklearn-color-unfitted-level-1) 1pt solid;\n",
       "  color: var(--sklearn-color-unfitted-level-1);\n",
       "}\n",
       "\n",
       ".sk-estimator-doc-link.fitted,\n",
       "a:link.sk-estimator-doc-link.fitted,\n",
       "a:visited.sk-estimator-doc-link.fitted {\n",
       "  /* fitted */\n",
       "  border: var(--sklearn-color-fitted-level-1) 1pt solid;\n",
       "  color: var(--sklearn-color-fitted-level-1);\n",
       "}\n",
       "\n",
       "/* On hover */\n",
       "div.sk-estimator:hover .sk-estimator-doc-link:hover,\n",
       ".sk-estimator-doc-link:hover,\n",
       "div.sk-label-container:hover .sk-estimator-doc-link:hover,\n",
       ".sk-estimator-doc-link:hover {\n",
       "  /* unfitted */\n",
       "  background-color: var(--sklearn-color-unfitted-level-3);\n",
       "  color: var(--sklearn-color-background);\n",
       "  text-decoration: none;\n",
       "}\n",
       "\n",
       "div.sk-estimator.fitted:hover .sk-estimator-doc-link.fitted:hover,\n",
       ".sk-estimator-doc-link.fitted:hover,\n",
       "div.sk-label-container:hover .sk-estimator-doc-link.fitted:hover,\n",
       ".sk-estimator-doc-link.fitted:hover {\n",
       "  /* fitted */\n",
       "  background-color: var(--sklearn-color-fitted-level-3);\n",
       "  color: var(--sklearn-color-background);\n",
       "  text-decoration: none;\n",
       "}\n",
       "\n",
       "/* Span, style for the box shown on hovering the info icon */\n",
       ".sk-estimator-doc-link span {\n",
       "  display: none;\n",
       "  z-index: 9999;\n",
       "  position: relative;\n",
       "  font-weight: normal;\n",
       "  right: .2ex;\n",
       "  padding: .5ex;\n",
       "  margin: .5ex;\n",
       "  width: min-content;\n",
       "  min-width: 20ex;\n",
       "  max-width: 50ex;\n",
       "  color: var(--sklearn-color-text);\n",
       "  box-shadow: 2pt 2pt 4pt #999;\n",
       "  /* unfitted */\n",
       "  background: var(--sklearn-color-unfitted-level-0);\n",
       "  border: .5pt solid var(--sklearn-color-unfitted-level-3);\n",
       "}\n",
       "\n",
       ".sk-estimator-doc-link.fitted span {\n",
       "  /* fitted */\n",
       "  background: var(--sklearn-color-fitted-level-0);\n",
       "  border: var(--sklearn-color-fitted-level-3);\n",
       "}\n",
       "\n",
       ".sk-estimator-doc-link:hover span {\n",
       "  display: block;\n",
       "}\n",
       "\n",
       "/* \"?\"-specific style due to the `<a>` HTML tag */\n",
       "\n",
       "#sk-container-id-4 a.estimator_doc_link {\n",
       "  float: right;\n",
       "  font-size: 1rem;\n",
       "  line-height: 1em;\n",
       "  font-family: monospace;\n",
       "  background-color: var(--sklearn-color-background);\n",
       "  border-radius: 1rem;\n",
       "  height: 1rem;\n",
       "  width: 1rem;\n",
       "  text-decoration: none;\n",
       "  /* unfitted */\n",
       "  color: var(--sklearn-color-unfitted-level-1);\n",
       "  border: var(--sklearn-color-unfitted-level-1) 1pt solid;\n",
       "}\n",
       "\n",
       "#sk-container-id-4 a.estimator_doc_link.fitted {\n",
       "  /* fitted */\n",
       "  border: var(--sklearn-color-fitted-level-1) 1pt solid;\n",
       "  color: var(--sklearn-color-fitted-level-1);\n",
       "}\n",
       "\n",
       "/* On hover */\n",
       "#sk-container-id-4 a.estimator_doc_link:hover {\n",
       "  /* unfitted */\n",
       "  background-color: var(--sklearn-color-unfitted-level-3);\n",
       "  color: var(--sklearn-color-background);\n",
       "  text-decoration: none;\n",
       "}\n",
       "\n",
       "#sk-container-id-4 a.estimator_doc_link.fitted:hover {\n",
       "  /* fitted */\n",
       "  background-color: var(--sklearn-color-fitted-level-3);\n",
       "}\n",
       "</style><div id=\"sk-container-id-4\" class=\"sk-top-container\"><div class=\"sk-text-repr-fallback\"><pre>GridSearchCV(cv=TimeSeriesSplit(gap=0, max_train_size=None, n_splits=5, test_size=None),\n",
       "             estimator=&lt;catboost.core.CatBoostRegressor object at 0x7f859ae79640&gt;,\n",
       "             n_jobs=-1,\n",
       "             param_grid={&#x27;depth&#x27;: [3, 5, 7, 10], &#x27;iterations&#x27;: [100, 500],\n",
       "                         &#x27;l2_leaf_reg&#x27;: [2, 5], &#x27;learning_rate&#x27;: [0.01, 0.1]},\n",
       "             scoring=&#x27;neg_root_mean_squared_error&#x27;)</pre><b>In a Jupyter environment, please rerun this cell to show the HTML representation or trust the notebook. <br />On GitHub, the HTML representation is unable to render, please try loading this page with nbviewer.org.</b></div><div class=\"sk-container\" hidden><div class=\"sk-item sk-dashed-wrapped\"><div class=\"sk-label-container\"><div class=\"sk-label fitted sk-toggleable\"><input class=\"sk-toggleable__control sk-hidden--visually\" id=\"sk-estimator-id-12\" type=\"checkbox\" ><label for=\"sk-estimator-id-12\" class=\"sk-toggleable__label fitted sk-toggleable__label-arrow\"><div><div>GridSearchCV</div></div><div><a class=\"sk-estimator-doc-link fitted\" rel=\"noreferrer\" target=\"_blank\" href=\"https://scikit-learn.org/1.6/modules/generated/sklearn.model_selection.GridSearchCV.html\">?<span>Documentation for GridSearchCV</span></a><span class=\"sk-estimator-doc-link fitted\">i<span>Fitted</span></span></div></label><div class=\"sk-toggleable__content fitted\"><pre>GridSearchCV(cv=TimeSeriesSplit(gap=0, max_train_size=None, n_splits=5, test_size=None),\n",
       "             estimator=&lt;catboost.core.CatBoostRegressor object at 0x7f859ae79640&gt;,\n",
       "             n_jobs=-1,\n",
       "             param_grid={&#x27;depth&#x27;: [3, 5, 7, 10], &#x27;iterations&#x27;: [100, 500],\n",
       "                         &#x27;l2_leaf_reg&#x27;: [2, 5], &#x27;learning_rate&#x27;: [0.01, 0.1]},\n",
       "             scoring=&#x27;neg_root_mean_squared_error&#x27;)</pre></div> </div></div><div class=\"sk-parallel\"><div class=\"sk-parallel-item\"><div class=\"sk-item\"><div class=\"sk-label-container\"><div class=\"sk-label fitted sk-toggleable\"><input class=\"sk-toggleable__control sk-hidden--visually\" id=\"sk-estimator-id-13\" type=\"checkbox\" ><label for=\"sk-estimator-id-13\" class=\"sk-toggleable__label fitted sk-toggleable__label-arrow\"><div><div>best_estimator_: CatBoostRegressor</div></div></label><div class=\"sk-toggleable__content fitted\"><pre>&lt;catboost.core.CatBoostRegressor object at 0x7f859ae5dc70&gt;</pre></div> </div></div><div class=\"sk-serial\"><div class=\"sk-item\"><div class=\"sk-estimator fitted sk-toggleable\"><input class=\"sk-toggleable__control sk-hidden--visually\" id=\"sk-estimator-id-14\" type=\"checkbox\" ><label for=\"sk-estimator-id-14\" class=\"sk-toggleable__label fitted sk-toggleable__label-arrow\"><div><div>CatBoostRegressor</div></div></label><div class=\"sk-toggleable__content fitted\"><pre>&lt;catboost.core.CatBoostRegressor object at 0x7f859ae5dc70&gt;</pre></div> </div></div></div></div></div></div></div></div></div>"
      ],
      "text/plain": [
       "GridSearchCV(cv=TimeSeriesSplit(gap=0, max_train_size=None, n_splits=5, test_size=None),\n",
       "             estimator=<catboost.core.CatBoostRegressor object at 0x7f859ae79640>,\n",
       "             n_jobs=-1,\n",
       "             param_grid={'depth': [3, 5, 7, 10], 'iterations': [100, 500],\n",
       "                         'l2_leaf_reg': [2, 5], 'learning_rate': [0.01, 0.1]},\n",
       "             scoring='neg_root_mean_squared_error')"
      ]
     },
     "execution_count": 57,
     "metadata": {},
     "output_type": "execute_result"
    }
   ],
   "source": [
    "gs_catboost.fit(X_train, y_train)"
   ]
  },
  {
   "cell_type": "code",
   "execution_count": 58,
   "metadata": {},
   "outputs": [
    {
     "name": "stdout",
     "output_type": "stream",
     "text": [
      "Лучший RMSE: 24.46651906700165\n"
     ]
    }
   ],
   "source": [
    "best_score_cb = -gs_catboost.best_score_  \n",
    "print(\"Лучший RMSE:\", best_score_cb)\n"
   ]
  },
  {
   "cell_type": "code",
   "execution_count": 59,
   "metadata": {},
   "outputs": [],
   "source": [
    "cv_results.append({'RMSE_CatBoost':best_score_cb})"
   ]
  },
  {
   "cell_type": "markdown",
   "metadata": {},
   "source": [
    "## Тестирование"
   ]
  },
  {
   "cell_type": "markdown",
   "metadata": {},
   "source": [
    "Так как CatBoost показал лучший результат на кросс валидации, в тесте будем использовать эту модель"
   ]
  },
  {
   "cell_type": "code",
   "execution_count": 60,
   "metadata": {},
   "outputs": [
    {
     "data": {
      "text/plain": [
       "[{'RMSE_Linear_Regression': 27.12133741684381},\n",
       " {'RMSE_Tree_regressor': 29.3256281483924},\n",
       " {'RMSE_Light_GBM': 25.182991984954597},\n",
       " {'RMSE_CatBoost': 24.46651906700165}]"
      ]
     },
     "execution_count": 60,
     "metadata": {},
     "output_type": "execute_result"
    }
   ],
   "source": [
    "cv_results"
   ]
  },
  {
   "cell_type": "code",
   "execution_count": 64,
   "metadata": {
    "scrolled": true
   },
   "outputs": [
    {
     "name": "stdout",
     "output_type": "stream",
     "text": [
      "\n",
      "Результаты на тестовой выборке:\n",
      "RMSE: 40.66\n"
     ]
    }
   ],
   "source": [
    "best_model = gs_catboost.best_estimator_\n",
    "best_model.fit(X_train, y_train)\n",
    "y_pred_test = best_model.predict(X_test)\n",
    "test_rmse = np.sqrt(mean_squared_error(y_test, y_pred_test))\n",
    "\n",
    "print(f\"\\nРезультаты на тестовой выборке:\")\n",
    "print(f\"RMSE: {test_rmse:.2f}\")"
   ]
  },
  {
   "cell_type": "code",
   "execution_count": 65,
   "metadata": {
    "scrolled": false
   },
   "outputs": [
    {
     "data": {
      "image/png": "[encoded data removed]",
      "text/plain": [
       "<Figure size 864x432 with 1 Axes>"
      ]
     },
     "metadata": {
      "needs_background": "light"
     },
     "output_type": "display_data"
    }
   ],
   "source": [
    "plt.figure(figsize=(12, 6))\n",
    "\n",
    "plt.plot(y_test.index, \n",
    "         y_test, \n",
    "         'b-', \n",
    "         label='Фактические значения')\n",
    "\n",
    "plt.plot(y_test.index, \n",
    "         y_pred_test, \n",
    "         'r-', \n",
    "         label='Предсказания модели') \n",
    "\n",
    "plt.legend(\n",
    "    loc='upper left',  \n",
    "    fontsize=12,       \n",
    "    framealpha=0.8     \n",
    ")\n",
    "\n",
    "plt.title('Сравнение фактических и предсказанных значений', fontsize=14)\n",
    "plt.xlabel('Дата/Время', fontsize=12)\n",
    "plt.ylabel('Количество заказов', fontsize=12)\n",
    "plt.grid(alpha=0.3)\n",
    "\n",
    "plt.show()"
   ]
  },
  {
   "cell_type": "markdown",
   "metadata": {},
   "source": [
    "Модель хорошо улавливает общие тренды и средние значения, но имеет сложности с точным предсказанием резких пиков и аномалий"
   ]
  },
  {
   "cell_type": "code",
   "execution_count": 68,
   "metadata": {
    "scrolled": false
   },
   "outputs": [
    {
     "data": {
      "image/png": "[encoded data removed]",
      "text/plain": [
       "<Figure size 720x576 with 1 Axes>"
      ]
     },
     "metadata": {
      "needs_background": "light"
     },
     "output_type": "display_data"
    }
   ],
   "source": [
    "feature_importance = best_model.get_feature_importance()\n",
    "feature_names = X_train.columns  \n",
    "\n",
    "importance_df = pd.DataFrame({\n",
    "    'Feature': feature_names,\n",
    "    'Importance': feature_importance\n",
    "}).sort_values('Importance', ascending=False)\n",
    "\n",
    "plt.figure(figsize=(10, 8))\n",
    "sns.barplot(x='Importance', y='Feature', data=importance_df, palette='Blues_d')\n",
    "plt.title('Важность признаков (CatBoost)', fontsize=14)\n",
    "plt.show()"
   ]
  },
  {
   "cell_type": "markdown",
   "metadata": {},
   "source": [
    "## Итог"
   ]
  },
  {
   "cell_type": "markdown",
   "metadata": {},
   "source": [
    "<div  style=\"border-radius: 10px; box-shadow: 2px 2px 2px; border: 1px solid; padding: 10px \">\n",
    "\n",
    "**Отчёт по прогнозированию заказов такси для компании \"Чётенькое такси\"**\n",
    "\n",
    "**Цель проекта**\n",
    "Прогнозирование количества заказов такси на следующий час для оптимального распределения водителей в аэропортах. Требуемое качество модели: RMSE ≤ 48 на тестовой выборке.\n",
    "\n",
    "**Подготовка данных**\n",
    "1. **Предобработка**:\n",
    "   - Ресемплирование данных по 1 часу\n",
    "   - Анализ данных\n",
    "   - Создание признаков\n",
    "\n",
    "**Результаты моделирования**\n",
    "\n",
    "Сравнение моделей:      \n",
    "- LinearRegression      RMSE: 27.1          \n",
    "- Tree_regressor        RMSE:  29.3          \n",
    "- LGBMRegressor     RMSE: 25.1    \n",
    "- **CatBoost**              RMSE:  **24.46**            \n",
    "\n",
    "\n",
    "    \n",
    "**Лучшая модель: CatBoost**     \n",
    "Метрика на тестовых данных составила  (RMSE = 40.66), что соответствует требованиям\n",
    "    \n",
    "**Анализ важности признаков**:\n",
    "- Час дня (максимум в вечерние часы)\n",
    "- Lag_24, Lag_1 (значение за предыдущие сутки/час)\n",
    "- День недели (пики в понедельник и пятницу)\n",
    "- Скользящее среднее (24-часовое окно)    \n",
    "    \n",
    "**Выводы**\n",
    "    \n",
    "Модель успешно прошла валидацию (RMSE меньше 48)\n",
    "\n",
    "Особенности данных:\n",
    "\n",
    "- Тестовая выборка показала более резкий рост заказов. Возможно из-за сезона отпусков в августе\n",
    "\n",
    "- Ярко выраженная суточная и недельная сезонность\n",
    "\n",
    "- Основные пики заказов такси в аэропорту — в полночь и в середине/конце дня (около 15:00 и 23:00)\n",
    "\n"
   ]
  }
 ],
 "metadata": {
  "ExecuteTimeLog": [
   {
    "duration": 3846,
    "start_time": "2025-07-05T07:54:51.360Z"
   },
   {
    "duration": 4362,
    "start_time": "2025-07-05T07:55:12.809Z"
   },
   {
    "duration": 2516,
    "start_time": "2025-07-05T07:55:17.174Z"
   },
   {
    "duration": 7553,
    "start_time": "2025-07-05T07:55:19.692Z"
   },
   {
    "duration": 3891,
    "start_time": "2025-07-05T07:55:27.248Z"
   },
   {
    "duration": 2170,
    "start_time": "2025-07-05T07:55:35.950Z"
   },
   {
    "duration": 4,
    "start_time": "2025-07-05T07:57:38.089Z"
   },
   {
    "duration": 4,
    "start_time": "2025-07-05T07:57:38.599Z"
   },
   {
    "duration": 3,
    "start_time": "2025-07-05T07:57:39.049Z"
   },
   {
    "duration": 4,
    "start_time": "2025-07-05T07:57:39.500Z"
   },
   {
    "duration": 5,
    "start_time": "2025-07-05T07:57:40.029Z"
   },
   {
    "duration": 4,
    "start_time": "2025-07-05T07:57:41.189Z"
   },
   {
    "duration": 8,
    "start_time": "2025-07-05T07:57:41.709Z"
   },
   {
    "duration": 66,
    "start_time": "2025-07-05T07:59:53.959Z"
   },
   {
    "duration": 52,
    "start_time": "2025-07-05T08:00:58.148Z"
   },
   {
    "duration": 36,
    "start_time": "2025-07-05T08:01:51.068Z"
   },
   {
    "duration": 34,
    "start_time": "2025-07-05T08:01:52.898Z"
   },
   {
    "duration": 6,
    "start_time": "2025-07-05T08:05:57.857Z"
   },
   {
    "duration": 166,
    "start_time": "2025-07-05T08:06:36.077Z"
   },
   {
    "duration": 5,
    "start_time": "2025-07-05T08:06:42.257Z"
   },
   {
    "duration": 6,
    "start_time": "2025-07-05T08:06:53.618Z"
   },
   {
    "duration": 148,
    "start_time": "2025-07-05T08:06:59.547Z"
   },
   {
    "duration": 5,
    "start_time": "2025-07-05T08:07:02.807Z"
   },
   {
    "duration": 4,
    "start_time": "2025-07-05T08:07:22.116Z"
   },
   {
    "duration": 9,
    "start_time": "2025-07-05T08:10:59.816Z"
   },
   {
    "duration": 34,
    "start_time": "2025-07-05T08:11:14.817Z"
   },
   {
    "duration": 759,
    "start_time": "2025-07-05T08:15:20.255Z"
   },
   {
    "duration": 27,
    "start_time": "2025-07-05T08:16:06.085Z"
   },
   {
    "duration": 241,
    "start_time": "2025-07-05T08:17:10.234Z"
   },
   {
    "duration": 5,
    "start_time": "2025-07-05T08:18:21.964Z"
   },
   {
    "duration": 5,
    "start_time": "2025-07-05T08:18:28.844Z"
   },
   {
    "duration": 4,
    "start_time": "2025-07-05T08:19:57.634Z"
   },
   {
    "duration": 4,
    "start_time": "2025-07-05T08:20:28.564Z"
   },
   {
    "duration": 4,
    "start_time": "2025-07-05T08:20:44.545Z"
   },
   {
    "duration": 4,
    "start_time": "2025-07-05T08:20:49.054Z"
   },
   {
    "duration": 268,
    "start_time": "2025-07-05T08:23:05.963Z"
   },
   {
    "duration": 212,
    "start_time": "2025-07-05T08:24:54.263Z"
   },
   {
    "duration": 206,
    "start_time": "2025-07-05T08:25:19.493Z"
   },
   {
    "duration": 386,
    "start_time": "2025-07-05T08:25:28.113Z"
   },
   {
    "duration": 214,
    "start_time": "2025-07-05T08:26:05.352Z"
   },
   {
    "duration": 156,
    "start_time": "2025-07-05T08:26:55.653Z"
   },
   {
    "duration": 12,
    "start_time": "2025-07-05T08:27:23.883Z"
   },
   {
    "duration": 5,
    "start_time": "2025-07-05T08:27:29.963Z"
   },
   {
    "duration": 5,
    "start_time": "2025-07-05T08:27:52.713Z"
   },
   {
    "duration": 203,
    "start_time": "2025-07-05T08:28:21.062Z"
   },
   {
    "duration": 212,
    "start_time": "2025-07-05T08:28:55.683Z"
   },
   {
    "duration": 270,
    "start_time": "2025-07-05T08:29:09.622Z"
   },
   {
    "duration": 253,
    "start_time": "2025-07-05T08:29:21.912Z"
   },
   {
    "duration": 198,
    "start_time": "2025-07-05T08:31:04.192Z"
   },
   {
    "duration": 192,
    "start_time": "2025-07-05T08:31:43.982Z"
   },
   {
    "duration": 4,
    "start_time": "2025-07-05T08:36:10.391Z"
   },
   {
    "duration": 276,
    "start_time": "2025-07-05T08:36:49.911Z"
   },
   {
    "duration": 4,
    "start_time": "2025-07-05T08:37:49.080Z"
   },
   {
    "duration": 3,
    "start_time": "2025-07-05T08:37:50.731Z"
   },
   {
    "duration": 265,
    "start_time": "2025-07-05T08:37:52.090Z"
   },
   {
    "duration": 4,
    "start_time": "2025-07-05T08:38:37.501Z"
   },
   {
    "duration": 3,
    "start_time": "2025-07-05T08:38:43.020Z"
   },
   {
    "duration": 14,
    "start_time": "2025-07-05T08:38:44.290Z"
   },
   {
    "duration": 13,
    "start_time": "2025-07-05T08:39:07.070Z"
   },
   {
    "duration": 47,
    "start_time": "2025-07-05T08:39:13.990Z"
   },
   {
    "duration": 33,
    "start_time": "2025-07-05T08:39:14.680Z"
   },
   {
    "duration": 5,
    "start_time": "2025-07-05T08:39:15.370Z"
   },
   {
    "duration": 3,
    "start_time": "2025-07-05T08:39:15.880Z"
   },
   {
    "duration": 4,
    "start_time": "2025-07-05T08:39:16.320Z"
   },
   {
    "duration": 8,
    "start_time": "2025-07-05T08:39:19.560Z"
   },
   {
    "duration": 36,
    "start_time": "2025-07-05T08:39:19.750Z"
   },
   {
    "duration": 670,
    "start_time": "2025-07-05T08:39:24.141Z"
   },
   {
    "duration": 3,
    "start_time": "2025-07-05T08:39:57.320Z"
   },
   {
    "duration": 246,
    "start_time": "2025-07-05T08:40:20.370Z"
   },
   {
    "duration": 5,
    "start_time": "2025-07-05T08:40:29.600Z"
   },
   {
    "duration": 227,
    "start_time": "2025-07-05T08:40:30.240Z"
   },
   {
    "duration": 239,
    "start_time": "2025-07-05T08:40:48.140Z"
   },
   {
    "duration": 4,
    "start_time": "2025-07-05T08:41:25.051Z"
   },
   {
    "duration": 4,
    "start_time": "2025-07-05T08:41:34.029Z"
   },
   {
    "duration": 532,
    "start_time": "2025-07-05T08:41:49.460Z"
   },
   {
    "duration": 6,
    "start_time": "2025-07-05T08:42:59.529Z"
   },
   {
    "duration": 4,
    "start_time": "2025-07-05T08:43:00.549Z"
   },
   {
    "duration": 283,
    "start_time": "2025-07-05T08:43:01.329Z"
   },
   {
    "duration": 695,
    "start_time": "2025-07-05T08:44:47.188Z"
   },
   {
    "duration": 710,
    "start_time": "2025-07-05T08:45:04.129Z"
   },
   {
    "duration": 900,
    "start_time": "2025-07-05T09:18:43.452Z"
   },
   {
    "duration": 104,
    "start_time": "2025-07-05T09:19:01.843Z"
   },
   {
    "duration": 14,
    "start_time": "2025-07-05T09:19:13.502Z"
   },
   {
    "duration": 12,
    "start_time": "2025-07-05T09:19:49.992Z"
   },
   {
    "duration": 865,
    "start_time": "2025-07-05T09:19:56.941Z"
   },
   {
    "duration": 905,
    "start_time": "2025-07-05T09:20:27.292Z"
   },
   {
    "duration": 601,
    "start_time": "2025-07-05T09:20:53.302Z"
   },
   {
    "duration": 842,
    "start_time": "2025-07-05T09:21:06.302Z"
   },
   {
    "duration": 162,
    "start_time": "2025-07-05T09:24:12.969Z"
   },
   {
    "duration": 227,
    "start_time": "2025-07-05T09:24:24.521Z"
   },
   {
    "duration": 410,
    "start_time": "2025-07-05T09:24:38.701Z"
   },
   {
    "duration": 221,
    "start_time": "2025-07-05T09:24:54.891Z"
   },
   {
    "duration": 7,
    "start_time": "2025-07-05T09:25:50.071Z"
   },
   {
    "duration": 13,
    "start_time": "2025-07-05T09:26:13.431Z"
   },
   {
    "duration": 188,
    "start_time": "2025-07-05T09:26:41.081Z"
   },
   {
    "duration": 9,
    "start_time": "2025-07-05T09:26:56.611Z"
   },
   {
    "duration": 7,
    "start_time": "2025-07-05T09:27:14.540Z"
   },
   {
    "duration": 6,
    "start_time": "2025-07-05T09:27:18.111Z"
   },
   {
    "duration": 239,
    "start_time": "2025-07-05T09:27:40.781Z"
   },
   {
    "duration": 3,
    "start_time": "2025-07-05T09:30:17.240Z"
   },
   {
    "duration": 7,
    "start_time": "2025-07-05T09:30:18.640Z"
   },
   {
    "duration": 142,
    "start_time": "2025-07-05T09:30:38.260Z"
   },
   {
    "duration": 247,
    "start_time": "2025-07-05T09:30:55.810Z"
   },
   {
    "duration": 206,
    "start_time": "2025-07-05T09:31:11.360Z"
   },
   {
    "duration": 6,
    "start_time": "2025-07-05T09:31:30.170Z"
   },
   {
    "duration": 8,
    "start_time": "2025-07-05T09:31:30.860Z"
   },
   {
    "duration": 206,
    "start_time": "2025-07-05T09:31:31.781Z"
   },
   {
    "duration": 154,
    "start_time": "2025-07-05T09:31:49.480Z"
   },
   {
    "duration": 201,
    "start_time": "2025-07-05T09:32:49.020Z"
   },
   {
    "duration": 246,
    "start_time": "2025-07-05T09:34:10.889Z"
   },
   {
    "duration": 205,
    "start_time": "2025-07-05T09:34:18.189Z"
   },
   {
    "duration": 187,
    "start_time": "2025-07-05T09:35:40.279Z"
   },
   {
    "duration": 212,
    "start_time": "2025-07-05T09:39:20.509Z"
   },
   {
    "duration": 190,
    "start_time": "2025-07-05T09:41:18.978Z"
   },
   {
    "duration": 116,
    "start_time": "2025-07-05T11:00:25.263Z"
   },
   {
    "duration": 255,
    "start_time": "2025-07-05T11:07:06.241Z"
   },
   {
    "duration": 307,
    "start_time": "2025-07-05T11:08:01.951Z"
   },
   {
    "duration": 898,
    "start_time": "2025-07-05T11:17:23.599Z"
   },
   {
    "duration": 324,
    "start_time": "2025-07-05T11:17:44.020Z"
   },
   {
    "duration": 1027,
    "start_time": "2025-07-05T11:18:36.708Z"
   },
   {
    "duration": 814,
    "start_time": "2025-07-05T11:18:49.940Z"
   },
   {
    "duration": 210,
    "start_time": "2025-07-05T11:19:40.508Z"
   },
   {
    "duration": 214,
    "start_time": "2025-07-05T11:19:47.628Z"
   },
   {
    "duration": 291,
    "start_time": "2025-07-05T11:20:20.138Z"
   },
   {
    "duration": 272,
    "start_time": "2025-07-05T11:20:39.828Z"
   },
   {
    "duration": 295,
    "start_time": "2025-07-05T11:20:47.618Z"
   },
   {
    "duration": 321,
    "start_time": "2025-07-05T11:20:55.318Z"
   },
   {
    "duration": 311,
    "start_time": "2025-07-05T11:21:07.498Z"
   },
   {
    "duration": 5,
    "start_time": "2025-07-05T11:23:55.447Z"
   },
   {
    "duration": 4,
    "start_time": "2025-07-05T11:24:27.257Z"
   },
   {
    "duration": 13,
    "start_time": "2025-07-05T11:29:53.125Z"
   },
   {
    "duration": 18,
    "start_time": "2025-07-05T11:30:03.616Z"
   },
   {
    "duration": 18,
    "start_time": "2025-07-05T11:30:30.995Z"
   },
   {
    "duration": 4,
    "start_time": "2025-07-05T11:32:30.775Z"
   },
   {
    "duration": 3,
    "start_time": "2025-07-05T11:32:32.385Z"
   },
   {
    "duration": 10,
    "start_time": "2025-07-05T11:32:32.965Z"
   },
   {
    "duration": 24,
    "start_time": "2025-07-05T11:32:33.595Z"
   },
   {
    "duration": 19,
    "start_time": "2025-07-05T11:33:32.875Z"
   },
   {
    "duration": 3,
    "start_time": "2025-07-05T11:35:34.985Z"
   },
   {
    "duration": 3,
    "start_time": "2025-07-05T11:37:28.414Z"
   },
   {
    "duration": 11,
    "start_time": "2025-07-05T11:38:00.045Z"
   },
   {
    "duration": 6,
    "start_time": "2025-07-05T11:38:15.683Z"
   },
   {
    "duration": 5,
    "start_time": "2025-07-05T11:38:46.133Z"
   },
   {
    "duration": 5,
    "start_time": "2025-07-05T11:42:07.702Z"
   },
   {
    "duration": 6,
    "start_time": "2025-07-05T11:45:55.862Z"
   },
   {
    "duration": 4,
    "start_time": "2025-07-05T11:46:56.692Z"
   },
   {
    "duration": 5,
    "start_time": "2025-07-05T11:47:36.044Z"
   },
   {
    "duration": 5,
    "start_time": "2025-07-05T11:48:26.802Z"
   },
   {
    "duration": 5,
    "start_time": "2025-07-05T11:48:40.972Z"
   },
   {
    "duration": 10,
    "start_time": "2025-07-05T11:48:58.443Z"
   },
   {
    "duration": 3,
    "start_time": "2025-07-05T11:50:58.332Z"
   },
   {
    "duration": 4,
    "start_time": "2025-07-05T11:51:33.182Z"
   },
   {
    "duration": 4,
    "start_time": "2025-07-05T11:51:33.945Z"
   },
   {
    "duration": 5,
    "start_time": "2025-07-05T11:51:35.792Z"
   },
   {
    "duration": 4,
    "start_time": "2025-07-05T11:51:36.632Z"
   },
   {
    "duration": 24,
    "start_time": "2025-07-05T12:04:03.682Z"
   },
   {
    "duration": 19,
    "start_time": "2025-07-05T12:04:15.501Z"
   },
   {
    "duration": 21,
    "start_time": "2025-07-05T12:04:34.830Z"
   },
   {
    "duration": 18,
    "start_time": "2025-07-05T12:04:43.000Z"
   },
   {
    "duration": 7,
    "start_time": "2025-07-05T12:04:46.520Z"
   },
   {
    "duration": 11,
    "start_time": "2025-07-05T12:05:48.220Z"
   },
   {
    "duration": 7,
    "start_time": "2025-07-05T12:06:00.881Z"
   },
   {
    "duration": 4,
    "start_time": "2025-07-05T12:06:27.731Z"
   },
   {
    "duration": 3,
    "start_time": "2025-07-05T12:06:57.560Z"
   },
   {
    "duration": 17,
    "start_time": "2025-07-05T12:07:17.780Z"
   },
   {
    "duration": 3,
    "start_time": "2025-07-05T12:07:41.620Z"
   },
   {
    "duration": 38,
    "start_time": "2025-07-05T12:07:46.001Z"
   },
   {
    "duration": 3,
    "start_time": "2025-07-05T12:09:34.080Z"
   },
   {
    "duration": 37,
    "start_time": "2025-07-05T12:09:49.901Z"
   },
   {
    "duration": 7,
    "start_time": "2025-07-05T12:11:15.100Z"
   },
   {
    "duration": 3,
    "start_time": "2025-07-05T12:11:20.330Z"
   },
   {
    "duration": 29,
    "start_time": "2025-07-05T12:11:21.440Z"
   },
   {
    "duration": 10,
    "start_time": "2025-07-05T12:12:04.153Z"
   },
   {
    "duration": 181,
    "start_time": "2025-07-05T12:12:36.799Z"
   },
   {
    "duration": 9,
    "start_time": "2025-07-05T12:14:07.299Z"
   },
   {
    "duration": 9,
    "start_time": "2025-07-05T12:14:30.328Z"
   },
   {
    "duration": 6,
    "start_time": "2025-07-05T12:14:46.609Z"
   },
   {
    "duration": 4,
    "start_time": "2025-07-05T12:22:58.307Z"
   },
   {
    "duration": 4,
    "start_time": "2025-07-05T12:24:45.267Z"
   },
   {
    "duration": 5,
    "start_time": "2025-07-05T12:25:05.951Z"
   },
   {
    "duration": 4,
    "start_time": "2025-07-05T12:25:06.751Z"
   },
   {
    "duration": 8,
    "start_time": "2025-07-05T12:25:07.556Z"
   },
   {
    "duration": 4,
    "start_time": "2025-07-05T12:25:08.407Z"
   },
   {
    "duration": 3,
    "start_time": "2025-07-05T12:25:09.466Z"
   },
   {
    "duration": 10,
    "start_time": "2025-07-05T12:25:10.336Z"
   },
   {
    "duration": 125,
    "start_time": "2025-07-05T12:25:11.717Z"
   },
   {
    "duration": 10,
    "start_time": "2025-07-05T12:25:13.136Z"
   },
   {
    "duration": 18,
    "start_time": "2025-07-05T12:25:42.916Z"
   },
   {
    "duration": 7,
    "start_time": "2025-07-05T12:26:01.616Z"
   },
   {
    "duration": 61,
    "start_time": "2025-07-05T13:28:49.093Z"
   },
   {
    "duration": 18,
    "start_time": "2025-07-05T13:28:59.713Z"
   },
   {
    "duration": 4,
    "start_time": "2025-07-05T13:29:10.414Z"
   },
   {
    "duration": 14,
    "start_time": "2025-07-05T13:30:09.612Z"
   },
   {
    "duration": 14,
    "start_time": "2025-07-05T13:30:18.493Z"
   },
   {
    "duration": 4,
    "start_time": "2025-07-05T13:31:02.423Z"
   },
   {
    "duration": 19,
    "start_time": "2025-07-05T13:31:25.062Z"
   },
   {
    "duration": 29,
    "start_time": "2025-07-05T13:31:50.413Z"
   },
   {
    "duration": 34,
    "start_time": "2025-07-05T13:32:04.163Z"
   },
   {
    "duration": 26,
    "start_time": "2025-07-05T13:32:35.212Z"
   },
   {
    "duration": 18,
    "start_time": "2025-07-05T13:32:51.752Z"
   },
   {
    "duration": 13,
    "start_time": "2025-07-05T13:35:42.192Z"
   },
   {
    "duration": 8,
    "start_time": "2025-07-05T13:38:14.621Z"
   },
   {
    "duration": 18,
    "start_time": "2025-07-05T13:40:15.170Z"
   },
   {
    "duration": 4,
    "start_time": "2025-07-05T13:41:20.650Z"
   },
   {
    "duration": 2629,
    "start_time": "2025-07-05T13:51:02.959Z"
   },
   {
    "duration": 2860,
    "start_time": "2025-07-05T13:51:05.590Z"
   },
   {
    "duration": 3280,
    "start_time": "2025-07-05T13:51:08.452Z"
   },
   {
    "duration": 2586,
    "start_time": "2025-07-05T13:51:11.734Z"
   },
   {
    "duration": 2627,
    "start_time": "2025-07-05T13:51:14.324Z"
   },
   {
    "duration": 1995,
    "start_time": "2025-07-05T13:51:16.953Z"
   },
   {
    "duration": 4,
    "start_time": "2025-07-05T13:51:18.950Z"
   },
   {
    "duration": 8,
    "start_time": "2025-07-05T13:51:18.955Z"
   },
   {
    "duration": 5,
    "start_time": "2025-07-05T13:51:18.965Z"
   },
   {
    "duration": 5,
    "start_time": "2025-07-05T13:51:18.972Z"
   },
   {
    "duration": 4,
    "start_time": "2025-07-05T13:51:18.978Z"
   },
   {
    "duration": 15,
    "start_time": "2025-07-05T13:51:18.984Z"
   },
   {
    "duration": 56,
    "start_time": "2025-07-05T13:51:19.001Z"
   },
   {
    "duration": 36,
    "start_time": "2025-07-05T13:51:19.061Z"
   },
   {
    "duration": 5,
    "start_time": "2025-07-05T13:51:19.098Z"
   },
   {
    "duration": 34,
    "start_time": "2025-07-05T13:51:19.105Z"
   },
   {
    "duration": 6,
    "start_time": "2025-07-05T13:51:19.141Z"
   },
   {
    "duration": 12,
    "start_time": "2025-07-05T13:51:19.149Z"
   },
   {
    "duration": 12,
    "start_time": "2025-07-05T13:51:19.163Z"
   },
   {
    "duration": 32,
    "start_time": "2025-07-05T13:51:19.176Z"
   },
   {
    "duration": 1015,
    "start_time": "2025-07-05T13:51:19.239Z"
   },
   {
    "duration": 296,
    "start_time": "2025-07-05T13:51:20.256Z"
   },
   {
    "duration": 3,
    "start_time": "2025-07-05T13:51:20.554Z"
   },
   {
    "duration": 297,
    "start_time": "2025-07-05T13:51:20.559Z"
   },
   {
    "duration": 7,
    "start_time": "2025-07-05T13:51:20.858Z"
   },
   {
    "duration": 789,
    "start_time": "2025-07-05T13:51:20.867Z"
   },
   {
    "duration": 226,
    "start_time": "2025-07-05T13:51:21.658Z"
   },
   {
    "duration": 6,
    "start_time": "2025-07-05T13:51:21.886Z"
   },
   {
    "duration": 50,
    "start_time": "2025-07-05T13:51:21.895Z"
   },
   {
    "duration": 277,
    "start_time": "2025-07-05T13:51:21.947Z"
   },
   {
    "duration": 13,
    "start_time": "2025-07-05T13:51:22.226Z"
   },
   {
    "duration": 3,
    "start_time": "2025-07-05T13:51:22.241Z"
   },
   {
    "duration": 13,
    "start_time": "2025-07-05T13:51:22.246Z"
   },
   {
    "duration": 4,
    "start_time": "2025-07-05T13:51:22.260Z"
   },
   {
    "duration": 6,
    "start_time": "2025-07-05T13:51:22.266Z"
   },
   {
    "duration": 10,
    "start_time": "2025-07-05T13:51:22.273Z"
   },
   {
    "duration": 9,
    "start_time": "2025-07-05T13:51:22.284Z"
   },
   {
    "duration": 5,
    "start_time": "2025-07-05T13:51:22.295Z"
   },
   {
    "duration": 6,
    "start_time": "2025-07-05T13:51:22.302Z"
   },
   {
    "duration": 88,
    "start_time": "2025-07-05T13:51:22.310Z"
   },
   {
    "duration": 41,
    "start_time": "2025-07-05T13:51:22.402Z"
   },
   {
    "duration": 33,
    "start_time": "2025-07-05T13:51:22.445Z"
   },
   {
    "duration": 262,
    "start_time": "2025-07-05T13:51:22.481Z"
   },
   {
    "duration": 0,
    "start_time": "2025-07-05T13:51:22.745Z"
   },
   {
    "duration": 0,
    "start_time": "2025-07-05T13:51:22.746Z"
   },
   {
    "duration": 9,
    "start_time": "2025-07-05T13:51:48.338Z"
   },
   {
    "duration": 8,
    "start_time": "2025-07-05T13:51:49.618Z"
   },
   {
    "duration": 3,
    "start_time": "2025-07-05T13:54:18.777Z"
   },
   {
    "duration": 13903,
    "start_time": "2025-07-05T13:54:42.287Z"
   },
   {
    "duration": 13866,
    "start_time": "2025-07-05T13:55:11.827Z"
   },
   {
    "duration": 5,
    "start_time": "2025-07-05T13:55:25.694Z"
   },
   {
    "duration": 3509,
    "start_time": "2025-07-05T13:56:16.466Z"
   },
   {
    "duration": 3,
    "start_time": "2025-07-05T13:56:52.777Z"
   },
   {
    "duration": 13295,
    "start_time": "2025-07-05T13:56:53.877Z"
   },
   {
    "duration": 5,
    "start_time": "2025-07-05T13:57:07.174Z"
   },
   {
    "duration": 3271,
    "start_time": "2025-07-05T13:57:07.181Z"
   },
   {
    "duration": 5,
    "start_time": "2025-07-05T13:59:09.096Z"
   },
   {
    "duration": 3,
    "start_time": "2025-07-05T13:59:09.856Z"
   },
   {
    "duration": 13,
    "start_time": "2025-07-05T13:59:10.807Z"
   },
   {
    "duration": 4,
    "start_time": "2025-07-05T13:59:11.586Z"
   },
   {
    "duration": 3,
    "start_time": "2025-07-05T13:59:12.386Z"
   },
   {
    "duration": 6,
    "start_time": "2025-07-05T13:59:13.066Z"
   },
   {
    "duration": 3,
    "start_time": "2025-07-05T13:59:13.747Z"
   },
   {
    "duration": 3,
    "start_time": "2025-07-05T13:59:16.737Z"
   },
   {
    "duration": 3,
    "start_time": "2025-07-05T13:59:17.576Z"
   },
   {
    "duration": 61,
    "start_time": "2025-07-05T13:59:18.496Z"
   },
   {
    "duration": 5,
    "start_time": "2025-07-05T13:59:19.416Z"
   },
   {
    "duration": 17,
    "start_time": "2025-07-05T13:59:20.516Z"
   },
   {
    "duration": 17,
    "start_time": "2025-07-05T13:59:32.716Z"
   },
   {
    "duration": 4,
    "start_time": "2025-07-05T14:00:29.486Z"
   },
   {
    "duration": 2728,
    "start_time": "2025-07-05T14:02:05.508Z"
   },
   {
    "duration": 2666,
    "start_time": "2025-07-05T14:02:08.239Z"
   },
   {
    "duration": 2922,
    "start_time": "2025-07-05T14:02:10.907Z"
   },
   {
    "duration": 2693,
    "start_time": "2025-07-05T14:02:13.832Z"
   },
   {
    "duration": 2866,
    "start_time": "2025-07-05T14:02:16.527Z"
   },
   {
    "duration": 2192,
    "start_time": "2025-07-05T14:02:19.396Z"
   },
   {
    "duration": 4,
    "start_time": "2025-07-05T14:02:21.590Z"
   },
   {
    "duration": 37,
    "start_time": "2025-07-05T14:02:21.596Z"
   },
   {
    "duration": 14,
    "start_time": "2025-07-05T14:02:21.635Z"
   },
   {
    "duration": 25,
    "start_time": "2025-07-05T14:02:21.651Z"
   },
   {
    "duration": 20,
    "start_time": "2025-07-05T14:02:21.677Z"
   },
   {
    "duration": 22,
    "start_time": "2025-07-05T14:02:21.699Z"
   },
   {
    "duration": 73,
    "start_time": "2025-07-05T14:02:21.723Z"
   },
   {
    "duration": 47,
    "start_time": "2025-07-05T14:02:21.801Z"
   },
   {
    "duration": 7,
    "start_time": "2025-07-05T14:02:21.850Z"
   },
   {
    "duration": 33,
    "start_time": "2025-07-05T14:02:21.858Z"
   },
   {
    "duration": 44,
    "start_time": "2025-07-05T14:02:21.893Z"
   },
   {
    "duration": 17,
    "start_time": "2025-07-05T14:02:21.939Z"
   },
   {
    "duration": 62,
    "start_time": "2025-07-05T14:02:21.958Z"
   },
   {
    "duration": 50,
    "start_time": "2025-07-05T14:02:22.021Z"
   },
   {
    "duration": 805,
    "start_time": "2025-07-05T14:02:22.073Z"
   },
   {
    "duration": 323,
    "start_time": "2025-07-05T14:02:22.880Z"
   },
   {
    "duration": 3,
    "start_time": "2025-07-05T14:02:23.205Z"
   },
   {
    "duration": 323,
    "start_time": "2025-07-05T14:02:23.209Z"
   },
   {
    "duration": 7,
    "start_time": "2025-07-05T14:02:23.534Z"
   },
   {
    "duration": 800,
    "start_time": "2025-07-05T14:02:23.543Z"
   },
   {
    "duration": 219,
    "start_time": "2025-07-05T14:02:24.345Z"
   },
   {
    "duration": 6,
    "start_time": "2025-07-05T14:02:24.566Z"
   },
   {
    "duration": 24,
    "start_time": "2025-07-05T14:02:24.573Z"
   },
   {
    "duration": 291,
    "start_time": "2025-07-05T14:02:24.599Z"
   },
   {
    "duration": 4,
    "start_time": "2025-07-05T14:02:24.892Z"
   },
   {
    "duration": 16,
    "start_time": "2025-07-05T14:02:24.897Z"
   },
   {
    "duration": 35,
    "start_time": "2025-07-05T14:02:24.915Z"
   },
   {
    "duration": 7,
    "start_time": "2025-07-05T14:02:24.952Z"
   },
   {
    "duration": 8,
    "start_time": "2025-07-05T14:02:24.960Z"
   },
   {
    "duration": 15,
    "start_time": "2025-07-05T14:02:24.969Z"
   },
   {
    "duration": 18,
    "start_time": "2025-07-05T14:02:24.986Z"
   },
   {
    "duration": 28,
    "start_time": "2025-07-05T14:02:25.006Z"
   },
   {
    "duration": 34,
    "start_time": "2025-07-05T14:02:25.036Z"
   },
   {
    "duration": 103,
    "start_time": "2025-07-05T14:02:25.071Z"
   },
   {
    "duration": 4,
    "start_time": "2025-07-05T14:02:25.178Z"
   },
   {
    "duration": 10,
    "start_time": "2025-07-05T14:02:25.240Z"
   },
   {
    "duration": 12841,
    "start_time": "2025-07-05T14:02:25.252Z"
   },
   {
    "duration": 5,
    "start_time": "2025-07-05T14:02:38.095Z"
   },
   {
    "duration": 40,
    "start_time": "2025-07-05T14:02:38.102Z"
   },
   {
    "duration": 13,
    "start_time": "2025-07-05T14:02:38.145Z"
   },
   {
    "duration": 5,
    "start_time": "2025-07-05T14:05:39.555Z"
   },
   {
    "duration": 4,
    "start_time": "2025-07-05T14:06:03.685Z"
   },
   {
    "duration": 7,
    "start_time": "2025-07-05T14:19:46.093Z"
   },
   {
    "duration": 2617,
    "start_time": "2025-07-05T14:19:53.344Z"
   },
   {
    "duration": 2628,
    "start_time": "2025-07-05T14:19:55.963Z"
   },
   {
    "duration": 2676,
    "start_time": "2025-07-05T14:19:58.594Z"
   },
   {
    "duration": 2594,
    "start_time": "2025-07-05T14:20:01.273Z"
   },
   {
    "duration": 2579,
    "start_time": "2025-07-05T14:20:03.870Z"
   },
   {
    "duration": 2029,
    "start_time": "2025-07-05T14:20:06.451Z"
   },
   {
    "duration": 4,
    "start_time": "2025-07-05T14:20:08.481Z"
   },
   {
    "duration": 14,
    "start_time": "2025-07-05T14:20:08.487Z"
   },
   {
    "duration": 66,
    "start_time": "2025-07-05T14:20:08.503Z"
   },
   {
    "duration": 18,
    "start_time": "2025-07-05T14:20:08.571Z"
   },
   {
    "duration": 57,
    "start_time": "2025-07-05T14:20:08.591Z"
   },
   {
    "duration": 29,
    "start_time": "2025-07-05T14:20:08.650Z"
   },
   {
    "duration": 19,
    "start_time": "2025-07-05T14:20:08.681Z"
   },
   {
    "duration": 59,
    "start_time": "2025-07-05T14:20:08.703Z"
   },
   {
    "duration": 55,
    "start_time": "2025-07-05T14:20:08.764Z"
   },
   {
    "duration": 5,
    "start_time": "2025-07-05T14:20:08.821Z"
   },
   {
    "duration": 18,
    "start_time": "2025-07-05T14:20:08.839Z"
   },
   {
    "duration": 17,
    "start_time": "2025-07-05T14:20:08.858Z"
   },
   {
    "duration": 35,
    "start_time": "2025-07-05T14:20:08.877Z"
   },
   {
    "duration": 142,
    "start_time": "2025-07-05T14:20:08.914Z"
   },
   {
    "duration": 37,
    "start_time": "2025-07-05T14:20:09.058Z"
   },
   {
    "duration": 674,
    "start_time": "2025-07-05T14:20:09.097Z"
   },
   {
    "duration": 279,
    "start_time": "2025-07-05T14:20:09.773Z"
   },
   {
    "duration": 3,
    "start_time": "2025-07-05T14:20:10.054Z"
   },
   {
    "duration": 305,
    "start_time": "2025-07-05T14:20:10.059Z"
   },
   {
    "duration": 6,
    "start_time": "2025-07-05T14:20:10.366Z"
   },
   {
    "duration": 756,
    "start_time": "2025-07-05T14:20:10.373Z"
   },
   {
    "duration": 221,
    "start_time": "2025-07-05T14:20:11.131Z"
   },
   {
    "duration": 7,
    "start_time": "2025-07-05T14:20:11.354Z"
   },
   {
    "duration": 19,
    "start_time": "2025-07-05T14:20:11.363Z"
   },
   {
    "duration": 435,
    "start_time": "2025-07-05T14:20:11.384Z"
   },
   {
    "duration": 6,
    "start_time": "2025-07-05T14:20:11.821Z"
   },
   {
    "duration": 4,
    "start_time": "2025-07-05T14:20:11.840Z"
   },
   {
    "duration": 21,
    "start_time": "2025-07-05T14:20:11.845Z"
   },
   {
    "duration": 19,
    "start_time": "2025-07-05T14:20:11.868Z"
   },
   {
    "duration": 29,
    "start_time": "2025-07-05T14:20:11.888Z"
   },
   {
    "duration": 16,
    "start_time": "2025-07-05T14:20:11.919Z"
   },
   {
    "duration": 37,
    "start_time": "2025-07-05T14:20:11.937Z"
   },
   {
    "duration": 6,
    "start_time": "2025-07-05T14:20:11.975Z"
   },
   {
    "duration": 76,
    "start_time": "2025-07-05T14:20:11.983Z"
   },
   {
    "duration": 5,
    "start_time": "2025-07-05T14:20:12.063Z"
   },
   {
    "duration": 71,
    "start_time": "2025-07-05T14:20:12.069Z"
   },
   {
    "duration": 11939,
    "start_time": "2025-07-05T14:20:12.142Z"
   },
   {
    "duration": 4,
    "start_time": "2025-07-05T14:20:24.083Z"
   },
   {
    "duration": 18,
    "start_time": "2025-07-05T14:20:24.089Z"
   },
   {
    "duration": 10,
    "start_time": "2025-07-05T14:20:24.109Z"
   },
   {
    "duration": 5,
    "start_time": "2025-07-05T14:21:28.433Z"
   },
   {
    "duration": 3,
    "start_time": "2025-07-05T14:21:29.724Z"
   },
   {
    "duration": 12,
    "start_time": "2025-07-05T14:21:30.324Z"
   },
   {
    "duration": 6,
    "start_time": "2025-07-05T14:21:31.023Z"
   },
   {
    "duration": 9,
    "start_time": "2025-07-05T14:21:31.663Z"
   },
   {
    "duration": 5,
    "start_time": "2025-07-05T14:21:32.283Z"
   },
   {
    "duration": 3,
    "start_time": "2025-07-05T14:21:34.303Z"
   },
   {
    "duration": 3,
    "start_time": "2025-07-05T14:21:34.853Z"
   },
   {
    "duration": 115,
    "start_time": "2025-07-05T14:21:35.533Z"
   },
   {
    "duration": 3,
    "start_time": "2025-07-05T14:21:36.894Z"
   },
   {
    "duration": 2806,
    "start_time": "2025-07-05T14:22:27.594Z"
   },
   {
    "duration": 3394,
    "start_time": "2025-07-06T10:17:45.030Z"
   },
   {
    "duration": 4712,
    "start_time": "2025-07-06T10:17:48.427Z"
   },
   {
    "duration": 2480,
    "start_time": "2025-07-06T10:17:53.142Z"
   },
   {
    "duration": 12726,
    "start_time": "2025-07-06T10:17:55.624Z"
   },
   {
    "duration": 3799,
    "start_time": "2025-07-06T10:18:08.353Z"
   },
   {
    "duration": 2150,
    "start_time": "2025-07-06T10:18:12.154Z"
   },
   {
    "duration": 3,
    "start_time": "2025-07-06T10:18:14.308Z"
   },
   {
    "duration": 25,
    "start_time": "2025-07-06T10:18:14.312Z"
   },
   {
    "duration": 7,
    "start_time": "2025-07-06T10:18:14.339Z"
   },
   {
    "duration": 4,
    "start_time": "2025-07-06T10:18:14.348Z"
   },
   {
    "duration": 6,
    "start_time": "2025-07-06T10:18:14.354Z"
   },
   {
    "duration": 12,
    "start_time": "2025-07-06T10:18:14.362Z"
   },
   {
    "duration": 13,
    "start_time": "2025-07-06T10:18:14.376Z"
   },
   {
    "duration": 73,
    "start_time": "2025-07-06T10:18:14.393Z"
   },
   {
    "duration": 44,
    "start_time": "2025-07-06T10:18:14.468Z"
   },
   {
    "duration": 20,
    "start_time": "2025-07-06T10:18:14.514Z"
   },
   {
    "duration": 13,
    "start_time": "2025-07-06T10:18:14.535Z"
   },
   {
    "duration": 4,
    "start_time": "2025-07-06T10:18:14.550Z"
   },
   {
    "duration": 9,
    "start_time": "2025-07-06T10:18:14.558Z"
   },
   {
    "duration": 126,
    "start_time": "2025-07-06T10:18:14.569Z"
   },
   {
    "duration": 31,
    "start_time": "2025-07-06T10:18:14.697Z"
   },
   {
    "duration": 772,
    "start_time": "2025-07-06T10:18:14.730Z"
   },
   {
    "duration": 266,
    "start_time": "2025-07-06T10:18:15.503Z"
   },
   {
    "duration": 3,
    "start_time": "2025-07-06T10:18:15.770Z"
   },
   {
    "duration": 320,
    "start_time": "2025-07-06T10:18:15.774Z"
   },
   {
    "duration": 7,
    "start_time": "2025-07-06T10:18:16.096Z"
   },
   {
    "duration": 707,
    "start_time": "2025-07-06T10:18:16.104Z"
   },
   {
    "duration": 222,
    "start_time": "2025-07-06T10:18:16.813Z"
   },
   {
    "duration": 6,
    "start_time": "2025-07-06T10:18:17.037Z"
   },
   {
    "duration": 4,
    "start_time": "2025-07-06T10:18:17.057Z"
   },
   {
    "duration": 273,
    "start_time": "2025-07-06T10:18:17.063Z"
   },
   {
    "duration": 4,
    "start_time": "2025-07-06T10:18:17.338Z"
   },
   {
    "duration": 15,
    "start_time": "2025-07-06T10:18:17.344Z"
   },
   {
    "duration": 49,
    "start_time": "2025-07-06T10:18:17.361Z"
   },
   {
    "duration": 60,
    "start_time": "2025-07-06T10:18:17.412Z"
   },
   {
    "duration": 11,
    "start_time": "2025-07-06T10:18:17.473Z"
   },
   {
    "duration": 8,
    "start_time": "2025-07-06T10:18:17.486Z"
   },
   {
    "duration": 18,
    "start_time": "2025-07-06T10:18:17.496Z"
   },
   {
    "duration": 7,
    "start_time": "2025-07-06T10:18:17.515Z"
   },
   {
    "duration": 250,
    "start_time": "2025-07-06T10:18:17.524Z"
   },
   {
    "duration": 3,
    "start_time": "2025-07-06T10:18:17.778Z"
   },
   {
    "duration": 77,
    "start_time": "2025-07-06T10:18:17.783Z"
   },
   {
    "duration": 12375,
    "start_time": "2025-07-06T10:18:17.862Z"
   },
   {
    "duration": 3,
    "start_time": "2025-07-06T10:18:30.239Z"
   },
   {
    "duration": 27,
    "start_time": "2025-07-06T10:18:30.244Z"
   },
   {
    "duration": 11,
    "start_time": "2025-07-06T10:18:30.273Z"
   },
   {
    "duration": 6,
    "start_time": "2025-07-06T10:19:29.177Z"
   },
   {
    "duration": 3,
    "start_time": "2025-07-06T10:19:44.707Z"
   },
   {
    "duration": 13,
    "start_time": "2025-07-06T10:19:45.257Z"
   },
   {
    "duration": 6,
    "start_time": "2025-07-06T10:19:45.847Z"
   },
   {
    "duration": 6,
    "start_time": "2025-07-06T10:19:46.297Z"
   },
   {
    "duration": 4,
    "start_time": "2025-07-06T10:19:47.217Z"
   },
   {
    "duration": 9,
    "start_time": "2025-07-06T10:19:47.967Z"
   },
   {
    "duration": 6,
    "start_time": "2025-07-06T10:20:01.647Z"
   },
   {
    "duration": 7,
    "start_time": "2025-07-06T10:20:05.788Z"
   },
   {
    "duration": 4,
    "start_time": "2025-07-06T10:23:56.247Z"
   },
   {
    "duration": 4,
    "start_time": "2025-07-06T10:24:56.207Z"
   },
   {
    "duration": 3,
    "start_time": "2025-07-06T10:25:03.067Z"
   },
   {
    "duration": 328,
    "start_time": "2025-07-06T10:25:32.747Z"
   },
   {
    "duration": 3,
    "start_time": "2025-07-06T10:26:15.996Z"
   },
   {
    "duration": 31,
    "start_time": "2025-07-06T10:26:17.767Z"
   },
   {
    "duration": 3,
    "start_time": "2025-07-06T10:29:16.156Z"
   },
   {
    "duration": 3,
    "start_time": "2025-07-06T10:29:39.466Z"
   },
   {
    "duration": 381,
    "start_time": "2025-07-06T10:29:46.696Z"
   },
   {
    "duration": 8,
    "start_time": "2025-07-06T10:30:31.526Z"
   },
   {
    "duration": 4,
    "start_time": "2025-07-06T10:30:53.386Z"
   },
   {
    "duration": 7,
    "start_time": "2025-07-06T10:31:07.676Z"
   },
   {
    "duration": 88,
    "start_time": "2025-07-06T10:31:58.516Z"
   },
   {
    "duration": 8,
    "start_time": "2025-07-06T10:32:02.996Z"
   },
   {
    "duration": 3,
    "start_time": "2025-07-06T10:32:38.736Z"
   },
   {
    "duration": 11,
    "start_time": "2025-07-06T10:32:50.875Z"
   },
   {
    "duration": 9,
    "start_time": "2025-07-06T10:33:03.885Z"
   },
   {
    "duration": 134,
    "start_time": "2025-07-06T10:35:02.265Z"
   },
   {
    "duration": 4,
    "start_time": "2025-07-06T10:35:14.665Z"
   },
   {
    "duration": 4,
    "start_time": "2025-07-06T10:35:20.785Z"
   },
   {
    "duration": 2,
    "start_time": "2025-07-06T10:36:23.725Z"
   },
   {
    "duration": 1111,
    "start_time": "2025-07-06T10:36:42.324Z"
   },
   {
    "duration": 3,
    "start_time": "2025-07-06T10:37:24.318Z"
   },
   {
    "duration": 16,
    "start_time": "2025-07-06T10:38:40.994Z"
   },
   {
    "duration": 29,
    "start_time": "2025-07-06T10:39:05.655Z"
   },
   {
    "duration": 3,
    "start_time": "2025-07-06T10:39:10.295Z"
   },
   {
    "duration": 4,
    "start_time": "2025-07-06T10:39:28.994Z"
   },
   {
    "duration": 2,
    "start_time": "2025-07-06T10:39:48.224Z"
   },
   {
    "duration": 812538,
    "start_time": "2025-07-06T10:39:57.634Z"
   },
   {
    "duration": 4,
    "start_time": "2025-07-06T10:53:42.431Z"
   },
   {
    "duration": 2,
    "start_time": "2025-07-06T10:53:47.182Z"
   },
   {
    "duration": 3,
    "start_time": "2025-07-06T10:53:50.381Z"
   },
   {
    "duration": 3,
    "start_time": "2025-07-06T10:53:51.012Z"
   },
   {
    "duration": 3,
    "start_time": "2025-07-06T10:53:51.701Z"
   },
   {
    "duration": 310786,
    "start_time": "2025-07-06T10:53:52.452Z"
   },
   {
    "duration": 4,
    "start_time": "2025-07-06T10:59:03.240Z"
   },
   {
    "duration": 3,
    "start_time": "2025-07-06T11:02:16.189Z"
   },
   {
    "duration": 4,
    "start_time": "2025-07-06T11:02:33.180Z"
   },
   {
    "duration": 6,
    "start_time": "2025-07-06T11:02:46.419Z"
   },
   {
    "duration": 4,
    "start_time": "2025-07-06T11:04:30.729Z"
   },
   {
    "duration": 3,
    "start_time": "2025-07-06T11:04:31.739Z"
   },
   {
    "duration": 11,
    "start_time": "2025-07-06T11:04:32.259Z"
   },
   {
    "duration": 5,
    "start_time": "2025-07-06T11:04:34.659Z"
   },
   {
    "duration": 6,
    "start_time": "2025-07-06T11:04:35.589Z"
   },
   {
    "duration": 4,
    "start_time": "2025-07-06T11:04:36.679Z"
   },
   {
    "duration": 6,
    "start_time": "2025-07-06T11:04:37.588Z"
   },
   {
    "duration": 4,
    "start_time": "2025-07-06T11:04:40.999Z"
   },
   {
    "duration": 4,
    "start_time": "2025-07-06T11:04:53.659Z"
   },
   {
    "duration": 3,
    "start_time": "2025-07-06T11:04:57.409Z"
   },
   {
    "duration": 4,
    "start_time": "2025-07-06T11:04:59.689Z"
   },
   {
    "duration": 3,
    "start_time": "2025-07-06T11:05:16.959Z"
   },
   {
    "duration": 3,
    "start_time": "2025-07-06T11:05:17.149Z"
   },
   {
    "duration": 3,
    "start_time": "2025-07-06T11:05:17.339Z"
   },
   {
    "duration": 396,
    "start_time": "2025-07-06T11:05:17.499Z"
   },
   {
    "duration": 3,
    "start_time": "2025-07-06T11:05:17.897Z"
   },
   {
    "duration": 3,
    "start_time": "2025-07-06T11:05:18.048Z"
   },
   {
    "duration": 1107,
    "start_time": "2025-07-06T11:05:18.219Z"
   },
   {
    "duration": 4,
    "start_time": "2025-07-06T11:05:19.327Z"
   },
   {
    "duration": 8,
    "start_time": "2025-07-06T11:05:19.333Z"
   },
   {
    "duration": 4,
    "start_time": "2025-07-06T11:05:19.343Z"
   },
   {
    "duration": 3,
    "start_time": "2025-07-06T11:05:19.358Z"
   },
   {
    "duration": 73829,
    "start_time": "2025-07-06T11:05:19.363Z"
   },
   {
    "duration": 0,
    "start_time": "2025-07-06T11:06:33.193Z"
   },
   {
    "duration": 0,
    "start_time": "2025-07-06T11:06:33.194Z"
   },
   {
    "duration": 0,
    "start_time": "2025-07-06T11:06:33.196Z"
   },
   {
    "duration": 0,
    "start_time": "2025-07-06T11:06:33.197Z"
   },
   {
    "duration": 0,
    "start_time": "2025-07-06T11:06:33.199Z"
   },
   {
    "duration": 0,
    "start_time": "2025-07-06T11:06:33.199Z"
   },
   {
    "duration": 0,
    "start_time": "2025-07-06T11:06:33.200Z"
   },
   {
    "duration": 0,
    "start_time": "2025-07-06T11:06:33.202Z"
   },
   {
    "duration": 4,
    "start_time": "2025-07-06T11:08:48.748Z"
   },
   {
    "duration": 2,
    "start_time": "2025-07-06T11:08:51.439Z"
   },
   {
    "duration": 16,
    "start_time": "2025-07-06T11:08:55.868Z"
   },
   {
    "duration": 5,
    "start_time": "2025-07-06T11:09:00.238Z"
   },
   {
    "duration": 6,
    "start_time": "2025-07-06T11:09:03.638Z"
   },
   {
    "duration": 4,
    "start_time": "2025-07-06T11:09:05.458Z"
   },
   {
    "duration": 6,
    "start_time": "2025-07-06T11:09:07.978Z"
   },
   {
    "duration": 4,
    "start_time": "2025-07-06T11:09:13.728Z"
   },
   {
    "duration": 3,
    "start_time": "2025-07-06T11:09:14.498Z"
   },
   {
    "duration": 3,
    "start_time": "2025-07-06T11:09:14.828Z"
   },
   {
    "duration": 3,
    "start_time": "2025-07-06T11:09:15.318Z"
   },
   {
    "duration": 3566,
    "start_time": "2025-07-06T11:09:15.908Z"
   },
   {
    "duration": 5,
    "start_time": "2025-07-06T11:09:19.477Z"
   },
   {
    "duration": 5,
    "start_time": "2025-07-06T11:10:00.118Z"
   },
   {
    "duration": 3,
    "start_time": "2025-07-06T11:10:00.808Z"
   },
   {
    "duration": 21,
    "start_time": "2025-07-06T11:10:01.328Z"
   },
   {
    "duration": 4,
    "start_time": "2025-07-06T11:10:01.968Z"
   },
   {
    "duration": 5,
    "start_time": "2025-07-06T11:10:02.498Z"
   },
   {
    "duration": 4,
    "start_time": "2025-07-06T11:10:03.058Z"
   },
   {
    "duration": 6,
    "start_time": "2025-07-06T11:10:03.688Z"
   },
   {
    "duration": 4,
    "start_time": "2025-07-06T11:10:05.898Z"
   },
   {
    "duration": 3,
    "start_time": "2025-07-06T11:10:07.848Z"
   },
   {
    "duration": 2,
    "start_time": "2025-07-06T11:10:08.478Z"
   },
   {
    "duration": 3,
    "start_time": "2025-07-06T11:10:09.088Z"
   },
   {
    "duration": 2795,
    "start_time": "2025-07-06T11:10:09.778Z"
   },
   {
    "duration": 84,
    "start_time": "2025-07-06T11:10:12.575Z"
   },
   {
    "duration": 5,
    "start_time": "2025-07-06T11:10:35.017Z"
   },
   {
    "duration": 8,
    "start_time": "2025-07-06T11:10:35.597Z"
   },
   {
    "duration": 28,
    "start_time": "2025-07-06T11:10:36.147Z"
   },
   {
    "duration": 5,
    "start_time": "2025-07-06T11:10:36.770Z"
   },
   {
    "duration": 5,
    "start_time": "2025-07-06T11:10:37.278Z"
   },
   {
    "duration": 4,
    "start_time": "2025-07-06T11:10:37.807Z"
   },
   {
    "duration": 6,
    "start_time": "2025-07-06T11:10:38.418Z"
   },
   {
    "duration": 4,
    "start_time": "2025-07-06T11:10:40.688Z"
   },
   {
    "duration": 3,
    "start_time": "2025-07-06T11:10:42.078Z"
   },
   {
    "duration": 3,
    "start_time": "2025-07-06T11:10:42.708Z"
   },
   {
    "duration": 3,
    "start_time": "2025-07-06T11:10:43.398Z"
   },
   {
    "duration": 2882,
    "start_time": "2025-07-06T11:10:44.178Z"
   },
   {
    "duration": 4,
    "start_time": "2025-07-06T11:10:47.063Z"
   },
   {
    "duration": 4,
    "start_time": "2025-07-06T11:11:02.238Z"
   },
   {
    "duration": 3,
    "start_time": "2025-07-06T11:11:02.837Z"
   },
   {
    "duration": 24,
    "start_time": "2025-07-06T11:11:03.318Z"
   },
   {
    "duration": 5,
    "start_time": "2025-07-06T11:11:03.787Z"
   },
   {
    "duration": 5,
    "start_time": "2025-07-06T11:11:04.318Z"
   },
   {
    "duration": 3,
    "start_time": "2025-07-06T11:11:04.778Z"
   },
   {
    "duration": 6,
    "start_time": "2025-07-06T11:11:05.308Z"
   },
   {
    "duration": 3,
    "start_time": "2025-07-06T11:11:06.798Z"
   },
   {
    "duration": 3,
    "start_time": "2025-07-06T11:11:07.867Z"
   },
   {
    "duration": 3,
    "start_time": "2025-07-06T11:11:08.368Z"
   },
   {
    "duration": 2,
    "start_time": "2025-07-06T11:11:08.918Z"
   },
   {
    "duration": 3226,
    "start_time": "2025-07-06T11:11:09.538Z"
   },
   {
    "duration": 4,
    "start_time": "2025-07-06T11:11:12.772Z"
   },
   {
    "duration": 25,
    "start_time": "2025-07-06T11:11:22.788Z"
   },
   {
    "duration": 4,
    "start_time": "2025-07-06T11:15:12.077Z"
   },
   {
    "duration": 3,
    "start_time": "2025-07-06T11:15:13.317Z"
   },
   {
    "duration": 9,
    "start_time": "2025-07-06T11:15:22.547Z"
   },
   {
    "duration": 5,
    "start_time": "2025-07-06T11:15:23.397Z"
   },
   {
    "duration": 6,
    "start_time": "2025-07-06T11:15:24.406Z"
   },
   {
    "duration": 4,
    "start_time": "2025-07-06T11:15:24.756Z"
   },
   {
    "duration": 8,
    "start_time": "2025-07-06T11:15:25.966Z"
   },
   {
    "duration": 16,
    "start_time": "2025-07-06T11:15:27.717Z"
   },
   {
    "duration": 3,
    "start_time": "2025-07-06T11:15:51.647Z"
   },
   {
    "duration": 3,
    "start_time": "2025-07-06T11:15:52.626Z"
   },
   {
    "duration": 4,
    "start_time": "2025-07-06T11:15:53.156Z"
   },
   {
    "duration": 4,
    "start_time": "2025-07-06T11:15:53.697Z"
   },
   {
    "duration": 384,
    "start_time": "2025-07-06T11:15:54.586Z"
   },
   {
    "duration": 3,
    "start_time": "2025-07-06T11:15:58.216Z"
   },
   {
    "duration": 3,
    "start_time": "2025-07-06T11:16:06.126Z"
   },
   {
    "duration": 1194,
    "start_time": "2025-07-06T11:16:06.296Z"
   },
   {
    "duration": 5,
    "start_time": "2025-07-06T11:16:07.492Z"
   },
   {
    "duration": 5,
    "start_time": "2025-07-06T11:16:07.499Z"
   },
   {
    "duration": 9,
    "start_time": "2025-07-06T11:16:07.507Z"
   },
   {
    "duration": 75,
    "start_time": "2025-07-06T11:16:07.518Z"
   },
   {
    "duration": 875374,
    "start_time": "2025-07-06T11:16:07.595Z"
   },
   {
    "duration": 3,
    "start_time": "2025-07-06T11:30:42.971Z"
   },
   {
    "duration": 17,
    "start_time": "2025-07-06T11:30:42.975Z"
   },
   {
    "duration": 4,
    "start_time": "2025-07-06T11:30:42.994Z"
   },
   {
    "duration": 59,
    "start_time": "2025-07-06T11:30:42.999Z"
   },
   {
    "duration": 158,
    "start_time": "2025-07-06T11:30:43.060Z"
   },
   {
    "duration": 282523,
    "start_time": "2025-07-06T11:30:43.219Z"
   },
   {
    "duration": 4,
    "start_time": "2025-07-06T11:35:25.743Z"
   },
   {
    "duration": 12,
    "start_time": "2025-07-06T11:35:25.749Z"
   },
   {
    "duration": 5,
    "start_time": "2025-07-06T11:44:28.402Z"
   },
   {
    "duration": 2782,
    "start_time": "2025-07-06T11:44:48.012Z"
   },
   {
    "duration": 6,
    "start_time": "2025-07-06T11:45:17.472Z"
   },
   {
    "duration": 6,
    "start_time": "2025-07-06T11:45:35.782Z"
   },
   {
    "duration": 4,
    "start_time": "2025-07-06T11:45:38.942Z"
   },
   {
    "duration": 5,
    "start_time": "2025-07-06T11:46:05.682Z"
   },
   {
    "duration": 4,
    "start_time": "2025-07-06T11:46:06.391Z"
   },
   {
    "duration": 13,
    "start_time": "2025-07-06T11:46:12.601Z"
   },
   {
    "duration": 5,
    "start_time": "2025-07-06T11:46:13.531Z"
   },
   {
    "duration": 6,
    "start_time": "2025-07-06T11:46:14.362Z"
   },
   {
    "duration": 5,
    "start_time": "2025-07-06T11:46:14.972Z"
   },
   {
    "duration": 10,
    "start_time": "2025-07-06T11:46:16.461Z"
   },
   {
    "duration": 2901,
    "start_time": "2025-07-06T11:46:25.181Z"
   },
   {
    "duration": 7,
    "start_time": "2025-07-06T11:46:28.084Z"
   },
   {
    "duration": 22,
    "start_time": "2025-07-06T11:46:28.093Z"
   },
   {
    "duration": 18,
    "start_time": "2025-07-06T11:46:28.117Z"
   },
   {
    "duration": 3,
    "start_time": "2025-07-06T11:47:05.051Z"
   },
   {
    "duration": 4,
    "start_time": "2025-07-06T11:47:05.681Z"
   },
   {
    "duration": 3,
    "start_time": "2025-07-06T11:47:06.352Z"
   },
   {
    "duration": 231920,
    "start_time": "2025-07-06T11:47:07.362Z"
   },
   {
    "duration": 0,
    "start_time": "2025-07-06T11:50:59.284Z"
   },
   {
    "duration": 0,
    "start_time": "2025-07-06T11:50:59.285Z"
   },
   {
    "duration": 4,
    "start_time": "2025-07-06T11:51:09.851Z"
   },
   {
    "duration": 3,
    "start_time": "2025-07-06T11:51:10.761Z"
   },
   {
    "duration": 13,
    "start_time": "2025-07-06T11:51:11.461Z"
   },
   {
    "duration": 5,
    "start_time": "2025-07-06T11:51:12.881Z"
   },
   {
    "duration": 22,
    "start_time": "2025-07-06T11:51:19.450Z"
   },
   {
    "duration": 5,
    "start_time": "2025-07-06T11:51:45.800Z"
   },
   {
    "duration": 3,
    "start_time": "2025-07-06T11:51:46.390Z"
   },
   {
    "duration": 13,
    "start_time": "2025-07-06T11:51:46.910Z"
   },
   {
    "duration": 6,
    "start_time": "2025-07-06T11:51:47.440Z"
   },
   {
    "duration": 5,
    "start_time": "2025-07-06T11:51:47.981Z"
   },
   {
    "duration": 5,
    "start_time": "2025-07-06T11:51:48.570Z"
   },
   {
    "duration": 8,
    "start_time": "2025-07-06T11:51:50.320Z"
   },
   {
    "duration": 5,
    "start_time": "2025-07-06T11:51:52.311Z"
   },
   {
    "duration": 3,
    "start_time": "2025-07-06T11:51:54.211Z"
   },
   {
    "duration": 4,
    "start_time": "2025-07-06T11:51:55.910Z"
   },
   {
    "duration": 3,
    "start_time": "2025-07-06T11:51:57.500Z"
   },
   {
    "duration": 571,
    "start_time": "2025-07-06T11:51:58.091Z"
   },
   {
    "duration": 3,
    "start_time": "2025-07-06T11:51:59.660Z"
   },
   {
    "duration": 22,
    "start_time": "2025-07-06T11:52:12.420Z"
   },
   {
    "duration": 4,
    "start_time": "2025-07-06T11:52:23.910Z"
   },
   {
    "duration": 3,
    "start_time": "2025-07-06T11:52:24.630Z"
   },
   {
    "duration": 16,
    "start_time": "2025-07-06T11:52:25.100Z"
   },
   {
    "duration": 4,
    "start_time": "2025-07-06T11:52:25.590Z"
   },
   {
    "duration": 6,
    "start_time": "2025-07-06T11:52:26.070Z"
   },
   {
    "duration": 4,
    "start_time": "2025-07-06T11:52:26.580Z"
   },
   {
    "duration": 9,
    "start_time": "2025-07-06T11:52:27.380Z"
   },
   {
    "duration": 4,
    "start_time": "2025-07-06T11:52:28.190Z"
   },
   {
    "duration": 3,
    "start_time": "2025-07-06T11:52:29.960Z"
   },
   {
    "duration": 4,
    "start_time": "2025-07-06T11:52:30.590Z"
   },
   {
    "duration": 4,
    "start_time": "2025-07-06T11:52:31.271Z"
   },
   {
    "duration": 523,
    "start_time": "2025-07-06T11:52:32.350Z"
   },
   {
    "duration": 3,
    "start_time": "2025-07-06T11:52:34.350Z"
   },
   {
    "duration": 4,
    "start_time": "2025-07-06T11:52:57.800Z"
   },
   {
    "duration": 4,
    "start_time": "2025-07-06T11:52:58.320Z"
   },
   {
    "duration": 15,
    "start_time": "2025-07-06T11:52:58.790Z"
   },
   {
    "duration": 6,
    "start_time": "2025-07-06T11:52:59.320Z"
   },
   {
    "duration": 6,
    "start_time": "2025-07-06T11:52:59.850Z"
   },
   {
    "duration": 3,
    "start_time": "2025-07-06T11:53:00.361Z"
   },
   {
    "duration": 8,
    "start_time": "2025-07-06T11:53:01.131Z"
   },
   {
    "duration": 3,
    "start_time": "2025-07-06T11:53:01.781Z"
   },
   {
    "duration": 2,
    "start_time": "2025-07-06T11:53:03.461Z"
   },
   {
    "duration": 3,
    "start_time": "2025-07-06T11:53:04.550Z"
   },
   {
    "duration": 2,
    "start_time": "2025-07-06T11:53:05.081Z"
   },
   {
    "duration": 569,
    "start_time": "2025-07-06T11:53:05.700Z"
   },
   {
    "duration": 4,
    "start_time": "2025-07-06T11:53:07.720Z"
   },
   {
    "duration": 5,
    "start_time": "2025-07-06T11:53:27.151Z"
   },
   {
    "duration": 3,
    "start_time": "2025-07-06T11:53:28.570Z"
   },
   {
    "duration": 13,
    "start_time": "2025-07-06T11:53:29.011Z"
   },
   {
    "duration": 5,
    "start_time": "2025-07-06T11:53:29.490Z"
   },
   {
    "duration": 6,
    "start_time": "2025-07-06T11:53:29.980Z"
   },
   {
    "duration": 4,
    "start_time": "2025-07-06T11:53:30.500Z"
   },
   {
    "duration": 6,
    "start_time": "2025-07-06T11:53:31.380Z"
   },
   {
    "duration": 4,
    "start_time": "2025-07-06T11:53:32.030Z"
   },
   {
    "duration": 2,
    "start_time": "2025-07-06T11:53:33.890Z"
   },
   {
    "duration": 4,
    "start_time": "2025-07-06T11:53:34.490Z"
   },
   {
    "duration": 4,
    "start_time": "2025-07-06T11:53:35.180Z"
   },
   {
    "duration": 539,
    "start_time": "2025-07-06T11:53:35.940Z"
   },
   {
    "duration": 5,
    "start_time": "2025-07-06T11:53:37.670Z"
   },
   {
    "duration": 3629,
    "start_time": "2025-07-06T11:54:40.490Z"
   },
   {
    "duration": 6,
    "start_time": "2025-07-06T11:54:45.900Z"
   },
   {
    "duration": 4,
    "start_time": "2025-07-06T11:54:46.730Z"
   },
   {
    "duration": 4,
    "start_time": "2025-07-06T11:54:47.890Z"
   },
   {
    "duration": 14,
    "start_time": "2025-07-06T11:55:19.530Z"
   },
   {
    "duration": 14,
    "start_time": "2025-07-06T11:55:24.362Z"
   },
   {
    "duration": 14,
    "start_time": "2025-07-06T11:56:38.540Z"
   },
   {
    "duration": 4,
    "start_time": "2025-07-06T11:57:25.219Z"
   },
   {
    "duration": 17,
    "start_time": "2025-07-06T11:57:31.100Z"
   },
   {
    "duration": 12,
    "start_time": "2025-07-06T11:57:37.439Z"
   },
   {
    "duration": 18,
    "start_time": "2025-07-06T11:57:56.299Z"
   },
   {
    "duration": 8,
    "start_time": "2025-07-06T11:59:39.059Z"
   },
   {
    "duration": 1216,
    "start_time": "2025-07-06T12:01:02.569Z"
   },
   {
    "duration": 5,
    "start_time": "2025-07-06T12:08:15.918Z"
   },
   {
    "duration": 4,
    "start_time": "2025-07-06T12:08:17.747Z"
   },
   {
    "duration": 16,
    "start_time": "2025-07-06T12:08:18.307Z"
   },
   {
    "duration": 5,
    "start_time": "2025-07-06T12:08:18.877Z"
   },
   {
    "duration": 5,
    "start_time": "2025-07-06T12:08:19.568Z"
   },
   {
    "duration": 4,
    "start_time": "2025-07-06T12:08:20.217Z"
   },
   {
    "duration": 8,
    "start_time": "2025-07-06T12:08:21.048Z"
   },
   {
    "duration": 4,
    "start_time": "2025-07-06T12:08:21.898Z"
   },
   {
    "duration": 3,
    "start_time": "2025-07-06T12:08:23.977Z"
   },
   {
    "duration": 3,
    "start_time": "2025-07-06T12:08:24.778Z"
   },
   {
    "duration": 3,
    "start_time": "2025-07-06T12:08:25.668Z"
   },
   {
    "duration": 2977,
    "start_time": "2025-07-06T12:08:26.498Z"
   },
   {
    "duration": 4,
    "start_time": "2025-07-06T12:08:29.477Z"
   },
   {
    "duration": 8,
    "start_time": "2025-07-06T12:08:40.637Z"
   },
   {
    "duration": 3,
    "start_time": "2025-07-06T12:09:05.787Z"
   },
   {
    "duration": 4872,
    "start_time": "2025-07-06T12:09:09.078Z"
   },
   {
    "duration": 6,
    "start_time": "2025-07-06T12:09:13.952Z"
   },
   {
    "duration": 5,
    "start_time": "2025-07-06T12:09:13.959Z"
   },
   {
    "duration": 5,
    "start_time": "2025-07-06T12:09:13.967Z"
   },
   {
    "duration": 3308,
    "start_time": "2025-07-06T12:11:00.078Z"
   },
   {
    "duration": 9,
    "start_time": "2025-07-06T12:11:49.048Z"
   },
   {
    "duration": 3472,
    "start_time": "2025-07-06T12:11:50.477Z"
   },
   {
    "duration": 8,
    "start_time": "2025-07-06T12:12:20.387Z"
   },
   {
    "duration": 3295,
    "start_time": "2025-07-06T12:12:21.697Z"
   },
   {
    "duration": 5,
    "start_time": "2025-07-06T12:12:45.287Z"
   },
   {
    "duration": 3,
    "start_time": "2025-07-06T12:12:47.907Z"
   },
   {
    "duration": 10,
    "start_time": "2025-07-06T12:12:49.017Z"
   },
   {
    "duration": 1147,
    "start_time": "2025-07-06T12:12:50.497Z"
   },
   {
    "duration": 7,
    "start_time": "2025-07-06T12:13:29.797Z"
   },
   {
    "duration": 1176,
    "start_time": "2025-07-06T12:13:32.107Z"
   },
   {
    "duration": 9,
    "start_time": "2025-07-06T12:13:39.037Z"
   },
   {
    "duration": 1303,
    "start_time": "2025-07-06T12:13:40.327Z"
   },
   {
    "duration": 8,
    "start_time": "2025-07-06T12:13:54.966Z"
   },
   {
    "duration": 1127,
    "start_time": "2025-07-06T12:13:56.767Z"
   },
   {
    "duration": 7,
    "start_time": "2025-07-06T12:14:02.517Z"
   },
   {
    "duration": 1315,
    "start_time": "2025-07-06T12:14:03.957Z"
   },
   {
    "duration": 4,
    "start_time": "2025-07-06T12:14:16.347Z"
   },
   {
    "duration": 6,
    "start_time": "2025-07-06T12:14:16.837Z"
   },
   {
    "duration": 4,
    "start_time": "2025-07-06T12:14:17.307Z"
   },
   {
    "duration": 6,
    "start_time": "2025-07-06T12:14:17.917Z"
   },
   {
    "duration": 4,
    "start_time": "2025-07-06T12:14:18.417Z"
   },
   {
    "duration": 4,
    "start_time": "2025-07-06T12:14:19.676Z"
   },
   {
    "duration": 3,
    "start_time": "2025-07-06T12:14:20.217Z"
   },
   {
    "duration": 3,
    "start_time": "2025-07-06T12:14:20.777Z"
   },
   {
    "duration": 467,
    "start_time": "2025-07-06T12:14:21.317Z"
   },
   {
    "duration": 3,
    "start_time": "2025-07-06T12:14:22.047Z"
   },
   {
    "duration": 28,
    "start_time": "2025-07-06T12:14:57.236Z"
   },
   {
    "duration": 3,
    "start_time": "2025-07-06T12:15:08.996Z"
   },
   {
    "duration": 3,
    "start_time": "2025-07-06T12:15:09.317Z"
   },
   {
    "duration": 3,
    "start_time": "2025-07-06T12:15:09.596Z"
   },
   {
    "duration": 443,
    "start_time": "2025-07-06T12:15:09.916Z"
   },
   {
    "duration": 4,
    "start_time": "2025-07-06T12:15:11.047Z"
   },
   {
    "duration": 26,
    "start_time": "2025-07-06T12:15:28.976Z"
   },
   {
    "duration": 21,
    "start_time": "2025-07-06T12:15:44.326Z"
   },
   {
    "duration": 18,
    "start_time": "2025-07-06T12:17:00.077Z"
   },
   {
    "duration": 8,
    "start_time": "2025-07-06T12:17:03.587Z"
   },
   {
    "duration": 5,
    "start_time": "2025-07-06T12:23:35.775Z"
   },
   {
    "duration": 3,
    "start_time": "2025-07-06T12:23:36.775Z"
   },
   {
    "duration": 11,
    "start_time": "2025-07-06T12:23:37.395Z"
   },
   {
    "duration": 1251,
    "start_time": "2025-07-06T12:23:38.835Z"
   },
   {
    "duration": 5,
    "start_time": "2025-07-06T12:23:44.594Z"
   },
   {
    "duration": 5,
    "start_time": "2025-07-06T12:23:45.055Z"
   },
   {
    "duration": 4,
    "start_time": "2025-07-06T12:23:45.585Z"
   },
   {
    "duration": 6,
    "start_time": "2025-07-06T12:23:46.765Z"
   },
   {
    "duration": 4,
    "start_time": "2025-07-06T12:23:47.855Z"
   },
   {
    "duration": 2,
    "start_time": "2025-07-06T12:23:49.646Z"
   },
   {
    "duration": 4,
    "start_time": "2025-07-06T12:23:50.235Z"
   },
   {
    "duration": 3,
    "start_time": "2025-07-06T12:23:50.915Z"
   },
   {
    "duration": 469,
    "start_time": "2025-07-06T12:23:51.615Z"
   },
   {
    "duration": 4,
    "start_time": "2025-07-06T12:23:52.855Z"
   },
   {
    "duration": 2,
    "start_time": "2025-07-06T12:23:58.695Z"
   },
   {
    "duration": 2736,
    "start_time": "2025-07-06T12:24:05.845Z"
   },
   {
    "duration": 5,
    "start_time": "2025-07-06T12:24:08.583Z"
   },
   {
    "duration": 5,
    "start_time": "2025-07-06T12:24:08.590Z"
   },
   {
    "duration": 5,
    "start_time": "2025-07-06T12:24:08.597Z"
   },
   {
    "duration": 3,
    "start_time": "2025-07-06T12:24:34.675Z"
   },
   {
    "duration": 4,
    "start_time": "2025-07-06T12:24:35.145Z"
   },
   {
    "duration": 3,
    "start_time": "2025-07-06T12:24:35.305Z"
   },
   {
    "duration": 405,
    "start_time": "2025-07-06T12:24:35.465Z"
   },
   {
    "duration": 4,
    "start_time": "2025-07-06T12:24:35.871Z"
   },
   {
    "duration": 3,
    "start_time": "2025-07-06T12:24:35.957Z"
   },
   {
    "duration": 1127,
    "start_time": "2025-07-06T12:24:36.115Z"
   },
   {
    "duration": 4,
    "start_time": "2025-07-06T12:24:37.244Z"
   },
   {
    "duration": 3,
    "start_time": "2025-07-06T12:24:38.445Z"
   },
   {
    "duration": 2,
    "start_time": "2025-07-06T12:24:38.635Z"
   },
   {
    "duration": 2,
    "start_time": "2025-07-06T12:24:38.815Z"
   },
   {
    "duration": 345475,
    "start_time": "2025-07-06T12:24:39.005Z"
   },
   {
    "duration": 3,
    "start_time": "2025-07-06T12:30:24.483Z"
   },
   {
    "duration": 77,
    "start_time": "2025-07-06T12:30:24.488Z"
   },
   {
    "duration": 4,
    "start_time": "2025-07-06T12:30:24.570Z"
   },
   {
    "duration": 5,
    "start_time": "2025-07-06T12:30:24.575Z"
   },
   {
    "duration": 11,
    "start_time": "2025-07-06T12:30:24.582Z"
   },
   {
    "duration": 302985,
    "start_time": "2025-07-06T12:30:24.594Z"
   },
   {
    "duration": 3,
    "start_time": "2025-07-06T12:35:27.580Z"
   },
   {
    "duration": 5,
    "start_time": "2025-07-06T12:35:27.584Z"
   },
   {
    "duration": 5,
    "start_time": "2025-07-06T12:44:49.571Z"
   },
   {
    "duration": 3912,
    "start_time": "2025-07-06T12:45:42.450Z"
   },
   {
    "duration": 178,
    "start_time": "2025-07-06T12:46:18.131Z"
   },
   {
    "duration": 282,
    "start_time": "2025-07-06T13:01:50.447Z"
   },
   {
    "duration": 3,
    "start_time": "2025-07-06T13:02:46.557Z"
   },
   {
    "duration": 6,
    "start_time": "2025-07-06T13:03:12.737Z"
   },
   {
    "duration": 241,
    "start_time": "2025-07-06T13:03:17.937Z"
   },
   {
    "duration": 281,
    "start_time": "2025-07-06T13:14:53.034Z"
   },
   {
    "duration": 235,
    "start_time": "2025-07-06T13:15:01.995Z"
   },
   {
    "duration": 2,
    "start_time": "2025-07-06T13:15:18.365Z"
   },
   {
    "duration": 6,
    "start_time": "2025-07-06T13:15:19.155Z"
   },
   {
    "duration": 236,
    "start_time": "2025-07-06T13:15:19.824Z"
   },
   {
    "duration": 4,
    "start_time": "2025-07-06T13:15:35.275Z"
   },
   {
    "duration": 696,
    "start_time": "2025-07-06T13:15:36.315Z"
   },
   {
    "duration": 195,
    "start_time": "2025-07-06T13:15:39.095Z"
   },
   {
    "duration": 279,
    "start_time": "2025-07-06T13:16:20.825Z"
   },
   {
    "duration": 161,
    "start_time": "2025-07-06T13:18:11.145Z"
   },
   {
    "duration": 2519,
    "start_time": "2025-07-06T13:21:38.295Z"
   },
   {
    "duration": 2537,
    "start_time": "2025-07-06T13:21:40.816Z"
   },
   {
    "duration": 2584,
    "start_time": "2025-07-06T13:21:43.355Z"
   },
   {
    "duration": 2506,
    "start_time": "2025-07-06T13:21:45.941Z"
   },
   {
    "duration": 2556,
    "start_time": "2025-07-06T13:21:48.450Z"
   },
   {
    "duration": 1909,
    "start_time": "2025-07-06T13:21:51.007Z"
   },
   {
    "duration": 2,
    "start_time": "2025-07-06T13:21:52.918Z"
   },
   {
    "duration": 34,
    "start_time": "2025-07-06T13:21:52.922Z"
   },
   {
    "duration": 111,
    "start_time": "2025-07-06T13:21:52.958Z"
   },
   {
    "duration": 43,
    "start_time": "2025-07-06T13:21:53.070Z"
   },
   {
    "duration": 44,
    "start_time": "2025-07-06T13:21:53.114Z"
   },
   {
    "duration": 5,
    "start_time": "2025-07-06T13:21:53.160Z"
   },
   {
    "duration": 10,
    "start_time": "2025-07-06T13:21:53.166Z"
   },
   {
    "duration": 2,
    "start_time": "2025-07-06T13:21:53.179Z"
   },
   {
    "duration": 9,
    "start_time": "2025-07-06T13:21:53.183Z"
   },
   {
    "duration": 9,
    "start_time": "2025-07-06T13:21:53.193Z"
   },
   {
    "duration": 55,
    "start_time": "2025-07-06T13:21:53.203Z"
   },
   {
    "duration": 657,
    "start_time": "2025-07-06T13:21:53.260Z"
   },
   {
    "duration": 258,
    "start_time": "2025-07-06T13:21:53.919Z"
   },
   {
    "duration": 3,
    "start_time": "2025-07-06T13:21:54.178Z"
   },
   {
    "duration": 271,
    "start_time": "2025-07-06T13:21:54.183Z"
   },
   {
    "duration": 5,
    "start_time": "2025-07-06T13:21:54.456Z"
   },
   {
    "duration": 709,
    "start_time": "2025-07-06T13:21:54.463Z"
   },
   {
    "duration": 231,
    "start_time": "2025-07-06T13:21:55.174Z"
   },
   {
    "duration": 179,
    "start_time": "2025-07-06T13:21:55.407Z"
   },
   {
    "duration": 6,
    "start_time": "2025-07-06T13:21:55.588Z"
   },
   {
    "duration": 4,
    "start_time": "2025-07-06T13:21:55.595Z"
   },
   {
    "duration": 284,
    "start_time": "2025-07-06T13:21:55.600Z"
   },
   {
    "duration": 3,
    "start_time": "2025-07-06T13:21:55.886Z"
   },
   {
    "duration": 55,
    "start_time": "2025-07-06T13:21:55.891Z"
   },
   {
    "duration": 167,
    "start_time": "2025-07-06T13:21:55.948Z"
   },
   {
    "duration": 0,
    "start_time": "2025-07-06T13:21:56.248Z"
   },
   {
    "duration": 0,
    "start_time": "2025-07-06T13:21:56.249Z"
   },
   {
    "duration": 0,
    "start_time": "2025-07-06T13:21:56.250Z"
   },
   {
    "duration": 0,
    "start_time": "2025-07-06T13:21:56.257Z"
   },
   {
    "duration": 0,
    "start_time": "2025-07-06T13:21:56.258Z"
   },
   {
    "duration": 0,
    "start_time": "2025-07-06T13:21:56.259Z"
   },
   {
    "duration": 0,
    "start_time": "2025-07-06T13:21:56.260Z"
   },
   {
    "duration": 0,
    "start_time": "2025-07-06T13:21:56.261Z"
   },
   {
    "duration": 0,
    "start_time": "2025-07-06T13:21:56.263Z"
   },
   {
    "duration": 0,
    "start_time": "2025-07-06T13:21:56.264Z"
   },
   {
    "duration": 0,
    "start_time": "2025-07-06T13:21:56.265Z"
   },
   {
    "duration": 0,
    "start_time": "2025-07-06T13:21:56.266Z"
   },
   {
    "duration": 0,
    "start_time": "2025-07-06T13:21:56.266Z"
   },
   {
    "duration": 0,
    "start_time": "2025-07-06T13:21:56.267Z"
   },
   {
    "duration": 0,
    "start_time": "2025-07-06T13:21:56.268Z"
   },
   {
    "duration": 0,
    "start_time": "2025-07-06T13:21:56.269Z"
   },
   {
    "duration": 0,
    "start_time": "2025-07-06T13:21:56.270Z"
   },
   {
    "duration": 0,
    "start_time": "2025-07-06T13:21:56.272Z"
   },
   {
    "duration": 0,
    "start_time": "2025-07-06T13:21:56.273Z"
   },
   {
    "duration": 0,
    "start_time": "2025-07-06T13:21:56.275Z"
   },
   {
    "duration": 0,
    "start_time": "2025-07-06T13:21:56.276Z"
   },
   {
    "duration": 1,
    "start_time": "2025-07-06T13:21:56.277Z"
   },
   {
    "duration": 0,
    "start_time": "2025-07-06T13:21:56.279Z"
   },
   {
    "duration": 0,
    "start_time": "2025-07-06T13:21:56.280Z"
   },
   {
    "duration": 0,
    "start_time": "2025-07-06T13:21:56.282Z"
   },
   {
    "duration": 0,
    "start_time": "2025-07-06T13:21:56.283Z"
   },
   {
    "duration": 0,
    "start_time": "2025-07-06T13:21:56.285Z"
   },
   {
    "duration": 0,
    "start_time": "2025-07-06T13:21:56.286Z"
   },
   {
    "duration": 0,
    "start_time": "2025-07-06T13:21:56.288Z"
   },
   {
    "duration": 0,
    "start_time": "2025-07-06T13:21:56.288Z"
   },
   {
    "duration": 0,
    "start_time": "2025-07-06T13:21:56.290Z"
   },
   {
    "duration": 18,
    "start_time": "2025-07-06T13:22:44.663Z"
   },
   {
    "duration": 235,
    "start_time": "2025-07-06T13:23:50.773Z"
   },
   {
    "duration": 2542,
    "start_time": "2025-07-06T13:23:57.305Z"
   },
   {
    "duration": 2586,
    "start_time": "2025-07-06T13:23:59.850Z"
   },
   {
    "duration": 2576,
    "start_time": "2025-07-06T13:24:02.438Z"
   },
   {
    "duration": 2582,
    "start_time": "2025-07-06T13:24:05.016Z"
   },
   {
    "duration": 2479,
    "start_time": "2025-07-06T13:24:07.601Z"
   },
   {
    "duration": 1931,
    "start_time": "2025-07-06T13:24:10.083Z"
   },
   {
    "duration": 3,
    "start_time": "2025-07-06T13:24:12.016Z"
   },
   {
    "duration": 7,
    "start_time": "2025-07-06T13:24:12.021Z"
   },
   {
    "duration": 117,
    "start_time": "2025-07-06T13:24:12.029Z"
   },
   {
    "duration": 50,
    "start_time": "2025-07-06T13:24:12.148Z"
   },
   {
    "duration": 36,
    "start_time": "2025-07-06T13:24:12.199Z"
   },
   {
    "duration": 4,
    "start_time": "2025-07-06T13:24:12.237Z"
   },
   {
    "duration": 3,
    "start_time": "2025-07-06T13:24:12.257Z"
   },
   {
    "duration": 77,
    "start_time": "2025-07-06T13:24:12.263Z"
   },
   {
    "duration": 7,
    "start_time": "2025-07-06T13:24:12.341Z"
   },
   {
    "duration": 9,
    "start_time": "2025-07-06T13:24:12.349Z"
   },
   {
    "duration": 29,
    "start_time": "2025-07-06T13:24:12.359Z"
   },
   {
    "duration": 612,
    "start_time": "2025-07-06T13:24:12.390Z"
   },
   {
    "duration": 267,
    "start_time": "2025-07-06T13:24:13.004Z"
   },
   {
    "duration": 3,
    "start_time": "2025-07-06T13:24:13.273Z"
   },
   {
    "duration": 277,
    "start_time": "2025-07-06T13:24:13.278Z"
   },
   {
    "duration": 5,
    "start_time": "2025-07-06T13:24:13.556Z"
   },
   {
    "duration": 744,
    "start_time": "2025-07-06T13:24:13.563Z"
   },
   {
    "duration": 213,
    "start_time": "2025-07-06T13:24:14.309Z"
   },
   {
    "duration": 172,
    "start_time": "2025-07-06T13:24:14.524Z"
   },
   {
    "duration": 6,
    "start_time": "2025-07-06T13:24:14.697Z"
   },
   {
    "duration": 28,
    "start_time": "2025-07-06T13:24:14.705Z"
   },
   {
    "duration": 285,
    "start_time": "2025-07-06T13:24:14.735Z"
   },
   {
    "duration": 3,
    "start_time": "2025-07-06T13:24:15.021Z"
   },
   {
    "duration": 79,
    "start_time": "2025-07-06T13:24:15.026Z"
   },
   {
    "duration": 398,
    "start_time": "2025-07-06T13:24:15.106Z"
   },
   {
    "duration": 4,
    "start_time": "2025-07-06T13:24:15.506Z"
   },
   {
    "duration": 103,
    "start_time": "2025-07-06T13:24:15.512Z"
   },
   {
    "duration": 13,
    "start_time": "2025-07-06T13:24:15.616Z"
   },
   {
    "duration": 10,
    "start_time": "2025-07-06T13:24:15.630Z"
   },
   {
    "duration": 9,
    "start_time": "2025-07-06T13:24:15.642Z"
   },
   {
    "duration": 4,
    "start_time": "2025-07-06T13:24:15.652Z"
   },
   {
    "duration": 10,
    "start_time": "2025-07-06T13:24:15.657Z"
   },
   {
    "duration": 5,
    "start_time": "2025-07-06T13:24:15.669Z"
   },
   {
    "duration": 5,
    "start_time": "2025-07-06T13:24:15.676Z"
   },
   {
    "duration": 8,
    "start_time": "2025-07-06T13:24:15.685Z"
   },
   {
    "duration": 9,
    "start_time": "2025-07-06T13:24:15.694Z"
   },
   {
    "duration": 367,
    "start_time": "2025-07-06T13:24:15.704Z"
   },
   {
    "duration": 4,
    "start_time": "2025-07-06T13:24:16.073Z"
   },
   {
    "duration": 6,
    "start_time": "2025-07-06T13:24:16.079Z"
   },
   {
    "duration": 1119,
    "start_time": "2025-07-06T13:24:16.087Z"
   },
   {
    "duration": 3,
    "start_time": "2025-07-06T13:24:17.208Z"
   },
   {
    "duration": 5,
    "start_time": "2025-07-06T13:24:17.212Z"
   },
   {
    "duration": 5,
    "start_time": "2025-07-06T13:24:17.218Z"
   },
   {
    "duration": 3,
    "start_time": "2025-07-06T13:24:17.224Z"
   },
   {
    "duration": 25245,
    "start_time": "2025-07-06T13:24:17.228Z"
   },
   {
    "duration": 3,
    "start_time": "2025-07-06T13:24:42.559Z"
   },
   {
    "duration": 4,
    "start_time": "2025-07-06T13:24:42.563Z"
   },
   {
    "duration": 6,
    "start_time": "2025-07-06T13:24:42.569Z"
   },
   {
    "duration": 6,
    "start_time": "2025-07-06T13:24:42.576Z"
   },
   {
    "duration": 5,
    "start_time": "2025-07-06T13:24:42.584Z"
   },
   {
    "duration": 218284,
    "start_time": "2025-07-06T13:24:42.590Z"
   },
   {
    "duration": 4,
    "start_time": "2025-07-06T13:28:20.875Z"
   },
   {
    "duration": 23,
    "start_time": "2025-07-06T13:28:20.880Z"
   },
   {
    "duration": 24,
    "start_time": "2025-07-06T13:28:20.905Z"
   },
   {
    "duration": 1429,
    "start_time": "2025-07-06T13:28:20.931Z"
   },
   {
    "duration": 175,
    "start_time": "2025-07-06T13:28:22.361Z"
   },
   {
    "duration": 3686,
    "start_time": "2025-07-06T13:43:03.210Z"
   },
   {
    "duration": 4393,
    "start_time": "2025-07-06T13:43:06.898Z"
   },
   {
    "duration": 2917,
    "start_time": "2025-07-06T13:43:11.293Z"
   },
   {
    "duration": 3840,
    "start_time": "2025-07-06T13:43:14.212Z"
   },
   {
    "duration": 4053,
    "start_time": "2025-07-06T13:43:18.054Z"
   },
   {
    "duration": 2504,
    "start_time": "2025-07-06T13:43:22.109Z"
   },
   {
    "duration": 3,
    "start_time": "2025-07-06T13:43:24.614Z"
   },
   {
    "duration": 11,
    "start_time": "2025-07-06T13:43:24.619Z"
   },
   {
    "duration": 118,
    "start_time": "2025-07-06T13:43:24.632Z"
   },
   {
    "duration": 42,
    "start_time": "2025-07-06T13:43:24.752Z"
   },
   {
    "duration": 42,
    "start_time": "2025-07-06T13:43:24.796Z"
   },
   {
    "duration": 33,
    "start_time": "2025-07-06T13:43:24.840Z"
   },
   {
    "duration": 4,
    "start_time": "2025-07-06T13:43:24.875Z"
   },
   {
    "duration": 6,
    "start_time": "2025-07-06T13:43:24.883Z"
   },
   {
    "duration": 8,
    "start_time": "2025-07-06T13:43:24.891Z"
   },
   {
    "duration": 9,
    "start_time": "2025-07-06T13:43:24.901Z"
   },
   {
    "duration": 66,
    "start_time": "2025-07-06T13:43:24.912Z"
   },
   {
    "duration": 616,
    "start_time": "2025-07-06T13:43:24.980Z"
   },
   {
    "duration": 265,
    "start_time": "2025-07-06T13:43:25.597Z"
   },
   {
    "duration": 9,
    "start_time": "2025-07-06T13:43:25.863Z"
   },
   {
    "duration": 286,
    "start_time": "2025-07-06T13:43:25.874Z"
   },
   {
    "duration": 7,
    "start_time": "2025-07-06T13:43:26.162Z"
   },
   {
    "duration": 748,
    "start_time": "2025-07-06T13:43:26.170Z"
   },
   {
    "duration": 208,
    "start_time": "2025-07-06T13:43:26.920Z"
   },
   {
    "duration": 177,
    "start_time": "2025-07-06T13:43:27.130Z"
   },
   {
    "duration": 6,
    "start_time": "2025-07-06T13:43:27.309Z"
   },
   {
    "duration": 4,
    "start_time": "2025-07-06T13:43:27.316Z"
   },
   {
    "duration": 293,
    "start_time": "2025-07-06T13:43:27.321Z"
   },
   {
    "duration": 3,
    "start_time": "2025-07-06T13:43:27.616Z"
   },
   {
    "duration": 6,
    "start_time": "2025-07-06T13:43:27.621Z"
   },
   {
    "duration": 380,
    "start_time": "2025-07-06T13:43:27.629Z"
   },
   {
    "duration": 4,
    "start_time": "2025-07-06T13:43:28.011Z"
   },
   {
    "duration": 4,
    "start_time": "2025-07-06T13:43:28.016Z"
   },
   {
    "duration": 10,
    "start_time": "2025-07-06T13:43:28.022Z"
   },
   {
    "duration": 4,
    "start_time": "2025-07-06T13:43:28.034Z"
   },
   {
    "duration": 6,
    "start_time": "2025-07-06T13:43:28.039Z"
   },
   {
    "duration": 4,
    "start_time": "2025-07-06T13:43:28.072Z"
   },
   {
    "duration": 13,
    "start_time": "2025-07-06T13:43:28.077Z"
   },
   {
    "duration": 5,
    "start_time": "2025-07-06T13:43:28.092Z"
   },
   {
    "duration": 4,
    "start_time": "2025-07-06T13:43:28.098Z"
   },
   {
    "duration": 2,
    "start_time": "2025-07-06T13:43:28.107Z"
   },
   {
    "duration": 4,
    "start_time": "2025-07-06T13:43:28.111Z"
   },
   {
    "duration": 397,
    "start_time": "2025-07-06T13:43:28.116Z"
   },
   {
    "duration": 56,
    "start_time": "2025-07-06T13:43:28.515Z"
   },
   {
    "duration": 3,
    "start_time": "2025-07-06T13:43:28.573Z"
   },
   {
    "duration": 1068,
    "start_time": "2025-07-06T13:43:28.578Z"
   },
   {
    "duration": 3,
    "start_time": "2025-07-06T13:43:29.648Z"
   },
   {
    "duration": 29,
    "start_time": "2025-07-06T13:43:29.653Z"
   },
   {
    "duration": 18,
    "start_time": "2025-07-06T13:43:29.684Z"
   },
   {
    "duration": 4,
    "start_time": "2025-07-06T13:43:29.703Z"
   },
   {
    "duration": 9063,
    "start_time": "2025-07-06T13:43:29.708Z"
   },
   {
    "duration": 3,
    "start_time": "2025-07-06T13:43:38.773Z"
   },
   {
    "duration": 21,
    "start_time": "2025-07-06T13:43:38.778Z"
   },
   {
    "duration": 8,
    "start_time": "2025-07-06T13:43:38.801Z"
   },
   {
    "duration": 4,
    "start_time": "2025-07-06T13:43:38.810Z"
   },
   {
    "duration": 8,
    "start_time": "2025-07-06T13:43:38.815Z"
   },
   {
    "duration": 222978,
    "start_time": "2025-07-06T13:43:38.824Z"
   },
   {
    "duration": 4,
    "start_time": "2025-07-06T13:47:21.803Z"
   },
   {
    "duration": 83,
    "start_time": "2025-07-06T13:47:21.808Z"
   },
   {
    "duration": 63,
    "start_time": "2025-07-06T13:47:21.893Z"
   },
   {
    "duration": 724,
    "start_time": "2025-07-06T13:47:21.958Z"
   },
   {
    "duration": 234,
    "start_time": "2025-07-06T13:47:22.684Z"
   },
   {
    "duration": 165,
    "start_time": "2025-07-06T14:32:06.530Z"
   },
   {
    "duration": 229,
    "start_time": "2025-07-06T14:35:22.700Z"
   },
   {
    "duration": 198,
    "start_time": "2025-07-06T14:35:53.759Z"
   },
   {
    "duration": 187,
    "start_time": "2025-07-06T14:36:02.279Z"
   },
   {
    "duration": 196,
    "start_time": "2025-07-06T14:36:12.909Z"
   },
   {
    "duration": 211,
    "start_time": "2025-07-06T14:36:56.550Z"
   },
   {
    "duration": 240,
    "start_time": "2025-07-06T14:37:35.499Z"
   },
   {
    "duration": 2725,
    "start_time": "2025-07-06T14:42:38.889Z"
   },
   {
    "duration": 2544,
    "start_time": "2025-07-06T14:42:41.616Z"
   },
   {
    "duration": 2517,
    "start_time": "2025-07-06T14:42:44.161Z"
   },
   {
    "duration": 2480,
    "start_time": "2025-07-06T14:42:46.680Z"
   },
   {
    "duration": 2554,
    "start_time": "2025-07-06T14:42:49.162Z"
   },
   {
    "duration": 1980,
    "start_time": "2025-07-06T14:42:51.719Z"
   },
   {
    "duration": 4,
    "start_time": "2025-07-06T14:42:53.700Z"
   },
   {
    "duration": 4,
    "start_time": "2025-07-06T14:42:53.705Z"
   },
   {
    "duration": 115,
    "start_time": "2025-07-06T14:42:53.710Z"
   },
   {
    "duration": 69,
    "start_time": "2025-07-06T14:42:53.827Z"
   },
   {
    "duration": 34,
    "start_time": "2025-07-06T14:42:53.898Z"
   },
   {
    "duration": 4,
    "start_time": "2025-07-06T14:42:53.934Z"
   },
   {
    "duration": 19,
    "start_time": "2025-07-06T14:42:53.940Z"
   },
   {
    "duration": 4,
    "start_time": "2025-07-06T14:42:53.960Z"
   },
   {
    "duration": 3,
    "start_time": "2025-07-06T14:42:53.966Z"
   },
   {
    "duration": 8,
    "start_time": "2025-07-06T14:42:53.971Z"
   },
   {
    "duration": 30,
    "start_time": "2025-07-06T14:42:53.980Z"
   },
   {
    "duration": 655,
    "start_time": "2025-07-06T14:42:54.012Z"
   },
   {
    "duration": 265,
    "start_time": "2025-07-06T14:42:54.669Z"
   },
   {
    "duration": 2,
    "start_time": "2025-07-06T14:42:54.936Z"
   },
   {
    "duration": 290,
    "start_time": "2025-07-06T14:42:54.940Z"
   },
   {
    "duration": 4,
    "start_time": "2025-07-06T14:42:55.232Z"
   },
   {
    "duration": 682,
    "start_time": "2025-07-06T14:42:55.238Z"
   },
   {
    "duration": 211,
    "start_time": "2025-07-06T14:42:55.922Z"
   },
   {
    "duration": 163,
    "start_time": "2025-07-06T14:42:56.134Z"
   },
   {
    "duration": 6,
    "start_time": "2025-07-06T14:42:56.299Z"
   },
   {
    "duration": 10,
    "start_time": "2025-07-06T14:42:56.306Z"
   },
   {
    "duration": 278,
    "start_time": "2025-07-06T14:42:56.319Z"
   },
   {
    "duration": 3,
    "start_time": "2025-07-06T14:42:56.599Z"
   },
   {
    "duration": 7,
    "start_time": "2025-07-06T14:42:56.604Z"
   },
   {
    "duration": 383,
    "start_time": "2025-07-06T14:42:56.612Z"
   },
   {
    "duration": 4,
    "start_time": "2025-07-06T14:42:56.996Z"
   },
   {
    "duration": 9,
    "start_time": "2025-07-06T14:42:57.002Z"
   },
   {
    "duration": 26,
    "start_time": "2025-07-06T14:42:57.012Z"
   },
   {
    "duration": 18,
    "start_time": "2025-07-06T14:42:57.040Z"
   },
   {
    "duration": 5,
    "start_time": "2025-07-06T14:42:57.060Z"
   },
   {
    "duration": 6,
    "start_time": "2025-07-06T14:42:57.067Z"
   },
   {
    "duration": 8,
    "start_time": "2025-07-06T14:42:57.075Z"
   },
   {
    "duration": 5,
    "start_time": "2025-07-06T14:42:57.084Z"
   },
   {
    "duration": 5,
    "start_time": "2025-07-06T14:42:57.090Z"
   },
   {
    "duration": 8,
    "start_time": "2025-07-06T14:42:57.096Z"
   },
   {
    "duration": 16,
    "start_time": "2025-07-06T14:42:57.106Z"
   },
   {
    "duration": 3349,
    "start_time": "2025-07-06T14:42:57.123Z"
   },
   {
    "duration": 4,
    "start_time": "2025-07-06T14:43:00.473Z"
   },
   {
    "duration": 8,
    "start_time": "2025-07-06T14:43:00.479Z"
   },
   {
    "duration": 1577,
    "start_time": "2025-07-06T14:43:00.488Z"
   },
   {
    "duration": 4,
    "start_time": "2025-07-06T14:43:02.067Z"
   },
   {
    "duration": 75,
    "start_time": "2025-07-06T14:43:02.072Z"
   },
   {
    "duration": 9,
    "start_time": "2025-07-06T14:43:02.149Z"
   },
   {
    "duration": 115,
    "start_time": "2025-07-06T14:43:02.160Z"
   },
   {
    "duration": 11787,
    "start_time": "2025-07-06T14:43:02.277Z"
   },
   {
    "duration": 3,
    "start_time": "2025-07-06T14:43:14.066Z"
   },
   {
    "duration": 9,
    "start_time": "2025-07-06T14:43:14.071Z"
   },
   {
    "duration": 5,
    "start_time": "2025-07-06T14:43:14.081Z"
   },
   {
    "duration": 3,
    "start_time": "2025-07-06T14:43:14.087Z"
   },
   {
    "duration": 3,
    "start_time": "2025-07-06T14:43:14.092Z"
   },
   {
    "duration": 741962,
    "start_time": "2025-07-06T14:43:14.096Z"
   },
   {
    "duration": 3,
    "start_time": "2025-07-06T14:55:36.060Z"
   },
   {
    "duration": 10,
    "start_time": "2025-07-06T14:55:36.065Z"
   },
   {
    "duration": 92,
    "start_time": "2025-07-06T14:55:36.077Z"
   },
   {
    "duration": 3207,
    "start_time": "2025-07-06T14:55:36.170Z"
   },
   {
    "duration": 308,
    "start_time": "2025-07-06T14:55:39.458Z"
   },
   {
    "duration": 432,
    "start_time": "2025-07-06T14:55:39.768Z"
   },
   {
    "duration": 2646,
    "start_time": "2025-07-06T14:56:45.146Z"
   },
   {
    "duration": 238,
    "start_time": "2025-07-06T14:57:15.656Z"
   },
   {
    "duration": 156,
    "start_time": "2025-07-06T14:59:34.486Z"
   },
   {
    "duration": 12,
    "start_time": "2025-07-06T14:59:59.336Z"
   },
   {
    "duration": 324,
    "start_time": "2025-07-06T15:01:33.175Z"
   }
  ],
  "kernelspec": {
   "display_name": "Python 3 (ipykernel)",
   "language": "python",
   "name": "python3"
  },
  "language_info": {
   "codemirror_mode": {
    "name": "ipython",
    "version": 3
   },
   "file_extension": ".py",
   "mimetype": "text/x-python",
   "name": "python",
   "nbconvert_exporter": "python",
   "pygments_lexer": "ipython3",
   "version": "3.9.5"
  },
  "toc": {
   "base_numbering": 1,
   "nav_menu": {},
   "number_sections": true,
   "sideBar": true,
   "skip_h1_title": true,
   "title_cell": "Содержание",
   "title_sidebar": "Contents",
   "toc_cell": true,
   "toc_position": {
    "height": "calc(100% - 180px)",
    "left": "10px",
    "top": "150px",
    "width": "306.738px"
   },
   "toc_section_display": true,
   "toc_window_display": true
  }
 },
 "nbformat": 4,
 "nbformat_minor": 2
}
