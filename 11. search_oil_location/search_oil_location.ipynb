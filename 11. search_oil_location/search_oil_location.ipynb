{
 "cells": [
  {
   "cell_type": "markdown",
   "metadata": {},
   "source": [
    "# Выбор локации для скважины"
   ]
  },
  {
   "cell_type": "markdown",
   "metadata": {},
   "source": [
    "Допустим, вы работаете в добывающей компании «ГлавРосГосНефть». Нужно решить, где бурить новую скважину.\n",
    "\n",
    "Вам предоставлены пробы нефти в трёх регионах: в каждом 10 000 месторождений, где измерили качество нефти и объём её запасов. Постройте модель машинного обучения, которая поможет определить регион, где добыча принесёт наибольшую прибыль. Проанализируйте возможную прибыль и риски техникой *Bootstrap.*\n",
    "\n",
    "Шаги для выбора локации:\n",
    "\n",
    "- В избранном регионе ищут месторождения, для каждого определяют значения признаков;\n",
    "- Строят модель и оценивают объём запасов;\n",
    "- Выбирают месторождения с самым высокими оценками значений. Количество месторождений зависит от бюджета компании и стоимости разработки одной скважины;\n",
    "- Прибыль равна суммарной прибыли отобранных месторождений."
   ]
  },
  {
   "cell_type": "markdown",
   "metadata": {},
   "source": [
    "## Импорты и функции для выполнения проекта"
   ]
  },
  {
   "cell_type": "code",
   "execution_count": 1,
   "metadata": {},
   "outputs": [
    {
     "name": "stdout",
     "output_type": "stream",
     "text": [
      "Note: you may need to restart the kernel to use updated packages.\n"
     ]
    }
   ],
   "source": [
    "pip install --upgrade scikit-learn -q"
   ]
  },
  {
   "cell_type": "code",
   "execution_count": 2,
   "metadata": {},
   "outputs": [
    {
     "name": "stdout",
     "output_type": "stream",
     "text": [
      "Note: you may need to restart the kernel to use updated packages.\n"
     ]
    }
   ],
   "source": [
    "pip install phik -q"
   ]
  },
  {
   "cell_type": "code",
   "execution_count": 3,
   "metadata": {},
   "outputs": [
    {
     "name": "stdout",
     "output_type": "stream",
     "text": [
      "Note: you may need to restart the kernel to use updated packages.\n"
     ]
    }
   ],
   "source": [
    "pip install shap -q"
   ]
  },
  {
   "cell_type": "code",
   "execution_count": 4,
   "metadata": {},
   "outputs": [],
   "source": [
    "#Импортируем необходимые библиотеки для работы \n",
    "import pandas as pd\n",
    "from math import *\n",
    "import numpy as np\n",
    "from scipy import stats as st\n",
    "from numpy.random import RandomState\n",
    "\n",
    "# Метрики и оОбработка данных\n",
    "from sklearn.metrics import mean_squared_error\n",
    "from sklearn.model_selection import train_test_split\n",
    "from sklearn.preprocessing import StandardScaler\n",
    "from sklearn.feature_selection import SelectKBest, f_classif\n",
    "\n",
    "\n",
    "# Графическое отображение\n",
    "from matplotlib.ticker import FuncFormatter\n",
    "import matplotlib.pyplot as plt\n",
    "import seaborn as sns\n",
    "\n",
    "\n",
    "# Модели обучения\n",
    "from sklearn.linear_model import LogisticRegression, LinearRegression\n",
    "\n",
    "\n",
    "\n",
    "import warnings\n",
    "warnings.filterwarnings(\"ignore\") #импортировал после завершения проекта, для удобного код-ревью\n",
    "\n",
    "#Зададим константы\n",
    "TEST_SIZE = 0.25\n",
    "RANDOM_STATE = 42"
   ]
  },
  {
   "cell_type": "code",
   "execution_count": 5,
   "metadata": {},
   "outputs": [],
   "source": [
    "# Функция для отображения информации о датасете\n",
    "def show_info(df):\n",
    "    print('Количество строк выборки составляет:',df.shape[0],'\\n')\n",
    "    display('Первые пять строк', df.head())\n",
    "    print('Общая информация о данных\\n')\n",
    "    print(df.info())\n",
    "    display('Описание',df.describe().T)\n",
    "    print('Количество явных дубликатов составляет',df.duplicated().sum())"
   ]
  },
  {
   "cell_type": "code",
   "execution_count": 6,
   "metadata": {},
   "outputs": [],
   "source": [
    "#Функция отображения гистограм и боксплотов для исследовательского анализа\n",
    "def search_plot(df_col, title_name, bins):\n",
    "\n",
    "    mean = df_col.mean()\n",
    "    median = df_col.median()\n",
    "    \n",
    "    fig, ax = plt.subplots(2, 1, figsize=(10, 10))\n",
    "    fig.suptitle(f\"{title_name}\", fontsize=13)\n",
    "    \n",
    "    sns.histplot(df_col, bins=bins, kde=True, ax=ax[0])\n",
    "    ax[0].set_title('Гистограмма', fontsize=10)\n",
    "    ax[0].set_xlabel(title_name)\n",
    "    ax[0].set_ylabel('Частота')\n",
    "    ax[0].grid(True)\n",
    "    \n",
    "    ax[0].axvline(mean, color='red', linestyle='--', label=f'Среднее = {mean:.2f}')\n",
    "    ax[0].axvline(median, color='purple', linestyle='-.', label=f'Медиана = {median:.2f}')\n",
    "    ax[0].legend()\n",
    "\n",
    "    sns.boxplot(x=df_col, ax=ax[1], color='pink')\n",
    "    ax[1].set_title('Диаграмма размаха', fontsize=10)\n",
    "    ax[1].axvline(median, color='green', linestyle='-.')\n",
    "    ax[1].grid(True)\n",
    "\n",
    "    plt.tight_layout(rect=[0, 0, 1, 0.95])\n",
    "    plt.show()\n",
    "    \n",
    "    \n",
    "    display(df_col.describe().T)\n",
    "    print('')\n",
    "    \n",
    "    stat, p = st.shapiro(df_col)\n",
    "    alpha = 0.1  # Уровень значимости\n",
    "    if p > alpha:\n",
    "        print(\"По тесту Шапиро-Уилка: Распределение похоже на нормальное\")\n",
    "    else:\n",
    "        print(\"По тесту Шапиро-Уилка: Распределение отличается от нормального\")"
   ]
  },
  {
   "cell_type": "code",
   "execution_count": 7,
   "metadata": {},
   "outputs": [],
   "source": [
    "def probability_income(income, mean_income, lower, upper, bins, title):\n",
    "    \n",
    "    fig, ax = plt.subplots(figsize=(12, 7))\n",
    "\n",
    "    sns.histplot(income, bins=bins, kde=True, ax=ax)\n",
    "    ax.set_title(f\"График распределения вероятности прибыли в {title}\", fontsize=13)\n",
    "    ax.set_xlabel('Прибыль,млрд.')\n",
    "    ax.set_ylabel('Частота')\n",
    "    ax.grid(True)\n",
    "\n",
    "\n",
    "    formatter = FuncFormatter(lambda x, _: f'{x * 1e-9:.1f}B')  # Делим на миллиард и добавляем \"B\"\n",
    "    ax.xaxis.set_major_formatter(formatter)\n",
    "\n",
    "    # Линии для среднего и квантилей\n",
    "    ax.axvline(mean_income, color='purple', linestyle='--', label=f'Среднее = {mean_income * 1e-9:.2f}B')\n",
    "    ax.axvline(lower, color='red', linestyle='-.', label=f'Нижний квантиль 2.5% = {lower * 1e-9:.2f}B')\n",
    "    ax.axvline(upper, color='blue', linestyle='-.', label=f'Верхний квантиль 97.5% = {upper * 1e-9:.2f}B')\n",
    "    ax.legend()"
   ]
  },
  {
   "cell_type": "code",
   "execution_count": 8,
   "metadata": {},
   "outputs": [],
   "source": [
    "def train_model(df): \n",
    "    \n",
    "# Выделяем признаки и таргет\n",
    "    X = df.drop(['product'], axis = 1)\n",
    "    y = df['product']\n",
    "    \n",
    "# Разделяем выборки на тренировочную и тестовую\n",
    "    X_train, X_test, y_train, y_test = train_test_split(\n",
    "    X,\n",
    "    y,\n",
    "    test_size = TEST_SIZE, \n",
    "    random_state = RANDOM_STATE\n",
    "    )\n",
    "    \n",
    "# Используем масштабирование данных\n",
    "    scaler = StandardScaler()\n",
    "    X_train_scaled = scaler.fit_transform(X_train)\n",
    "    X_test_scaled = scaler.fit_transform(X_test)\n",
    "    \n",
    "    \n",
    "# Инициализация линейной регрессии\n",
    "    lr = LinearRegression()\n",
    "    \n",
    "# Обучение модели\n",
    "    lr.fit(X_train_scaled, y_train)\n",
    "    \n",
    "# Предсказание модели\n",
    "    prediction = lr.predict(X_test_scaled)\n",
    "    \n",
    "# Расчет среднего объема\n",
    "    oil_mean_region = prediction.sum() / len(prediction)\n",
    "\n",
    "# Оценка rmse-метрики\n",
    "    rmse = mean_squared_error(y_test, prediction) ** 0.5 \n",
    "    return rmse, oil_mean_region, prediction, y_test"
   ]
  },
  {
   "cell_type": "markdown",
   "metadata": {},
   "source": [
    "## Загрузка и подготовка данных"
   ]
  },
  {
   "cell_type": "code",
   "execution_count": 9,
   "metadata": {},
   "outputs": [],
   "source": [
    "try:\n",
    "    df_1 = pd.read_csv('/datasets/geo_data_0.csv', sep =',')\n",
    "    df_2 = pd.read_csv('/datasets/geo_data_1.csv', sep =',')\n",
    "    df_3 = pd.read_csv('/datasets/geo_data_2.csv', sep =',')\n",
    "    \n",
    "except:\n",
    "    df_1 = pd.read_csv('geo_data_0.csv', sep =',')\n",
    "    df_2 = pd.read_csv('geo_data_1.csv', sep =',')\n",
    "    df_3 = pd.read_csv('geo_data_2.csv', sep =',')\n",
    "\n",
    "    \n",
    "df_list=[df_1, df_2, df_3]\n"
   ]
  },
  {
   "cell_type": "code",
   "execution_count": 10,
   "metadata": {
    "scrolled": false
   },
   "outputs": [
    {
     "name": "stdout",
     "output_type": "stream",
     "text": [
      "------------ ДАТАСЕТ №1 ------------\n",
      "Количество строк выборки составляет: 100000 \n",
      "\n"
     ]
    },
    {
     "data": {
      "text/plain": [
       "'Первые пять строк'"
      ]
     },
     "metadata": {},
     "output_type": "display_data"
    },
    {
     "data": {
      "text/html": [
       "<div>\n",
       "<style scoped>\n",
       "    .dataframe tbody tr th:only-of-type {\n",
       "        vertical-align: middle;\n",
       "    }\n",
       "\n",
       "    .dataframe tbody tr th {\n",
       "        vertical-align: top;\n",
       "    }\n",
       "\n",
       "    .dataframe thead th {\n",
       "        text-align: right;\n",
       "    }\n",
       "</style>\n",
       "<table border=\"1\" class=\"dataframe\">\n",
       "  <thead>\n",
       "    <tr style=\"text-align: right;\">\n",
       "      <th></th>\n",
       "      <th>id</th>\n",
       "      <th>f0</th>\n",
       "      <th>f1</th>\n",
       "      <th>f2</th>\n",
       "      <th>product</th>\n",
       "    </tr>\n",
       "  </thead>\n",
       "  <tbody>\n",
       "    <tr>\n",
       "      <th>0</th>\n",
       "      <td>txEyH</td>\n",
       "      <td>0.705745</td>\n",
       "      <td>-0.497823</td>\n",
       "      <td>1.221170</td>\n",
       "      <td>105.280062</td>\n",
       "    </tr>\n",
       "    <tr>\n",
       "      <th>1</th>\n",
       "      <td>2acmU</td>\n",
       "      <td>1.334711</td>\n",
       "      <td>-0.340164</td>\n",
       "      <td>4.365080</td>\n",
       "      <td>73.037750</td>\n",
       "    </tr>\n",
       "    <tr>\n",
       "      <th>2</th>\n",
       "      <td>409Wp</td>\n",
       "      <td>1.022732</td>\n",
       "      <td>0.151990</td>\n",
       "      <td>1.419926</td>\n",
       "      <td>85.265647</td>\n",
       "    </tr>\n",
       "    <tr>\n",
       "      <th>3</th>\n",
       "      <td>iJLyR</td>\n",
       "      <td>-0.032172</td>\n",
       "      <td>0.139033</td>\n",
       "      <td>2.978566</td>\n",
       "      <td>168.620776</td>\n",
       "    </tr>\n",
       "    <tr>\n",
       "      <th>4</th>\n",
       "      <td>Xdl7t</td>\n",
       "      <td>1.988431</td>\n",
       "      <td>0.155413</td>\n",
       "      <td>4.751769</td>\n",
       "      <td>154.036647</td>\n",
       "    </tr>\n",
       "  </tbody>\n",
       "</table>\n",
       "</div>"
      ],
      "text/plain": [
       "      id        f0        f1        f2     product\n",
       "0  txEyH  0.705745 -0.497823  1.221170  105.280062\n",
       "1  2acmU  1.334711 -0.340164  4.365080   73.037750\n",
       "2  409Wp  1.022732  0.151990  1.419926   85.265647\n",
       "3  iJLyR -0.032172  0.139033  2.978566  168.620776\n",
       "4  Xdl7t  1.988431  0.155413  4.751769  154.036647"
      ]
     },
     "metadata": {},
     "output_type": "display_data"
    },
    {
     "name": "stdout",
     "output_type": "stream",
     "text": [
      "Общая информация о данных\n",
      "\n",
      "<class 'pandas.core.frame.DataFrame'>\n",
      "RangeIndex: 100000 entries, 0 to 99999\n",
      "Data columns (total 5 columns):\n",
      " #   Column   Non-Null Count   Dtype  \n",
      "---  ------   --------------   -----  \n",
      " 0   id       100000 non-null  object \n",
      " 1   f0       100000 non-null  float64\n",
      " 2   f1       100000 non-null  float64\n",
      " 3   f2       100000 non-null  float64\n",
      " 4   product  100000 non-null  float64\n",
      "dtypes: float64(4), object(1)\n",
      "memory usage: 3.8+ MB\n",
      "None\n"
     ]
    },
    {
     "data": {
      "text/plain": [
       "'Описание'"
      ]
     },
     "metadata": {},
     "output_type": "display_data"
    },
    {
     "data": {
      "text/html": [
       "<div>\n",
       "<style scoped>\n",
       "    .dataframe tbody tr th:only-of-type {\n",
       "        vertical-align: middle;\n",
       "    }\n",
       "\n",
       "    .dataframe tbody tr th {\n",
       "        vertical-align: top;\n",
       "    }\n",
       "\n",
       "    .dataframe thead th {\n",
       "        text-align: right;\n",
       "    }\n",
       "</style>\n",
       "<table border=\"1\" class=\"dataframe\">\n",
       "  <thead>\n",
       "    <tr style=\"text-align: right;\">\n",
       "      <th></th>\n",
       "      <th>count</th>\n",
       "      <th>mean</th>\n",
       "      <th>std</th>\n",
       "      <th>min</th>\n",
       "      <th>25%</th>\n",
       "      <th>50%</th>\n",
       "      <th>75%</th>\n",
       "      <th>max</th>\n",
       "    </tr>\n",
       "  </thead>\n",
       "  <tbody>\n",
       "    <tr>\n",
       "      <th>f0</th>\n",
       "      <td>100000.0</td>\n",
       "      <td>0.500419</td>\n",
       "      <td>0.871832</td>\n",
       "      <td>-1.408605</td>\n",
       "      <td>-0.072580</td>\n",
       "      <td>0.502360</td>\n",
       "      <td>1.073581</td>\n",
       "      <td>2.362331</td>\n",
       "    </tr>\n",
       "    <tr>\n",
       "      <th>f1</th>\n",
       "      <td>100000.0</td>\n",
       "      <td>0.250143</td>\n",
       "      <td>0.504433</td>\n",
       "      <td>-0.848218</td>\n",
       "      <td>-0.200881</td>\n",
       "      <td>0.250252</td>\n",
       "      <td>0.700646</td>\n",
       "      <td>1.343769</td>\n",
       "    </tr>\n",
       "    <tr>\n",
       "      <th>f2</th>\n",
       "      <td>100000.0</td>\n",
       "      <td>2.502647</td>\n",
       "      <td>3.248248</td>\n",
       "      <td>-12.088328</td>\n",
       "      <td>0.287748</td>\n",
       "      <td>2.515969</td>\n",
       "      <td>4.715088</td>\n",
       "      <td>16.003790</td>\n",
       "    </tr>\n",
       "    <tr>\n",
       "      <th>product</th>\n",
       "      <td>100000.0</td>\n",
       "      <td>92.500000</td>\n",
       "      <td>44.288691</td>\n",
       "      <td>0.000000</td>\n",
       "      <td>56.497507</td>\n",
       "      <td>91.849972</td>\n",
       "      <td>128.564089</td>\n",
       "      <td>185.364347</td>\n",
       "    </tr>\n",
       "  </tbody>\n",
       "</table>\n",
       "</div>"
      ],
      "text/plain": [
       "            count       mean        std        min        25%        50%  \\\n",
       "f0       100000.0   0.500419   0.871832  -1.408605  -0.072580   0.502360   \n",
       "f1       100000.0   0.250143   0.504433  -0.848218  -0.200881   0.250252   \n",
       "f2       100000.0   2.502647   3.248248 -12.088328   0.287748   2.515969   \n",
       "product  100000.0  92.500000  44.288691   0.000000  56.497507  91.849972   \n",
       "\n",
       "                75%         max  \n",
       "f0         1.073581    2.362331  \n",
       "f1         0.700646    1.343769  \n",
       "f2         4.715088   16.003790  \n",
       "product  128.564089  185.364347  "
      ]
     },
     "metadata": {},
     "output_type": "display_data"
    },
    {
     "name": "stdout",
     "output_type": "stream",
     "text": [
      "Количество явных дубликатов составляет 0\n",
      "\n",
      "------------------------------------\n",
      "------------ ДАТАСЕТ №2 ------------\n",
      "Количество строк выборки составляет: 100000 \n",
      "\n"
     ]
    },
    {
     "data": {
      "text/plain": [
       "'Первые пять строк'"
      ]
     },
     "metadata": {},
     "output_type": "display_data"
    },
    {
     "data": {
      "text/html": [
       "<div>\n",
       "<style scoped>\n",
       "    .dataframe tbody tr th:only-of-type {\n",
       "        vertical-align: middle;\n",
       "    }\n",
       "\n",
       "    .dataframe tbody tr th {\n",
       "        vertical-align: top;\n",
       "    }\n",
       "\n",
       "    .dataframe thead th {\n",
       "        text-align: right;\n",
       "    }\n",
       "</style>\n",
       "<table border=\"1\" class=\"dataframe\">\n",
       "  <thead>\n",
       "    <tr style=\"text-align: right;\">\n",
       "      <th></th>\n",
       "      <th>id</th>\n",
       "      <th>f0</th>\n",
       "      <th>f1</th>\n",
       "      <th>f2</th>\n",
       "      <th>product</th>\n",
       "    </tr>\n",
       "  </thead>\n",
       "  <tbody>\n",
       "    <tr>\n",
       "      <th>0</th>\n",
       "      <td>kBEdx</td>\n",
       "      <td>-15.001348</td>\n",
       "      <td>-8.276000</td>\n",
       "      <td>-0.005876</td>\n",
       "      <td>3.179103</td>\n",
       "    </tr>\n",
       "    <tr>\n",
       "      <th>1</th>\n",
       "      <td>62mP7</td>\n",
       "      <td>14.272088</td>\n",
       "      <td>-3.475083</td>\n",
       "      <td>0.999183</td>\n",
       "      <td>26.953261</td>\n",
       "    </tr>\n",
       "    <tr>\n",
       "      <th>2</th>\n",
       "      <td>vyE1P</td>\n",
       "      <td>6.263187</td>\n",
       "      <td>-5.948386</td>\n",
       "      <td>5.001160</td>\n",
       "      <td>134.766305</td>\n",
       "    </tr>\n",
       "    <tr>\n",
       "      <th>3</th>\n",
       "      <td>KcrkZ</td>\n",
       "      <td>-13.081196</td>\n",
       "      <td>-11.506057</td>\n",
       "      <td>4.999415</td>\n",
       "      <td>137.945408</td>\n",
       "    </tr>\n",
       "    <tr>\n",
       "      <th>4</th>\n",
       "      <td>AHL4O</td>\n",
       "      <td>12.702195</td>\n",
       "      <td>-8.147433</td>\n",
       "      <td>5.004363</td>\n",
       "      <td>134.766305</td>\n",
       "    </tr>\n",
       "  </tbody>\n",
       "</table>\n",
       "</div>"
      ],
      "text/plain": [
       "      id         f0         f1        f2     product\n",
       "0  kBEdx -15.001348  -8.276000 -0.005876    3.179103\n",
       "1  62mP7  14.272088  -3.475083  0.999183   26.953261\n",
       "2  vyE1P   6.263187  -5.948386  5.001160  134.766305\n",
       "3  KcrkZ -13.081196 -11.506057  4.999415  137.945408\n",
       "4  AHL4O  12.702195  -8.147433  5.004363  134.766305"
      ]
     },
     "metadata": {},
     "output_type": "display_data"
    },
    {
     "name": "stdout",
     "output_type": "stream",
     "text": [
      "Общая информация о данных\n",
      "\n",
      "<class 'pandas.core.frame.DataFrame'>\n",
      "RangeIndex: 100000 entries, 0 to 99999\n",
      "Data columns (total 5 columns):\n",
      " #   Column   Non-Null Count   Dtype  \n",
      "---  ------   --------------   -----  \n",
      " 0   id       100000 non-null  object \n",
      " 1   f0       100000 non-null  float64\n",
      " 2   f1       100000 non-null  float64\n",
      " 3   f2       100000 non-null  float64\n",
      " 4   product  100000 non-null  float64\n",
      "dtypes: float64(4), object(1)\n",
      "memory usage: 3.8+ MB\n",
      "None\n"
     ]
    },
    {
     "data": {
      "text/plain": [
       "'Описание'"
      ]
     },
     "metadata": {},
     "output_type": "display_data"
    },
    {
     "data": {
      "text/html": [
       "<div>\n",
       "<style scoped>\n",
       "    .dataframe tbody tr th:only-of-type {\n",
       "        vertical-align: middle;\n",
       "    }\n",
       "\n",
       "    .dataframe tbody tr th {\n",
       "        vertical-align: top;\n",
       "    }\n",
       "\n",
       "    .dataframe thead th {\n",
       "        text-align: right;\n",
       "    }\n",
       "</style>\n",
       "<table border=\"1\" class=\"dataframe\">\n",
       "  <thead>\n",
       "    <tr style=\"text-align: right;\">\n",
       "      <th></th>\n",
       "      <th>count</th>\n",
       "      <th>mean</th>\n",
       "      <th>std</th>\n",
       "      <th>min</th>\n",
       "      <th>25%</th>\n",
       "      <th>50%</th>\n",
       "      <th>75%</th>\n",
       "      <th>max</th>\n",
       "    </tr>\n",
       "  </thead>\n",
       "  <tbody>\n",
       "    <tr>\n",
       "      <th>f0</th>\n",
       "      <td>100000.0</td>\n",
       "      <td>1.141296</td>\n",
       "      <td>8.965932</td>\n",
       "      <td>-31.609576</td>\n",
       "      <td>-6.298551</td>\n",
       "      <td>1.153055</td>\n",
       "      <td>8.621015</td>\n",
       "      <td>29.421755</td>\n",
       "    </tr>\n",
       "    <tr>\n",
       "      <th>f1</th>\n",
       "      <td>100000.0</td>\n",
       "      <td>-4.796579</td>\n",
       "      <td>5.119872</td>\n",
       "      <td>-26.358598</td>\n",
       "      <td>-8.267985</td>\n",
       "      <td>-4.813172</td>\n",
       "      <td>-1.332816</td>\n",
       "      <td>18.734063</td>\n",
       "    </tr>\n",
       "    <tr>\n",
       "      <th>f2</th>\n",
       "      <td>100000.0</td>\n",
       "      <td>2.494541</td>\n",
       "      <td>1.703572</td>\n",
       "      <td>-0.018144</td>\n",
       "      <td>1.000021</td>\n",
       "      <td>2.011479</td>\n",
       "      <td>3.999904</td>\n",
       "      <td>5.019721</td>\n",
       "    </tr>\n",
       "    <tr>\n",
       "      <th>product</th>\n",
       "      <td>100000.0</td>\n",
       "      <td>68.825000</td>\n",
       "      <td>45.944423</td>\n",
       "      <td>0.000000</td>\n",
       "      <td>26.953261</td>\n",
       "      <td>57.085625</td>\n",
       "      <td>107.813044</td>\n",
       "      <td>137.945408</td>\n",
       "    </tr>\n",
       "  </tbody>\n",
       "</table>\n",
       "</div>"
      ],
      "text/plain": [
       "            count       mean        std        min        25%        50%  \\\n",
       "f0       100000.0   1.141296   8.965932 -31.609576  -6.298551   1.153055   \n",
       "f1       100000.0  -4.796579   5.119872 -26.358598  -8.267985  -4.813172   \n",
       "f2       100000.0   2.494541   1.703572  -0.018144   1.000021   2.011479   \n",
       "product  100000.0  68.825000  45.944423   0.000000  26.953261  57.085625   \n",
       "\n",
       "                75%         max  \n",
       "f0         8.621015   29.421755  \n",
       "f1        -1.332816   18.734063  \n",
       "f2         3.999904    5.019721  \n",
       "product  107.813044  137.945408  "
      ]
     },
     "metadata": {},
     "output_type": "display_data"
    },
    {
     "name": "stdout",
     "output_type": "stream",
     "text": [
      "Количество явных дубликатов составляет 0\n",
      "\n",
      "------------------------------------\n",
      "------------ ДАТАСЕТ №3 ------------\n",
      "Количество строк выборки составляет: 100000 \n",
      "\n"
     ]
    },
    {
     "data": {
      "text/plain": [
       "'Первые пять строк'"
      ]
     },
     "metadata": {},
     "output_type": "display_data"
    },
    {
     "data": {
      "text/html": [
       "<div>\n",
       "<style scoped>\n",
       "    .dataframe tbody tr th:only-of-type {\n",
       "        vertical-align: middle;\n",
       "    }\n",
       "\n",
       "    .dataframe tbody tr th {\n",
       "        vertical-align: top;\n",
       "    }\n",
       "\n",
       "    .dataframe thead th {\n",
       "        text-align: right;\n",
       "    }\n",
       "</style>\n",
       "<table border=\"1\" class=\"dataframe\">\n",
       "  <thead>\n",
       "    <tr style=\"text-align: right;\">\n",
       "      <th></th>\n",
       "      <th>id</th>\n",
       "      <th>f0</th>\n",
       "      <th>f1</th>\n",
       "      <th>f2</th>\n",
       "      <th>product</th>\n",
       "    </tr>\n",
       "  </thead>\n",
       "  <tbody>\n",
       "    <tr>\n",
       "      <th>0</th>\n",
       "      <td>fwXo0</td>\n",
       "      <td>-1.146987</td>\n",
       "      <td>0.963328</td>\n",
       "      <td>-0.828965</td>\n",
       "      <td>27.758673</td>\n",
       "    </tr>\n",
       "    <tr>\n",
       "      <th>1</th>\n",
       "      <td>WJtFt</td>\n",
       "      <td>0.262778</td>\n",
       "      <td>0.269839</td>\n",
       "      <td>-2.530187</td>\n",
       "      <td>56.069697</td>\n",
       "    </tr>\n",
       "    <tr>\n",
       "      <th>2</th>\n",
       "      <td>ovLUW</td>\n",
       "      <td>0.194587</td>\n",
       "      <td>0.289035</td>\n",
       "      <td>-5.586433</td>\n",
       "      <td>62.871910</td>\n",
       "    </tr>\n",
       "    <tr>\n",
       "      <th>3</th>\n",
       "      <td>q6cA6</td>\n",
       "      <td>2.236060</td>\n",
       "      <td>-0.553760</td>\n",
       "      <td>0.930038</td>\n",
       "      <td>114.572842</td>\n",
       "    </tr>\n",
       "    <tr>\n",
       "      <th>4</th>\n",
       "      <td>WPMUX</td>\n",
       "      <td>-0.515993</td>\n",
       "      <td>1.716266</td>\n",
       "      <td>5.899011</td>\n",
       "      <td>149.600746</td>\n",
       "    </tr>\n",
       "  </tbody>\n",
       "</table>\n",
       "</div>"
      ],
      "text/plain": [
       "      id        f0        f1        f2     product\n",
       "0  fwXo0 -1.146987  0.963328 -0.828965   27.758673\n",
       "1  WJtFt  0.262778  0.269839 -2.530187   56.069697\n",
       "2  ovLUW  0.194587  0.289035 -5.586433   62.871910\n",
       "3  q6cA6  2.236060 -0.553760  0.930038  114.572842\n",
       "4  WPMUX -0.515993  1.716266  5.899011  149.600746"
      ]
     },
     "metadata": {},
     "output_type": "display_data"
    },
    {
     "name": "stdout",
     "output_type": "stream",
     "text": [
      "Общая информация о данных\n",
      "\n",
      "<class 'pandas.core.frame.DataFrame'>\n",
      "RangeIndex: 100000 entries, 0 to 99999\n",
      "Data columns (total 5 columns):\n",
      " #   Column   Non-Null Count   Dtype  \n",
      "---  ------   --------------   -----  \n",
      " 0   id       100000 non-null  object \n",
      " 1   f0       100000 non-null  float64\n",
      " 2   f1       100000 non-null  float64\n",
      " 3   f2       100000 non-null  float64\n",
      " 4   product  100000 non-null  float64\n",
      "dtypes: float64(4), object(1)\n",
      "memory usage: 3.8+ MB\n",
      "None\n"
     ]
    },
    {
     "data": {
      "text/plain": [
       "'Описание'"
      ]
     },
     "metadata": {},
     "output_type": "display_data"
    },
    {
     "data": {
      "text/html": [
       "<div>\n",
       "<style scoped>\n",
       "    .dataframe tbody tr th:only-of-type {\n",
       "        vertical-align: middle;\n",
       "    }\n",
       "\n",
       "    .dataframe tbody tr th {\n",
       "        vertical-align: top;\n",
       "    }\n",
       "\n",
       "    .dataframe thead th {\n",
       "        text-align: right;\n",
       "    }\n",
       "</style>\n",
       "<table border=\"1\" class=\"dataframe\">\n",
       "  <thead>\n",
       "    <tr style=\"text-align: right;\">\n",
       "      <th></th>\n",
       "      <th>count</th>\n",
       "      <th>mean</th>\n",
       "      <th>std</th>\n",
       "      <th>min</th>\n",
       "      <th>25%</th>\n",
       "      <th>50%</th>\n",
       "      <th>75%</th>\n",
       "      <th>max</th>\n",
       "    </tr>\n",
       "  </thead>\n",
       "  <tbody>\n",
       "    <tr>\n",
       "      <th>f0</th>\n",
       "      <td>100000.0</td>\n",
       "      <td>0.002023</td>\n",
       "      <td>1.732045</td>\n",
       "      <td>-8.760004</td>\n",
       "      <td>-1.162288</td>\n",
       "      <td>0.009424</td>\n",
       "      <td>1.158535</td>\n",
       "      <td>7.238262</td>\n",
       "    </tr>\n",
       "    <tr>\n",
       "      <th>f1</th>\n",
       "      <td>100000.0</td>\n",
       "      <td>-0.002081</td>\n",
       "      <td>1.730417</td>\n",
       "      <td>-7.084020</td>\n",
       "      <td>-1.174820</td>\n",
       "      <td>-0.009482</td>\n",
       "      <td>1.163678</td>\n",
       "      <td>7.844801</td>\n",
       "    </tr>\n",
       "    <tr>\n",
       "      <th>f2</th>\n",
       "      <td>100000.0</td>\n",
       "      <td>2.495128</td>\n",
       "      <td>3.473445</td>\n",
       "      <td>-11.970335</td>\n",
       "      <td>0.130359</td>\n",
       "      <td>2.484236</td>\n",
       "      <td>4.858794</td>\n",
       "      <td>16.739402</td>\n",
       "    </tr>\n",
       "    <tr>\n",
       "      <th>product</th>\n",
       "      <td>100000.0</td>\n",
       "      <td>95.000000</td>\n",
       "      <td>44.749921</td>\n",
       "      <td>0.000000</td>\n",
       "      <td>59.450441</td>\n",
       "      <td>94.925613</td>\n",
       "      <td>130.595027</td>\n",
       "      <td>190.029838</td>\n",
       "    </tr>\n",
       "  </tbody>\n",
       "</table>\n",
       "</div>"
      ],
      "text/plain": [
       "            count       mean        std        min        25%        50%  \\\n",
       "f0       100000.0   0.002023   1.732045  -8.760004  -1.162288   0.009424   \n",
       "f1       100000.0  -0.002081   1.730417  -7.084020  -1.174820  -0.009482   \n",
       "f2       100000.0   2.495128   3.473445 -11.970335   0.130359   2.484236   \n",
       "product  100000.0  95.000000  44.749921   0.000000  59.450441  94.925613   \n",
       "\n",
       "                75%         max  \n",
       "f0         1.158535    7.238262  \n",
       "f1         1.163678    7.844801  \n",
       "f2         4.858794   16.739402  \n",
       "product  130.595027  190.029838  "
      ]
     },
     "metadata": {},
     "output_type": "display_data"
    },
    {
     "name": "stdout",
     "output_type": "stream",
     "text": [
      "Количество явных дубликатов составляет 0\n",
      "\n",
      "------------------------------------\n"
     ]
    }
   ],
   "source": [
    "i=1\n",
    "for df in df_list:\n",
    "    print(f'------------ ДАТАСЕТ №{i} ------------')\n",
    "    show_info(df)\n",
    "    print(f'\\n------------------------------------')\n",
    "    i+=1"
   ]
  },
  {
   "cell_type": "code",
   "execution_count": 11,
   "metadata": {
    "scrolled": false
   },
   "outputs": [],
   "source": [
    "# Уберем id в индексы\n",
    "df_1 = df_1.drop(['id'], axis = 1)\n",
    "df_2 = df_2.drop(['id'], axis = 1)\n",
    "df_3 = df_3.drop(['id'], axis = 1)\n"
   ]
  },
  {
   "cell_type": "code",
   "execution_count": 12,
   "metadata": {},
   "outputs": [],
   "source": [
    "df_list = [df_1, df_2, df_3]"
   ]
  },
  {
   "cell_type": "markdown",
   "metadata": {},
   "source": [
    "### Итог  по загрузке данных"
   ]
  },
  {
   "cell_type": "markdown",
   "metadata": {},
   "source": [
    "<div  style=\"border-radius: 10px; border: 2px solid; padding: 40px \">\n",
    "\n",
    "1. Пропуски и дубликаты отсутствуют.\n",
    "    \n",
    "2. С каждого региона представлено по 10000 скважин    \n",
    "       \n",
    "3. Среднее значение объемов запаса нефти вышевсего в 1 и 3 регионе(92.5 и 95 тыс. баррелей), во втором  68.8 тыс. баррелей"
   ]
  },
  {
   "cell_type": "markdown",
   "metadata": {},
   "source": [
    "## Исследовательский анализ"
   ]
  },
  {
   "cell_type": "markdown",
   "metadata": {},
   "source": [
    "### Первый регион"
   ]
  },
  {
   "cell_type": "code",
   "execution_count": 13,
   "metadata": {
    "scrolled": false
   },
   "outputs": [
    {
     "data": {
      "image/png": "[encoded data removed]",
      "text/plain": [
       "<Figure size 720x720 with 2 Axes>"
      ]
     },
     "metadata": {
      "needs_background": "light"
     },
     "output_type": "display_data"
    },
    {
     "data": {
      "text/plain": [
       "count    100000.000000\n",
       "mean          0.500419\n",
       "std           0.871832\n",
       "min          -1.408605\n",
       "25%          -0.072580\n",
       "50%           0.502360\n",
       "75%           1.073581\n",
       "max           2.362331\n",
       "Name: f0, dtype: float64"
      ]
     },
     "metadata": {},
     "output_type": "display_data"
    },
    {
     "name": "stdout",
     "output_type": "stream",
     "text": [
      "\n",
      "По тесту Шапиро-Уилка: Распределение отличается от нормального\n"
     ]
    }
   ],
   "source": [
    "search_plot(df_1['f0'],'f0',50)"
   ]
  },
  {
   "cell_type": "markdown",
   "metadata": {},
   "source": [
    "- Распределение содержит неколько пиковых значений.   \n",
    "- Выбросы отсутствуют.    \n",
    "- Среднее и медиана равны. \n",
    "\n",
    "-----"
   ]
  },
  {
   "cell_type": "code",
   "execution_count": 14,
   "metadata": {
    "scrolled": false
   },
   "outputs": [
    {
     "data": {
      "image/png": "[encoded data removed]",
      "text/plain": [
       "<Figure size 720x720 with 2 Axes>"
      ]
     },
     "metadata": {
      "needs_background": "light"
     },
     "output_type": "display_data"
    },
    {
     "data": {
      "text/plain": [
       "count    100000.000000\n",
       "mean          0.250143\n",
       "std           0.504433\n",
       "min          -0.848218\n",
       "25%          -0.200881\n",
       "50%           0.250252\n",
       "75%           0.700646\n",
       "max           1.343769\n",
       "Name: f1, dtype: float64"
      ]
     },
     "metadata": {},
     "output_type": "display_data"
    },
    {
     "name": "stdout",
     "output_type": "stream",
     "text": [
      "\n",
      "По тесту Шапиро-Уилка: Распределение отличается от нормального\n"
     ]
    }
   ],
   "source": [
    "search_plot(df_1['f1'],'f1',30)"
   ]
  },
  {
   "cell_type": "markdown",
   "metadata": {},
   "source": [
    "- Распределение содержит неколько пиковых значений.   \n",
    "- Выбросы отсутсвуют.    \n",
    "- Среднее и медиана равны. \n"
   ]
  },
  {
   "cell_type": "code",
   "execution_count": 15,
   "metadata": {
    "scrolled": false
   },
   "outputs": [
    {
     "data": {
      "image/png": "[encoded data removed]",
      "text/plain": [
       "<Figure size 720x720 with 2 Axes>"
      ]
     },
     "metadata": {
      "needs_background": "light"
     },
     "output_type": "display_data"
    },
    {
     "data": {
      "text/plain": [
       "count    100000.000000\n",
       "mean          2.502647\n",
       "std           3.248248\n",
       "min         -12.088328\n",
       "25%           0.287748\n",
       "50%           2.515969\n",
       "75%           4.715088\n",
       "max          16.003790\n",
       "Name: f2, dtype: float64"
      ]
     },
     "metadata": {},
     "output_type": "display_data"
    },
    {
     "name": "stdout",
     "output_type": "stream",
     "text": [
      "\n",
      "По тесту Шапиро-Уилка: Распределение отличается от нормального\n"
     ]
    }
   ],
   "source": [
    "search_plot(df_1['f2'],'f2',30)"
   ]
  },
  {
   "cell_type": "markdown",
   "metadata": {},
   "source": [
    "- Распределение похоже на нормальное, но с выбросами.   \n",
    "- Наблюдаются выбросы.    \n",
    "- Среднее и медиана почти равны. \n",
    "\n",
    "> **Выбросы удалять не будем, так как по условию задачи нет конкретного пояснения, что они обозначают. Также было отмечено, что эти признаки значимы**"
   ]
  },
  {
   "cell_type": "code",
   "execution_count": 16,
   "metadata": {
    "scrolled": false
   },
   "outputs": [
    {
     "data": {
      "image/png": "[encoded data removed]",
      "text/plain": [
       "<Figure size 720x720 with 2 Axes>"
      ]
     },
     "metadata": {
      "needs_background": "light"
     },
     "output_type": "display_data"
    },
    {
     "data": {
      "text/plain": [
       "count    100000.000000\n",
       "mean         92.500000\n",
       "std          44.288691\n",
       "min           0.000000\n",
       "25%          56.497507\n",
       "50%          91.849972\n",
       "75%         128.564089\n",
       "max         185.364347\n",
       "Name: product, dtype: float64"
      ]
     },
     "metadata": {},
     "output_type": "display_data"
    },
    {
     "name": "stdout",
     "output_type": "stream",
     "text": [
      "\n",
      "По тесту Шапиро-Уилка: Распределение отличается от нормального\n"
     ]
    }
   ],
   "source": [
    "search_plot(df_1['product'],'product',30)"
   ]
  },
  {
   "cell_type": "markdown",
   "metadata": {},
   "source": [
    "- Распределение содержит неколько пиковых значений.\n",
    "- Выбросы отсутсвуют.\n",
    "- Среднее и медиана равны.\n",
    "- Нет отрицательных значений."
   ]
  },
  {
   "cell_type": "markdown",
   "metadata": {},
   "source": [
    "### Второй регион"
   ]
  },
  {
   "cell_type": "code",
   "execution_count": 17,
   "metadata": {
    "scrolled": false
   },
   "outputs": [
    {
     "data": {
      "image/png": "[encoded data removed]",
      "text/plain": [
       "<Figure size 720x720 with 2 Axes>"
      ]
     },
     "metadata": {
      "needs_background": "light"
     },
     "output_type": "display_data"
    },
    {
     "data": {
      "text/plain": [
       "count    100000.000000\n",
       "mean          1.141296\n",
       "std           8.965932\n",
       "min         -31.609576\n",
       "25%          -6.298551\n",
       "50%           1.153055\n",
       "75%           8.621015\n",
       "max          29.421755\n",
       "Name: f0, dtype: float64"
      ]
     },
     "metadata": {},
     "output_type": "display_data"
    },
    {
     "name": "stdout",
     "output_type": "stream",
     "text": [
      "\n",
      "По тесту Шапиро-Уилка: Распределение отличается от нормального\n"
     ]
    }
   ],
   "source": [
    "search_plot(df_2['f0'],'f0',50)"
   ]
  },
  {
   "cell_type": "markdown",
   "metadata": {},
   "source": [
    "- Распределение бимодальное.   \n",
    "- Наблюдаются выброс.    \n",
    "- Среднее и медиана почти равны. "
   ]
  },
  {
   "cell_type": "code",
   "execution_count": 18,
   "metadata": {
    "scrolled": false
   },
   "outputs": [
    {
     "data": {
      "image/png": "[encoded data removed]",
      "text/plain": [
       "<Figure size 720x720 with 2 Axes>"
      ]
     },
     "metadata": {
      "needs_background": "light"
     },
     "output_type": "display_data"
    },
    {
     "data": {
      "text/plain": [
       "count    100000.000000\n",
       "mean         -4.796579\n",
       "std           5.119872\n",
       "min         -26.358598\n",
       "25%          -8.267985\n",
       "50%          -4.813172\n",
       "75%          -1.332816\n",
       "max          18.734063\n",
       "Name: f1, dtype: float64"
      ]
     },
     "metadata": {},
     "output_type": "display_data"
    },
    {
     "name": "stdout",
     "output_type": "stream",
     "text": [
      "\n",
      "По тесту Шапиро-Уилка: Распределение похоже на нормальное\n"
     ]
    }
   ],
   "source": [
    "search_plot(df_2['f1'],'f1',30)"
   ]
  },
  {
   "cell_type": "markdown",
   "metadata": {},
   "source": [
    "- Распределение похоже на нормальное, но с выбросами.   \n",
    "- Наблюдаются выбросы.    \n",
    "- Среднее и медиана почти равны. "
   ]
  },
  {
   "cell_type": "code",
   "execution_count": 19,
   "metadata": {
    "scrolled": false
   },
   "outputs": [
    {
     "data": {
      "image/png": "[encoded data removed]",
      "text/plain": [
       "<Figure size 720x720 with 2 Axes>"
      ]
     },
     "metadata": {
      "needs_background": "light"
     },
     "output_type": "display_data"
    },
    {
     "data": {
      "text/plain": [
       "count    100000.000000\n",
       "mean          2.494541\n",
       "std           1.703572\n",
       "min          -0.018144\n",
       "25%           1.000021\n",
       "50%           2.011479\n",
       "75%           3.999904\n",
       "max           5.019721\n",
       "Name: f2, dtype: float64"
      ]
     },
     "metadata": {},
     "output_type": "display_data"
    },
    {
     "name": "stdout",
     "output_type": "stream",
     "text": [
      "\n",
      "По тесту Шапиро-Уилка: Распределение отличается от нормального\n"
     ]
    }
   ],
   "source": [
    "search_plot(df_2['f2'],'f2',5)"
   ]
  },
  {
   "cell_type": "markdown",
   "metadata": {},
   "source": [
    "- Распределение похоже на нормальное.   \n",
    "- Выбросы отсутсвуют.    \n",
    "- Среднее значение смещено вправо. "
   ]
  },
  {
   "cell_type": "code",
   "execution_count": 20,
   "metadata": {
    "scrolled": false
   },
   "outputs": [
    {
     "data": {
      "image/png": "[encoded data removed]",
      "text/plain": [
       "<Figure size 720x720 with 2 Axes>"
      ]
     },
     "metadata": {
      "needs_background": "light"
     },
     "output_type": "display_data"
    },
    {
     "data": {
      "text/plain": [
       "count    100000.000000\n",
       "mean         68.825000\n",
       "std          45.944423\n",
       "min           0.000000\n",
       "25%          26.953261\n",
       "50%          57.085625\n",
       "75%         107.813044\n",
       "max         137.945408\n",
       "Name: product, dtype: float64"
      ]
     },
     "metadata": {},
     "output_type": "display_data"
    },
    {
     "name": "stdout",
     "output_type": "stream",
     "text": [
      "\n",
      "По тесту Шапиро-Уилка: Распределение отличается от нормального\n"
     ]
    }
   ],
   "source": [
    "search_plot(df_2['product'],'product',6)"
   ]
  },
  {
   "cell_type": "markdown",
   "metadata": {},
   "source": [
    "- Распределение содержит неколько пиковых значений.   \n",
    "- Отсутствуют выбросы.    \n",
    "- Среднее значение смещено вправо. "
   ]
  },
  {
   "cell_type": "markdown",
   "metadata": {},
   "source": [
    "### Третий регион"
   ]
  },
  {
   "cell_type": "code",
   "execution_count": 21,
   "metadata": {
    "scrolled": false
   },
   "outputs": [
    {
     "data": {
      "image/png": "[encoded data removed]",
      "text/plain": [
       "<Figure size 720x720 with 2 Axes>"
      ]
     },
     "metadata": {
      "needs_background": "light"
     },
     "output_type": "display_data"
    },
    {
     "data": {
      "text/plain": [
       "count    100000.000000\n",
       "mean          0.002023\n",
       "std           1.732045\n",
       "min          -8.760004\n",
       "25%          -1.162288\n",
       "50%           0.009424\n",
       "75%           1.158535\n",
       "max           7.238262\n",
       "Name: f0, dtype: float64"
      ]
     },
     "metadata": {},
     "output_type": "display_data"
    },
    {
     "name": "stdout",
     "output_type": "stream",
     "text": [
      "\n",
      "По тесту Шапиро-Уилка: Распределение похоже на нормальное\n"
     ]
    }
   ],
   "source": [
    "search_plot(df_3['f0'],'f0',50)"
   ]
  },
  {
   "cell_type": "markdown",
   "metadata": {},
   "source": [
    "- Распределение похоже на нормальное, но с выбросами.   \n",
    "- Наблюдаются выбросы.    \n",
    "- Среднее и медиана почти равны. "
   ]
  },
  {
   "cell_type": "code",
   "execution_count": 22,
   "metadata": {
    "scrolled": false
   },
   "outputs": [
    {
     "data": {
      "image/png": "[encoded data removed]",
      "text/plain": [
       "<Figure size 720x720 with 2 Axes>"
      ]
     },
     "metadata": {
      "needs_background": "light"
     },
     "output_type": "display_data"
    },
    {
     "data": {
      "text/plain": [
       "count    100000.000000\n",
       "mean         -0.002081\n",
       "std           1.730417\n",
       "min          -7.084020\n",
       "25%          -1.174820\n",
       "50%          -0.009482\n",
       "75%           1.163678\n",
       "max           7.844801\n",
       "Name: f1, dtype: float64"
      ]
     },
     "metadata": {},
     "output_type": "display_data"
    },
    {
     "name": "stdout",
     "output_type": "stream",
     "text": [
      "\n",
      "По тесту Шапиро-Уилка: Распределение похоже на нормальное\n"
     ]
    }
   ],
   "source": [
    "search_plot(df_3['f1'],'f1',30)"
   ]
  },
  {
   "cell_type": "markdown",
   "metadata": {},
   "source": [
    "- Распределение похоже на нормальное, но с выбросами.   \n",
    "- Наблюдаются выбросы.    \n",
    "- Среднее и медиана почти равны. "
   ]
  },
  {
   "cell_type": "code",
   "execution_count": 23,
   "metadata": {
    "scrolled": false
   },
   "outputs": [
    {
     "data": {
      "image/png": "[encoded data removed]",
      "text/plain": [
       "<Figure size 720x720 with 2 Axes>"
      ]
     },
     "metadata": {
      "needs_background": "light"
     },
     "output_type": "display_data"
    },
    {
     "data": {
      "text/plain": [
       "count    100000.000000\n",
       "mean          2.495128\n",
       "std           3.473445\n",
       "min         -11.970335\n",
       "25%           0.130359\n",
       "50%           2.484236\n",
       "75%           4.858794\n",
       "max          16.739402\n",
       "Name: f2, dtype: float64"
      ]
     },
     "metadata": {},
     "output_type": "display_data"
    },
    {
     "name": "stdout",
     "output_type": "stream",
     "text": [
      "\n",
      "По тесту Шапиро-Уилка: Распределение отличается от нормального\n"
     ]
    }
   ],
   "source": [
    "search_plot(df_3['f2'],'f2',30)"
   ]
  },
  {
   "cell_type": "markdown",
   "metadata": {},
   "source": [
    "- Распределение похоже на нормальное, но с выбросами.   \n",
    "- Наблюдаются выбросы.    \n",
    "- Среднее и медиана почти равны. "
   ]
  },
  {
   "cell_type": "code",
   "execution_count": 24,
   "metadata": {
    "scrolled": false
   },
   "outputs": [
    {
     "data": {
      "image/png": "[encoded data removed]",
      "text/plain": [
       "<Figure size 720x720 with 2 Axes>"
      ]
     },
     "metadata": {
      "needs_background": "light"
     },
     "output_type": "display_data"
    },
    {
     "data": {
      "text/plain": [
       "count    100000.000000\n",
       "mean         95.000000\n",
       "std          44.749921\n",
       "min           0.000000\n",
       "25%          59.450441\n",
       "50%          94.925613\n",
       "75%         130.595027\n",
       "max         190.029838\n",
       "Name: product, dtype: float64"
      ]
     },
     "metadata": {},
     "output_type": "display_data"
    },
    {
     "name": "stdout",
     "output_type": "stream",
     "text": [
      "\n",
      "По тесту Шапиро-Уилка: Распределение отличается от нормального\n"
     ]
    }
   ],
   "source": [
    "search_plot(df_3['product'],'product',30)"
   ]
  },
  {
   "cell_type": "markdown",
   "metadata": {},
   "source": [
    "- Распределение содержит неколько пиковых значений.   \n",
    "- Отсутствуют выбросы.    \n",
    "- Среднее значение смещено вправо. "
   ]
  },
  {
   "cell_type": "markdown",
   "metadata": {},
   "source": [
    "### Итог по анализу данных"
   ]
  },
  {
   "cell_type": "markdown",
   "metadata": {},
   "source": [
    "<div  style=\"border-radius: 10px; border: 2px solid; padding: 40px \">\n",
    "\n",
    "Был проведен исследовательский анализ данных и сформулированы следующие выводы:\n",
    "    \n",
    "**Регион №1:**    \n",
    "    \n",
    "* Признаки не имеют нормального распределения\n",
    "\n",
    "* Наблюдаются выбросы в f2    \n",
    "\n",
    "        \n",
    "**Регион №2:**    \n",
    "  \n",
    "* Признаки не имеют нормального распределения\n",
    "\n",
    "* Наблюдаются выбросы в f1   \n",
    "    \n",
    "    \n",
    "**Регион №3:**    \n",
    "\n",
    "* Признаки не имеют нормального распределения\n",
    "\n",
    "* Наблюдаются выбросы во всех входных признаках       \n",
    "    \n",
    "    \n",
    "    \n",
    "> **Выбросы удалять не будем, так как по условию задачи нет конкретного пояснения, что они обозначают. Также было отмечено, что эти признаки значимы**"
   ]
  },
  {
   "cell_type": "markdown",
   "metadata": {},
   "source": [
    "## Обучение модели"
   ]
  },
  {
   "cell_type": "markdown",
   "metadata": {},
   "source": [
    "Обучим и сохраним данные с помощью функции `train_model`. Сохраним значения предсказаний, правильные значения, оценку модели rmse и средний запас предсказанного сырья"
   ]
  },
  {
   "cell_type": "code",
   "execution_count": 25,
   "metadata": {},
   "outputs": [],
   "source": [
    "\n",
    "rmse_list = []\n",
    "oil_mean_region_list = []\n",
    "prediction_list = []\n",
    "target_valid_list = []\n",
    "\n",
    "# Обучение и сохранение данных в списки\n",
    "for i in df_list:\n",
    "    rmse, oil_mean_region, prediction, target_valid = train_model(i)\n",
    "    rmse_list.append(rmse)\n",
    "    oil_mean_region_list.append(oil_mean_region)\n",
    "    prediction_list.append(prediction)\n",
    "    target_valid_list.append(target_valid)\n",
    "\n",
    "# Создадим датафрейм с полученными значениями    \n",
    "df_region = pd.DataFrame({\n",
    "    'region': [1,2,3],\n",
    "    'oil_mean_region': oil_mean_region_list,\n",
    "    'rmse': rmse_list\n",
    "})   "
   ]
  },
  {
   "cell_type": "code",
   "execution_count": 26,
   "metadata": {},
   "outputs": [],
   "source": [
    "pred_1, pred_2, pred_3 = prediction_list\n",
    "target_1, target_2, target_3 = target_valid_list\n",
    "oil_mean_region_1, oil_mean_region_2, oil_mean_region_3 = oil_mean_region_list"
   ]
  },
  {
   "cell_type": "code",
   "execution_count": 27,
   "metadata": {},
   "outputs": [
    {
     "data": {
      "text/plain": [
       "25000"
      ]
     },
     "execution_count": 27,
     "metadata": {},
     "output_type": "execute_result"
    }
   ],
   "source": [
    "len(pred_1)"
   ]
  },
  {
   "cell_type": "code",
   "execution_count": 28,
   "metadata": {
    "scrolled": false
   },
   "outputs": [
    {
     "data": {
      "text/html": [
       "<div>\n",
       "<style scoped>\n",
       "    .dataframe tbody tr th:only-of-type {\n",
       "        vertical-align: middle;\n",
       "    }\n",
       "\n",
       "    .dataframe tbody tr th {\n",
       "        vertical-align: top;\n",
       "    }\n",
       "\n",
       "    .dataframe thead th {\n",
       "        text-align: right;\n",
       "    }\n",
       "</style>\n",
       "<table border=\"1\" class=\"dataframe\">\n",
       "  <thead>\n",
       "    <tr style=\"text-align: right;\">\n",
       "      <th></th>\n",
       "      <th>region</th>\n",
       "      <th>oil_mean_region</th>\n",
       "      <th>rmse</th>\n",
       "    </tr>\n",
       "  </thead>\n",
       "  <tbody>\n",
       "    <tr>\n",
       "      <th>0</th>\n",
       "      <td>1</td>\n",
       "      <td>92.558015</td>\n",
       "      <td>37.756735</td>\n",
       "    </tr>\n",
       "    <tr>\n",
       "      <th>1</th>\n",
       "      <td>2</td>\n",
       "      <td>68.858206</td>\n",
       "      <td>0.899997</td>\n",
       "    </tr>\n",
       "    <tr>\n",
       "      <th>2</th>\n",
       "      <td>3</td>\n",
       "      <td>94.949667</td>\n",
       "      <td>40.144744</td>\n",
       "    </tr>\n",
       "  </tbody>\n",
       "</table>\n",
       "</div>"
      ],
      "text/plain": [
       "   region  oil_mean_region       rmse\n",
       "0       1        92.558015  37.756735\n",
       "1       2        68.858206   0.899997\n",
       "2       3        94.949667  40.144744"
      ]
     },
     "execution_count": 28,
     "metadata": {},
     "output_type": "execute_result"
    }
   ],
   "source": [
    "df_region"
   ]
  },
  {
   "cell_type": "markdown",
   "metadata": {},
   "source": [
    "### Итог по Обучению модели"
   ]
  },
  {
   "cell_type": "markdown",
   "metadata": {},
   "source": [
    "<div  style=\"border-radius: 10px; border: 2px solid; padding: 40px \">\n",
    "\n",
    "**Среднее значение запасов нефти**\n",
    "- **Регион 1**: Среднее значение запасов нефти составляет **92.56**.\n",
    "- **Регион 2**: Среднее значение запасов нефти составляет **68.86**. Это самый низкий показатель среди всех регионов.\n",
    "- **Регион 3**: Среднее значение запасов нефти составляет **94.95**. Это самый высокий показатель, что может указывать на более успешное использование нефтяных ресурсов в этом регионе.\n",
    "\n",
    "**Корень из среднеквадратичной ошибки (RMSE)**\n",
    "- **Регион 1**: RMSE составляет **37.76**. Это значение говорит о том, что предсказания по доходу в этом регионе имеют достаточно высокую ошибку.\n",
    "- **Регион 2**: RMSE составляет **0.90**. Это значение указывает на то, что предсказания в этом регионе очень точны, что может быть связано меньшими колебаниями в данных.\n",
    "- **Регион 3**: RMSE составляет **40.14**. Это также высокое значение, что говорит о значительной ошибке в предсказаниях дохода от нефти.\n",
    "\n",
    "**Сравнительный анализ**\n",
    "- **Регион 2** демонстрирует наименьшое среднее количество нефти, но также и наименьшую ошибку в предсказаниях. Это может указывать на стабильность и предсказуемость доходов"
   ]
  },
  {
   "cell_type": "markdown",
   "metadata": {},
   "source": [
    "## Подготовка к расчёту прибыли"
   ]
  },
  {
   "cell_type": "markdown",
   "metadata": {},
   "source": [
    "Введем необходимые константы"
   ]
  },
  {
   "cell_type": "code",
   "execution_count": 29,
   "metadata": {},
   "outputs": [],
   "source": [
    "BUDGET = 10**10\n",
    "COST = 450000\n",
    "SEARCH_POINTS = 500\n",
    "TOTAL_POINTS = 200\n",
    "RISK_POINT = 2.5\n"
   ]
  },
  {
   "cell_type": "code",
   "execution_count": 30,
   "metadata": {},
   "outputs": [
    {
     "name": "stdout",
     "output_type": "stream",
     "text": [
      "Достаточный объём сырья для безубыточной разработки новой скважины составляет 111.111 тыс. баррелей\n"
     ]
    }
   ],
   "source": [
    "zero_value = BUDGET/(COST*TOTAL_POINTS)\n",
    "print(f'Достаточный объём сырья для безубыточной разработки новой скважины составляет {round(zero_value,3)} тыс. баррелей')"
   ]
  },
  {
   "cell_type": "markdown",
   "metadata": {},
   "source": [
    "**Выввод:**    \n",
    "В каждом из трёх регионов средний запас сырья скважины меньше полученного значения достаточного объёма сырья. Необходимо тщательнее отбирать лучшие скважины для получения прибыли"
   ]
  },
  {
   "cell_type": "markdown",
   "metadata": {},
   "source": [
    "## Расчёт прибыли и рисков "
   ]
  },
  {
   "cell_type": "code",
   "execution_count": 31,
   "metadata": {},
   "outputs": [],
   "source": [
    "# Создадим функцию которая с помощью бутстрепа будет перебирать 1000 случайных выборок из датафрейма\n",
    "# для определения доверительного интервала и средней прибыли региона для добычи нефти\n",
    "def bootstrap_income(predictions, target):\n",
    "    \n",
    "    bootstrap_samples = 1000\n",
    "    state = RandomState(12345)\n",
    "    cashflow_list=[]\n",
    "    pred_series = pd.Series(predictions)\n",
    "    \n",
    "    for i in range(bootstrap_samples):\n",
    "        # Возьмем случаную выборку из 500 скважин\n",
    "        target_sample = target.reset_index(drop=True).sample(n=SEARCH_POINTS, replace=True, random_state=state)\n",
    "        \n",
    "        # Отберем те же скважины по индексу из предсказанных значений и отсортируем по убыванию\n",
    "        pred_sample = pred_series[target_sample.index].sort_values(ascending=False)\n",
    "        \n",
    "        # В фактических значениях сортируем по индексам предсказанных значений и отбираем первые 200 скважин\n",
    "        target_sort = target_sample[pred_sample.index][:TOTAL_POINTS]\n",
    "        \n",
    "        # Рассчитываем прибыль и добавляем в список\n",
    "        cash = target_sort.sum() * COST - BUDGET\n",
    "        cashflow_list.append(cash)\n",
    "                \n",
    "    values = pd.Series(cashflow_list)\n",
    "    \n",
    "    lower = int(values.quantile(0.025))\n",
    "    upper = int(values.quantile(0.975))\n",
    "    \n",
    "    risk = len(values[values<0]) / len(values) * 100\n",
    "    \n",
    "    return values, int(values.mean()), lower, upper, risk"
   ]
  },
  {
   "cell_type": "code",
   "execution_count": 32,
   "metadata": {},
   "outputs": [],
   "source": [
    "income_1, mean_income_1, lower_1, upper_1, risk_1 = bootstrap_income(pred_1,target_1)\n",
    "income_2, mean_income_2, lower_2, upper_2, risk_2 = bootstrap_income(pred_2,target_2)\n",
    "income_3, mean_income_3, lower_3, upper_3, risk_3 = bootstrap_income(pred_3,target_3)"
   ]
  },
  {
   "cell_type": "code",
   "execution_count": 33,
   "metadata": {
    "scrolled": false
   },
   "outputs": [
    {
     "name": "stdout",
     "output_type": "stream",
     "text": [
      "Риск убытков в Регионе № 1 составляет 6.10%\n"
     ]
    },
    {
     "data": {
      "image/png": "[encoded data removed]",
      "text/plain": [
       "<Figure size 864x504 with 1 Axes>"
      ]
     },
     "metadata": {
      "needs_background": "light"
     },
     "output_type": "display_data"
    }
   ],
   "source": [
    "probability_income(income_1, mean_income_1, lower_1, upper_1, bins=30, title='Регион №1')\n",
    "print(f'Риск убытков в Регионе № 1 составляет {risk_1:.2f}%')"
   ]
  },
  {
   "cell_type": "code",
   "execution_count": 34,
   "metadata": {
    "scrolled": false
   },
   "outputs": [
    {
     "name": "stdout",
     "output_type": "stream",
     "text": [
      "Риск убытков в Регионе № 2 составляет 1.10%\n"
     ]
    },
    {
     "data": {
      "image/png": "[encoded data removed]",
      "text/plain": [
       "<Figure size 864x504 with 1 Axes>"
      ]
     },
     "metadata": {
      "needs_background": "light"
     },
     "output_type": "display_data"
    }
   ],
   "source": [
    "probability_income(income_2, mean_income_2, lower_2, upper_2, bins=30, title='Регион №2')\n",
    "print(f'Риск убытков в Регионе № 2 составляет {risk_2:.2f}%')"
   ]
  },
  {
   "cell_type": "code",
   "execution_count": 35,
   "metadata": {
    "scrolled": true
   },
   "outputs": [
    {
     "name": "stdout",
     "output_type": "stream",
     "text": [
      "Риск убытков в Регионе № 3 составляет 7.10%\n"
     ]
    },
    {
     "data": {
      "image/png": "[encoded data removed]",
      "text/plain": [
       "<Figure size 864x504 with 1 Axes>"
      ]
     },
     "metadata": {
      "needs_background": "light"
     },
     "output_type": "display_data"
    }
   ],
   "source": [
    "probability_income(income_3, mean_income_3, lower_3, upper_3, bins=30, title='Регион №3')\n",
    "print(f'Риск убытков в Регионе № 3 составляет {risk_3:.2f}%')"
   ]
  },
  {
   "cell_type": "code",
   "execution_count": null,
   "metadata": {},
   "outputs": [],
   "source": [
    "fig, ax= plt.subplots(figsize=(12, 7))\n",
    "\n",
    "sns.pairplot(df_1, hue = \"product\")\n",
    "\n",
    "ax.set_title(f\"График распределения вероятности прибыли\", fontsize=13)\n",
    "ax.set_xlabel('Прибыль,млрд.')\n",
    "ax.set_ylabel('Частота')\n",
    "ax.grid(True)\n",
    "\n",
    "\n",
    "formatter = FuncFormatter(lambda x, _: f'{x * 1e-9:.1f}B')  # Делим на миллиард и добавляем \"B\"\n",
    "ax.xaxis.set_major_formatter(formatter)\n",
    "\n",
    "# Линии для среднего и квантилей\n",
    "ax.axvline(mean_income_1, color='purple', linestyle='--', label=f'Среднее = {mean_income_1 * 1e-9:.2f}B')\n",
    "ax.axvline(lower_1, color='red', linestyle='-.', label=f'Нижний квантиль 2.5% = {lower_1 * 1e-9:.2f}B')\n",
    "ax.axvline(upper_1, color='blue', linestyle='-.', label=f'Верхний квантиль 97.5% = {upper_1 * 1e-9:.2f}B')\n",
    "ax.legend()\n"
   ]
  },
  {
   "cell_type": "markdown",
   "metadata": {},
   "source": [
    "## Общий Итог"
   ]
  },
  {
   "cell_type": "markdown",
   "metadata": {},
   "source": [
    "<div  style=\"border-radius: 10px; border: 2px solid; padding: 40px \">\n",
    "\n",
    "**Средняя прибыль**\n",
    "- **Регион 1**: Среднее значение прибыли составляет **440 млн.**.\n",
    "- **Регион 2**: Среднее значение прибыли составляет **490 млн.**. Это самый высокий показатель среди всех регионов.    \n",
    "- **Регион 3**: Среднее значение прибыли составляет **400 млн.**. Это самый низкий показатель среди всех регионов.\n",
    "\n",
    "**Доверительный интервал**\n",
    "- **Регион 1**: от *-116 млн.* до *966 млн.*\n",
    "- **Регион 2**: от *55 млн.* до *905 млн.*\n",
    "- **Регион 3**: от *-153 млн.* до *952 млн.*\n",
    "\n",
    "**Оценка рисков убытка**\n",
    "- **Регион 1**: *6.1%*.\n",
    "- **Регион 2**: *1.1%*. Самый низкий показатель\n",
    "- **Регион 3**: *7.1%*. Самый высокий показатель\n",
    "    \n",
    "    \n",
    "**Выводы**\n",
    "\n",
    "- **Регион 2** демонстрирует наивысшую среднюю прибыль (*490 млн.*) и самый низкий риск убытка (*1.1%*). Это делает его наиболее привлекательным для инвестиций.\n",
    "    \n",
    "- Доверительный интервал Регион 2 также показывает, что даже в худшем сценарии прибыль будет положительной (*от 55 млн. до 905 млн.*), что добавляет уверенности в его выбор.\n",
    "    \n",
    "**Рекомендация**\n",
    "- На основе проведенного анализа, для данной модели МО рекомендуется выбрать Регион 2 для добычи нефти, так как он предлагает наивысшую среднюю прибыль и минимальный риск убытка, что делает его наиболее выгодным вариантом для инвестиций.\n",
    "- Если есть возможность получить более качественные данные или дополнительные для увеличения качества модели, то можно добиться положительного результата для 1 и 3 региона, так как там средний запас выше, чем во втором регионе, но из-за недостаточного обучения модели нельзя гарантировать безубыточную добычу нефти, что оставляет 2 регион в фаворитах"
   ]
  }
 ],
 "metadata": {
  "ExecuteTimeLog": [
   {
    "duration": 7017,
    "start_time": "2024-12-25T09:05:21.988Z"
   },
   {
    "duration": 60,
    "start_time": "2024-12-25T09:05:36.025Z"
   },
   {
    "duration": 64,
    "start_time": "2024-12-25T09:05:44.031Z"
   },
   {
    "duration": 57,
    "start_time": "2024-12-25T09:06:09.119Z"
   },
   {
    "duration": 65,
    "start_time": "2024-12-25T09:06:19.821Z"
   },
   {
    "duration": 1533,
    "start_time": "2024-12-25T09:06:24.760Z"
   },
   {
    "duration": 3425,
    "start_time": "2024-12-25T09:06:49.290Z"
   },
   {
    "duration": 4112,
    "start_time": "2024-12-25T09:06:52.719Z"
   },
   {
    "duration": 479,
    "start_time": "2024-12-25T09:06:56.833Z"
   },
   {
    "duration": 4,
    "start_time": "2024-12-25T09:07:27.600Z"
   },
   {
    "duration": 3,
    "start_time": "2024-12-25T09:07:43.057Z"
   },
   {
    "duration": 7,
    "start_time": "2024-12-25T09:07:58.323Z"
   },
   {
    "duration": 4,
    "start_time": "2024-12-25T09:08:06.721Z"
   },
   {
    "duration": 3,
    "start_time": "2024-12-25T09:08:19.466Z"
   },
   {
    "duration": 4,
    "start_time": "2024-12-25T09:08:25.945Z"
   },
   {
    "duration": 1536,
    "start_time": "2024-12-25T09:13:09.844Z"
   },
   {
    "duration": 37,
    "start_time": "2024-12-25T09:52:14.284Z"
   },
   {
    "duration": 307,
    "start_time": "2024-12-25T09:52:20.723Z"
   },
   {
    "duration": 8076,
    "start_time": "2025-01-09T07:28:33.610Z"
   },
   {
    "duration": 3587,
    "start_time": "2025-01-09T07:28:44.340Z"
   },
   {
    "duration": 4466,
    "start_time": "2025-01-09T07:28:47.930Z"
   },
   {
    "duration": 2237,
    "start_time": "2025-01-09T07:28:52.398Z"
   },
   {
    "duration": 4,
    "start_time": "2025-01-09T07:28:55.558Z"
   },
   {
    "duration": 3,
    "start_time": "2025-01-09T07:28:56.298Z"
   },
   {
    "duration": 7,
    "start_time": "2025-01-09T07:28:56.998Z"
   },
   {
    "duration": 3,
    "start_time": "2025-01-09T07:28:57.963Z"
   },
   {
    "duration": 4,
    "start_time": "2025-01-09T07:28:59.356Z"
   },
   {
    "duration": 733,
    "start_time": "2025-01-09T07:29:01.060Z"
   },
   {
    "duration": 363,
    "start_time": "2025-01-09T07:29:03.268Z"
   },
   {
    "duration": 81,
    "start_time": "2025-01-09T08:09:52.054Z"
   },
   {
    "duration": 18,
    "start_time": "2025-01-09T08:10:11.623Z"
   },
   {
    "duration": 20,
    "start_time": "2025-01-09T08:10:22.771Z"
   },
   {
    "duration": 9,
    "start_time": "2025-01-09T08:10:31.599Z"
   },
   {
    "duration": 8,
    "start_time": "2025-01-09T08:10:59.260Z"
   },
   {
    "duration": 27,
    "start_time": "2025-01-09T08:11:58.467Z"
   },
   {
    "duration": 10,
    "start_time": "2025-01-09T08:12:09.487Z"
   },
   {
    "duration": 183,
    "start_time": "2025-01-09T08:18:15.908Z"
   },
   {
    "duration": 20,
    "start_time": "2025-01-09T08:19:00.182Z"
   },
   {
    "duration": 6,
    "start_time": "2025-01-09T08:19:25.954Z"
   },
   {
    "duration": 45,
    "start_time": "2025-01-09T08:19:32.362Z"
   },
   {
    "duration": 18,
    "start_time": "2025-01-09T08:26:53.586Z"
   },
   {
    "duration": 3301,
    "start_time": "2025-01-09T08:27:48.811Z"
   },
   {
    "duration": 3375,
    "start_time": "2025-01-09T08:27:58.353Z"
   },
   {
    "duration": 1113,
    "start_time": "2025-01-09T08:28:40.440Z"
   },
   {
    "duration": 1214,
    "start_time": "2025-01-09T08:29:01.283Z"
   },
   {
    "duration": 1105,
    "start_time": "2025-01-09T08:29:23.411Z"
   },
   {
    "duration": 1233,
    "start_time": "2025-01-09T08:29:36.792Z"
   },
   {
    "duration": 1351,
    "start_time": "2025-01-09T08:29:55.300Z"
   },
   {
    "duration": 1257,
    "start_time": "2025-01-09T08:35:05.202Z"
   },
   {
    "duration": 1167,
    "start_time": "2025-01-09T08:35:12.845Z"
   },
   {
    "duration": 1120,
    "start_time": "2025-01-09T08:35:20.026Z"
   },
   {
    "duration": 1079,
    "start_time": "2025-01-09T08:35:29.038Z"
   },
   {
    "duration": 1105,
    "start_time": "2025-01-09T08:35:42.082Z"
   },
   {
    "duration": 994,
    "start_time": "2025-01-09T08:35:47.029Z"
   },
   {
    "duration": 1092,
    "start_time": "2025-01-09T08:36:00.215Z"
   },
   {
    "duration": 1291,
    "start_time": "2025-01-09T08:36:06.045Z"
   },
   {
    "duration": 1225,
    "start_time": "2025-01-09T08:36:23.799Z"
   },
   {
    "duration": 1091,
    "start_time": "2025-01-09T08:36:41.524Z"
   },
   {
    "duration": 1074,
    "start_time": "2025-01-09T08:36:48.449Z"
   },
   {
    "duration": 1320,
    "start_time": "2025-01-09T08:37:15.666Z"
   },
   {
    "duration": 1185,
    "start_time": "2025-01-09T08:37:22.597Z"
   },
   {
    "duration": 1325,
    "start_time": "2025-01-09T08:37:29.226Z"
   },
   {
    "duration": 1244,
    "start_time": "2025-01-09T08:38:19.938Z"
   },
   {
    "duration": 1110,
    "start_time": "2025-01-09T08:38:41.996Z"
   },
   {
    "duration": 1116,
    "start_time": "2025-01-09T08:38:48.522Z"
   },
   {
    "duration": 1167,
    "start_time": "2025-01-09T08:38:56.584Z"
   },
   {
    "duration": 1117,
    "start_time": "2025-01-09T08:39:18.703Z"
   },
   {
    "duration": 1105,
    "start_time": "2025-01-09T08:39:23.841Z"
   },
   {
    "duration": 1348,
    "start_time": "2025-01-09T08:39:35.365Z"
   },
   {
    "duration": 1141,
    "start_time": "2025-01-09T08:39:44.798Z"
   },
   {
    "duration": 1114,
    "start_time": "2025-01-09T08:40:15.032Z"
   },
   {
    "duration": 1128,
    "start_time": "2025-01-09T08:40:21.815Z"
   },
   {
    "duration": 1166,
    "start_time": "2025-01-09T08:40:25.663Z"
   },
   {
    "duration": 1031,
    "start_time": "2025-01-09T08:40:38.039Z"
   },
   {
    "duration": 1177,
    "start_time": "2025-01-09T08:40:57.460Z"
   },
   {
    "duration": 346,
    "start_time": "2025-01-09T09:10:52.998Z"
   },
   {
    "duration": 1329,
    "start_time": "2025-01-09T09:22:54.532Z"
   },
   {
    "duration": 1071,
    "start_time": "2025-01-09T09:23:07.050Z"
   },
   {
    "duration": 88,
    "start_time": "2025-01-09T09:23:40.592Z"
   },
   {
    "duration": 3,
    "start_time": "2025-01-09T10:02:38.910Z"
   },
   {
    "duration": 3,
    "start_time": "2025-01-09T10:03:56.547Z"
   },
   {
    "duration": 3,
    "start_time": "2025-01-09T10:08:39.183Z"
   },
   {
    "duration": 4,
    "start_time": "2025-01-09T10:11:20.665Z"
   },
   {
    "duration": 5,
    "start_time": "2025-01-09T10:11:29.061Z"
   },
   {
    "duration": 25,
    "start_time": "2025-01-09T10:11:40.663Z"
   },
   {
    "duration": 13,
    "start_time": "2025-01-09T10:12:58.352Z"
   },
   {
    "duration": 7,
    "start_time": "2025-01-09T10:14:24.503Z"
   },
   {
    "duration": 7,
    "start_time": "2025-01-09T10:14:36.382Z"
   },
   {
    "duration": 4,
    "start_time": "2025-01-09T10:15:33.241Z"
   },
   {
    "duration": 7,
    "start_time": "2025-01-09T10:19:44.383Z"
   },
   {
    "duration": 58,
    "start_time": "2025-01-09T10:19:47.539Z"
   },
   {
    "duration": 10,
    "start_time": "2025-01-09T10:20:12.671Z"
   },
   {
    "duration": 212,
    "start_time": "2025-01-09T10:20:14.779Z"
   },
   {
    "duration": 4,
    "start_time": "2025-01-09T10:25:32.538Z"
   },
   {
    "duration": 186,
    "start_time": "2025-01-09T10:25:35.191Z"
   },
   {
    "duration": 90,
    "start_time": "2025-01-09T10:25:54.094Z"
   },
   {
    "duration": 6,
    "start_time": "2025-01-09T10:25:59.457Z"
   },
   {
    "duration": 140,
    "start_time": "2025-01-09T10:26:01.732Z"
   },
   {
    "duration": 89,
    "start_time": "2025-01-09T10:26:39.440Z"
   },
   {
    "duration": 5,
    "start_time": "2025-01-09T10:27:00.050Z"
   },
   {
    "duration": 128,
    "start_time": "2025-01-09T10:27:09.149Z"
   },
   {
    "duration": 7,
    "start_time": "2025-01-09T10:29:25.178Z"
   },
   {
    "duration": 7,
    "start_time": "2025-01-09T10:29:38.476Z"
   },
   {
    "duration": 135,
    "start_time": "2025-01-09T10:29:41.644Z"
   },
   {
    "duration": 13,
    "start_time": "2025-01-09T10:31:10.040Z"
   },
   {
    "duration": 185,
    "start_time": "2025-01-09T10:31:12.996Z"
   },
   {
    "duration": 5,
    "start_time": "2025-01-09T10:31:34.148Z"
   },
   {
    "duration": 137,
    "start_time": "2025-01-09T10:31:38.846Z"
   },
   {
    "duration": 7698,
    "start_time": "2025-01-10T08:04:32.091Z"
   },
   {
    "duration": 3434,
    "start_time": "2025-01-10T08:04:39.790Z"
   },
   {
    "duration": 4062,
    "start_time": "2025-01-10T08:04:43.226Z"
   },
   {
    "duration": 1827,
    "start_time": "2025-01-10T08:04:47.291Z"
   },
   {
    "duration": 4,
    "start_time": "2025-01-10T08:04:49.120Z"
   },
   {
    "duration": 20,
    "start_time": "2025-01-10T08:04:49.125Z"
   },
   {
    "duration": 11,
    "start_time": "2025-01-10T08:04:49.147Z"
   },
   {
    "duration": 7,
    "start_time": "2025-01-10T08:04:49.159Z"
   },
   {
    "duration": 1461,
    "start_time": "2025-01-10T08:04:49.167Z"
   },
   {
    "duration": 276,
    "start_time": "2025-01-10T08:04:50.630Z"
   },
   {
    "duration": 17,
    "start_time": "2025-01-10T08:04:50.907Z"
   },
   {
    "duration": 1154,
    "start_time": "2025-01-10T08:04:50.925Z"
   },
   {
    "duration": 951,
    "start_time": "2025-01-10T08:04:52.081Z"
   },
   {
    "duration": 1127,
    "start_time": "2025-01-10T08:04:53.034Z"
   },
   {
    "duration": 990,
    "start_time": "2025-01-10T08:04:54.163Z"
   },
   {
    "duration": 1102,
    "start_time": "2025-01-10T08:04:55.154Z"
   },
   {
    "duration": 1073,
    "start_time": "2025-01-10T08:04:56.258Z"
   },
   {
    "duration": 896,
    "start_time": "2025-01-10T08:04:57.333Z"
   },
   {
    "duration": 898,
    "start_time": "2025-01-10T08:04:58.231Z"
   },
   {
    "duration": 1152,
    "start_time": "2025-01-10T08:04:59.130Z"
   },
   {
    "duration": 1060,
    "start_time": "2025-01-10T08:05:00.284Z"
   },
   {
    "duration": 1083,
    "start_time": "2025-01-10T08:05:01.352Z"
   },
   {
    "duration": 921,
    "start_time": "2025-01-10T08:05:02.437Z"
   },
   {
    "duration": 5,
    "start_time": "2025-01-10T08:05:03.360Z"
   },
   {
    "duration": 186,
    "start_time": "2025-01-10T08:05:03.366Z"
   },
   {
    "duration": 102,
    "start_time": "2025-01-10T08:05:03.555Z"
   },
   {
    "duration": 187,
    "start_time": "2025-01-10T08:05:03.658Z"
   },
   {
    "duration": 138,
    "start_time": "2025-01-10T08:09:33.180Z"
   },
   {
    "duration": 4,
    "start_time": "2025-01-10T08:10:28.914Z"
   },
   {
    "duration": 9,
    "start_time": "2025-01-10T08:10:33.474Z"
   },
   {
    "duration": 48,
    "start_time": "2025-01-10T08:10:57.410Z"
   },
   {
    "duration": 2,
    "start_time": "2025-01-10T08:11:00.936Z"
   },
   {
    "duration": 2,
    "start_time": "2025-01-10T08:11:03.438Z"
   },
   {
    "duration": 70,
    "start_time": "2025-01-10T08:11:13.283Z"
   },
   {
    "duration": 2,
    "start_time": "2025-01-10T08:11:15.604Z"
   },
   {
    "duration": 3,
    "start_time": "2025-01-10T08:11:21.957Z"
   },
   {
    "duration": 79,
    "start_time": "2025-01-10T08:11:31.075Z"
   },
   {
    "duration": 4,
    "start_time": "2025-01-10T08:11:34.576Z"
   },
   {
    "duration": 48,
    "start_time": "2025-01-10T08:11:43.319Z"
   },
   {
    "duration": 4,
    "start_time": "2025-01-10T08:14:42.233Z"
   },
   {
    "duration": 4,
    "start_time": "2025-01-10T08:15:29.475Z"
   },
   {
    "duration": 77,
    "start_time": "2025-01-10T08:15:35.978Z"
   },
   {
    "duration": 105,
    "start_time": "2025-01-10T08:16:08.049Z"
   },
   {
    "duration": 52,
    "start_time": "2025-01-10T08:20:17.393Z"
   },
   {
    "duration": 248,
    "start_time": "2025-01-10T08:20:41.706Z"
   },
   {
    "duration": 55,
    "start_time": "2025-01-10T08:20:46.520Z"
   },
   {
    "duration": 49,
    "start_time": "2025-01-10T08:20:49.633Z"
   },
   {
    "duration": 68,
    "start_time": "2025-01-10T08:21:58.294Z"
   },
   {
    "duration": 75,
    "start_time": "2025-01-10T08:22:03.895Z"
   },
   {
    "duration": 49,
    "start_time": "2025-01-10T08:22:06.622Z"
   },
   {
    "duration": 49,
    "start_time": "2025-01-10T08:22:10.511Z"
   },
   {
    "duration": 14,
    "start_time": "2025-01-10T08:22:29.427Z"
   },
   {
    "duration": 10,
    "start_time": "2025-01-10T08:23:00.077Z"
   },
   {
    "duration": 3,
    "start_time": "2025-01-10T08:23:51.831Z"
   },
   {
    "duration": 12,
    "start_time": "2025-01-10T08:24:05.311Z"
   },
   {
    "duration": 55,
    "start_time": "2025-01-10T08:24:09.199Z"
   },
   {
    "duration": 562,
    "start_time": "2025-01-10T08:24:35.891Z"
   },
   {
    "duration": 3,
    "start_time": "2025-01-10T08:24:46.272Z"
   },
   {
    "duration": 3,
    "start_time": "2025-01-10T08:25:35.691Z"
   },
   {
    "duration": 87,
    "start_time": "2025-01-10T08:28:58.856Z"
   },
   {
    "duration": 10,
    "start_time": "2025-01-10T08:29:04.597Z"
   },
   {
    "duration": 3,
    "start_time": "2025-01-10T08:29:31.410Z"
   },
   {
    "duration": 6,
    "start_time": "2025-01-10T08:29:39.962Z"
   },
   {
    "duration": 488,
    "start_time": "2025-01-10T08:31:18.597Z"
   },
   {
    "duration": 6,
    "start_time": "2025-01-10T08:31:22.764Z"
   },
   {
    "duration": 12,
    "start_time": "2025-01-10T08:32:05.407Z"
   },
   {
    "duration": 12,
    "start_time": "2025-01-10T08:32:14.977Z"
   },
   {
    "duration": 1229,
    "start_time": "2025-01-10T08:32:32.175Z"
   },
   {
    "duration": 1164,
    "start_time": "2025-01-10T08:32:40.721Z"
   },
   {
    "duration": 6,
    "start_time": "2025-01-10T08:33:22.860Z"
   },
   {
    "duration": 1317,
    "start_time": "2025-01-10T08:33:36.108Z"
   },
   {
    "duration": 7,
    "start_time": "2025-01-10T08:33:42.893Z"
   },
   {
    "duration": 9,
    "start_time": "2025-01-10T08:33:54.576Z"
   },
   {
    "duration": 4,
    "start_time": "2025-01-10T08:34:15.041Z"
   },
   {
    "duration": 5,
    "start_time": "2025-01-10T08:35:06.840Z"
   },
   {
    "duration": 6471,
    "start_time": "2025-01-10T08:35:28.561Z"
   },
   {
    "duration": 2690,
    "start_time": "2025-01-10T08:35:35.034Z"
   },
   {
    "duration": 2713,
    "start_time": "2025-01-10T08:35:37.725Z"
   },
   {
    "duration": 1768,
    "start_time": "2025-01-10T08:35:40.440Z"
   },
   {
    "duration": 4,
    "start_time": "2025-01-10T08:35:42.210Z"
   },
   {
    "duration": 42,
    "start_time": "2025-01-10T08:35:42.215Z"
   },
   {
    "duration": 61,
    "start_time": "2025-01-10T08:35:42.258Z"
   },
   {
    "duration": 386,
    "start_time": "2025-01-10T08:35:42.321Z"
   },
   {
    "duration": 345,
    "start_time": "2025-01-10T08:35:42.709Z"
   },
   {
    "duration": 19,
    "start_time": "2025-01-10T08:35:43.055Z"
   },
   {
    "duration": 10,
    "start_time": "2025-01-10T08:35:43.076Z"
   },
   {
    "duration": 1217,
    "start_time": "2025-01-10T08:35:43.088Z"
   },
   {
    "duration": 1051,
    "start_time": "2025-01-10T08:35:44.307Z"
   },
   {
    "duration": 1181,
    "start_time": "2025-01-10T08:35:45.361Z"
   },
   {
    "duration": 1014,
    "start_time": "2025-01-10T08:35:46.544Z"
   },
   {
    "duration": 1110,
    "start_time": "2025-01-10T08:35:47.559Z"
   },
   {
    "duration": 1065,
    "start_time": "2025-01-10T08:35:48.671Z"
   },
   {
    "duration": 907,
    "start_time": "2025-01-10T08:35:49.737Z"
   },
   {
    "duration": 1008,
    "start_time": "2025-01-10T08:35:50.652Z"
   },
   {
    "duration": 1291,
    "start_time": "2025-01-10T08:35:51.662Z"
   },
   {
    "duration": 1139,
    "start_time": "2025-01-10T08:35:52.954Z"
   },
   {
    "duration": 1047,
    "start_time": "2025-01-10T08:35:54.095Z"
   },
   {
    "duration": 1026,
    "start_time": "2025-01-10T08:35:55.153Z"
   },
   {
    "duration": 572,
    "start_time": "2025-01-10T08:35:56.181Z"
   },
   {
    "duration": 10,
    "start_time": "2025-01-10T08:35:56.755Z"
   },
   {
    "duration": 4,
    "start_time": "2025-01-10T08:35:56.853Z"
   },
   {
    "duration": 11,
    "start_time": "2025-01-10T08:44:34.529Z"
   },
   {
    "duration": 5,
    "start_time": "2025-01-10T08:47:14.739Z"
   },
   {
    "duration": 529,
    "start_time": "2025-01-10T08:47:18.426Z"
   },
   {
    "duration": 7,
    "start_time": "2025-01-10T08:47:26.336Z"
   },
   {
    "duration": 4,
    "start_time": "2025-01-10T08:47:41.090Z"
   },
   {
    "duration": 3,
    "start_time": "2025-01-10T08:59:33.916Z"
   },
   {
    "duration": 4,
    "start_time": "2025-01-10T08:59:38.524Z"
   },
   {
    "duration": 2,
    "start_time": "2025-01-10T09:02:50.993Z"
   },
   {
    "duration": 4,
    "start_time": "2025-01-10T09:05:13.736Z"
   },
   {
    "duration": 4,
    "start_time": "2025-01-10T09:06:22.910Z"
   },
   {
    "duration": 107,
    "start_time": "2025-01-10T09:08:00.522Z"
   },
   {
    "duration": 4,
    "start_time": "2025-01-10T09:08:06.681Z"
   },
   {
    "duration": 3,
    "start_time": "2025-01-10T09:08:27.210Z"
   },
   {
    "duration": 4,
    "start_time": "2025-01-10T09:19:51.996Z"
   },
   {
    "duration": 2,
    "start_time": "2025-01-10T09:20:08.479Z"
   },
   {
    "duration": 4,
    "start_time": "2025-01-10T09:20:15.805Z"
   },
   {
    "duration": 2,
    "start_time": "2025-01-10T09:20:59.865Z"
   },
   {
    "duration": 2,
    "start_time": "2025-01-10T09:26:03.615Z"
   },
   {
    "duration": 3,
    "start_time": "2025-01-10T09:26:10.479Z"
   },
   {
    "duration": 137,
    "start_time": "2025-01-10T09:44:18.199Z"
   },
   {
    "duration": 5,
    "start_time": "2025-01-10T09:44:43.563Z"
   },
   {
    "duration": 3,
    "start_time": "2025-01-10T09:44:49.091Z"
   },
   {
    "duration": 3,
    "start_time": "2025-01-10T09:48:56.271Z"
   },
   {
    "duration": 3,
    "start_time": "2025-01-10T09:49:00.055Z"
   },
   {
    "duration": 4,
    "start_time": "2025-01-10T10:14:20.966Z"
   },
   {
    "duration": 11,
    "start_time": "2025-01-10T10:16:17.931Z"
   },
   {
    "duration": 4,
    "start_time": "2025-01-10T10:17:14.337Z"
   },
   {
    "duration": 4,
    "start_time": "2025-01-10T10:17:44.386Z"
   },
   {
    "duration": 15,
    "start_time": "2025-01-10T10:17:48.918Z"
   },
   {
    "duration": 5,
    "start_time": "2025-01-10T10:17:58.323Z"
   },
   {
    "duration": 10,
    "start_time": "2025-01-10T10:18:06.154Z"
   },
   {
    "duration": 11,
    "start_time": "2025-01-10T10:18:48.149Z"
   },
   {
    "duration": 4,
    "start_time": "2025-01-10T10:19:07.271Z"
   },
   {
    "duration": 5,
    "start_time": "2025-01-10T10:19:16.058Z"
   },
   {
    "duration": 13,
    "start_time": "2025-01-10T10:19:49.900Z"
   },
   {
    "duration": 11,
    "start_time": "2025-01-10T10:19:55.391Z"
   },
   {
    "duration": 76,
    "start_time": "2025-01-10T10:20:25.017Z"
   },
   {
    "duration": 10,
    "start_time": "2025-01-10T10:20:30.558Z"
   },
   {
    "duration": 5,
    "start_time": "2025-01-10T10:21:56.078Z"
   },
   {
    "duration": 4,
    "start_time": "2025-01-10T10:22:33.554Z"
   },
   {
    "duration": 3,
    "start_time": "2025-01-10T10:36:43.628Z"
   },
   {
    "duration": 4,
    "start_time": "2025-01-10T10:37:27.117Z"
   },
   {
    "duration": 4,
    "start_time": "2025-01-10T10:37:43.055Z"
   },
   {
    "duration": 4,
    "start_time": "2025-01-10T10:44:08.180Z"
   },
   {
    "duration": 13,
    "start_time": "2025-01-10T10:44:29.683Z"
   },
   {
    "duration": 4,
    "start_time": "2025-01-10T10:45:04.639Z"
   },
   {
    "duration": 21,
    "start_time": "2025-01-10T10:45:12.050Z"
   },
   {
    "duration": 3,
    "start_time": "2025-01-10T10:45:43.821Z"
   },
   {
    "duration": 1243,
    "start_time": "2025-01-10T10:45:47.198Z"
   },
   {
    "duration": 2,
    "start_time": "2025-01-10T10:46:41.216Z"
   },
   {
    "duration": 3,
    "start_time": "2025-01-10T10:47:58.436Z"
   },
   {
    "duration": 4,
    "start_time": "2025-01-10T10:48:02.787Z"
   },
   {
    "duration": 73,
    "start_time": "2025-01-10T10:48:04.633Z"
   },
   {
    "duration": 399,
    "start_time": "2025-01-10T10:48:11.734Z"
   },
   {
    "duration": 400,
    "start_time": "2025-01-10T10:50:28.837Z"
   },
   {
    "duration": 418,
    "start_time": "2025-01-10T10:50:37.164Z"
   },
   {
    "duration": 3,
    "start_time": "2025-01-10T10:51:49.929Z"
   },
   {
    "duration": 4,
    "start_time": "2025-01-10T10:51:51.938Z"
   },
   {
    "duration": 383,
    "start_time": "2025-01-10T10:51:55.256Z"
   },
   {
    "duration": 4,
    "start_time": "2025-01-10T10:52:43.835Z"
   },
   {
    "duration": 4,
    "start_time": "2025-01-10T10:53:05.400Z"
   },
   {
    "duration": 392,
    "start_time": "2025-01-10T10:53:09.213Z"
   },
   {
    "duration": 4,
    "start_time": "2025-01-10T10:53:50.965Z"
   },
   {
    "duration": 3,
    "start_time": "2025-01-10T10:53:53.178Z"
   },
   {
    "duration": 3,
    "start_time": "2025-01-10T10:53:54.740Z"
   },
   {
    "duration": 439,
    "start_time": "2025-01-10T10:53:56.446Z"
   },
   {
    "duration": 4,
    "start_time": "2025-01-10T10:57:04.339Z"
   },
   {
    "duration": 400,
    "start_time": "2025-01-10T10:57:17.075Z"
   },
   {
    "duration": 4,
    "start_time": "2025-01-10T10:57:21.572Z"
   },
   {
    "duration": 5,
    "start_time": "2025-01-10T11:03:48.552Z"
   },
   {
    "duration": 404,
    "start_time": "2025-01-10T11:04:20.598Z"
   },
   {
    "duration": 383,
    "start_time": "2025-01-10T11:04:50.590Z"
   },
   {
    "duration": 390,
    "start_time": "2025-01-10T11:04:58.123Z"
   },
   {
    "duration": 5,
    "start_time": "2025-01-10T11:09:29.748Z"
   },
   {
    "duration": 429,
    "start_time": "2025-01-10T11:09:33.909Z"
   },
   {
    "duration": 387,
    "start_time": "2025-01-10T11:09:37.004Z"
   },
   {
    "duration": 385,
    "start_time": "2025-01-10T11:09:41.717Z"
   },
   {
    "duration": 4,
    "start_time": "2025-01-10T11:10:42.435Z"
   },
   {
    "duration": 414,
    "start_time": "2025-01-10T11:10:45.785Z"
   },
   {
    "duration": 4,
    "start_time": "2025-01-10T11:10:52.267Z"
   },
   {
    "duration": 390,
    "start_time": "2025-01-10T11:10:54.134Z"
   },
   {
    "duration": 4,
    "start_time": "2025-01-10T11:18:42.367Z"
   },
   {
    "duration": 303,
    "start_time": "2025-01-10T11:18:53.128Z"
   },
   {
    "duration": 313,
    "start_time": "2025-01-10T11:19:07.036Z"
   },
   {
    "duration": 308,
    "start_time": "2025-01-10T11:19:15.861Z"
   },
   {
    "duration": 5,
    "start_time": "2025-01-10T11:20:27.247Z"
   },
   {
    "duration": 5,
    "start_time": "2025-01-10T11:20:35.561Z"
   },
   {
    "duration": 306,
    "start_time": "2025-01-10T11:20:37.505Z"
   },
   {
    "duration": 10,
    "start_time": "2025-01-10T11:21:48.315Z"
   },
   {
    "duration": 11,
    "start_time": "2025-01-10T11:21:56.137Z"
   },
   {
    "duration": 6,
    "start_time": "2025-01-10T11:22:06.103Z"
   },
   {
    "duration": 6,
    "start_time": "2025-01-10T11:22:45.343Z"
   },
   {
    "duration": 4,
    "start_time": "2025-01-10T11:39:19.707Z"
   },
   {
    "duration": 14,
    "start_time": "2025-01-10T11:39:26.128Z"
   },
   {
    "duration": 4,
    "start_time": "2025-01-10T11:41:11.597Z"
   },
   {
    "duration": 4,
    "start_time": "2025-01-10T11:46:35.111Z"
   },
   {
    "duration": 457,
    "start_time": "2025-01-10T11:47:13.797Z"
   },
   {
    "duration": 3,
    "start_time": "2025-01-10T11:47:23.513Z"
   },
   {
    "duration": 8,
    "start_time": "2025-01-10T11:47:34.143Z"
   },
   {
    "duration": 4,
    "start_time": "2025-01-10T11:47:41.697Z"
   },
   {
    "duration": 13,
    "start_time": "2025-01-10T11:47:50.822Z"
   },
   {
    "duration": 4,
    "start_time": "2025-01-10T11:52:42.014Z"
   },
   {
    "duration": 5,
    "start_time": "2025-01-10T11:53:42.460Z"
   },
   {
    "duration": 27,
    "start_time": "2025-01-10T11:53:48.415Z"
   },
   {
    "duration": 4,
    "start_time": "2025-01-10T11:55:06.922Z"
   },
   {
    "duration": 15,
    "start_time": "2025-01-10T11:55:10.998Z"
   },
   {
    "duration": 5,
    "start_time": "2025-01-10T11:56:27.772Z"
   },
   {
    "duration": 14,
    "start_time": "2025-01-10T11:56:31.632Z"
   },
   {
    "duration": 19,
    "start_time": "2025-01-10T11:57:15.721Z"
   },
   {
    "duration": 3127,
    "start_time": "2025-01-10T11:57:24.486Z"
   },
   {
    "duration": 2594,
    "start_time": "2025-01-10T11:57:27.615Z"
   },
   {
    "duration": 2604,
    "start_time": "2025-01-10T11:57:30.210Z"
   },
   {
    "duration": 1703,
    "start_time": "2025-01-10T11:57:32.815Z"
   },
   {
    "duration": 3,
    "start_time": "2025-01-10T11:57:34.520Z"
   },
   {
    "duration": 31,
    "start_time": "2025-01-10T11:57:34.525Z"
   },
   {
    "duration": 20,
    "start_time": "2025-01-10T11:57:34.557Z"
   },
   {
    "duration": 388,
    "start_time": "2025-01-10T11:57:34.578Z"
   },
   {
    "duration": 315,
    "start_time": "2025-01-10T11:57:34.968Z"
   },
   {
    "duration": 163,
    "start_time": "2025-01-10T11:57:35.284Z"
   },
   {
    "duration": 0,
    "start_time": "2025-01-10T11:57:35.452Z"
   },
   {
    "duration": 0,
    "start_time": "2025-01-10T11:57:35.453Z"
   },
   {
    "duration": 1,
    "start_time": "2025-01-10T11:57:35.454Z"
   },
   {
    "duration": 0,
    "start_time": "2025-01-10T11:57:35.456Z"
   },
   {
    "duration": 0,
    "start_time": "2025-01-10T11:57:35.457Z"
   },
   {
    "duration": 0,
    "start_time": "2025-01-10T11:57:35.459Z"
   },
   {
    "duration": 0,
    "start_time": "2025-01-10T11:57:35.460Z"
   },
   {
    "duration": 0,
    "start_time": "2025-01-10T11:57:35.462Z"
   },
   {
    "duration": 0,
    "start_time": "2025-01-10T11:57:35.463Z"
   },
   {
    "duration": 0,
    "start_time": "2025-01-10T11:57:35.464Z"
   },
   {
    "duration": 0,
    "start_time": "2025-01-10T11:57:35.466Z"
   },
   {
    "duration": 0,
    "start_time": "2025-01-10T11:57:35.467Z"
   },
   {
    "duration": 1,
    "start_time": "2025-01-10T11:57:35.468Z"
   },
   {
    "duration": 0,
    "start_time": "2025-01-10T11:57:35.470Z"
   },
   {
    "duration": 0,
    "start_time": "2025-01-10T11:57:35.471Z"
   },
   {
    "duration": 0,
    "start_time": "2025-01-10T11:57:35.472Z"
   },
   {
    "duration": 0,
    "start_time": "2025-01-10T11:57:35.473Z"
   },
   {
    "duration": 0,
    "start_time": "2025-01-10T11:57:35.475Z"
   },
   {
    "duration": 0,
    "start_time": "2025-01-10T11:57:35.476Z"
   },
   {
    "duration": 0,
    "start_time": "2025-01-10T11:57:35.477Z"
   },
   {
    "duration": 0,
    "start_time": "2025-01-10T11:57:35.479Z"
   },
   {
    "duration": 0,
    "start_time": "2025-01-10T11:57:35.480Z"
   },
   {
    "duration": 0,
    "start_time": "2025-01-10T11:57:35.482Z"
   },
   {
    "duration": 0,
    "start_time": "2025-01-10T11:57:35.483Z"
   },
   {
    "duration": 0,
    "start_time": "2025-01-10T11:57:35.484Z"
   },
   {
    "duration": 1,
    "start_time": "2025-01-10T11:57:35.487Z"
   },
   {
    "duration": 0,
    "start_time": "2025-01-10T11:57:35.489Z"
   },
   {
    "duration": 0,
    "start_time": "2025-01-10T11:57:35.553Z"
   },
   {
    "duration": 0,
    "start_time": "2025-01-10T11:57:35.554Z"
   },
   {
    "duration": 0,
    "start_time": "2025-01-10T11:57:35.555Z"
   },
   {
    "duration": 0,
    "start_time": "2025-01-10T11:57:35.556Z"
   },
   {
    "duration": 0,
    "start_time": "2025-01-10T11:57:35.557Z"
   },
   {
    "duration": 12,
    "start_time": "2025-01-10T11:58:54.598Z"
   },
   {
    "duration": 3237,
    "start_time": "2025-01-10T11:59:01.637Z"
   },
   {
    "duration": 2680,
    "start_time": "2025-01-10T11:59:04.876Z"
   },
   {
    "duration": 2653,
    "start_time": "2025-01-10T11:59:07.558Z"
   },
   {
    "duration": 1726,
    "start_time": "2025-01-10T11:59:10.213Z"
   },
   {
    "duration": 3,
    "start_time": "2025-01-10T11:59:11.941Z"
   },
   {
    "duration": 25,
    "start_time": "2025-01-10T11:59:11.945Z"
   },
   {
    "duration": 21,
    "start_time": "2025-01-10T11:59:11.971Z"
   },
   {
    "duration": 366,
    "start_time": "2025-01-10T11:59:11.993Z"
   },
   {
    "duration": 270,
    "start_time": "2025-01-10T11:59:12.361Z"
   },
   {
    "duration": 21,
    "start_time": "2025-01-10T11:59:12.633Z"
   },
   {
    "duration": 15,
    "start_time": "2025-01-10T11:59:12.655Z"
   },
   {
    "duration": 1070,
    "start_time": "2025-01-10T11:59:12.672Z"
   },
   {
    "duration": 986,
    "start_time": "2025-01-10T11:59:13.743Z"
   },
   {
    "duration": 1133,
    "start_time": "2025-01-10T11:59:14.732Z"
   },
   {
    "duration": 1002,
    "start_time": "2025-01-10T11:59:15.867Z"
   },
   {
    "duration": 1090,
    "start_time": "2025-01-10T11:59:16.871Z"
   },
   {
    "duration": 1078,
    "start_time": "2025-01-10T11:59:17.963Z"
   },
   {
    "duration": 985,
    "start_time": "2025-01-10T11:59:19.042Z"
   },
   {
    "duration": 907,
    "start_time": "2025-01-10T11:59:20.028Z"
   },
   {
    "duration": 1143,
    "start_time": "2025-01-10T11:59:20.936Z"
   },
   {
    "duration": 1063,
    "start_time": "2025-01-10T11:59:22.081Z"
   },
   {
    "duration": 1097,
    "start_time": "2025-01-10T11:59:23.145Z"
   },
   {
    "duration": 1014,
    "start_time": "2025-01-10T11:59:24.244Z"
   },
   {
    "duration": 399,
    "start_time": "2025-01-10T11:59:25.260Z"
   },
   {
    "duration": 3,
    "start_time": "2025-01-10T11:59:25.661Z"
   },
   {
    "duration": 98,
    "start_time": "2025-01-10T11:59:25.665Z"
   },
   {
    "duration": 100,
    "start_time": "2025-01-10T11:59:25.764Z"
   },
   {
    "duration": 8,
    "start_time": "2025-01-10T11:59:25.866Z"
   },
   {
    "duration": 14,
    "start_time": "2025-01-10T11:59:25.875Z"
   },
   {
    "duration": 26,
    "start_time": "2025-01-10T11:59:25.890Z"
   },
   {
    "duration": 21,
    "start_time": "2025-01-10T11:59:25.918Z"
   },
   {
    "duration": 8,
    "start_time": "2025-01-10T11:59:25.940Z"
   },
   {
    "duration": 145,
    "start_time": "2025-01-10T11:59:25.949Z"
   },
   {
    "duration": 0,
    "start_time": "2025-01-10T11:59:26.095Z"
   },
   {
    "duration": 0,
    "start_time": "2025-01-10T11:59:26.097Z"
   },
   {
    "duration": 0,
    "start_time": "2025-01-10T11:59:26.098Z"
   },
   {
    "duration": 0,
    "start_time": "2025-01-10T11:59:26.098Z"
   },
   {
    "duration": 0,
    "start_time": "2025-01-10T11:59:26.100Z"
   },
   {
    "duration": 0,
    "start_time": "2025-01-10T11:59:26.100Z"
   },
   {
    "duration": 0,
    "start_time": "2025-01-10T11:59:26.101Z"
   },
   {
    "duration": 0,
    "start_time": "2025-01-10T11:59:26.102Z"
   },
   {
    "duration": 0,
    "start_time": "2025-01-10T11:59:26.103Z"
   },
   {
    "duration": 3,
    "start_time": "2025-01-10T11:59:54.665Z"
   },
   {
    "duration": 5,
    "start_time": "2025-01-10T12:00:39.269Z"
   },
   {
    "duration": 19,
    "start_time": "2025-01-10T12:00:44.874Z"
   },
   {
    "duration": 17,
    "start_time": "2025-01-10T12:01:57.430Z"
   },
   {
    "duration": 11,
    "start_time": "2025-01-10T12:02:09.386Z"
   },
   {
    "duration": 4,
    "start_time": "2025-01-10T12:02:33.171Z"
   },
   {
    "duration": 5,
    "start_time": "2025-01-10T12:02:55.373Z"
   },
   {
    "duration": 5,
    "start_time": "2025-01-10T12:03:39.166Z"
   },
   {
    "duration": 4,
    "start_time": "2025-01-10T12:03:46.510Z"
   },
   {
    "duration": 13,
    "start_time": "2025-01-10T12:04:19.749Z"
   },
   {
    "duration": 9,
    "start_time": "2025-01-10T12:08:29.871Z"
   },
   {
    "duration": 9,
    "start_time": "2025-01-10T12:09:37.052Z"
   },
   {
    "duration": 9,
    "start_time": "2025-01-10T12:10:00.377Z"
   },
   {
    "duration": 12,
    "start_time": "2025-01-10T12:10:15.030Z"
   },
   {
    "duration": 17,
    "start_time": "2025-01-10T12:10:27.490Z"
   },
   {
    "duration": 18,
    "start_time": "2025-01-10T12:11:00.125Z"
   },
   {
    "duration": 15,
    "start_time": "2025-01-10T12:11:42.437Z"
   },
   {
    "duration": 9,
    "start_time": "2025-01-10T12:12:04.737Z"
   },
   {
    "duration": 11,
    "start_time": "2025-01-10T12:13:05.777Z"
   },
   {
    "duration": 6,
    "start_time": "2025-01-10T12:13:59.145Z"
   },
   {
    "duration": 8,
    "start_time": "2025-01-10T12:14:15.201Z"
   },
   {
    "duration": 4,
    "start_time": "2025-01-10T12:16:43.506Z"
   },
   {
    "duration": 1278,
    "start_time": "2025-01-10T12:16:45.866Z"
   },
   {
    "duration": 5,
    "start_time": "2025-01-10T12:17:09.237Z"
   },
   {
    "duration": 1183,
    "start_time": "2025-01-10T12:17:19.342Z"
   },
   {
    "duration": 1168,
    "start_time": "2025-01-10T12:17:24.662Z"
   },
   {
    "duration": 1163,
    "start_time": "2025-01-10T12:17:27.749Z"
   },
   {
    "duration": 6487,
    "start_time": "2025-01-11T06:27:23.095Z"
   },
   {
    "duration": 2985,
    "start_time": "2025-01-11T06:27:29.584Z"
   },
   {
    "duration": 4203,
    "start_time": "2025-01-11T06:27:32.572Z"
   },
   {
    "duration": 1918,
    "start_time": "2025-01-11T06:27:36.777Z"
   },
   {
    "duration": 5,
    "start_time": "2025-01-11T06:27:38.698Z"
   },
   {
    "duration": 19,
    "start_time": "2025-01-11T06:27:38.705Z"
   },
   {
    "duration": 31,
    "start_time": "2025-01-11T06:27:38.725Z"
   },
   {
    "duration": 667,
    "start_time": "2025-01-11T06:27:38.758Z"
   },
   {
    "duration": 337,
    "start_time": "2025-01-11T06:27:39.427Z"
   },
   {
    "duration": 10,
    "start_time": "2025-01-11T06:27:39.766Z"
   },
   {
    "duration": 29,
    "start_time": "2025-01-11T06:27:39.777Z"
   },
   {
    "duration": 1180,
    "start_time": "2025-01-11T06:27:39.808Z"
   },
   {
    "duration": 1063,
    "start_time": "2025-01-11T06:27:40.990Z"
   },
   {
    "duration": 1229,
    "start_time": "2025-01-11T06:27:42.056Z"
   },
   {
    "duration": 1043,
    "start_time": "2025-01-11T06:27:43.287Z"
   },
   {
    "duration": 1134,
    "start_time": "2025-01-11T06:27:44.331Z"
   },
   {
    "duration": 1078,
    "start_time": "2025-01-11T06:27:45.467Z"
   },
   {
    "duration": 987,
    "start_time": "2025-01-11T06:27:46.547Z"
   },
   {
    "duration": 1006,
    "start_time": "2025-01-11T06:27:47.536Z"
   },
   {
    "duration": 1433,
    "start_time": "2025-01-11T06:27:48.544Z"
   },
   {
    "duration": 1078,
    "start_time": "2025-01-11T06:27:49.978Z"
   },
   {
    "duration": 1096,
    "start_time": "2025-01-11T06:27:51.058Z"
   },
   {
    "duration": 1075,
    "start_time": "2025-01-11T06:27:52.156Z"
   },
   {
    "duration": 414,
    "start_time": "2025-01-11T06:27:53.232Z"
   },
   {
    "duration": 198,
    "start_time": "2025-01-11T06:27:53.649Z"
   },
   {
    "duration": 49,
    "start_time": "2025-01-11T06:27:53.849Z"
   },
   {
    "duration": 813,
    "start_time": "2025-01-11T06:27:53.900Z"
   },
   {
    "duration": 599,
    "start_time": "2025-01-11T06:27:54.715Z"
   },
   {
    "duration": 939,
    "start_time": "2025-01-11T06:27:55.315Z"
   },
   {
    "duration": 383,
    "start_time": "2025-01-11T06:27:56.256Z"
   },
   {
    "duration": 660,
    "start_time": "2025-01-11T06:27:56.641Z"
   },
   {
    "duration": 423,
    "start_time": "2025-01-11T06:27:57.302Z"
   },
   {
    "duration": 652,
    "start_time": "2025-01-11T06:27:57.726Z"
   },
   {
    "duration": 831,
    "start_time": "2025-01-11T06:27:58.379Z"
   },
   {
    "duration": 910,
    "start_time": "2025-01-11T06:27:59.212Z"
   },
   {
    "duration": 509,
    "start_time": "2025-01-11T06:28:00.124Z"
   },
   {
    "duration": 981,
    "start_time": "2025-01-11T06:28:00.635Z"
   },
   {
    "duration": 307,
    "start_time": "2025-01-11T06:28:01.617Z"
   },
   {
    "duration": 2130,
    "start_time": "2025-01-11T06:28:01.926Z"
   },
   {
    "duration": 1430,
    "start_time": "2025-01-11T06:28:04.057Z"
   },
   {
    "duration": 1473,
    "start_time": "2025-01-11T06:28:05.491Z"
   },
   {
    "duration": 5,
    "start_time": "2025-01-11T06:28:06.965Z"
   },
   {
    "duration": 862,
    "start_time": "2025-01-11T06:28:06.972Z"
   },
   {
    "duration": 3,
    "start_time": "2025-01-11T06:43:07.831Z"
   },
   {
    "duration": 5,
    "start_time": "2025-01-11T06:43:09.650Z"
   },
   {
    "duration": 17,
    "start_time": "2025-01-11T06:43:12.621Z"
   },
   {
    "duration": 5,
    "start_time": "2025-01-11T06:43:23.362Z"
   },
   {
    "duration": 1417,
    "start_time": "2025-01-11T06:43:26.980Z"
   },
   {
    "duration": 5,
    "start_time": "2025-01-11T06:45:23.102Z"
   },
   {
    "duration": 1478,
    "start_time": "2025-01-11T06:45:25.383Z"
   },
   {
    "duration": 1471,
    "start_time": "2025-01-11T06:45:34.881Z"
   },
   {
    "duration": 5,
    "start_time": "2025-01-11T06:49:18.228Z"
   },
   {
    "duration": 4289,
    "start_time": "2025-01-11T06:53:07.892Z"
   },
   {
    "duration": 10,
    "start_time": "2025-01-11T06:53:30.786Z"
   },
   {
    "duration": 533,
    "start_time": "2025-01-11T06:54:10.632Z"
   },
   {
    "duration": 195,
    "start_time": "2025-01-11T07:00:41.576Z"
   },
   {
    "duration": 282,
    "start_time": "2025-01-11T07:00:56.049Z"
   },
   {
    "duration": 13,
    "start_time": "2025-01-11T07:01:19.851Z"
   },
   {
    "duration": 13,
    "start_time": "2025-01-11T07:01:42.906Z"
   },
   {
    "duration": 136,
    "start_time": "2025-01-11T07:03:25.011Z"
   },
   {
    "duration": 214,
    "start_time": "2025-01-11T07:04:29.906Z"
   },
   {
    "duration": 325,
    "start_time": "2025-01-11T07:05:06.691Z"
   },
   {
    "duration": 362,
    "start_time": "2025-01-11T07:05:33.002Z"
   },
   {
    "duration": 217,
    "start_time": "2025-01-11T07:07:18.404Z"
   },
   {
    "duration": 360,
    "start_time": "2025-01-11T07:07:48.723Z"
   },
   {
    "duration": 6,
    "start_time": "2025-01-11T07:08:16.715Z"
   },
   {
    "duration": 5,
    "start_time": "2025-01-11T07:14:01.409Z"
   },
   {
    "duration": 114,
    "start_time": "2025-01-11T07:14:44.285Z"
   },
   {
    "duration": 383,
    "start_time": "2025-01-11T07:15:57.198Z"
   },
   {
    "duration": 390,
    "start_time": "2025-01-11T07:16:35.699Z"
   },
   {
    "duration": 5,
    "start_time": "2025-01-11T07:16:59.173Z"
   },
   {
    "duration": 551,
    "start_time": "2025-01-11T07:17:01.336Z"
   },
   {
    "duration": 85,
    "start_time": "2025-01-11T07:18:48.642Z"
   },
   {
    "duration": 385,
    "start_time": "2025-01-11T07:18:53.083Z"
   },
   {
    "duration": 392,
    "start_time": "2025-01-11T07:19:33.080Z"
   },
   {
    "duration": 399,
    "start_time": "2025-01-11T07:39:25.798Z"
   },
   {
    "duration": 395,
    "start_time": "2025-01-11T07:39:38.582Z"
   },
   {
    "duration": 351,
    "start_time": "2025-01-11T07:39:52.750Z"
   },
   {
    "duration": 354,
    "start_time": "2025-01-11T07:40:08.732Z"
   },
   {
    "duration": 390,
    "start_time": "2025-01-11T07:40:36.005Z"
   },
   {
    "duration": 386,
    "start_time": "2025-01-11T07:41:05.196Z"
   },
   {
    "duration": 422,
    "start_time": "2025-01-11T07:41:18.202Z"
   },
   {
    "duration": 391,
    "start_time": "2025-01-11T07:41:29.084Z"
   },
   {
    "duration": 412,
    "start_time": "2025-01-11T07:41:36.043Z"
   },
   {
    "duration": 617,
    "start_time": "2025-01-11T07:41:39.471Z"
   },
   {
    "duration": 390,
    "start_time": "2025-01-11T07:41:44.862Z"
   },
   {
    "duration": 3057,
    "start_time": "2025-01-11T08:06:47.495Z"
   },
   {
    "duration": 2470,
    "start_time": "2025-01-11T08:06:50.555Z"
   },
   {
    "duration": 2436,
    "start_time": "2025-01-11T08:06:53.027Z"
   },
   {
    "duration": 1727,
    "start_time": "2025-01-11T08:06:55.465Z"
   },
   {
    "duration": 4,
    "start_time": "2025-01-11T08:06:57.193Z"
   },
   {
    "duration": 16,
    "start_time": "2025-01-11T08:06:57.199Z"
   },
   {
    "duration": 12,
    "start_time": "2025-01-11T08:06:57.216Z"
   },
   {
    "duration": 7,
    "start_time": "2025-01-11T08:06:57.229Z"
   },
   {
    "duration": 409,
    "start_time": "2025-01-11T08:06:57.238Z"
   },
   {
    "duration": 333,
    "start_time": "2025-01-11T08:06:57.649Z"
   },
   {
    "duration": 11,
    "start_time": "2025-01-11T08:06:57.983Z"
   },
   {
    "duration": 27,
    "start_time": "2025-01-11T08:06:57.995Z"
   },
   {
    "duration": 1261,
    "start_time": "2025-01-11T08:06:58.024Z"
   },
   {
    "duration": 976,
    "start_time": "2025-01-11T08:06:59.287Z"
   },
   {
    "duration": 1183,
    "start_time": "2025-01-11T08:07:00.264Z"
   },
   {
    "duration": 1101,
    "start_time": "2025-01-11T08:07:01.448Z"
   },
   {
    "duration": 1200,
    "start_time": "2025-01-11T08:07:02.551Z"
   },
   {
    "duration": 1094,
    "start_time": "2025-01-11T08:07:03.753Z"
   },
   {
    "duration": 992,
    "start_time": "2025-01-11T08:07:04.848Z"
   },
   {
    "duration": 1007,
    "start_time": "2025-01-11T08:07:05.842Z"
   },
   {
    "duration": 1321,
    "start_time": "2025-01-11T08:07:06.851Z"
   },
   {
    "duration": 1080,
    "start_time": "2025-01-11T08:07:08.174Z"
   },
   {
    "duration": 1096,
    "start_time": "2025-01-11T08:07:09.256Z"
   },
   {
    "duration": 1018,
    "start_time": "2025-01-11T08:07:10.354Z"
   },
   {
    "duration": 371,
    "start_time": "2025-01-11T08:07:11.374Z"
   },
   {
    "duration": 4,
    "start_time": "2025-01-11T08:07:11.747Z"
   },
   {
    "duration": 100,
    "start_time": "2025-01-11T08:07:11.831Z"
   },
   {
    "duration": 7,
    "start_time": "2025-01-11T08:07:11.935Z"
   },
   {
    "duration": 20,
    "start_time": "2025-01-11T08:07:11.944Z"
   },
   {
    "duration": 82,
    "start_time": "2025-01-11T08:07:11.966Z"
   },
   {
    "duration": 7,
    "start_time": "2025-01-11T08:07:12.050Z"
   },
   {
    "duration": 4392,
    "start_time": "2025-01-11T08:07:12.058Z"
   },
   {
    "duration": 362,
    "start_time": "2025-01-11T08:07:16.452Z"
   },
   {
    "duration": 381,
    "start_time": "2025-01-11T08:07:16.816Z"
   },
   {
    "duration": 391,
    "start_time": "2025-01-11T08:07:17.199Z"
   },
   {
    "duration": 1478,
    "start_time": "2025-01-11T08:07:17.591Z"
   },
   {
    "duration": 1456,
    "start_time": "2025-01-11T08:07:19.070Z"
   },
   {
    "duration": 140,
    "start_time": "2025-01-11T08:07:20.530Z"
   },
   {
    "duration": 3,
    "start_time": "2025-01-11T08:13:03.096Z"
   },
   {
    "duration": 4,
    "start_time": "2025-01-11T08:13:31.463Z"
   },
   {
    "duration": 4,
    "start_time": "2025-01-11T08:16:26.856Z"
   },
   {
    "duration": 4,
    "start_time": "2025-01-11T08:17:05.652Z"
   },
   {
    "duration": 3,
    "start_time": "2025-01-11T08:17:25.701Z"
   },
   {
    "duration": 4,
    "start_time": "2025-01-11T08:17:35.567Z"
   },
   {
    "duration": 4,
    "start_time": "2025-01-11T08:17:46.652Z"
   },
   {
    "duration": 4,
    "start_time": "2025-01-11T08:18:00.959Z"
   },
   {
    "duration": 3,
    "start_time": "2025-01-11T08:18:30.386Z"
   },
   {
    "duration": 4,
    "start_time": "2025-01-11T08:18:44.429Z"
   },
   {
    "duration": 4,
    "start_time": "2025-01-11T08:18:50.398Z"
   },
   {
    "duration": 91,
    "start_time": "2025-01-11T08:28:07.477Z"
   },
   {
    "duration": 84,
    "start_time": "2025-01-11T08:28:21.225Z"
   },
   {
    "duration": 91,
    "start_time": "2025-01-11T08:28:30.556Z"
   },
   {
    "duration": 4,
    "start_time": "2025-01-11T08:28:34.776Z"
   },
   {
    "duration": 3,
    "start_time": "2025-01-11T08:28:52.762Z"
   },
   {
    "duration": 3,
    "start_time": "2025-01-11T08:29:11.522Z"
   },
   {
    "duration": 3060,
    "start_time": "2025-01-11T08:52:09.559Z"
   },
   {
    "duration": 2434,
    "start_time": "2025-01-11T08:52:12.621Z"
   },
   {
    "duration": 2452,
    "start_time": "2025-01-11T08:52:15.057Z"
   },
   {
    "duration": 1306,
    "start_time": "2025-01-11T08:52:17.511Z"
   },
   {
    "duration": 4,
    "start_time": "2025-01-11T08:52:18.818Z"
   },
   {
    "duration": 8,
    "start_time": "2025-01-11T08:52:18.824Z"
   },
   {
    "duration": 8,
    "start_time": "2025-01-11T08:52:18.833Z"
   },
   {
    "duration": 5,
    "start_time": "2025-01-11T08:52:18.843Z"
   },
   {
    "duration": 413,
    "start_time": "2025-01-11T08:52:18.849Z"
   },
   {
    "duration": 319,
    "start_time": "2025-01-11T08:52:19.264Z"
   },
   {
    "duration": 11,
    "start_time": "2025-01-11T08:52:19.584Z"
   },
   {
    "duration": 16,
    "start_time": "2025-01-11T08:52:19.596Z"
   },
   {
    "duration": 1263,
    "start_time": "2025-01-11T08:52:19.614Z"
   },
   {
    "duration": 977,
    "start_time": "2025-01-11T08:52:20.879Z"
   },
   {
    "duration": 1189,
    "start_time": "2025-01-11T08:52:21.858Z"
   },
   {
    "duration": 1018,
    "start_time": "2025-01-11T08:52:23.048Z"
   },
   {
    "duration": 1203,
    "start_time": "2025-01-11T08:52:24.068Z"
   },
   {
    "duration": 1188,
    "start_time": "2025-01-11T08:52:25.273Z"
   },
   {
    "duration": 1089,
    "start_time": "2025-01-11T08:52:26.462Z"
   },
   {
    "duration": 992,
    "start_time": "2025-01-11T08:52:27.552Z"
   },
   {
    "duration": 1352,
    "start_time": "2025-01-11T08:52:28.546Z"
   },
   {
    "duration": 1048,
    "start_time": "2025-01-11T08:52:29.899Z"
   },
   {
    "duration": 1099,
    "start_time": "2025-01-11T08:52:30.949Z"
   },
   {
    "duration": 1107,
    "start_time": "2025-01-11T08:52:32.049Z"
   },
   {
    "duration": 129,
    "start_time": "2025-01-11T08:52:33.158Z"
   },
   {
    "duration": 0,
    "start_time": "2025-01-11T08:52:33.289Z"
   },
   {
    "duration": 0,
    "start_time": "2025-01-11T08:52:33.291Z"
   },
   {
    "duration": 0,
    "start_time": "2025-01-11T08:52:33.293Z"
   },
   {
    "duration": 0,
    "start_time": "2025-01-11T08:52:33.294Z"
   },
   {
    "duration": 0,
    "start_time": "2025-01-11T08:52:33.296Z"
   },
   {
    "duration": 0,
    "start_time": "2025-01-11T08:52:33.298Z"
   },
   {
    "duration": 0,
    "start_time": "2025-01-11T08:52:33.299Z"
   },
   {
    "duration": 0,
    "start_time": "2025-01-11T08:52:33.301Z"
   },
   {
    "duration": 0,
    "start_time": "2025-01-11T08:52:33.302Z"
   },
   {
    "duration": 0,
    "start_time": "2025-01-11T08:52:33.330Z"
   },
   {
    "duration": 6,
    "start_time": "2025-01-11T08:53:10.463Z"
   },
   {
    "duration": 3003,
    "start_time": "2025-01-11T08:53:15.750Z"
   },
   {
    "duration": 2389,
    "start_time": "2025-01-11T08:53:18.756Z"
   },
   {
    "duration": 2451,
    "start_time": "2025-01-11T08:53:21.149Z"
   },
   {
    "duration": 1327,
    "start_time": "2025-01-11T08:53:23.603Z"
   },
   {
    "duration": 3,
    "start_time": "2025-01-11T08:53:24.932Z"
   },
   {
    "duration": 7,
    "start_time": "2025-01-11T08:53:24.937Z"
   },
   {
    "duration": 6,
    "start_time": "2025-01-11T08:53:24.946Z"
   },
   {
    "duration": 8,
    "start_time": "2025-01-11T08:53:24.954Z"
   },
   {
    "duration": 419,
    "start_time": "2025-01-11T08:53:24.964Z"
   },
   {
    "duration": 347,
    "start_time": "2025-01-11T08:53:25.384Z"
   },
   {
    "duration": 11,
    "start_time": "2025-01-11T08:53:25.732Z"
   },
   {
    "duration": 9,
    "start_time": "2025-01-11T08:53:25.745Z"
   },
   {
    "duration": 1144,
    "start_time": "2025-01-11T08:53:25.757Z"
   },
   {
    "duration": 1039,
    "start_time": "2025-01-11T08:53:26.902Z"
   },
   {
    "duration": 1197,
    "start_time": "2025-01-11T08:53:27.943Z"
   },
   {
    "duration": 1039,
    "start_time": "2025-01-11T08:53:29.142Z"
   },
   {
    "duration": 1091,
    "start_time": "2025-01-11T08:53:30.183Z"
   },
   {
    "duration": 1083,
    "start_time": "2025-01-11T08:53:31.276Z"
   },
   {
    "duration": 980,
    "start_time": "2025-01-11T08:53:32.361Z"
   },
   {
    "duration": 1008,
    "start_time": "2025-01-11T08:53:33.343Z"
   },
   {
    "duration": 1343,
    "start_time": "2025-01-11T08:53:34.353Z"
   },
   {
    "duration": 1153,
    "start_time": "2025-01-11T08:53:35.698Z"
   },
   {
    "duration": 1177,
    "start_time": "2025-01-11T08:53:36.853Z"
   },
   {
    "duration": 1115,
    "start_time": "2025-01-11T08:53:38.032Z"
   },
   {
    "duration": 121,
    "start_time": "2025-01-11T08:53:39.149Z"
   },
   {
    "duration": 0,
    "start_time": "2025-01-11T08:53:39.271Z"
   },
   {
    "duration": 0,
    "start_time": "2025-01-11T08:53:39.272Z"
   },
   {
    "duration": 0,
    "start_time": "2025-01-11T08:53:39.273Z"
   },
   {
    "duration": 0,
    "start_time": "2025-01-11T08:53:39.274Z"
   },
   {
    "duration": 0,
    "start_time": "2025-01-11T08:53:39.275Z"
   },
   {
    "duration": 0,
    "start_time": "2025-01-11T08:53:39.277Z"
   },
   {
    "duration": 0,
    "start_time": "2025-01-11T08:53:39.278Z"
   },
   {
    "duration": 1,
    "start_time": "2025-01-11T08:53:39.279Z"
   },
   {
    "duration": 0,
    "start_time": "2025-01-11T08:53:39.281Z"
   },
   {
    "duration": 0,
    "start_time": "2025-01-11T08:53:39.282Z"
   },
   {
    "duration": 2981,
    "start_time": "2025-01-11T08:54:22.392Z"
   },
   {
    "duration": 2434,
    "start_time": "2025-01-11T08:54:25.376Z"
   },
   {
    "duration": 2460,
    "start_time": "2025-01-11T08:54:27.812Z"
   },
   {
    "duration": 1257,
    "start_time": "2025-01-11T08:54:30.273Z"
   },
   {
    "duration": 4,
    "start_time": "2025-01-11T08:54:31.532Z"
   },
   {
    "duration": 41,
    "start_time": "2025-01-11T08:54:31.537Z"
   },
   {
    "duration": 7,
    "start_time": "2025-01-11T08:54:31.579Z"
   },
   {
    "duration": 22,
    "start_time": "2025-01-11T08:54:31.588Z"
   },
   {
    "duration": 444,
    "start_time": "2025-01-11T08:54:31.612Z"
   },
   {
    "duration": 336,
    "start_time": "2025-01-11T08:54:32.058Z"
   },
   {
    "duration": 11,
    "start_time": "2025-01-11T08:54:32.395Z"
   },
   {
    "duration": 25,
    "start_time": "2025-01-11T08:54:32.408Z"
   },
   {
    "duration": 1155,
    "start_time": "2025-01-11T08:54:32.435Z"
   },
   {
    "duration": 951,
    "start_time": "2025-01-11T08:54:33.593Z"
   },
   {
    "duration": 1196,
    "start_time": "2025-01-11T08:54:34.546Z"
   },
   {
    "duration": 1090,
    "start_time": "2025-01-11T08:54:35.744Z"
   },
   {
    "duration": 1216,
    "start_time": "2025-01-11T08:54:36.836Z"
   },
   {
    "duration": 1086,
    "start_time": "2025-01-11T08:54:38.053Z"
   },
   {
    "duration": 1007,
    "start_time": "2025-01-11T08:54:39.141Z"
   },
   {
    "duration": 1010,
    "start_time": "2025-01-11T08:54:40.149Z"
   },
   {
    "duration": 1406,
    "start_time": "2025-01-11T08:54:41.161Z"
   },
   {
    "duration": 1083,
    "start_time": "2025-01-11T08:54:42.568Z"
   },
   {
    "duration": 1088,
    "start_time": "2025-01-11T08:54:43.653Z"
   },
   {
    "duration": 1063,
    "start_time": "2025-01-11T08:54:44.742Z"
   },
   {
    "duration": 437,
    "start_time": "2025-01-11T08:54:45.806Z"
   },
   {
    "duration": 83,
    "start_time": "2025-01-11T08:54:46.246Z"
   },
   {
    "duration": 104,
    "start_time": "2025-01-11T08:54:46.333Z"
   },
   {
    "duration": 17,
    "start_time": "2025-01-11T08:54:46.438Z"
   },
   {
    "duration": 3,
    "start_time": "2025-01-11T08:54:46.457Z"
   },
   {
    "duration": 12,
    "start_time": "2025-01-11T08:54:46.461Z"
   },
   {
    "duration": 5,
    "start_time": "2025-01-11T08:54:46.475Z"
   },
   {
    "duration": 4416,
    "start_time": "2025-01-11T08:54:46.482Z"
   },
   {
    "duration": 401,
    "start_time": "2025-01-11T08:54:50.900Z"
   },
   {
    "duration": 386,
    "start_time": "2025-01-11T08:54:51.303Z"
   },
   {
    "duration": 421,
    "start_time": "2025-01-11T08:54:51.691Z"
   },
   {
    "duration": 7097,
    "start_time": "2025-01-12T11:20:39.069Z"
   },
   {
    "duration": 3230,
    "start_time": "2025-01-12T11:20:46.168Z"
   },
   {
    "duration": 4150,
    "start_time": "2025-01-12T11:20:49.400Z"
   },
   {
    "duration": 1490,
    "start_time": "2025-01-12T11:20:53.553Z"
   },
   {
    "duration": 4,
    "start_time": "2025-01-12T11:20:55.045Z"
   },
   {
    "duration": 104,
    "start_time": "2025-01-12T11:20:55.050Z"
   },
   {
    "duration": 7,
    "start_time": "2025-01-12T11:20:55.155Z"
   },
   {
    "duration": 14,
    "start_time": "2025-01-12T11:20:55.164Z"
   },
   {
    "duration": 703,
    "start_time": "2025-01-12T11:20:55.179Z"
   },
   {
    "duration": 315,
    "start_time": "2025-01-12T11:20:55.884Z"
   },
   {
    "duration": 11,
    "start_time": "2025-01-12T11:20:56.200Z"
   },
   {
    "duration": 9,
    "start_time": "2025-01-12T11:20:56.212Z"
   },
   {
    "duration": 1233,
    "start_time": "2025-01-12T11:20:56.222Z"
   },
   {
    "duration": 1036,
    "start_time": "2025-01-12T11:20:57.457Z"
   },
   {
    "duration": 1204,
    "start_time": "2025-01-12T11:20:58.495Z"
   },
   {
    "duration": 1085,
    "start_time": "2025-01-12T11:20:59.701Z"
   },
   {
    "duration": 1136,
    "start_time": "2025-01-12T11:21:00.788Z"
   },
   {
    "duration": 1150,
    "start_time": "2025-01-12T11:21:01.926Z"
   },
   {
    "duration": 1013,
    "start_time": "2025-01-12T11:21:03.078Z"
   },
   {
    "duration": 1010,
    "start_time": "2025-01-12T11:21:04.093Z"
   },
   {
    "duration": 1313,
    "start_time": "2025-01-12T11:21:05.105Z"
   },
   {
    "duration": 1096,
    "start_time": "2025-01-12T11:21:06.420Z"
   },
   {
    "duration": 1076,
    "start_time": "2025-01-12T11:21:07.518Z"
   },
   {
    "duration": 1053,
    "start_time": "2025-01-12T11:21:08.596Z"
   },
   {
    "duration": 454,
    "start_time": "2025-01-12T11:21:09.650Z"
   },
   {
    "duration": 5,
    "start_time": "2025-01-12T11:21:10.170Z"
   },
   {
    "duration": 95,
    "start_time": "2025-01-12T11:21:10.178Z"
   },
   {
    "duration": 8,
    "start_time": "2025-01-12T11:21:10.277Z"
   },
   {
    "duration": 4,
    "start_time": "2025-01-12T11:21:10.286Z"
   },
   {
    "duration": 4,
    "start_time": "2025-01-12T11:21:10.291Z"
   },
   {
    "duration": 7,
    "start_time": "2025-01-12T11:21:10.296Z"
   },
   {
    "duration": 4493,
    "start_time": "2025-01-12T11:21:10.305Z"
   },
   {
    "duration": 417,
    "start_time": "2025-01-12T11:21:14.800Z"
   },
   {
    "duration": 410,
    "start_time": "2025-01-12T11:21:15.219Z"
   },
   {
    "duration": 414,
    "start_time": "2025-01-12T11:21:15.631Z"
   },
   {
    "duration": 501,
    "start_time": "2025-01-12T11:23:56.426Z"
   },
   {
    "duration": 50,
    "start_time": "2025-01-12T11:24:03.135Z"
   },
   {
    "duration": 242,
    "start_time": "2025-01-12T11:24:17.787Z"
   },
   {
    "duration": 240,
    "start_time": "2025-01-12T11:24:24.637Z"
   },
   {
    "duration": 393,
    "start_time": "2025-01-12T11:24:35.643Z"
   },
   {
    "duration": 57,
    "start_time": "2025-01-12T11:25:06.525Z"
   },
   {
    "duration": 392,
    "start_time": "2025-01-12T11:25:20.438Z"
   },
   {
    "duration": 58,
    "start_time": "2025-01-12T11:25:26.457Z"
   },
   {
    "duration": 374,
    "start_time": "2025-01-12T11:25:34.162Z"
   },
   {
    "duration": 489,
    "start_time": "2025-01-12T11:29:30.963Z"
   },
   {
    "duration": 538,
    "start_time": "2025-01-12T11:29:57.252Z"
   },
   {
    "duration": 601,
    "start_time": "2025-01-12T11:30:33.906Z"
   },
   {
    "duration": 546,
    "start_time": "2025-01-12T11:30:41.779Z"
   },
   {
    "duration": 236,
    "start_time": "2025-01-12T11:31:02.242Z"
   },
   {
    "duration": 219,
    "start_time": "2025-01-12T11:31:28.182Z"
   },
   {
    "duration": 2703,
    "start_time": "2025-01-12T11:31:43.140Z"
   },
   {
    "duration": 2465,
    "start_time": "2025-01-12T11:32:05.716Z"
   },
   {
    "duration": 243,
    "start_time": "2025-01-12T11:33:38.481Z"
   },
   {
    "duration": 9,
    "start_time": "2025-01-12T11:34:19.085Z"
   },
   {
    "duration": 130,
    "start_time": "2025-01-12T11:34:29.158Z"
   }
  ],
  "kernelspec": {
   "display_name": "Python 3 (ipykernel)",
   "language": "python",
   "name": "python3"
  },
  "language_info": {
   "codemirror_mode": {
    "name": "ipython",
    "version": 3
   },
   "file_extension": ".py",
   "mimetype": "text/x-python",
   "name": "python",
   "nbconvert_exporter": "python",
   "pygments_lexer": "ipython3",
   "version": "3.9.19"
  },
  "toc": {
   "base_numbering": 1,
   "nav_menu": {},
   "number_sections": true,
   "sideBar": true,
   "skip_h1_title": true,
   "title_cell": "Table of Contents",
   "title_sidebar": "Contents",
   "toc_cell": false,
   "toc_position": {},
   "toc_section_display": true,
   "toc_window_display": true
  }
 },
 "nbformat": 4,
 "nbformat_minor": 2
}
