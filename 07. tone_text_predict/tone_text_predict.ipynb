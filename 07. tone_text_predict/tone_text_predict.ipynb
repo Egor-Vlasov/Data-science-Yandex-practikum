{
 "cells": [
  {
   "cell_type": "markdown",
   "metadata": {
    "toc": true
   },
   "source": [
    "<h1>Содержание<span class=\"tocSkip\"></span></h1>\n",
    "<div class=\"toc\"><ul class=\"toc-item\"><li><span><a href=\"#Подготовка\" data-toc-modified-id=\"Подготовка-1\"><span class=\"toc-item-num\">1&nbsp;&nbsp;</span>Подготовка</a></span></li><li><span><a href=\"#Обучение\" data-toc-modified-id=\"Обучение-2\"><span class=\"toc-item-num\">2&nbsp;&nbsp;</span>Обучение</a></span><ul class=\"toc-item\"><li><span><a href=\"#Logistic-Regression\" data-toc-modified-id=\"Logistic-Regression-2.1\"><span class=\"toc-item-num\">2.1&nbsp;&nbsp;</span>Logistic Regression</a></span></li><li><span><a href=\"#Linear_svc\" data-toc-modified-id=\"Linear_svc-2.2\"><span class=\"toc-item-num\">2.2&nbsp;&nbsp;</span>Linear_svc</a></span></li><li><span><a href=\"#Финальное-обучение\" data-toc-modified-id=\"Финальное-обучение-2.3\"><span class=\"toc-item-num\">2.3&nbsp;&nbsp;</span>Финальное обучение</a></span></li></ul></li><li><span><a href=\"#Выводы\" data-toc-modified-id=\"Выводы-3\"><span class=\"toc-item-num\">3&nbsp;&nbsp;</span>Выводы</a></span></li></ul></div>"
   ]
  },
  {
   "cell_type": "markdown",
   "metadata": {},
   "source": [
    "# Проект для «Викишоп»"
   ]
  },
  {
   "cell_type": "markdown",
   "metadata": {},
   "source": [
    "Интернет-магазин «Викишоп» запускает новый сервис. Теперь пользователи могут редактировать и дополнять описания товаров, как в вики-сообществах. То есть клиенты предлагают свои правки и комментируют изменения других. Магазину нужен инструмент, который будет искать токсичные комментарии и отправлять их на модерацию. \n",
    "\n",
    "Обучите модель классифицировать комментарии на позитивные и негативные. В вашем распоряжении набор данных с разметкой о токсичности правок.\n",
    "\n",
    "Постройте модель со значением метрики качества *F1* не меньше 0.75. \n",
    "\n",
    "**Описание данных**\n",
    "\n",
    "Данные находятся в файле `toxic_comments.csv`. Столбец *text* в нём содержит текст комментария, а *toxic* — целевой признак."
   ]
  },
  {
   "cell_type": "markdown",
   "metadata": {},
   "source": [
    "## Подготовка"
   ]
  },
  {
   "cell_type": "code",
   "execution_count": 1,
   "metadata": {},
   "outputs": [],
   "source": [
    "import pandas as pd\n",
    "from pymystem3 import Mystem\n",
    "from tqdm import notebook\n",
    "from tqdm.notebook import tqdm\n",
    "import re\n",
    "import nltk\n",
    "from nltk.corpus import stopwords as nltk_stopwords\n",
    "from sklearn.model_selection import train_test_split\n",
    "from sklearn.feature_extraction.text import TfidfVectorizer\n",
    "from sklearn.linear_model import LogisticRegression\n",
    "from sklearn.metrics import f1_score\n",
    "from sklearn.model_selection import StratifiedKFold\n",
    "from sklearn.model_selection import RandomizedSearchCV, GridSearchCV\n",
    "from sklearn.neighbors import KNeighborsClassifier\n",
    "from xgboost import XGBClassifier\n",
    "import numpy as np\n",
    "from scipy.sparse import vstack\n",
    "from sklearn.svm import LinearSVC\n",
    "RANDOM_STATE =42"
   ]
  },
  {
   "cell_type": "code",
   "execution_count": 2,
   "metadata": {},
   "outputs": [],
   "source": [
    "df = pd.read_csv('/datasets/toxic_comments.csv', index_col=0)"
   ]
  },
  {
   "cell_type": "code",
   "execution_count": 3,
   "metadata": {},
   "outputs": [],
   "source": [
    "tqdm.pandas()\n",
    "m = Mystem()"
   ]
  },
  {
   "cell_type": "code",
   "execution_count": 4,
   "metadata": {},
   "outputs": [],
   "source": [
    "custom_stopwords = set(nltk_stopwords.words('english'))| {\n",
    "    'would', 'could', 'should', 'might', 'may', 'also', 'us', 'get', 'go', 'like'\n",
    "}"
   ]
  },
  {
   "cell_type": "code",
   "execution_count": 5,
   "metadata": {},
   "outputs": [],
   "source": [
    "def clear_text(text):\n",
    "    text = text.lower()  \n",
    "    text = re.sub(r'[^a-zA-Zа-яА-Я\\s]', ' ', text)  \n",
    "    text = re.sub(r'\\s+', ' ', text).strip()  \n",
    "    return text\n",
    "\n",
    "def lemmatize(text):\n",
    "    cleaned = clear_text(text)\n",
    "    lemmas = m.lemmatize(cleaned)\n",
    "    lemm_text = \"\".join(lemmas).strip()\n",
    "    words = [word for word in lemm_text.split() if word not in custom_stopwords]\n",
    "    return \" \".join(words)"
   ]
  },
  {
   "cell_type": "code",
   "execution_count": 6,
   "metadata": {},
   "outputs": [
    {
     "data": {
      "application/vnd.jupyter.widget-view+json": {
       "model_id": "2beacb3bb6ea4096b20ea72e9ee85fe5",
       "version_major": 2,
       "version_minor": 0
      },
      "text/plain": [
       "  0%|          | 0/159292 [00:00<?, ?it/s]"
      ]
     },
     "metadata": {},
     "output_type": "display_data"
    }
   ],
   "source": [
    "df['clear_lemma'] = df['text'].progress_apply(lemmatize)"
   ]
  },
  {
   "cell_type": "code",
   "execution_count": 7,
   "metadata": {},
   "outputs": [
    {
     "data": {
      "text/html": [
       "<div>\n",
       "<style scoped>\n",
       "    .dataframe tbody tr th:only-of-type {\n",
       "        vertical-align: middle;\n",
       "    }\n",
       "\n",
       "    .dataframe tbody tr th {\n",
       "        vertical-align: top;\n",
       "    }\n",
       "\n",
       "    .dataframe thead th {\n",
       "        text-align: right;\n",
       "    }\n",
       "</style>\n",
       "<table border=\"1\" class=\"dataframe\">\n",
       "  <thead>\n",
       "    <tr style=\"text-align: right;\">\n",
       "      <th></th>\n",
       "      <th>text</th>\n",
       "      <th>toxic</th>\n",
       "      <th>clear_lemma</th>\n",
       "    </tr>\n",
       "  </thead>\n",
       "  <tbody>\n",
       "    <tr>\n",
       "      <th>0</th>\n",
       "      <td>Explanation\\nWhy the edits made under my usern...</td>\n",
       "      <td>0</td>\n",
       "      <td>explanation edits made username hardcore metal...</td>\n",
       "    </tr>\n",
       "    <tr>\n",
       "      <th>1</th>\n",
       "      <td>D'aww! He matches this background colour I'm s...</td>\n",
       "      <td>0</td>\n",
       "      <td>aww matches background colour seemingly stuck ...</td>\n",
       "    </tr>\n",
       "    <tr>\n",
       "      <th>2</th>\n",
       "      <td>Hey man, I'm really not trying to edit war. It...</td>\n",
       "      <td>0</td>\n",
       "      <td>hey man really trying edit war guy constantly ...</td>\n",
       "    </tr>\n",
       "    <tr>\n",
       "      <th>3</th>\n",
       "      <td>\"\\nMore\\nI can't make any real suggestions on ...</td>\n",
       "      <td>0</td>\n",
       "      <td>make real suggestions improvement wondered sec...</td>\n",
       "    </tr>\n",
       "    <tr>\n",
       "      <th>4</th>\n",
       "      <td>You, sir, are my hero. Any chance you remember...</td>\n",
       "      <td>0</td>\n",
       "      <td>sir hero chance remember page</td>\n",
       "    </tr>\n",
       "  </tbody>\n",
       "</table>\n",
       "</div>"
      ],
      "text/plain": [
       "                                                text  toxic  \\\n",
       "0  Explanation\\nWhy the edits made under my usern...      0   \n",
       "1  D'aww! He matches this background colour I'm s...      0   \n",
       "2  Hey man, I'm really not trying to edit war. It...      0   \n",
       "3  \"\\nMore\\nI can't make any real suggestions on ...      0   \n",
       "4  You, sir, are my hero. Any chance you remember...      0   \n",
       "\n",
       "                                         clear_lemma  \n",
       "0  explanation edits made username hardcore metal...  \n",
       "1  aww matches background colour seemingly stuck ...  \n",
       "2  hey man really trying edit war guy constantly ...  \n",
       "3  make real suggestions improvement wondered sec...  \n",
       "4                      sir hero chance remember page  "
      ]
     },
     "execution_count": 7,
     "metadata": {},
     "output_type": "execute_result"
    }
   ],
   "source": [
    "df.head()"
   ]
  },
  {
   "cell_type": "code",
   "execution_count": 8,
   "metadata": {},
   "outputs": [],
   "source": [
    "X = df['clear_lemma']\n",
    "y = df['toxic']"
   ]
  },
  {
   "cell_type": "code",
   "execution_count": 9,
   "metadata": {},
   "outputs": [],
   "source": [
    "X_train, X_test, y_train, y_test = train_test_split(X, y, random_state=RANDOM_STATE,test_size=0.25)"
   ]
  },
  {
   "cell_type": "code",
   "execution_count": 10,
   "metadata": {
    "scrolled": true
   },
   "outputs": [
    {
     "data": {
      "text/plain": [
       "(119469,)"
      ]
     },
     "execution_count": 10,
     "metadata": {},
     "output_type": "execute_result"
    }
   ],
   "source": [
    "X_train.shape"
   ]
  },
  {
   "cell_type": "code",
   "execution_count": 11,
   "metadata": {},
   "outputs": [
    {
     "data": {
      "text/plain": [
       "(39823,)"
      ]
     },
     "execution_count": 11,
     "metadata": {},
     "output_type": "execute_result"
    }
   ],
   "source": [
    "X_test.shape"
   ]
  },
  {
   "cell_type": "code",
   "execution_count": 12,
   "metadata": {},
   "outputs": [],
   "source": [
    "X_train = X_train.values.astype('U')\n",
    "X_test = X_test.values.astype('U')"
   ]
  },
  {
   "cell_type": "code",
   "execution_count": 13,
   "metadata": {},
   "outputs": [],
   "source": [
    "tfidf = TfidfVectorizer(\n",
    "    stop_words=custom_stopwords,\n",
    "    ngram_range=(1, 1)\n",
    ")"
   ]
  },
  {
   "cell_type": "code",
   "execution_count": 14,
   "metadata": {
    "scrolled": false
   },
   "outputs": [],
   "source": [
    "X_train_tfidf = tfidf.fit_transform(X_train)"
   ]
  },
  {
   "cell_type": "code",
   "execution_count": 15,
   "metadata": {},
   "outputs": [],
   "source": [
    "X_test_tfidf = tfidf.transform(X_test) "
   ]
  },
  {
   "cell_type": "code",
   "execution_count": 16,
   "metadata": {},
   "outputs": [],
   "source": [
    "k = 5  \n",
    "kf = StratifiedKFold(n_splits=5, shuffle=True, random_state=42)"
   ]
  },
  {
   "cell_type": "markdown",
   "metadata": {},
   "source": [
    "## Обучение"
   ]
  },
  {
   "cell_type": "markdown",
   "metadata": {},
   "source": [
    "### Logistic Regression"
   ]
  },
  {
   "cell_type": "code",
   "execution_count": 17,
   "metadata": {},
   "outputs": [],
   "source": [
    "model = LogisticRegression(solver=\"saga\", max_iter=500, random_state=RANDOM_STATE)"
   ]
  },
  {
   "cell_type": "code",
   "execution_count": 18,
   "metadata": {},
   "outputs": [],
   "source": [
    "param_grid_lr = {\n",
    "    'class_weight': ['balanced']\n",
    "}"
   ]
  },
  {
   "cell_type": "code",
   "execution_count": 19,
   "metadata": {},
   "outputs": [],
   "source": [
    "gs_lr = GridSearchCV(\n",
    "    estimator=model,\n",
    "    param_grid=param_grid_lr,\n",
    "    cv=kf,\n",
    "    scoring='f1',  \n",
    "    n_jobs=-1      \n",
    ")"
   ]
  },
  {
   "cell_type": "code",
   "execution_count": 20,
   "metadata": {
    "scrolled": false
   },
   "outputs": [
    {
     "name": "stderr",
     "output_type": "stream",
     "text": [
      "/opt/conda/lib/python3.9/site-packages/sklearn/linear_model/_sag.py:328: ConvergenceWarning: The max_iter was reached which means the coef_ did not converge\n",
      "  warnings.warn(\"The max_iter was reached which means \"\n",
      "/opt/conda/lib/python3.9/site-packages/sklearn/linear_model/_sag.py:328: ConvergenceWarning: The max_iter was reached which means the coef_ did not converge\n",
      "  warnings.warn(\"The max_iter was reached which means \"\n",
      "/opt/conda/lib/python3.9/site-packages/sklearn/linear_model/_sag.py:328: ConvergenceWarning: The max_iter was reached which means the coef_ did not converge\n",
      "  warnings.warn(\"The max_iter was reached which means \"\n",
      "/opt/conda/lib/python3.9/site-packages/sklearn/linear_model/_sag.py:328: ConvergenceWarning: The max_iter was reached which means the coef_ did not converge\n",
      "  warnings.warn(\"The max_iter was reached which means \"\n",
      "/opt/conda/lib/python3.9/site-packages/sklearn/linear_model/_sag.py:328: ConvergenceWarning: The max_iter was reached which means the coef_ did not converge\n",
      "  warnings.warn(\"The max_iter was reached which means \"\n"
     ]
    },
    {
     "data": {
      "text/plain": [
       "GridSearchCV(cv=StratifiedKFold(n_splits=5, random_state=42, shuffle=True),\n",
       "             estimator=LogisticRegression(max_iter=500, random_state=42,\n",
       "                                          solver='saga'),\n",
       "             n_jobs=-1, param_grid={'class_weight': ['balanced']},\n",
       "             scoring='f1')"
      ]
     },
     "execution_count": 20,
     "metadata": {},
     "output_type": "execute_result"
    }
   ],
   "source": [
    "gs_lr.fit(X_train_tfidf, y_train)"
   ]
  },
  {
   "cell_type": "code",
   "execution_count": 21,
   "metadata": {},
   "outputs": [],
   "source": [
    "best_score = gs_lr.best_score_"
   ]
  },
  {
   "cell_type": "code",
   "execution_count": 22,
   "metadata": {},
   "outputs": [
    {
     "name": "stdout",
     "output_type": "stream",
     "text": [
      "F1-score на валидации: 0.7508\n"
     ]
    }
   ],
   "source": [
    "print(f\"F1-score на валидации: {best_score:.4f}\")"
   ]
  },
  {
   "cell_type": "markdown",
   "metadata": {},
   "source": [
    "### Linear_svc\n"
   ]
  },
  {
   "cell_type": "code",
   "execution_count": 23,
   "metadata": {},
   "outputs": [],
   "source": [
    "model = LinearSVC(\n",
    "    penalty=\"l2\",          \n",
    "    loss=\"squared_hinge\",  \n",
    "    dual=False,       \n",
    "    max_iter=1000,         \n",
    "    random_state=RANDOM_STATE\n",
    ")"
   ]
  },
  {
   "cell_type": "code",
   "execution_count": 24,
   "metadata": {},
   "outputs": [],
   "source": [
    "param_grid_svc = {\n",
    "    'class_weight': ['balanced'],  \n",
    "               \n",
    "}"
   ]
  },
  {
   "cell_type": "code",
   "execution_count": 25,
   "metadata": {},
   "outputs": [],
   "source": [
    "gs_svc = GridSearchCV(\n",
    "    estimator=model,\n",
    "    param_grid=param_grid_svc,\n",
    "    cv=kf,                \n",
    "    scoring='f1',         \n",
    "    n_jobs=-1,            \n",
    "\n",
    ")"
   ]
  },
  {
   "cell_type": "code",
   "execution_count": 26,
   "metadata": {},
   "outputs": [
    {
     "data": {
      "text/plain": [
       "GridSearchCV(cv=StratifiedKFold(n_splits=5, random_state=42, shuffle=True),\n",
       "             estimator=LinearSVC(dual=False, random_state=42), n_jobs=-1,\n",
       "             param_grid={'class_weight': ['balanced']}, scoring='f1')"
      ]
     },
     "execution_count": 26,
     "metadata": {},
     "output_type": "execute_result"
    }
   ],
   "source": [
    "gs_svc.fit(X_train_tfidf, y_train)"
   ]
  },
  {
   "cell_type": "code",
   "execution_count": 27,
   "metadata": {},
   "outputs": [
    {
     "name": "stdout",
     "output_type": "stream",
     "text": [
      "F1-score на валидации: 0.7616\n"
     ]
    }
   ],
   "source": [
    "best_score = gs_svc.best_score_\n",
    "print(f\"F1-score на валидации: {best_score:.4f}\")"
   ]
  },
  {
   "cell_type": "markdown",
   "metadata": {},
   "source": [
    "### Финальное обучение"
   ]
  },
  {
   "cell_type": "markdown",
   "metadata": {},
   "source": [
    "Так как на валидации лучше оказалась модель linear_svc, то используем её"
   ]
  },
  {
   "cell_type": "code",
   "execution_count": 28,
   "metadata": {},
   "outputs": [],
   "source": [
    "best_model_svc = gs_svc.best_estimator_"
   ]
  },
  {
   "cell_type": "code",
   "execution_count": 29,
   "metadata": {},
   "outputs": [],
   "source": [
    "predictions_svc = best_model_svc.predict(X_test_tfidf)\n",
    "f1_svc = f1_score(y_test, predictions_svc)"
   ]
  },
  {
   "cell_type": "code",
   "execution_count": 30,
   "metadata": {},
   "outputs": [
    {
     "name": "stdout",
     "output_type": "stream",
     "text": [
      "F1-score на тесте: 0.7658\n"
     ]
    }
   ],
   "source": [
    "print(f\"F1-score на тесте: {f1_svc:.4f}\")"
   ]
  },
  {
   "cell_type": "markdown",
   "metadata": {},
   "source": [
    "## Выводы"
   ]
  },
  {
   "cell_type": "markdown",
   "metadata": {},
   "source": [
    "1. **Предобработка данных**:\n",
    "- Загружен датасет toxic_comments.csv с текстами комментариев и метками токсичности\n",
    "- Проведена очистка текста (удаление спецсимволов, приведение к нижнему регистру)\n",
    "- Выполнена лемматизация для приведения слов к нормальной форме\n",
    "- Удалены стоп-слова с использованием кастомного списка\n",
    "\n",
    "2. **Векторизация текста**:\n",
    "* Использованы униграммы из-за ограничений оперативной памяти\n",
    "\n",
    "\n",
    "3. **Обучение моделей**\n",
    "* Logistic Regression: F1-score на валидации: 0.7508\n",
    "* LinearSVC:           F1-score на валидации: 0.7616\n",
    "* Использование балансировки классов (class_weight='balanced') оказалось критически важным для достижения хорошего качества\n",
    "\n",
    "4. **Финальное обучение:**\n",
    "- F1-score(LinearSVC) на тестовой выборке: 0.7658 что удовлетворяет условиям задачи(F1 ≥ 0.75)\n",
    "\n",
    "\n"
   ]
  }
 ],
 "metadata": {
  "ExecuteTimeLog": [
   {
    "duration": 434,
    "start_time": "2025-07-19T08:15:16.606Z"
   },
   {
    "duration": 1030,
    "start_time": "2025-07-19T08:15:48.756Z"
   },
   {
    "duration": 15,
    "start_time": "2025-07-19T08:15:57.051Z"
   },
   {
    "duration": 41,
    "start_time": "2025-07-19T08:16:09.686Z"
   },
   {
    "duration": 8,
    "start_time": "2025-07-19T08:16:19.335Z"
   },
   {
    "duration": 956,
    "start_time": "2025-07-19T08:35:26.540Z"
   },
   {
    "duration": 9,
    "start_time": "2025-07-19T08:35:29.040Z"
   },
   {
    "duration": 70,
    "start_time": "2025-07-19T08:36:04.840Z"
   },
   {
    "duration": 236,
    "start_time": "2025-07-19T08:36:09.420Z"
   },
   {
    "duration": 200,
    "start_time": "2025-07-19T08:36:14.330Z"
   },
   {
    "duration": 5,
    "start_time": "2025-07-19T08:38:33.249Z"
   },
   {
    "duration": 11,
    "start_time": "2025-07-19T08:38:54.860Z"
   },
   {
    "duration": 20,
    "start_time": "2025-07-19T08:39:14.040Z"
   },
   {
    "duration": 9144,
    "start_time": "2025-07-19T08:40:23.288Z"
   },
   {
    "duration": 41,
    "start_time": "2025-07-19T08:41:21.719Z"
   },
   {
    "duration": 4,
    "start_time": "2025-07-19T08:42:48.058Z"
   },
   {
    "duration": 10,
    "start_time": "2025-07-19T08:43:49.878Z"
   },
   {
    "duration": 3,
    "start_time": "2025-07-19T08:43:57.208Z"
   },
   {
    "duration": 2,
    "start_time": "2025-07-19T08:44:11.439Z"
   },
   {
    "duration": 3,
    "start_time": "2025-07-19T08:44:14.218Z"
   },
   {
    "duration": 100044,
    "start_time": "2025-07-19T08:44:36.358Z"
   },
   {
    "duration": 12,
    "start_time": "2025-07-19T08:46:54.397Z"
   },
   {
    "duration": 31,
    "start_time": "2025-07-19T08:49:15.387Z"
   },
   {
    "duration": 4,
    "start_time": "2025-07-19T08:50:02.446Z"
   },
   {
    "duration": 94,
    "start_time": "2025-07-19T08:51:07.157Z"
   },
   {
    "duration": 91,
    "start_time": "2025-07-19T08:51:18.796Z"
   },
   {
    "duration": 13,
    "start_time": "2025-07-19T08:51:23.436Z"
   },
   {
    "duration": 3,
    "start_time": "2025-07-19T08:51:28.907Z"
   },
   {
    "duration": 4,
    "start_time": "2025-07-19T08:51:32.757Z"
   },
   {
    "duration": 779,
    "start_time": "2025-07-19T08:51:34.037Z"
   },
   {
    "duration": 14,
    "start_time": "2025-07-19T08:51:42.097Z"
   },
   {
    "duration": 1315,
    "start_time": "2025-07-19T08:53:21.006Z"
   },
   {
    "duration": 24,
    "start_time": "2025-07-19T08:55:25.456Z"
   },
   {
    "duration": 6,
    "start_time": "2025-07-19T08:55:27.846Z"
   },
   {
    "duration": 88667,
    "start_time": "2025-07-19T08:55:33.826Z"
   },
   {
    "duration": 12,
    "start_time": "2025-07-19T09:45:00.805Z"
   },
   {
    "duration": 1718,
    "start_time": "2025-07-19T09:45:59.665Z"
   },
   {
    "duration": 3,
    "start_time": "2025-07-19T10:00:39.282Z"
   },
   {
    "duration": 982,
    "start_time": "2025-07-19T10:00:39.874Z"
   },
   {
    "duration": 8,
    "start_time": "2025-07-19T10:00:41.822Z"
   },
   {
    "duration": 34,
    "start_time": "2025-07-19T10:00:42.473Z"
   },
   {
    "duration": 288,
    "start_time": "2025-07-19T10:00:43.403Z"
   },
   {
    "duration": 4,
    "start_time": "2025-07-19T10:00:44.353Z"
   },
   {
    "duration": 24,
    "start_time": "2025-07-19T10:00:45.712Z"
   },
   {
    "duration": 4,
    "start_time": "2025-07-19T10:00:46.453Z"
   },
   {
    "duration": 90347,
    "start_time": "2025-07-19T10:00:47.372Z"
   },
   {
    "duration": 1318,
    "start_time": "2025-07-20T10:26:30.726Z"
   },
   {
    "duration": 961,
    "start_time": "2025-07-20T10:26:32.046Z"
   },
   {
    "duration": 12,
    "start_time": "2025-07-20T10:26:33.009Z"
   },
   {
    "duration": 55,
    "start_time": "2025-07-20T10:26:33.022Z"
   },
   {
    "duration": 239,
    "start_time": "2025-07-20T10:26:33.079Z"
   },
   {
    "duration": 4,
    "start_time": "2025-07-20T10:26:33.319Z"
   },
   {
    "duration": 23,
    "start_time": "2025-07-20T10:26:33.324Z"
   },
   {
    "duration": 9,
    "start_time": "2025-07-20T10:26:33.348Z"
   },
   {
    "duration": 67083,
    "start_time": "2025-07-20T10:26:33.358Z"
   },
   {
    "duration": 120,
    "start_time": "2025-07-20T10:27:40.443Z"
   },
   {
    "duration": 1,
    "start_time": "2025-07-20T10:27:40.564Z"
   },
   {
    "duration": 0,
    "start_time": "2025-07-20T10:27:40.566Z"
   },
   {
    "duration": 3,
    "start_time": "2025-07-20T10:39:36.233Z"
   },
   {
    "duration": 8,
    "start_time": "2025-07-20T10:39:48.043Z"
   },
   {
    "duration": 3,
    "start_time": "2025-07-20T10:40:31.233Z"
   },
   {
    "duration": 2,
    "start_time": "2025-07-20T10:43:06.182Z"
   },
   {
    "duration": 33,
    "start_time": "2025-07-20T10:43:10.281Z"
   },
   {
    "duration": 1248,
    "start_time": "2025-07-20T10:43:33.602Z"
   },
   {
    "duration": 6,
    "start_time": "2025-07-20T10:43:41.151Z"
   },
   {
    "duration": 2073,
    "start_time": "2025-07-20T10:43:52.631Z"
   },
   {
    "duration": 4,
    "start_time": "2025-07-20T10:43:59.091Z"
   },
   {
    "duration": 476,
    "start_time": "2025-07-20T10:44:28.361Z"
   },
   {
    "duration": 9,
    "start_time": "2025-07-20T10:44:43.681Z"
   },
   {
    "duration": 3,
    "start_time": "2025-07-20T10:44:59.351Z"
   },
   {
    "duration": 3,
    "start_time": "2025-07-20T10:45:02.530Z"
   },
   {
    "duration": 6480,
    "start_time": "2025-07-20T10:45:05.251Z"
   },
   {
    "duration": 11,
    "start_time": "2025-07-20T10:47:35.561Z"
   },
   {
    "duration": 3,
    "start_time": "2025-07-20T10:48:08.261Z"
   },
   {
    "duration": 15,
    "start_time": "2025-07-20T10:48:22.489Z"
   },
   {
    "duration": 6586,
    "start_time": "2025-07-20T10:48:23.669Z"
   },
   {
    "duration": 3,
    "start_time": "2025-07-20T10:48:43.060Z"
   },
   {
    "duration": 11,
    "start_time": "2025-07-20T10:48:53.669Z"
   },
   {
    "duration": 4,
    "start_time": "2025-07-20T10:49:05.669Z"
   },
   {
    "duration": 44295,
    "start_time": "2025-07-20T10:49:08.769Z"
   },
   {
    "duration": 2,
    "start_time": "2025-07-20T10:53:22.409Z"
   },
   {
    "duration": 2302,
    "start_time": "2025-07-20T10:53:31.538Z"
   },
   {
    "duration": 9,
    "start_time": "2025-07-20T10:53:50.958Z"
   },
   {
    "duration": 2185,
    "start_time": "2025-07-20T10:54:02.677Z"
   },
   {
    "duration": 7,
    "start_time": "2025-07-20T10:54:06.278Z"
   },
   {
    "duration": 185,
    "start_time": "2025-07-20T10:54:22.418Z"
   },
   {
    "duration": 22,
    "start_time": "2025-07-20T10:54:36.888Z"
   },
   {
    "duration": 12,
    "start_time": "2025-07-20T10:55:04.298Z"
   },
   {
    "duration": 3,
    "start_time": "2025-07-20T10:55:49.248Z"
   },
   {
    "duration": 305,
    "start_time": "2025-07-20T10:56:20.758Z"
   },
   {
    "duration": 14,
    "start_time": "2025-07-20T10:56:34.538Z"
   },
   {
    "duration": 15,
    "start_time": "2025-07-20T10:56:47.057Z"
   },
   {
    "duration": 3,
    "start_time": "2025-07-20T11:10:21.714Z"
   },
   {
    "duration": 5,
    "start_time": "2025-07-20T11:10:23.624Z"
   },
   {
    "duration": 70486,
    "start_time": "2025-07-20T11:12:07.903Z"
   },
   {
    "duration": 8,
    "start_time": "2025-07-20T11:13:22.854Z"
   },
   {
    "duration": 2,
    "start_time": "2025-07-20T11:13:32.264Z"
   },
   {
    "duration": 54,
    "start_time": "2025-07-20T11:13:34.124Z"
   },
   {
    "duration": 44,
    "start_time": "2025-07-20T11:13:50.365Z"
   },
   {
    "duration": 1344,
    "start_time": "2025-07-20T11:13:57.494Z"
   },
   {
    "duration": 982,
    "start_time": "2025-07-20T11:13:59.743Z"
   },
   {
    "duration": 3,
    "start_time": "2025-07-20T11:14:05.714Z"
   },
   {
    "duration": 855,
    "start_time": "2025-07-20T11:14:06.093Z"
   },
   {
    "duration": 18,
    "start_time": "2025-07-20T11:14:06.950Z"
   },
   {
    "duration": 31,
    "start_time": "2025-07-20T11:14:07.303Z"
   },
   {
    "duration": 208,
    "start_time": "2025-07-20T11:14:07.844Z"
   },
   {
    "duration": 4,
    "start_time": "2025-07-20T11:14:08.234Z"
   },
   {
    "duration": 3,
    "start_time": "2025-07-20T11:14:08.854Z"
   },
   {
    "duration": 5,
    "start_time": "2025-07-20T11:14:09.702Z"
   },
   {
    "duration": 5,
    "start_time": "2025-07-20T11:14:10.163Z"
   },
   {
    "duration": 3,
    "start_time": "2025-07-20T11:14:13.383Z"
   },
   {
    "duration": 69423,
    "start_time": "2025-07-20T11:14:16.203Z"
   },
   {
    "duration": 8,
    "start_time": "2025-07-20T11:15:50.283Z"
   },
   {
    "duration": 2,
    "start_time": "2025-07-20T11:15:53.144Z"
   },
   {
    "duration": 31,
    "start_time": "2025-07-20T11:15:54.523Z"
   },
   {
    "duration": 2087,
    "start_time": "2025-07-20T11:15:56.043Z"
   },
   {
    "duration": 3,
    "start_time": "2025-07-20T11:16:06.263Z"
   },
   {
    "duration": 46,
    "start_time": "2025-07-20T11:24:31.911Z"
   },
   {
    "duration": 1310,
    "start_time": "2025-07-20T11:24:40.211Z"
   },
   {
    "duration": 991,
    "start_time": "2025-07-20T11:24:42.061Z"
   },
   {
    "duration": 13,
    "start_time": "2025-07-20T11:24:43.054Z"
   },
   {
    "duration": 32,
    "start_time": "2025-07-20T11:24:43.311Z"
   },
   {
    "duration": 224,
    "start_time": "2025-07-20T11:24:44.101Z"
   },
   {
    "duration": 4,
    "start_time": "2025-07-20T11:24:44.661Z"
   },
   {
    "duration": 3,
    "start_time": "2025-07-20T11:24:45.271Z"
   },
   {
    "duration": 6,
    "start_time": "2025-07-20T11:24:45.921Z"
   },
   {
    "duration": 5,
    "start_time": "2025-07-20T11:24:46.591Z"
   },
   {
    "duration": 2,
    "start_time": "2025-07-20T11:24:47.301Z"
   },
   {
    "duration": 70097,
    "start_time": "2025-07-20T11:24:47.971Z"
   },
   {
    "duration": 8,
    "start_time": "2025-07-20T11:25:58.070Z"
   },
   {
    "duration": 4,
    "start_time": "2025-07-20T11:25:58.079Z"
   },
   {
    "duration": 40,
    "start_time": "2025-07-20T11:25:58.084Z"
   },
   {
    "duration": 2126,
    "start_time": "2025-07-20T11:25:58.126Z"
   },
   {
    "duration": 3,
    "start_time": "2025-07-20T11:26:51.671Z"
   },
   {
    "duration": 1346,
    "start_time": "2025-07-20T11:27:43.892Z"
   },
   {
    "duration": 1013,
    "start_time": "2025-07-20T11:27:45.240Z"
   },
   {
    "duration": 13,
    "start_time": "2025-07-20T11:27:46.255Z"
   },
   {
    "duration": 32,
    "start_time": "2025-07-20T11:27:47.230Z"
   },
   {
    "duration": 219,
    "start_time": "2025-07-20T11:27:48.650Z"
   },
   {
    "duration": 4,
    "start_time": "2025-07-20T11:27:49.561Z"
   },
   {
    "duration": 4,
    "start_time": "2025-07-20T11:27:56.011Z"
   },
   {
    "duration": 3,
    "start_time": "2025-07-20T11:28:10.351Z"
   },
   {
    "duration": 66883,
    "start_time": "2025-07-20T11:28:13.540Z"
   },
   {
    "duration": 8,
    "start_time": "2025-07-20T11:31:06.590Z"
   },
   {
    "duration": 3,
    "start_time": "2025-07-20T11:31:07.940Z"
   },
   {
    "duration": 31,
    "start_time": "2025-07-20T11:31:08.719Z"
   },
   {
    "duration": 2106,
    "start_time": "2025-07-20T11:31:09.450Z"
   },
   {
    "duration": 156,
    "start_time": "2025-07-20T11:31:13.790Z"
   },
   {
    "duration": 109,
    "start_time": "2025-07-20T11:31:16.580Z"
   },
   {
    "duration": 2,
    "start_time": "2025-07-20T11:31:32.270Z"
   },
   {
    "duration": 6613,
    "start_time": "2025-07-20T11:31:35.700Z"
   },
   {
    "duration": 3,
    "start_time": "2025-07-20T11:31:43.440Z"
   },
   {
    "duration": 3,
    "start_time": "2025-07-20T11:31:45.900Z"
   },
   {
    "duration": 2,
    "start_time": "2025-07-20T11:31:46.800Z"
   },
   {
    "duration": 2016,
    "start_time": "2025-07-20T11:31:48.799Z"
   },
   {
    "duration": 2081,
    "start_time": "2025-07-20T11:31:52.720Z"
   },
   {
    "duration": 7,
    "start_time": "2025-07-20T11:31:55.810Z"
   },
   {
    "duration": 16,
    "start_time": "2025-07-20T11:31:56.809Z"
   },
   {
    "duration": 132,
    "start_time": "2025-07-20T11:32:07.110Z"
   },
   {
    "duration": 343989,
    "start_time": "2025-07-20T11:32:21.989Z"
   },
   {
    "duration": 396,
    "start_time": "2025-07-20T11:38:05.979Z"
   },
   {
    "duration": 14,
    "start_time": "2025-07-20T11:38:06.377Z"
   },
   {
    "duration": 3,
    "start_time": "2025-07-20T11:48:55.826Z"
   },
   {
    "duration": 191504,
    "start_time": "2025-07-20T11:49:01.096Z"
   },
   {
    "duration": 274,
    "start_time": "2025-07-20T11:52:12.602Z"
   },
   {
    "duration": 14,
    "start_time": "2025-07-20T11:52:12.878Z"
   },
   {
    "duration": 4,
    "start_time": "2025-07-20T12:00:31.991Z"
   },
   {
    "duration": 11,
    "start_time": "2025-07-20T12:00:45.912Z"
   },
   {
    "duration": 4,
    "start_time": "2025-07-20T12:00:54.892Z"
   },
   {
    "duration": 769,
    "start_time": "2025-07-20T12:06:56.931Z"
   },
   {
    "duration": 7,
    "start_time": "2025-07-20T12:06:57.701Z"
   },
   {
    "duration": 24,
    "start_time": "2025-07-20T12:07:03.560Z"
   },
   {
    "duration": 4,
    "start_time": "2025-07-20T12:07:06.879Z"
   },
   {
    "duration": 5,
    "start_time": "2025-07-20T12:07:29.830Z"
   },
   {
    "duration": 71140,
    "start_time": "2025-07-20T12:07:31.330Z"
   },
   {
    "duration": 8,
    "start_time": "2025-07-20T12:08:42.472Z"
   },
   {
    "duration": 3,
    "start_time": "2025-07-20T12:09:09.139Z"
   },
   {
    "duration": 176,
    "start_time": "2025-07-20T12:09:11.530Z"
   },
   {
    "duration": 2158,
    "start_time": "2025-07-20T12:09:12.779Z"
   },
   {
    "duration": 4,
    "start_time": "2025-07-20T12:09:17.470Z"
   },
   {
    "duration": 21,
    "start_time": "2025-07-20T12:09:20.109Z"
   },
   {
    "duration": 3,
    "start_time": "2025-07-20T12:09:27.130Z"
   },
   {
    "duration": 6863,
    "start_time": "2025-07-20T12:09:32.299Z"
   },
   {
    "duration": 4,
    "start_time": "2025-07-20T12:09:39.164Z"
   },
   {
    "duration": 3,
    "start_time": "2025-07-20T12:09:46.640Z"
   },
   {
    "duration": 2506,
    "start_time": "2025-07-20T12:09:49.079Z"
   },
   {
    "duration": 2240,
    "start_time": "2025-07-20T12:09:52.580Z"
   },
   {
    "duration": 7,
    "start_time": "2025-07-20T12:09:55.619Z"
   },
   {
    "duration": 17,
    "start_time": "2025-07-20T12:09:57.189Z"
   },
   {
    "duration": 14,
    "start_time": "2025-07-20T12:10:15.059Z"
   },
   {
    "duration": 1535,
    "start_time": "2025-07-20T12:10:53.154Z"
   },
   {
    "duration": 993,
    "start_time": "2025-07-20T12:10:54.691Z"
   },
   {
    "duration": 4,
    "start_time": "2025-07-20T12:10:55.687Z"
   },
   {
    "duration": 15,
    "start_time": "2025-07-20T12:10:55.694Z"
   },
   {
    "duration": 3,
    "start_time": "2025-07-20T12:10:55.712Z"
   },
   {
    "duration": 13,
    "start_time": "2025-07-20T12:10:55.717Z"
   },
   {
    "duration": 68074,
    "start_time": "2025-07-20T12:10:55.731Z"
   },
   {
    "duration": 13,
    "start_time": "2025-07-20T12:12:03.807Z"
   },
   {
    "duration": 10,
    "start_time": "2025-07-20T12:12:03.822Z"
   },
   {
    "duration": 40,
    "start_time": "2025-07-20T12:12:03.834Z"
   },
   {
    "duration": 2140,
    "start_time": "2025-07-20T12:12:03.876Z"
   },
   {
    "duration": 9,
    "start_time": "2025-07-20T12:12:06.018Z"
   },
   {
    "duration": 125,
    "start_time": "2025-07-20T12:12:06.028Z"
   },
   {
    "duration": 0,
    "start_time": "2025-07-20T12:12:06.155Z"
   },
   {
    "duration": 0,
    "start_time": "2025-07-20T12:12:06.162Z"
   },
   {
    "duration": 0,
    "start_time": "2025-07-20T12:12:06.164Z"
   },
   {
    "duration": 0,
    "start_time": "2025-07-20T12:12:06.165Z"
   },
   {
    "duration": 0,
    "start_time": "2025-07-20T12:12:06.166Z"
   },
   {
    "duration": 0,
    "start_time": "2025-07-20T12:12:06.168Z"
   },
   {
    "duration": 0,
    "start_time": "2025-07-20T12:12:06.169Z"
   },
   {
    "duration": 0,
    "start_time": "2025-07-20T12:12:06.170Z"
   },
   {
    "duration": 0,
    "start_time": "2025-07-20T12:12:06.171Z"
   },
   {
    "duration": 0,
    "start_time": "2025-07-20T12:12:06.173Z"
   },
   {
    "duration": 0,
    "start_time": "2025-07-20T12:12:06.174Z"
   },
   {
    "duration": 0,
    "start_time": "2025-07-20T12:12:06.176Z"
   },
   {
    "duration": 0,
    "start_time": "2025-07-20T12:12:06.177Z"
   },
   {
    "duration": 0,
    "start_time": "2025-07-20T12:12:06.178Z"
   },
   {
    "duration": 3,
    "start_time": "2025-07-20T12:22:27.350Z"
   },
   {
    "duration": 7087,
    "start_time": "2025-07-20T12:22:29.191Z"
   },
   {
    "duration": 4,
    "start_time": "2025-07-20T12:22:37.730Z"
   },
   {
    "duration": 4,
    "start_time": "2025-07-20T12:22:42.190Z"
   },
   {
    "duration": 1271,
    "start_time": "2025-07-20T12:22:43.620Z"
   },
   {
    "duration": 2059,
    "start_time": "2025-07-20T12:22:46.050Z"
   },
   {
    "duration": 5,
    "start_time": "2025-07-20T12:22:50.670Z"
   },
   {
    "duration": 23,
    "start_time": "2025-07-20T12:22:53.021Z"
   },
   {
    "duration": 13,
    "start_time": "2025-07-20T12:23:00.610Z"
   },
   {
    "duration": 6717,
    "start_time": "2025-07-20T12:23:01.880Z"
   },
   {
    "duration": 4,
    "start_time": "2025-07-20T12:23:08.599Z"
   },
   {
    "duration": 2,
    "start_time": "2025-07-20T12:23:10.610Z"
   },
   {
    "duration": 1263,
    "start_time": "2025-07-20T12:23:11.490Z"
   },
   {
    "duration": 2070,
    "start_time": "2025-07-20T12:23:12.755Z"
   },
   {
    "duration": 4,
    "start_time": "2025-07-20T12:23:14.827Z"
   },
   {
    "duration": 29,
    "start_time": "2025-07-20T12:23:14.833Z"
   },
   {
    "duration": 13,
    "start_time": "2025-07-20T12:23:21.200Z"
   },
   {
    "duration": 1421,
    "start_time": "2025-07-20T12:23:38.831Z"
   },
   {
    "duration": 998,
    "start_time": "2025-07-20T12:23:40.254Z"
   },
   {
    "duration": 4,
    "start_time": "2025-07-20T12:23:41.253Z"
   },
   {
    "duration": 7,
    "start_time": "2025-07-20T12:23:41.259Z"
   },
   {
    "duration": 3,
    "start_time": "2025-07-20T12:23:41.268Z"
   },
   {
    "duration": 6,
    "start_time": "2025-07-20T12:23:41.272Z"
   },
   {
    "duration": 67564,
    "start_time": "2025-07-20T12:23:41.280Z"
   },
   {
    "duration": 18,
    "start_time": "2025-07-20T12:24:48.846Z"
   },
   {
    "duration": 3,
    "start_time": "2025-07-20T12:24:48.866Z"
   },
   {
    "duration": 40,
    "start_time": "2025-07-20T12:24:48.871Z"
   },
   {
    "duration": 2152,
    "start_time": "2025-07-20T12:24:48.912Z"
   },
   {
    "duration": 64,
    "start_time": "2025-07-20T12:24:51.065Z"
   },
   {
    "duration": 119,
    "start_time": "2025-07-20T12:24:51.130Z"
   },
   {
    "duration": 0,
    "start_time": "2025-07-20T12:24:51.251Z"
   },
   {
    "duration": 0,
    "start_time": "2025-07-20T12:24:51.252Z"
   },
   {
    "duration": 0,
    "start_time": "2025-07-20T12:24:51.253Z"
   },
   {
    "duration": 0,
    "start_time": "2025-07-20T12:24:51.254Z"
   },
   {
    "duration": 0,
    "start_time": "2025-07-20T12:24:51.255Z"
   },
   {
    "duration": 0,
    "start_time": "2025-07-20T12:24:51.256Z"
   },
   {
    "duration": 0,
    "start_time": "2025-07-20T12:24:51.257Z"
   },
   {
    "duration": 0,
    "start_time": "2025-07-20T12:24:51.262Z"
   },
   {
    "duration": 0,
    "start_time": "2025-07-20T12:24:51.263Z"
   },
   {
    "duration": 0,
    "start_time": "2025-07-20T12:24:51.264Z"
   },
   {
    "duration": 0,
    "start_time": "2025-07-20T12:24:51.265Z"
   },
   {
    "duration": 0,
    "start_time": "2025-07-20T12:24:51.265Z"
   },
   {
    "duration": 0,
    "start_time": "2025-07-20T12:24:51.266Z"
   },
   {
    "duration": 0,
    "start_time": "2025-07-20T12:24:51.267Z"
   },
   {
    "duration": 3,
    "start_time": "2025-07-20T12:28:06.118Z"
   },
   {
    "duration": 1475,
    "start_time": "2025-07-20T12:29:13.905Z"
   },
   {
    "duration": 1072,
    "start_time": "2025-07-20T12:29:15.383Z"
   },
   {
    "duration": 4,
    "start_time": "2025-07-20T12:29:16.457Z"
   },
   {
    "duration": 28,
    "start_time": "2025-07-20T12:29:16.463Z"
   },
   {
    "duration": 42,
    "start_time": "2025-07-20T12:29:16.493Z"
   },
   {
    "duration": 33,
    "start_time": "2025-07-20T12:29:16.537Z"
   },
   {
    "duration": 83523,
    "start_time": "2025-07-20T12:29:16.572Z"
   },
   {
    "duration": 21,
    "start_time": "2025-07-20T12:30:40.097Z"
   },
   {
    "duration": 3,
    "start_time": "2025-07-20T12:30:40.120Z"
   },
   {
    "duration": 67,
    "start_time": "2025-07-20T12:30:40.125Z"
   },
   {
    "duration": 2223,
    "start_time": "2025-07-20T12:30:40.193Z"
   },
   {
    "duration": 7,
    "start_time": "2025-07-20T12:30:42.418Z"
   },
   {
    "duration": 130,
    "start_time": "2025-07-20T12:30:42.427Z"
   },
   {
    "duration": 0,
    "start_time": "2025-07-20T12:30:42.562Z"
   },
   {
    "duration": 0,
    "start_time": "2025-07-20T12:30:42.562Z"
   },
   {
    "duration": 0,
    "start_time": "2025-07-20T12:30:42.563Z"
   },
   {
    "duration": 0,
    "start_time": "2025-07-20T12:30:42.568Z"
   },
   {
    "duration": 0,
    "start_time": "2025-07-20T12:30:42.569Z"
   },
   {
    "duration": 0,
    "start_time": "2025-07-20T12:30:42.573Z"
   },
   {
    "duration": 0,
    "start_time": "2025-07-20T12:30:42.574Z"
   },
   {
    "duration": 0,
    "start_time": "2025-07-20T12:30:42.574Z"
   },
   {
    "duration": 0,
    "start_time": "2025-07-20T12:30:42.575Z"
   },
   {
    "duration": 0,
    "start_time": "2025-07-20T12:30:42.576Z"
   },
   {
    "duration": 0,
    "start_time": "2025-07-20T12:30:42.576Z"
   },
   {
    "duration": 0,
    "start_time": "2025-07-20T12:30:42.577Z"
   },
   {
    "duration": 0,
    "start_time": "2025-07-20T12:30:42.578Z"
   },
   {
    "duration": 0,
    "start_time": "2025-07-20T12:30:42.578Z"
   },
   {
    "duration": 3,
    "start_time": "2025-07-20T12:36:20.542Z"
   },
   {
    "duration": 1323,
    "start_time": "2025-07-20T12:37:00.121Z"
   },
   {
    "duration": 1010,
    "start_time": "2025-07-20T12:37:01.446Z"
   },
   {
    "duration": 4,
    "start_time": "2025-07-20T12:37:02.457Z"
   },
   {
    "duration": 42,
    "start_time": "2025-07-20T12:37:02.463Z"
   },
   {
    "duration": 35,
    "start_time": "2025-07-20T12:37:02.507Z"
   },
   {
    "duration": 139,
    "start_time": "2025-07-20T12:37:02.543Z"
   },
   {
    "duration": 72193,
    "start_time": "2025-07-20T12:37:02.684Z"
   },
   {
    "duration": 18,
    "start_time": "2025-07-20T12:38:14.879Z"
   },
   {
    "duration": 4,
    "start_time": "2025-07-20T12:38:14.900Z"
   },
   {
    "duration": 44,
    "start_time": "2025-07-20T12:38:14.906Z"
   },
   {
    "duration": 2169,
    "start_time": "2025-07-20T12:38:14.962Z"
   },
   {
    "duration": 6,
    "start_time": "2025-07-20T12:38:17.133Z"
   },
   {
    "duration": 158,
    "start_time": "2025-07-20T12:38:17.140Z"
   },
   {
    "duration": 0,
    "start_time": "2025-07-20T12:38:17.301Z"
   },
   {
    "duration": 0,
    "start_time": "2025-07-20T12:38:17.303Z"
   },
   {
    "duration": 0,
    "start_time": "2025-07-20T12:38:17.304Z"
   },
   {
    "duration": 0,
    "start_time": "2025-07-20T12:38:17.306Z"
   },
   {
    "duration": 0,
    "start_time": "2025-07-20T12:38:17.307Z"
   },
   {
    "duration": 0,
    "start_time": "2025-07-20T12:38:17.309Z"
   },
   {
    "duration": 0,
    "start_time": "2025-07-20T12:38:17.310Z"
   },
   {
    "duration": 0,
    "start_time": "2025-07-20T12:38:17.312Z"
   },
   {
    "duration": 0,
    "start_time": "2025-07-20T12:38:17.313Z"
   },
   {
    "duration": 0,
    "start_time": "2025-07-20T12:38:17.315Z"
   },
   {
    "duration": 0,
    "start_time": "2025-07-20T12:38:17.317Z"
   },
   {
    "duration": 0,
    "start_time": "2025-07-20T12:38:17.318Z"
   },
   {
    "duration": 0,
    "start_time": "2025-07-20T12:38:17.319Z"
   },
   {
    "duration": 0,
    "start_time": "2025-07-20T12:38:17.321Z"
   },
   {
    "duration": 3,
    "start_time": "2025-07-20T12:40:09.071Z"
   },
   {
    "duration": 19,
    "start_time": "2025-07-20T12:40:38.030Z"
   },
   {
    "duration": 3,
    "start_time": "2025-07-20T12:44:07.150Z"
   },
   {
    "duration": 6620,
    "start_time": "2025-07-20T12:44:09.994Z"
   },
   {
    "duration": 3,
    "start_time": "2025-07-20T12:44:18.921Z"
   },
   {
    "duration": 15,
    "start_time": "2025-07-20T13:00:17.476Z"
   },
   {
    "duration": 6608,
    "start_time": "2025-07-20T13:00:18.436Z"
   },
   {
    "duration": 3,
    "start_time": "2025-07-20T13:00:25.045Z"
   },
   {
    "duration": 3,
    "start_time": "2025-07-20T13:00:29.196Z"
   },
   {
    "duration": 1477,
    "start_time": "2025-07-20T13:00:29.696Z"
   },
   {
    "duration": 2080,
    "start_time": "2025-07-20T13:00:31.175Z"
   },
   {
    "duration": 7,
    "start_time": "2025-07-20T13:00:33.257Z"
   },
   {
    "duration": 51,
    "start_time": "2025-07-20T13:00:33.266Z"
   },
   {
    "duration": 13,
    "start_time": "2025-07-20T13:00:48.996Z"
   },
   {
    "duration": 6444,
    "start_time": "2025-07-20T13:00:49.866Z"
   },
   {
    "duration": 4,
    "start_time": "2025-07-20T13:00:56.312Z"
   },
   {
    "duration": 18,
    "start_time": "2025-07-20T13:00:56.317Z"
   },
   {
    "duration": 1489,
    "start_time": "2025-07-20T13:00:56.336Z"
   },
   {
    "duration": 2072,
    "start_time": "2025-07-20T13:00:57.826Z"
   },
   {
    "duration": 4,
    "start_time": "2025-07-20T13:00:59.900Z"
   },
   {
    "duration": 14,
    "start_time": "2025-07-20T13:00:59.906Z"
   },
   {
    "duration": 13,
    "start_time": "2025-07-20T13:01:08.686Z"
   },
   {
    "duration": 6374,
    "start_time": "2025-07-20T13:01:09.316Z"
   },
   {
    "duration": 3,
    "start_time": "2025-07-20T13:01:15.692Z"
   },
   {
    "duration": 149,
    "start_time": "2025-07-20T13:01:15.696Z"
   },
   {
    "duration": 1573,
    "start_time": "2025-07-20T13:01:15.847Z"
   },
   {
    "duration": 2050,
    "start_time": "2025-07-20T13:01:17.422Z"
   },
   {
    "duration": 5,
    "start_time": "2025-07-20T13:01:19.473Z"
   },
   {
    "duration": 15,
    "start_time": "2025-07-20T13:01:19.480Z"
   },
   {
    "duration": 13,
    "start_time": "2025-07-20T13:01:35.646Z"
   },
   {
    "duration": 6435,
    "start_time": "2025-07-20T13:01:36.555Z"
   },
   {
    "duration": 4,
    "start_time": "2025-07-20T13:01:42.991Z"
   },
   {
    "duration": 4,
    "start_time": "2025-07-20T13:01:42.996Z"
   },
   {
    "duration": 1594,
    "start_time": "2025-07-20T13:01:43.001Z"
   },
   {
    "duration": 2065,
    "start_time": "2025-07-20T13:01:44.597Z"
   },
   {
    "duration": 4,
    "start_time": "2025-07-20T13:01:46.664Z"
   },
   {
    "duration": 20,
    "start_time": "2025-07-20T13:01:46.669Z"
   },
   {
    "duration": 13,
    "start_time": "2025-07-20T13:01:55.796Z"
   },
   {
    "duration": 6541,
    "start_time": "2025-07-20T13:01:56.415Z"
   },
   {
    "duration": 5,
    "start_time": "2025-07-20T13:02:02.958Z"
   },
   {
    "duration": 14,
    "start_time": "2025-07-20T13:02:02.965Z"
   },
   {
    "duration": 1618,
    "start_time": "2025-07-20T13:02:02.981Z"
   },
   {
    "duration": 2091,
    "start_time": "2025-07-20T13:02:04.600Z"
   },
   {
    "duration": 4,
    "start_time": "2025-07-20T13:02:06.692Z"
   },
   {
    "duration": 77,
    "start_time": "2025-07-20T13:02:06.698Z"
   },
   {
    "duration": 11,
    "start_time": "2025-07-20T13:02:14.636Z"
   },
   {
    "duration": 6549,
    "start_time": "2025-07-20T13:02:15.236Z"
   },
   {
    "duration": 3,
    "start_time": "2025-07-20T13:02:21.788Z"
   },
   {
    "duration": 31,
    "start_time": "2025-07-20T13:02:21.793Z"
   },
   {
    "duration": 1532,
    "start_time": "2025-07-20T13:02:21.826Z"
   },
   {
    "duration": 2082,
    "start_time": "2025-07-20T13:02:23.360Z"
   },
   {
    "duration": 4,
    "start_time": "2025-07-20T13:02:25.444Z"
   },
   {
    "duration": 30,
    "start_time": "2025-07-20T13:02:25.450Z"
   },
   {
    "duration": 14,
    "start_time": "2025-07-20T13:02:32.365Z"
   },
   {
    "duration": 6579,
    "start_time": "2025-07-20T13:02:33.026Z"
   },
   {
    "duration": 3,
    "start_time": "2025-07-20T13:02:39.607Z"
   },
   {
    "duration": 13,
    "start_time": "2025-07-20T13:02:39.611Z"
   },
   {
    "duration": 1607,
    "start_time": "2025-07-20T13:02:39.625Z"
   },
   {
    "duration": 2051,
    "start_time": "2025-07-20T13:02:41.233Z"
   },
   {
    "duration": 5,
    "start_time": "2025-07-20T13:02:43.285Z"
   },
   {
    "duration": 30,
    "start_time": "2025-07-20T13:02:43.292Z"
   },
   {
    "duration": 3,
    "start_time": "2025-07-20T13:03:02.425Z"
   },
   {
    "duration": 1591,
    "start_time": "2025-07-20T13:03:04.225Z"
   },
   {
    "duration": 2044,
    "start_time": "2025-07-20T13:03:05.818Z"
   },
   {
    "duration": 4,
    "start_time": "2025-07-20T13:03:07.864Z"
   },
   {
    "duration": 29,
    "start_time": "2025-07-20T13:03:07.870Z"
   },
   {
    "duration": 3,
    "start_time": "2025-07-20T13:03:18.216Z"
   },
   {
    "duration": 1751,
    "start_time": "2025-07-20T13:03:18.955Z"
   },
   {
    "duration": 2090,
    "start_time": "2025-07-20T13:03:20.708Z"
   },
   {
    "duration": 6,
    "start_time": "2025-07-20T13:03:22.799Z"
   },
   {
    "duration": 15,
    "start_time": "2025-07-20T13:03:22.807Z"
   },
   {
    "duration": 13,
    "start_time": "2025-07-20T13:03:35.905Z"
   },
   {
    "duration": 6550,
    "start_time": "2025-07-20T13:03:36.585Z"
   },
   {
    "duration": 4,
    "start_time": "2025-07-20T13:03:43.136Z"
   },
   {
    "duration": 55,
    "start_time": "2025-07-20T13:03:43.141Z"
   },
   {
    "duration": 1915,
    "start_time": "2025-07-20T13:03:43.198Z"
   },
   {
    "duration": 2061,
    "start_time": "2025-07-20T13:03:45.115Z"
   },
   {
    "duration": 6,
    "start_time": "2025-07-20T13:03:47.178Z"
   },
   {
    "duration": 101,
    "start_time": "2025-07-20T13:03:47.185Z"
   },
   {
    "duration": 4,
    "start_time": "2025-07-20T13:04:58.635Z"
   },
   {
    "duration": 68246,
    "start_time": "2025-07-20T13:05:02.045Z"
   },
   {
    "duration": 7,
    "start_time": "2025-07-20T13:06:13.755Z"
   },
   {
    "duration": 3,
    "start_time": "2025-07-20T13:06:18.894Z"
   },
   {
    "duration": 194,
    "start_time": "2025-07-20T13:06:19.975Z"
   },
   {
    "duration": 2092,
    "start_time": "2025-07-20T13:06:21.286Z"
   },
   {
    "duration": 11,
    "start_time": "2025-07-20T13:06:32.235Z"
   },
   {
    "duration": 5476,
    "start_time": "2025-07-20T13:06:33.526Z"
   },
   {
    "duration": 4,
    "start_time": "2025-07-20T13:06:40.115Z"
   },
   {
    "duration": 3,
    "start_time": "2025-07-20T13:06:43.025Z"
   },
   {
    "duration": 1775,
    "start_time": "2025-07-20T13:06:44.605Z"
   },
   {
    "duration": 1607,
    "start_time": "2025-07-20T13:06:48.255Z"
   },
   {
    "duration": 5,
    "start_time": "2025-07-20T13:06:49.874Z"
   },
   {
    "duration": 14,
    "start_time": "2025-07-20T13:06:51.935Z"
   },
   {
    "duration": 19,
    "start_time": "2025-07-20T13:07:43.695Z"
   },
   {
    "duration": 3,
    "start_time": "2025-07-20T13:07:59.185Z"
   },
   {
    "duration": 3,
    "start_time": "2025-07-20T13:08:06.844Z"
   },
   {
    "duration": 1315,
    "start_time": "2025-07-20T13:08:44.800Z"
   },
   {
    "duration": 1021,
    "start_time": "2025-07-20T13:08:46.117Z"
   },
   {
    "duration": 3,
    "start_time": "2025-07-20T13:08:47.140Z"
   },
   {
    "duration": 129,
    "start_time": "2025-07-20T13:08:47.144Z"
   },
   {
    "duration": 35,
    "start_time": "2025-07-20T13:08:47.275Z"
   },
   {
    "duration": 11,
    "start_time": "2025-07-20T13:08:47.312Z"
   },
   {
    "duration": 68209,
    "start_time": "2025-07-20T13:08:47.325Z"
   },
   {
    "duration": 12,
    "start_time": "2025-07-20T13:09:55.536Z"
   },
   {
    "duration": 4,
    "start_time": "2025-07-20T13:09:55.562Z"
   },
   {
    "duration": 30,
    "start_time": "2025-07-20T13:09:55.568Z"
   },
   {
    "duration": 2092,
    "start_time": "2025-07-20T13:09:55.600Z"
   },
   {
    "duration": 18,
    "start_time": "2025-07-20T13:09:57.694Z"
   },
   {
    "duration": 165,
    "start_time": "2025-07-20T13:09:57.714Z"
   },
   {
    "duration": 0,
    "start_time": "2025-07-20T13:09:57.881Z"
   },
   {
    "duration": 0,
    "start_time": "2025-07-20T13:09:57.883Z"
   },
   {
    "duration": 0,
    "start_time": "2025-07-20T13:09:57.884Z"
   },
   {
    "duration": 0,
    "start_time": "2025-07-20T13:09:57.885Z"
   },
   {
    "duration": 0,
    "start_time": "2025-07-20T13:09:57.886Z"
   },
   {
    "duration": 0,
    "start_time": "2025-07-20T13:09:57.887Z"
   },
   {
    "duration": 0,
    "start_time": "2025-07-20T13:09:57.888Z"
   },
   {
    "duration": 0,
    "start_time": "2025-07-20T13:09:57.889Z"
   },
   {
    "duration": 0,
    "start_time": "2025-07-20T13:09:57.890Z"
   },
   {
    "duration": 0,
    "start_time": "2025-07-20T13:09:57.891Z"
   },
   {
    "duration": 0,
    "start_time": "2025-07-20T13:09:57.892Z"
   },
   {
    "duration": 0,
    "start_time": "2025-07-20T13:09:57.893Z"
   },
   {
    "duration": 0,
    "start_time": "2025-07-20T13:09:57.894Z"
   },
   {
    "duration": 0,
    "start_time": "2025-07-20T13:09:57.895Z"
   },
   {
    "duration": 0,
    "start_time": "2025-07-20T13:09:57.896Z"
   },
   {
    "duration": 0,
    "start_time": "2025-07-20T13:09:57.897Z"
   },
   {
    "duration": 0,
    "start_time": "2025-07-20T13:09:57.898Z"
   },
   {
    "duration": 1,
    "start_time": "2025-07-20T13:09:57.898Z"
   },
   {
    "duration": 3,
    "start_time": "2025-07-20T13:10:52.593Z"
   },
   {
    "duration": 5387,
    "start_time": "2025-07-20T13:10:54.663Z"
   },
   {
    "duration": 4,
    "start_time": "2025-07-20T13:11:00.052Z"
   },
   {
    "duration": 2,
    "start_time": "2025-07-20T13:11:27.274Z"
   },
   {
    "duration": 1107,
    "start_time": "2025-07-20T13:11:39.483Z"
   },
   {
    "duration": 1634,
    "start_time": "2025-07-20T13:11:42.524Z"
   },
   {
    "duration": 5,
    "start_time": "2025-07-20T13:11:45.003Z"
   },
   {
    "duration": 14,
    "start_time": "2025-07-20T13:11:46.313Z"
   },
   {
    "duration": 4,
    "start_time": "2025-07-20T13:12:06.922Z"
   },
   {
    "duration": 12,
    "start_time": "2025-07-20T13:12:26.844Z"
   },
   {
    "duration": 5376,
    "start_time": "2025-07-20T13:12:27.773Z"
   },
   {
    "duration": 4,
    "start_time": "2025-07-20T13:12:33.863Z"
   },
   {
    "duration": 3,
    "start_time": "2025-07-20T13:12:35.823Z"
   },
   {
    "duration": 1740,
    "start_time": "2025-07-20T13:12:37.033Z"
   },
   {
    "duration": 1661,
    "start_time": "2025-07-20T13:12:40.213Z"
   },
   {
    "duration": 6,
    "start_time": "2025-07-20T13:12:42.713Z"
   },
   {
    "duration": 14,
    "start_time": "2025-07-20T13:12:44.013Z"
   },
   {
    "duration": 4,
    "start_time": "2025-07-20T13:12:45.713Z"
   },
   {
    "duration": 3,
    "start_time": "2025-07-20T13:12:48.383Z"
   },
   {
    "duration": 3,
    "start_time": "2025-07-20T13:12:57.463Z"
   },
   {
    "duration": 2692,
    "start_time": "2025-07-20T13:12:58.213Z"
   },
   {
    "duration": 1723,
    "start_time": "2025-07-20T13:13:02.873Z"
   },
   {
    "duration": 7,
    "start_time": "2025-07-20T13:13:07.583Z"
   },
   {
    "duration": 15,
    "start_time": "2025-07-20T13:13:08.483Z"
   },
   {
    "duration": 3,
    "start_time": "2025-07-20T13:13:09.803Z"
   },
   {
    "duration": 3,
    "start_time": "2025-07-20T13:13:19.273Z"
   },
   {
    "duration": 2256,
    "start_time": "2025-07-20T13:13:21.763Z"
   },
   {
    "duration": 7,
    "start_time": "2025-07-20T13:13:25.163Z"
   },
   {
    "duration": 3,
    "start_time": "2025-07-20T13:14:10.949Z"
   },
   {
    "duration": 39200,
    "start_time": "2025-07-20T13:14:11.992Z"
   },
   {
    "duration": 8,
    "start_time": "2025-07-20T13:14:52.432Z"
   },
   {
    "duration": 16,
    "start_time": "2025-07-20T13:14:53.932Z"
   },
   {
    "duration": 4,
    "start_time": "2025-07-20T13:14:59.573Z"
   },
   {
    "duration": 4,
    "start_time": "2025-07-20T13:48:30.476Z"
   },
   {
    "duration": 796,
    "start_time": "2025-07-20T13:48:31.516Z"
   },
   {
    "duration": 24,
    "start_time": "2025-07-20T13:48:33.707Z"
   },
   {
    "duration": 3,
    "start_time": "2025-07-20T13:48:34.427Z"
   },
   {
    "duration": 4,
    "start_time": "2025-07-20T13:48:35.186Z"
   },
   {
    "duration": 69281,
    "start_time": "2025-07-20T13:48:36.016Z"
   },
   {
    "duration": 7,
    "start_time": "2025-07-20T13:49:45.299Z"
   },
   {
    "duration": 55,
    "start_time": "2025-07-20T13:49:45.308Z"
   },
   {
    "duration": 250,
    "start_time": "2025-07-20T13:49:45.365Z"
   },
   {
    "duration": 2090,
    "start_time": "2025-07-20T13:49:45.616Z"
   },
   {
    "duration": 22,
    "start_time": "2025-07-20T13:49:47.708Z"
   },
   {
    "duration": 5399,
    "start_time": "2025-07-20T13:49:47.732Z"
   },
   {
    "duration": 1736,
    "start_time": "2025-07-20T13:49:53.133Z"
   },
   {
    "duration": 3,
    "start_time": "2025-07-20T13:49:54.871Z"
   },
   {
    "duration": 10,
    "start_time": "2025-07-20T13:49:54.876Z"
   },
   {
    "duration": 42645,
    "start_time": "2025-07-20T13:49:54.887Z"
   },
   {
    "duration": 6,
    "start_time": "2025-07-20T13:50:37.533Z"
   },
   {
    "duration": 27,
    "start_time": "2025-07-20T13:50:37.540Z"
   },
   {
    "duration": 4,
    "start_time": "2025-07-20T13:50:37.569Z"
   },
   {
    "duration": 14,
    "start_time": "2025-07-20T13:52:32.116Z"
   },
   {
    "duration": 5376,
    "start_time": "2025-07-20T13:52:33.086Z"
   },
   {
    "duration": 1707,
    "start_time": "2025-07-20T13:52:38.464Z"
   },
   {
    "duration": 4,
    "start_time": "2025-07-20T13:52:40.172Z"
   },
   {
    "duration": 6,
    "start_time": "2025-07-20T13:52:40.177Z"
   },
   {
    "duration": 5289,
    "start_time": "2025-07-20T13:52:40.184Z"
   },
   {
    "duration": 5,
    "start_time": "2025-07-20T13:52:45.474Z"
   },
   {
    "duration": 21,
    "start_time": "2025-07-20T13:52:45.481Z"
   },
   {
    "duration": 3,
    "start_time": "2025-07-20T13:53:06.396Z"
   },
   {
    "duration": 1296,
    "start_time": "2025-07-20T13:53:30.322Z"
   },
   {
    "duration": 916,
    "start_time": "2025-07-20T13:53:31.621Z"
   },
   {
    "duration": 3,
    "start_time": "2025-07-20T13:53:32.538Z"
   },
   {
    "duration": 24,
    "start_time": "2025-07-20T13:53:32.543Z"
   },
   {
    "duration": 22,
    "start_time": "2025-07-20T13:53:32.569Z"
   },
   {
    "duration": 69041,
    "start_time": "2025-07-20T13:53:32.593Z"
   },
   {
    "duration": 14,
    "start_time": "2025-07-20T13:54:41.635Z"
   },
   {
    "duration": 2,
    "start_time": "2025-07-20T13:54:41.663Z"
   },
   {
    "duration": 30,
    "start_time": "2025-07-20T13:54:41.667Z"
   },
   {
    "duration": 2097,
    "start_time": "2025-07-20T13:54:41.699Z"
   },
   {
    "duration": 6,
    "start_time": "2025-07-20T13:54:43.798Z"
   },
   {
    "duration": 8,
    "start_time": "2025-07-20T13:54:43.805Z"
   },
   {
    "duration": 5378,
    "start_time": "2025-07-20T13:54:43.815Z"
   },
   {
    "duration": 1726,
    "start_time": "2025-07-20T13:54:49.195Z"
   },
   {
    "duration": 4,
    "start_time": "2025-07-20T13:54:50.923Z"
   },
   {
    "duration": 19,
    "start_time": "2025-07-20T13:54:50.928Z"
   },
   {
    "duration": 37953,
    "start_time": "2025-07-20T13:54:50.949Z"
   },
   {
    "duration": 7,
    "start_time": "2025-07-20T13:55:28.903Z"
   },
   {
    "duration": 22,
    "start_time": "2025-07-20T13:55:28.911Z"
   },
   {
    "duration": 4,
    "start_time": "2025-07-20T13:55:28.935Z"
   },
   {
    "duration": 15,
    "start_time": "2025-07-20T14:01:07.254Z"
   },
   {
    "duration": 110,
    "start_time": "2025-07-20T14:01:57.803Z"
   },
   {
    "duration": 4,
    "start_time": "2025-07-20T14:02:16.493Z"
   },
   {
    "duration": 2,
    "start_time": "2025-07-20T14:02:23.254Z"
   },
   {
    "duration": 5,
    "start_time": "2025-07-20T14:02:52.223Z"
   },
   {
    "duration": 3,
    "start_time": "2025-07-20T14:03:27.383Z"
   },
   {
    "duration": 11,
    "start_time": "2025-07-20T14:12:39.461Z"
   },
   {
    "duration": 3,
    "start_time": "2025-07-20T14:36:44.725Z"
   },
   {
    "duration": 3,
    "start_time": "2025-07-20T14:36:45.366Z"
   },
   {
    "duration": 9,
    "start_time": "2025-07-20T14:36:46.315Z"
   },
   {
    "duration": 3,
    "start_time": "2025-07-20T14:37:11.325Z"
   },
   {
    "duration": 282492,
    "start_time": "2025-07-20T14:37:20.255Z"
   },
   {
    "duration": 3,
    "start_time": "2025-07-20T14:42:34.463Z"
   },
   {
    "duration": 2,
    "start_time": "2025-07-20T14:42:35.114Z"
   },
   {
    "duration": 2,
    "start_time": "2025-07-20T14:42:35.864Z"
   },
   {
    "duration": 1034386,
    "start_time": "2025-07-20T14:42:36.904Z"
   },
   {
    "duration": 3,
    "start_time": "2025-07-20T15:01:24.900Z"
   },
   {
    "duration": 3,
    "start_time": "2025-07-20T15:01:25.530Z"
   },
   {
    "duration": 3,
    "start_time": "2025-07-20T15:01:26.190Z"
   },
   {
    "duration": 275297,
    "start_time": "2025-07-20T15:01:26.990Z"
   },
   {
    "duration": 3,
    "start_time": "2025-07-20T15:06:07.789Z"
   },
   {
    "duration": 3,
    "start_time": "2025-07-20T15:06:30.900Z"
   },
   {
    "duration": 21,
    "start_time": "2025-07-20T15:07:06.499Z"
   },
   {
    "duration": 3,
    "start_time": "2025-07-20T15:09:30.959Z"
   },
   {
    "duration": 2,
    "start_time": "2025-07-20T15:10:19.199Z"
   },
   {
    "duration": 3,
    "start_time": "2025-07-20T15:10:29.068Z"
   },
   {
    "duration": 38,
    "start_time": "2025-07-20T15:10:36.978Z"
   },
   {
    "duration": 3,
    "start_time": "2025-07-20T15:13:30.358Z"
   },
   {
    "duration": 3,
    "start_time": "2025-07-20T15:13:30.988Z"
   },
   {
    "duration": 3,
    "start_time": "2025-07-20T15:13:31.688Z"
   },
   {
    "duration": 1421,
    "start_time": "2025-07-20T15:14:23.249Z"
   },
   {
    "duration": 1071,
    "start_time": "2025-07-20T15:14:24.671Z"
   },
   {
    "duration": 3,
    "start_time": "2025-07-20T15:14:25.744Z"
   },
   {
    "duration": 17,
    "start_time": "2025-07-20T15:14:25.748Z"
   },
   {
    "duration": 5,
    "start_time": "2025-07-20T15:14:25.767Z"
   },
   {
    "duration": 74164,
    "start_time": "2025-07-20T15:14:25.773Z"
   },
   {
    "duration": 28,
    "start_time": "2025-07-20T15:15:39.939Z"
   },
   {
    "duration": 4,
    "start_time": "2025-07-20T15:15:39.968Z"
   },
   {
    "duration": 36,
    "start_time": "2025-07-20T15:15:39.973Z"
   },
   {
    "duration": 2207,
    "start_time": "2025-07-20T15:15:40.011Z"
   },
   {
    "duration": 3,
    "start_time": "2025-07-20T15:15:42.219Z"
   },
   {
    "duration": 5685,
    "start_time": "2025-07-20T15:15:42.223Z"
   },
   {
    "duration": 1769,
    "start_time": "2025-07-20T15:15:47.910Z"
   },
   {
    "duration": 4,
    "start_time": "2025-07-20T15:15:49.682Z"
   },
   {
    "duration": 26,
    "start_time": "2025-07-20T15:15:49.687Z"
   },
   {
    "duration": 5,
    "start_time": "2025-07-20T15:15:49.715Z"
   },
   {
    "duration": 4,
    "start_time": "2025-07-20T15:15:49.722Z"
   },
   {
    "duration": 6,
    "start_time": "2025-07-20T15:15:49.727Z"
   },
   {
    "duration": 255225,
    "start_time": "2025-07-20T15:15:49.735Z"
   },
   {
    "duration": 3,
    "start_time": "2025-07-20T15:20:04.961Z"
   },
   {
    "duration": 33,
    "start_time": "2025-07-20T15:20:04.965Z"
   },
   {
    "duration": 25,
    "start_time": "2025-07-20T15:20:05.000Z"
   },
   {
    "duration": 107,
    "start_time": "2025-07-20T15:20:05.026Z"
   },
   {
    "duration": 0,
    "start_time": "2025-07-20T15:20:05.134Z"
   },
   {
    "duration": 0,
    "start_time": "2025-07-20T15:20:05.136Z"
   },
   {
    "duration": 0,
    "start_time": "2025-07-20T15:20:05.136Z"
   },
   {
    "duration": 0,
    "start_time": "2025-07-20T15:20:05.138Z"
   },
   {
    "duration": 0,
    "start_time": "2025-07-20T15:20:05.139Z"
   },
   {
    "duration": 0,
    "start_time": "2025-07-20T15:20:05.139Z"
   },
   {
    "duration": 0,
    "start_time": "2025-07-20T15:20:05.141Z"
   },
   {
    "duration": 0,
    "start_time": "2025-07-20T15:20:05.142Z"
   },
   {
    "duration": 0,
    "start_time": "2025-07-20T15:20:05.143Z"
   },
   {
    "duration": 9,
    "start_time": "2025-07-20T15:20:34.356Z"
   },
   {
    "duration": 17,
    "start_time": "2025-07-20T15:20:48.426Z"
   },
   {
    "duration": 2,
    "start_time": "2025-07-20T15:20:55.997Z"
   },
   {
    "duration": 2,
    "start_time": "2025-07-20T15:20:58.806Z"
   },
   {
    "duration": 3,
    "start_time": "2025-07-20T15:21:02.266Z"
   },
   {
    "duration": 46,
    "start_time": "2025-07-20T15:21:10.236Z"
   },
   {
    "duration": 1336,
    "start_time": "2025-07-20T15:21:16.916Z"
   },
   {
    "duration": 1006,
    "start_time": "2025-07-20T15:21:18.254Z"
   },
   {
    "duration": 3,
    "start_time": "2025-07-20T15:21:19.262Z"
   },
   {
    "duration": 12,
    "start_time": "2025-07-20T15:21:19.266Z"
   },
   {
    "duration": 4,
    "start_time": "2025-07-20T15:21:19.506Z"
   },
   {
    "duration": 70371,
    "start_time": "2025-07-20T15:21:20.145Z"
   },
   {
    "duration": 15,
    "start_time": "2025-07-20T15:22:30.518Z"
   },
   {
    "duration": 21,
    "start_time": "2025-07-20T15:22:30.535Z"
   },
   {
    "duration": 44,
    "start_time": "2025-07-20T15:22:30.558Z"
   },
   {
    "duration": 2135,
    "start_time": "2025-07-20T15:22:30.603Z"
   },
   {
    "duration": 17,
    "start_time": "2025-07-20T15:22:32.740Z"
   },
   {
    "duration": 5554,
    "start_time": "2025-07-20T15:22:32.759Z"
   },
   {
    "duration": 1749,
    "start_time": "2025-07-20T15:22:38.315Z"
   },
   {
    "duration": 4,
    "start_time": "2025-07-20T15:22:40.066Z"
   },
   {
    "duration": 20,
    "start_time": "2025-07-20T15:22:40.072Z"
   },
   {
    "duration": 159,
    "start_time": "2025-07-20T15:22:48.016Z"
   },
   {
    "duration": 3,
    "start_time": "2025-07-20T15:23:17.445Z"
   },
   {
    "duration": 3,
    "start_time": "2025-07-20T15:23:20.696Z"
   },
   {
    "duration": 3,
    "start_time": "2025-07-20T15:23:43.895Z"
   },
   {
    "duration": 2,
    "start_time": "2025-07-20T15:24:03.195Z"
   },
   {
    "duration": 317,
    "start_time": "2025-07-20T15:24:37.915Z"
   },
   {
    "duration": 238,
    "start_time": "2025-07-20T15:24:49.725Z"
   },
   {
    "duration": 1424,
    "start_time": "2025-07-20T15:25:36.895Z"
   },
   {
    "duration": 1014,
    "start_time": "2025-07-20T15:25:38.320Z"
   },
   {
    "duration": 3,
    "start_time": "2025-07-20T15:25:39.336Z"
   },
   {
    "duration": 12,
    "start_time": "2025-07-20T15:25:39.340Z"
   },
   {
    "duration": 4,
    "start_time": "2025-07-20T15:25:39.385Z"
   },
   {
    "duration": 71184,
    "start_time": "2025-07-20T15:25:40.185Z"
   },
   {
    "duration": 13,
    "start_time": "2025-07-20T15:26:51.371Z"
   },
   {
    "duration": 10,
    "start_time": "2025-07-20T15:26:51.385Z"
   },
   {
    "duration": 59,
    "start_time": "2025-07-20T15:26:51.397Z"
   },
   {
    "duration": 2130,
    "start_time": "2025-07-20T15:26:51.457Z"
   },
   {
    "duration": 9,
    "start_time": "2025-07-20T15:26:53.588Z"
   },
   {
    "duration": 5466,
    "start_time": "2025-07-20T15:26:53.599Z"
   },
   {
    "duration": 14,
    "start_time": "2025-07-20T15:27:19.265Z"
   },
   {
    "duration": 5393,
    "start_time": "2025-07-20T15:27:20.455Z"
   },
   {
    "duration": 1543,
    "start_time": "2025-07-20T15:27:25.850Z"
   },
   {
    "duration": 3,
    "start_time": "2025-07-20T15:27:29.684Z"
   },
   {
    "duration": 3,
    "start_time": "2025-07-20T15:27:30.525Z"
   },
   {
    "duration": 118,
    "start_time": "2025-07-20T15:27:34.454Z"
   },
   {
    "duration": 3,
    "start_time": "2025-07-20T15:27:39.634Z"
   },
   {
    "duration": 3,
    "start_time": "2025-07-20T15:27:53.134Z"
   },
   {
    "duration": 3,
    "start_time": "2025-07-20T15:27:54.854Z"
   },
   {
    "duration": 1811,
    "start_time": "2025-07-20T15:29:58.414Z"
   },
   {
    "duration": 1013,
    "start_time": "2025-07-20T15:30:00.227Z"
   },
   {
    "duration": 3,
    "start_time": "2025-07-20T15:30:01.242Z"
   },
   {
    "duration": 36,
    "start_time": "2025-07-20T15:30:01.246Z"
   },
   {
    "duration": 40,
    "start_time": "2025-07-20T15:30:01.283Z"
   },
   {
    "duration": 71514,
    "start_time": "2025-07-20T15:30:01.534Z"
   },
   {
    "duration": 23,
    "start_time": "2025-07-20T15:31:13.050Z"
   },
   {
    "duration": 2,
    "start_time": "2025-07-20T15:31:13.075Z"
   },
   {
    "duration": 56,
    "start_time": "2025-07-20T15:31:13.079Z"
   },
   {
    "duration": 2149,
    "start_time": "2025-07-20T15:31:13.136Z"
   },
   {
    "duration": 50,
    "start_time": "2025-07-20T15:31:15.286Z"
   },
   {
    "duration": 2,
    "start_time": "2025-07-20T15:31:18.604Z"
   },
   {
    "duration": 85,
    "start_time": "2025-07-20T15:31:32.343Z"
   },
   {
    "duration": 115,
    "start_time": "2025-07-20T15:31:39.213Z"
   },
   {
    "duration": 3,
    "start_time": "2025-07-20T15:31:51.543Z"
   },
   {
    "duration": 3,
    "start_time": "2025-07-20T15:32:14.224Z"
   },
   {
    "duration": 3,
    "start_time": "2025-07-20T15:32:16.483Z"
   },
   {
    "duration": 86,
    "start_time": "2025-07-20T15:32:20.073Z"
   },
   {
    "duration": 95,
    "start_time": "2025-07-20T15:32:53.354Z"
   },
   {
    "duration": 91,
    "start_time": "2025-07-20T15:33:08.943Z"
   },
   {
    "duration": 12,
    "start_time": "2025-07-20T15:34:55.513Z"
   },
   {
    "duration": 93,
    "start_time": "2025-07-20T15:35:19.343Z"
   },
   {
    "duration": 15,
    "start_time": "2025-07-20T15:35:44.032Z"
   },
   {
    "duration": 18,
    "start_time": "2025-07-20T15:36:56.933Z"
   },
   {
    "duration": 1003,
    "start_time": "2025-07-20T15:38:12.402Z"
   },
   {
    "duration": 3,
    "start_time": "2025-07-20T15:38:42.682Z"
   },
   {
    "duration": 5411,
    "start_time": "2025-07-20T15:38:44.651Z"
   },
   {
    "duration": 1547,
    "start_time": "2025-07-20T15:38:50.064Z"
   },
   {
    "duration": 3,
    "start_time": "2025-07-20T15:39:09.952Z"
   },
   {
    "duration": 3,
    "start_time": "2025-07-20T15:39:12.751Z"
   },
   {
    "duration": 3,
    "start_time": "2025-07-20T15:39:25.321Z"
   },
   {
    "duration": 1470,
    "start_time": "2025-07-20T15:41:14.451Z"
   },
   {
    "duration": 1017,
    "start_time": "2025-07-20T15:41:15.922Z"
   },
   {
    "duration": 3,
    "start_time": "2025-07-20T15:41:16.941Z"
   },
   {
    "duration": 6,
    "start_time": "2025-07-20T15:41:17.011Z"
   },
   {
    "duration": 4,
    "start_time": "2025-07-20T15:41:17.581Z"
   },
   {
    "duration": 69891,
    "start_time": "2025-07-20T15:41:19.171Z"
   },
   {
    "duration": 15,
    "start_time": "2025-07-20T15:42:29.064Z"
   },
   {
    "duration": 4,
    "start_time": "2025-07-20T15:42:29.080Z"
   },
   {
    "duration": 33,
    "start_time": "2025-07-20T15:42:29.085Z"
   },
   {
    "duration": 2175,
    "start_time": "2025-07-20T15:42:29.120Z"
   },
   {
    "duration": 34,
    "start_time": "2025-07-20T15:42:31.296Z"
   },
   {
    "duration": 5394,
    "start_time": "2025-07-20T15:42:31.332Z"
   },
   {
    "duration": 1572,
    "start_time": "2025-07-20T15:42:36.728Z"
   },
   {
    "duration": 3,
    "start_time": "2025-07-20T15:42:38.301Z"
   },
   {
    "duration": 31,
    "start_time": "2025-07-20T15:42:38.307Z"
   },
   {
    "duration": 5,
    "start_time": "2025-07-20T15:42:38.339Z"
   },
   {
    "duration": 1465,
    "start_time": "2025-07-20T15:42:52.431Z"
   },
   {
    "duration": 999,
    "start_time": "2025-07-20T15:42:53.898Z"
   },
   {
    "duration": 4,
    "start_time": "2025-07-20T15:42:54.899Z"
   },
   {
    "duration": 11,
    "start_time": "2025-07-20T15:42:54.904Z"
   },
   {
    "duration": 4,
    "start_time": "2025-07-20T15:42:54.917Z"
   },
   {
    "duration": 70781,
    "start_time": "2025-07-20T15:42:54.923Z"
   },
   {
    "duration": 14,
    "start_time": "2025-07-20T15:44:05.706Z"
   },
   {
    "duration": 7,
    "start_time": "2025-07-20T15:44:05.722Z"
   },
   {
    "duration": 41,
    "start_time": "2025-07-20T15:44:05.731Z"
   },
   {
    "duration": 2130,
    "start_time": "2025-07-20T15:44:05.774Z"
   },
   {
    "duration": 8,
    "start_time": "2025-07-20T15:44:07.905Z"
   },
   {
    "duration": 5446,
    "start_time": "2025-07-20T15:44:07.916Z"
   },
   {
    "duration": 1460,
    "start_time": "2025-07-20T15:44:13.364Z"
   },
   {
    "duration": 2,
    "start_time": "2025-07-20T15:44:14.826Z"
   },
   {
    "duration": 15,
    "start_time": "2025-07-20T15:44:14.830Z"
   },
   {
    "duration": 11,
    "start_time": "2025-07-20T15:44:14.846Z"
   },
   {
    "duration": 49,
    "start_time": "2025-07-20T15:44:32.571Z"
   },
   {
    "duration": 1428,
    "start_time": "2025-07-20T15:44:39.901Z"
   },
   {
    "duration": 989,
    "start_time": "2025-07-20T15:44:41.330Z"
   },
   {
    "duration": 3,
    "start_time": "2025-07-20T15:44:42.320Z"
   },
   {
    "duration": 7,
    "start_time": "2025-07-20T15:44:42.325Z"
   },
   {
    "duration": 4,
    "start_time": "2025-07-20T15:44:42.333Z"
   },
   {
    "duration": 69202,
    "start_time": "2025-07-20T15:44:42.750Z"
   },
   {
    "duration": 13,
    "start_time": "2025-07-20T15:45:51.962Z"
   },
   {
    "duration": 10,
    "start_time": "2025-07-20T15:45:51.977Z"
   },
   {
    "duration": 31,
    "start_time": "2025-07-20T15:45:51.989Z"
   },
   {
    "duration": 2138,
    "start_time": "2025-07-20T15:45:52.021Z"
   },
   {
    "duration": 5,
    "start_time": "2025-07-20T15:45:54.162Z"
   },
   {
    "duration": 4,
    "start_time": "2025-07-20T15:46:13.000Z"
   },
   {
    "duration": 4,
    "start_time": "2025-07-20T15:46:18.620Z"
   },
   {
    "duration": 4,
    "start_time": "2025-07-20T15:46:23.550Z"
   },
   {
    "duration": 146,
    "start_time": "2025-07-20T15:46:41.520Z"
   },
   {
    "duration": 4,
    "start_time": "2025-07-20T15:46:43.850Z"
   },
   {
    "duration": 3,
    "start_time": "2025-07-20T15:46:46.100Z"
   },
   {
    "duration": 3,
    "start_time": "2025-07-20T15:47:06.899Z"
   },
   {
    "duration": 2,
    "start_time": "2025-07-20T15:47:36.190Z"
   },
   {
    "duration": 83,
    "start_time": "2025-07-20T15:47:42.519Z"
   },
   {
    "duration": 3,
    "start_time": "2025-07-20T15:47:49.519Z"
   },
   {
    "duration": 3652,
    "start_time": "2025-07-20T15:47:50.669Z"
   },
   {
    "duration": 966,
    "start_time": "2025-07-20T15:47:54.323Z"
   },
   {
    "duration": 1026,
    "start_time": "2025-07-20T15:47:59.829Z"
   },
   {
    "duration": 18,
    "start_time": "2025-07-20T15:48:34.700Z"
   },
   {
    "duration": 5,
    "start_time": "2025-07-20T15:51:34.809Z"
   },
   {
    "duration": 32,
    "start_time": "2025-07-20T15:51:43.490Z"
   },
   {
    "duration": 4,
    "start_time": "2025-07-20T15:51:44.419Z"
   },
   {
    "duration": 4,
    "start_time": "2025-07-20T15:51:45.068Z"
   },
   {
    "duration": 1595,
    "start_time": "2025-07-20T15:53:18.329Z"
   },
   {
    "duration": 1025,
    "start_time": "2025-07-20T15:53:19.926Z"
   },
   {
    "duration": 3,
    "start_time": "2025-07-20T15:53:20.953Z"
   },
   {
    "duration": 21,
    "start_time": "2025-07-20T15:53:20.958Z"
   },
   {
    "duration": 7,
    "start_time": "2025-07-20T15:53:20.980Z"
   },
   {
    "duration": 69700,
    "start_time": "2025-07-20T15:53:20.989Z"
   },
   {
    "duration": 13,
    "start_time": "2025-07-20T15:54:30.691Z"
   },
   {
    "duration": 3,
    "start_time": "2025-07-20T15:54:30.707Z"
   },
   {
    "duration": 33,
    "start_time": "2025-07-20T15:54:30.712Z"
   },
   {
    "duration": 18,
    "start_time": "2025-07-20T15:54:30.746Z"
   },
   {
    "duration": 35,
    "start_time": "2025-07-20T15:54:30.765Z"
   },
   {
    "duration": 2155,
    "start_time": "2025-07-20T15:54:30.802Z"
   },
   {
    "duration": 4,
    "start_time": "2025-07-20T15:54:32.958Z"
   },
   {
    "duration": 5398,
    "start_time": "2025-07-20T15:54:32.964Z"
   },
   {
    "duration": 1706,
    "start_time": "2025-07-20T15:54:38.363Z"
   },
   {
    "duration": 3,
    "start_time": "2025-07-20T15:54:40.071Z"
   },
   {
    "duration": 9,
    "start_time": "2025-07-20T15:54:40.077Z"
   },
   {
    "duration": 121,
    "start_time": "2025-07-20T15:54:40.088Z"
   },
   {
    "duration": 3,
    "start_time": "2025-07-20T15:54:48.998Z"
   },
   {
    "duration": 3,
    "start_time": "2025-07-20T15:54:53.769Z"
   },
   {
    "duration": 162279,
    "start_time": "2025-07-20T15:54:56.398Z"
   },
   {
    "duration": 3,
    "start_time": "2025-07-20T15:57:38.679Z"
   },
   {
    "duration": 10,
    "start_time": "2025-07-20T15:58:06.037Z"
   },
   {
    "duration": 2,
    "start_time": "2025-07-20T15:58:13.668Z"
   },
   {
    "duration": 17,
    "start_time": "2025-07-20T15:58:14.538Z"
   },
   {
    "duration": 4,
    "start_time": "2025-07-20T15:58:15.697Z"
   },
   {
    "duration": 1398,
    "start_time": "2025-07-20T15:59:30.984Z"
   },
   {
    "duration": 917,
    "start_time": "2025-07-20T15:59:32.384Z"
   },
   {
    "duration": 4,
    "start_time": "2025-07-20T15:59:33.302Z"
   },
   {
    "duration": 5,
    "start_time": "2025-07-20T15:59:33.307Z"
   },
   {
    "duration": 4,
    "start_time": "2025-07-20T15:59:33.314Z"
   },
   {
    "duration": 70477,
    "start_time": "2025-07-20T15:59:33.319Z"
   },
   {
    "duration": 16,
    "start_time": "2025-07-20T16:00:43.797Z"
   },
   {
    "duration": 3,
    "start_time": "2025-07-20T16:00:43.815Z"
   },
   {
    "duration": 60,
    "start_time": "2025-07-20T16:00:43.820Z"
   },
   {
    "duration": 4,
    "start_time": "2025-07-20T16:00:43.881Z"
   },
   {
    "duration": 5,
    "start_time": "2025-07-20T16:00:43.886Z"
   },
   {
    "duration": 2142,
    "start_time": "2025-07-20T16:00:43.892Z"
   },
   {
    "duration": 26,
    "start_time": "2025-07-20T16:00:46.035Z"
   },
   {
    "duration": 5413,
    "start_time": "2025-07-20T16:00:46.064Z"
   },
   {
    "duration": 1683,
    "start_time": "2025-07-20T16:00:51.479Z"
   },
   {
    "duration": 2,
    "start_time": "2025-07-20T16:00:53.164Z"
   },
   {
    "duration": 4,
    "start_time": "2025-07-20T16:00:53.168Z"
   },
   {
    "duration": 6,
    "start_time": "2025-07-20T16:00:53.173Z"
   },
   {
    "duration": 70,
    "start_time": "2025-07-20T16:00:53.180Z"
   },
   {
    "duration": 240442,
    "start_time": "2025-07-20T16:00:53.251Z"
   },
   {
    "duration": 2,
    "start_time": "2025-07-20T16:04:53.695Z"
   },
   {
    "duration": 17,
    "start_time": "2025-07-20T16:04:53.699Z"
   },
   {
    "duration": 11,
    "start_time": "2025-07-20T16:04:53.718Z"
   },
   {
    "duration": 7,
    "start_time": "2025-07-20T16:04:53.731Z"
   },
   {
    "duration": 9,
    "start_time": "2025-07-20T16:04:53.740Z"
   },
   {
    "duration": 158827,
    "start_time": "2025-07-20T16:04:53.750Z"
   },
   {
    "duration": 3,
    "start_time": "2025-07-20T16:07:32.578Z"
   },
   {
    "duration": 19,
    "start_time": "2025-07-20T16:07:32.583Z"
   },
   {
    "duration": 20,
    "start_time": "2025-07-20T16:07:32.604Z"
   },
   {
    "duration": 2,
    "start_time": "2025-07-20T16:07:32.626Z"
   },
   {
    "duration": 1514,
    "start_time": "2025-07-20T16:19:12.817Z"
   },
   {
    "duration": 952,
    "start_time": "2025-07-20T16:19:14.333Z"
   },
   {
    "duration": 5,
    "start_time": "2025-07-20T16:19:15.286Z"
   },
   {
    "duration": 44,
    "start_time": "2025-07-20T16:19:15.292Z"
   },
   {
    "duration": 14,
    "start_time": "2025-07-20T16:19:15.338Z"
   },
   {
    "duration": 86738,
    "start_time": "2025-07-20T16:19:15.353Z"
   },
   {
    "duration": 15,
    "start_time": "2025-07-20T16:20:42.093Z"
   },
   {
    "duration": 3,
    "start_time": "2025-07-20T16:20:42.110Z"
   },
   {
    "duration": 73,
    "start_time": "2025-07-20T16:20:42.115Z"
   },
   {
    "duration": 5,
    "start_time": "2025-07-20T16:20:42.191Z"
   },
   {
    "duration": 6,
    "start_time": "2025-07-20T16:20:42.197Z"
   },
   {
    "duration": 2164,
    "start_time": "2025-07-20T16:20:42.205Z"
   },
   {
    "duration": 67,
    "start_time": "2025-07-20T16:20:44.371Z"
   },
   {
    "duration": 5541,
    "start_time": "2025-07-20T16:20:44.441Z"
   },
   {
    "duration": 1804,
    "start_time": "2025-07-20T16:20:49.984Z"
   },
   {
    "duration": 3,
    "start_time": "2025-07-20T16:20:51.790Z"
   },
   {
    "duration": 36,
    "start_time": "2025-07-20T16:20:51.795Z"
   },
   {
    "duration": 7,
    "start_time": "2025-07-20T16:20:51.833Z"
   },
   {
    "duration": 5,
    "start_time": "2025-07-20T16:20:51.842Z"
   },
   {
    "duration": 269456,
    "start_time": "2025-07-20T16:20:51.848Z"
   },
   {
    "duration": 3,
    "start_time": "2025-07-20T16:25:21.305Z"
   },
   {
    "duration": 31,
    "start_time": "2025-07-20T16:25:21.309Z"
   },
   {
    "duration": 3,
    "start_time": "2025-07-20T16:25:21.342Z"
   },
   {
    "duration": 9,
    "start_time": "2025-07-20T16:25:21.347Z"
   },
   {
    "duration": 18,
    "start_time": "2025-07-20T16:25:21.357Z"
   },
   {
    "duration": 151603,
    "start_time": "2025-07-20T16:25:21.377Z"
   },
   {
    "duration": 3,
    "start_time": "2025-07-20T16:27:52.982Z"
   },
   {
    "duration": 23,
    "start_time": "2025-07-20T16:27:52.986Z"
   },
   {
    "duration": 19,
    "start_time": "2025-07-20T16:27:53.010Z"
   },
   {
    "duration": 3,
    "start_time": "2025-07-20T16:27:53.030Z"
   }
  ],
  "kernelspec": {
   "display_name": "Python 3 (ipykernel)",
   "language": "python",
   "name": "python3"
  },
  "language_info": {
   "codemirror_mode": {
    "name": "ipython",
    "version": 3
   },
   "file_extension": ".py",
   "mimetype": "text/x-python",
   "name": "python",
   "nbconvert_exporter": "python",
   "pygments_lexer": "ipython3",
   "version": "3.9.19"
  },
  "toc": {
   "base_numbering": 1,
   "nav_menu": {},
   "number_sections": true,
   "sideBar": true,
   "skip_h1_title": true,
   "title_cell": "Содержание",
   "title_sidebar": "Contents",
   "toc_cell": true,
   "toc_position": {
    "height": "calc(100% - 180px)",
    "left": "10px",
    "top": "150px",
    "width": "302.391px"
   },
   "toc_section_display": true,
   "toc_window_display": false
  }
 },
 "nbformat": 4,
 "nbformat_minor": 2
}
