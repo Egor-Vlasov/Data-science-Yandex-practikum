{
 "cells": [
  {
   "cell_type": "markdown",
   "metadata": {
    "toc": true
   },
   "source": [
    "<h1>Содержание<span class=\"tocSkip\"></span></h1>\n",
    "<div class=\"toc\"><ul class=\"toc-item\"><li><span><a href=\"#Подготовка\" data-toc-modified-id=\"Подготовка-1\"><span class=\"toc-item-num\">1&nbsp;&nbsp;</span>Подготовка</a></span></li><li><span><a href=\"#Обучение\" data-toc-modified-id=\"Обучение-2\"><span class=\"toc-item-num\">2&nbsp;&nbsp;</span>Обучение</a></span></li><li><span><a href=\"#Выводы\" data-toc-modified-id=\"Выводы-3\"><span class=\"toc-item-num\">3&nbsp;&nbsp;</span>Выводы</a></span></li><li><span><a href=\"#Чек-лист-проверки\" data-toc-modified-id=\"Чек-лист-проверки-4\"><span class=\"toc-item-num\">4&nbsp;&nbsp;</span>Чек-лист проверки</a></span></li></ul></div>"
   ]
  },
  {
   "cell_type": "markdown",
   "metadata": {},
   "source": [
    "# Проект для «Викишоп»"
   ]
  },
  {
   "cell_type": "markdown",
   "metadata": {},
   "source": [
    "Интернет-магазин «Викишоп» запускает новый сервис. Теперь пользователи могут редактировать и дополнять описания товаров, как в вики-сообществах. То есть клиенты предлагают свои правки и комментируют изменения других. Магазину нужен инструмент, который будет искать токсичные комментарии и отправлять их на модерацию. \n",
    "\n",
    "Обучите модель классифицировать комментарии на позитивные и негативные. В вашем распоряжении набор данных с разметкой о токсичности правок.\n",
    "\n",
    "Постройте модель со значением метрики качества *F1* не меньше 0.75. \n",
    "\n",
    "**Инструкция по выполнению проекта**\n",
    "\n",
    "1. Загрузите и подготовьте данные.\n",
    "2. Обучите разные модели. \n",
    "3. Сделайте выводы.\n",
    "\n",
    "Для выполнения проекта применять *BERT* необязательно, но вы можете попробовать.\n",
    "\n",
    "**Описание данных**\n",
    "\n",
    "Данные находятся в файле `toxic_comments.csv`. Столбец *text* в нём содержит текст комментария, а *toxic* — целевой признак."
   ]
  },
  {
   "cell_type": "markdown",
   "metadata": {},
   "source": [
    "## Подготовка"
   ]
  },
  {
   "cell_type": "code",
   "execution_count": 2,
   "metadata": {},
   "outputs": [
    {
     "name": "stdout",
     "output_type": "stream",
     "text": [
      "Collecting pymystem3\n",
      "  Downloading pymystem3-0.2.0-py3-none-any.whl.metadata (5.5 kB)\n",
      "Requirement already satisfied: requests in c:\\users\\vegor\\anaconda3\\envs\\practicum\\lib\\site-packages (from pymystem3) (2.32.3)\n",
      "Requirement already satisfied: charset-normalizer<4,>=2 in c:\\users\\vegor\\anaconda3\\envs\\practicum\\lib\\site-packages (from requests->pymystem3) (3.3.2)\n",
      "Requirement already satisfied: idna<4,>=2.5 in c:\\users\\vegor\\anaconda3\\envs\\practicum\\lib\\site-packages (from requests->pymystem3) (3.7)\n",
      "Requirement already satisfied: urllib3<3,>=1.21.1 in c:\\users\\vegor\\anaconda3\\envs\\practicum\\lib\\site-packages (from requests->pymystem3) (2.2.2)\n",
      "Requirement already satisfied: certifi>=2017.4.17 in c:\\users\\vegor\\anaconda3\\envs\\practicum\\lib\\site-packages (from requests->pymystem3) (2025.1.31)\n",
      "Downloading pymystem3-0.2.0-py3-none-any.whl (10 kB)\n",
      "Installing collected packages: pymystem3\n",
      "Successfully installed pymystem3-0.2.0\n",
      "Note: you may need to restart the kernel to use updated packages.\n"
     ]
    }
   ],
   "source": [
    "~pip install pymystem3"
   ]
  },
  {
   "cell_type": "code",
   "execution_count": 3,
   "metadata": {},
   "outputs": [],
   "source": [
    "import pandas as pd\n",
    "from pymystem3 import Mystem\n",
    "from tqdm import notebook\n",
    "from tqdm.notebook import tqdm\n",
    "import re\n",
    "import nltk\n",
    "from nltk.corpus import stopwords as nltk_stopwords\n",
    "from sklearn.model_selection import train_test_split\n",
    "from sklearn.feature_extraction.text import TfidfVectorizer\n",
    "from sklearn.linear_model import LogisticRegression\n",
    "from sklearn.metrics import f1_score\n",
    "RANDOM_STATE =42"
   ]
  },
  {
   "cell_type": "code",
   "execution_count": null,
   "metadata": {},
   "outputs": [],
   "source": [
    "try^df = pd.read_csv('/datasets/toxic_comments.csv', index_col=0)"
   ]
  },
  {
   "cell_type": "code",
   "execution_count": null,
   "metadata": {},
   "outputs": [],
   "source": [
    "df.head()"
   ]
  },
  {
   "cell_type": "code",
   "execution_count": null,
   "metadata": {
    "scrolled": true
   },
   "outputs": [],
   "source": [
    "df.info()"
   ]
  },
  {
   "cell_type": "code",
   "execution_count": null,
   "metadata": {
    "scrolled": true
   },
   "outputs": [],
   "source": [
    "df.duplicated().sum()"
   ]
  },
  {
   "cell_type": "code",
   "execution_count": null,
   "metadata": {},
   "outputs": [],
   "source": [
    "df.shape[0]"
   ]
  },
  {
   "cell_type": "code",
   "execution_count": null,
   "metadata": {},
   "outputs": [],
   "source": [
    "tqdm.pandas()\n",
    "m = Mystem()"
   ]
  },
  {
   "cell_type": "code",
   "execution_count": null,
   "metadata": {},
   "outputs": [],
   "source": [
    "custom_stopwords = set(nltk_stopwords.words('english')) | {\n",
    "    'would', 'could', 'should', 'might', 'may', 'also', 'us', 'get', 'go', 'like'\n",
    "}"
   ]
  },
  {
   "cell_type": "code",
   "execution_count": null,
   "metadata": {},
   "outputs": [],
   "source": [
    "def clear_text(text):\n",
    "    \"\"\"Улучшенная очистка текста\"\"\"\n",
    "    text = text.lower()  \n",
    "    text = re.sub(r'[^a-zA-Zа-яА-Я\\s]', ' ', text)  \n",
    "    text = re.sub(r'\\s+', ' ', text).strip()  \n",
    "    return text\n",
    "\n",
    "def lemmatize(text):\n",
    "    cleaned = clear_text(text)\n",
    "    lemmas = m.lemmatize(cleaned)\n",
    "    lemm_text = \"\".join(lemmas).strip()\n",
    "    words = [word for word in lemm_text.split() if word not in custom_stopwords]\n",
    "    return \" \".join(words)"
   ]
  },
  {
   "cell_type": "code",
   "execution_count": null,
   "metadata": {},
   "outputs": [],
   "source": [
    "\n",
    "\n",
    "# def clear_text(text):\n",
    "#     \"\"\"Очистка текста от не-буквенных символов\"\"\"\n",
    "#     tmp = re.sub(r'[^a-zA-Zа-яА-Я]', ' ', text)\n",
    "#     tmp_lst = tmp.split()\n",
    "#     return ' '.join(tmp_lst)\n",
    "\n",
    "# def lemmatize(text):\n",
    "#     \"\"\"Лемматизация очищенного текста\"\"\"\n",
    "#     cleaned = clear_text(text)\n",
    "#     lemm_list = m.lemmatize(cleaned)\n",
    "#     lemm_text = \"\".join(lemm_list).strip()\n",
    "#     return lemm_text\n"
   ]
  },
  {
   "cell_type": "code",
   "execution_count": null,
   "metadata": {},
   "outputs": [],
   "source": [
    "df['clear_lemma'] = df['text'].progress_apply(lemmatize)"
   ]
  },
  {
   "cell_type": "code",
   "execution_count": null,
   "metadata": {},
   "outputs": [],
   "source": [
    "df.head()"
   ]
  },
  {
   "cell_type": "code",
   "execution_count": null,
   "metadata": {},
   "outputs": [],
   "source": [
    "X = df['clear_lemma']\n",
    "y = df['toxic']"
   ]
  },
  {
   "cell_type": "code",
   "execution_count": null,
   "metadata": {},
   "outputs": [],
   "source": [
    "X_train, X_test, y_train, y_test = train_test_split(X, y, random_state=RANDOM_STATE)"
   ]
  },
  {
   "cell_type": "code",
   "execution_count": null,
   "metadata": {},
   "outputs": [],
   "source": [
    "X_train = X_train.values.astype('U')\n",
    "X_test = X_test.values.astype('U')"
   ]
  },
  {
   "cell_type": "code",
   "execution_count": null,
   "metadata": {
    "scrolled": false
   },
   "outputs": [],
   "source": [
    "# nltk.download('stopwords')\n",
    "# stopwords = list(nltk_stopwords.words('english'))"
   ]
  },
  {
   "cell_type": "code",
   "execution_count": null,
   "metadata": {},
   "outputs": [],
   "source": [
    "tfidf = TfidfVectorizer(\n",
    "    stop_words=custom_stopwords,\n",
    "    ngram_range=(1, 2),  \n",
    "    max_features=5000\n",
    ")"
   ]
  },
  {
   "cell_type": "code",
   "execution_count": null,
   "metadata": {
    "scrolled": false
   },
   "outputs": [],
   "source": [
    "X_train_tfidf = tfidf.fit_transform(X_train)"
   ]
  },
  {
   "cell_type": "code",
   "execution_count": null,
   "metadata": {},
   "outputs": [],
   "source": [
    "X_train_tfidf.shape"
   ]
  },
  {
   "cell_type": "code",
   "execution_count": null,
   "metadata": {},
   "outputs": [],
   "source": [
    "model = LogisticRegression(solver=\"saga\", max_iter=500, random_state=RANDOM_STATE)\n"
   ]
  },
  {
   "cell_type": "code",
   "execution_count": null,
   "metadata": {
    "scrolled": true
   },
   "outputs": [],
   "source": [
    "with tqdm(total=1, desc=\"Training model\") as pbar:\n",
    "    model.fit(X_train_tfidf, y_train)\n",
    "    pbar.update(1)"
   ]
  },
  {
   "cell_type": "code",
   "execution_count": null,
   "metadata": {},
   "outputs": [],
   "source": [
    "X_test_tfidf = tfidf.transform(X_test) "
   ]
  },
  {
   "cell_type": "code",
   "execution_count": null,
   "metadata": {
    "scrolled": true
   },
   "outputs": [],
   "source": [
    "predictions = model.predict(X_test_tfidf)"
   ]
  },
  {
   "cell_type": "code",
   "execution_count": null,
   "metadata": {
    "scrolled": true
   },
   "outputs": [],
   "source": [
    "f1 = f1_score(predictions, y_test)\n",
    "print(f\"F1-score на тренировочных данных: {f1:.4f}\")"
   ]
  },
  {
   "cell_type": "markdown",
   "metadata": {},
   "source": [
    "## Обучение"
   ]
  },
  {
   "cell_type": "code",
   "execution_count": null,
   "metadata": {},
   "outputs": [],
   "source": [
    "from xgboost import XGBClassifier\n",
    "\n",
    "model = XGBClassifier(\n",
    "    n_estimators=200,\n",
    "    max_depth=5,\n",
    "    learning_rate=0.1,\n",
    "    random_state=RANDOM_STATE,\n",
    "    eval_metric='logloss',  # для бинарной классификации\n",
    "    use_label_encoder=False,\n",
    ")\n",
    "\n",
    "model.fit(X_train_tfidf, y_train)\n",
    "predictions = model.predict(X_test_tfidf)\n",
    "f1 = f1_score(y_test, predictions)\n",
    "print(f\"F1-score с XGBoost: {f1:.4f}\")"
   ]
  },
  {
   "cell_type": "markdown",
   "metadata": {},
   "source": [
    "## Выводы"
   ]
  },
  {
   "cell_type": "code",
   "execution_count": null,
   "metadata": {},
   "outputs": [],
   "source": []
  },
  {
   "cell_type": "markdown",
   "metadata": {},
   "source": [
    "## Чек-лист проверки"
   ]
  },
  {
   "cell_type": "markdown",
   "metadata": {},
   "source": [
    "- [x]  Jupyter Notebook открыт\n",
    "- [ ]  Весь код выполняется без ошибок\n",
    "- [ ]  Ячейки с кодом расположены в порядке исполнения\n",
    "- [ ]  Данные загружены и подготовлены\n",
    "- [ ]  Модели обучены\n",
    "- [ ]  Значение метрики *F1* не меньше 0.75\n",
    "- [ ]  Выводы написаны"
   ]
  }
 ],
 "metadata": {
  "ExecuteTimeLog": [
   {
    "duration": 434,
    "start_time": "2025-07-19T08:15:16.606Z"
   },
   {
    "duration": 1030,
    "start_time": "2025-07-19T08:15:48.756Z"
   },
   {
    "duration": 15,
    "start_time": "2025-07-19T08:15:57.051Z"
   },
   {
    "duration": 41,
    "start_time": "2025-07-19T08:16:09.686Z"
   },
   {
    "duration": 8,
    "start_time": "2025-07-19T08:16:19.335Z"
   },
   {
    "duration": 956,
    "start_time": "2025-07-19T08:35:26.540Z"
   },
   {
    "duration": 9,
    "start_time": "2025-07-19T08:35:29.040Z"
   },
   {
    "duration": 70,
    "start_time": "2025-07-19T08:36:04.840Z"
   },
   {
    "duration": 236,
    "start_time": "2025-07-19T08:36:09.420Z"
   },
   {
    "duration": 200,
    "start_time": "2025-07-19T08:36:14.330Z"
   },
   {
    "duration": 5,
    "start_time": "2025-07-19T08:38:33.249Z"
   },
   {
    "duration": 11,
    "start_time": "2025-07-19T08:38:54.860Z"
   },
   {
    "duration": 20,
    "start_time": "2025-07-19T08:39:14.040Z"
   },
   {
    "duration": 9144,
    "start_time": "2025-07-19T08:40:23.288Z"
   },
   {
    "duration": 41,
    "start_time": "2025-07-19T08:41:21.719Z"
   },
   {
    "duration": 4,
    "start_time": "2025-07-19T08:42:48.058Z"
   },
   {
    "duration": 10,
    "start_time": "2025-07-19T08:43:49.878Z"
   },
   {
    "duration": 3,
    "start_time": "2025-07-19T08:43:57.208Z"
   },
   {
    "duration": 2,
    "start_time": "2025-07-19T08:44:11.439Z"
   },
   {
    "duration": 3,
    "start_time": "2025-07-19T08:44:14.218Z"
   },
   {
    "duration": 100044,
    "start_time": "2025-07-19T08:44:36.358Z"
   },
   {
    "duration": 12,
    "start_time": "2025-07-19T08:46:54.397Z"
   },
   {
    "duration": 31,
    "start_time": "2025-07-19T08:49:15.387Z"
   },
   {
    "duration": 4,
    "start_time": "2025-07-19T08:50:02.446Z"
   },
   {
    "duration": 94,
    "start_time": "2025-07-19T08:51:07.157Z"
   },
   {
    "duration": 91,
    "start_time": "2025-07-19T08:51:18.796Z"
   },
   {
    "duration": 13,
    "start_time": "2025-07-19T08:51:23.436Z"
   },
   {
    "duration": 3,
    "start_time": "2025-07-19T08:51:28.907Z"
   },
   {
    "duration": 4,
    "start_time": "2025-07-19T08:51:32.757Z"
   },
   {
    "duration": 779,
    "start_time": "2025-07-19T08:51:34.037Z"
   },
   {
    "duration": 14,
    "start_time": "2025-07-19T08:51:42.097Z"
   },
   {
    "duration": 1315,
    "start_time": "2025-07-19T08:53:21.006Z"
   },
   {
    "duration": 24,
    "start_time": "2025-07-19T08:55:25.456Z"
   },
   {
    "duration": 6,
    "start_time": "2025-07-19T08:55:27.846Z"
   },
   {
    "duration": 88667,
    "start_time": "2025-07-19T08:55:33.826Z"
   },
   {
    "duration": 12,
    "start_time": "2025-07-19T09:45:00.805Z"
   },
   {
    "duration": 1718,
    "start_time": "2025-07-19T09:45:59.665Z"
   },
   {
    "duration": 3,
    "start_time": "2025-07-19T10:00:39.282Z"
   },
   {
    "duration": 982,
    "start_time": "2025-07-19T10:00:39.874Z"
   },
   {
    "duration": 8,
    "start_time": "2025-07-19T10:00:41.822Z"
   },
   {
    "duration": 34,
    "start_time": "2025-07-19T10:00:42.473Z"
   },
   {
    "duration": 288,
    "start_time": "2025-07-19T10:00:43.403Z"
   },
   {
    "duration": 4,
    "start_time": "2025-07-19T10:00:44.353Z"
   },
   {
    "duration": 24,
    "start_time": "2025-07-19T10:00:45.712Z"
   },
   {
    "duration": 4,
    "start_time": "2025-07-19T10:00:46.453Z"
   },
   {
    "duration": 90347,
    "start_time": "2025-07-19T10:00:47.372Z"
   },
   {
    "duration": 1318,
    "start_time": "2025-07-20T10:26:30.726Z"
   },
   {
    "duration": 961,
    "start_time": "2025-07-20T10:26:32.046Z"
   },
   {
    "duration": 12,
    "start_time": "2025-07-20T10:26:33.009Z"
   },
   {
    "duration": 55,
    "start_time": "2025-07-20T10:26:33.022Z"
   },
   {
    "duration": 239,
    "start_time": "2025-07-20T10:26:33.079Z"
   },
   {
    "duration": 4,
    "start_time": "2025-07-20T10:26:33.319Z"
   },
   {
    "duration": 23,
    "start_time": "2025-07-20T10:26:33.324Z"
   },
   {
    "duration": 9,
    "start_time": "2025-07-20T10:26:33.348Z"
   },
   {
    "duration": 67083,
    "start_time": "2025-07-20T10:26:33.358Z"
   },
   {
    "duration": 120,
    "start_time": "2025-07-20T10:27:40.443Z"
   },
   {
    "duration": 1,
    "start_time": "2025-07-20T10:27:40.564Z"
   },
   {
    "duration": 0,
    "start_time": "2025-07-20T10:27:40.566Z"
   },
   {
    "duration": 3,
    "start_time": "2025-07-20T10:39:36.233Z"
   },
   {
    "duration": 8,
    "start_time": "2025-07-20T10:39:48.043Z"
   },
   {
    "duration": 3,
    "start_time": "2025-07-20T10:40:31.233Z"
   },
   {
    "duration": 2,
    "start_time": "2025-07-20T10:43:06.182Z"
   },
   {
    "duration": 33,
    "start_time": "2025-07-20T10:43:10.281Z"
   },
   {
    "duration": 1248,
    "start_time": "2025-07-20T10:43:33.602Z"
   },
   {
    "duration": 6,
    "start_time": "2025-07-20T10:43:41.151Z"
   },
   {
    "duration": 2073,
    "start_time": "2025-07-20T10:43:52.631Z"
   },
   {
    "duration": 4,
    "start_time": "2025-07-20T10:43:59.091Z"
   },
   {
    "duration": 476,
    "start_time": "2025-07-20T10:44:28.361Z"
   },
   {
    "duration": 9,
    "start_time": "2025-07-20T10:44:43.681Z"
   },
   {
    "duration": 3,
    "start_time": "2025-07-20T10:44:59.351Z"
   },
   {
    "duration": 3,
    "start_time": "2025-07-20T10:45:02.530Z"
   },
   {
    "duration": 6480,
    "start_time": "2025-07-20T10:45:05.251Z"
   },
   {
    "duration": 11,
    "start_time": "2025-07-20T10:47:35.561Z"
   },
   {
    "duration": 3,
    "start_time": "2025-07-20T10:48:08.261Z"
   },
   {
    "duration": 15,
    "start_time": "2025-07-20T10:48:22.489Z"
   },
   {
    "duration": 6586,
    "start_time": "2025-07-20T10:48:23.669Z"
   },
   {
    "duration": 3,
    "start_time": "2025-07-20T10:48:43.060Z"
   },
   {
    "duration": 11,
    "start_time": "2025-07-20T10:48:53.669Z"
   },
   {
    "duration": 4,
    "start_time": "2025-07-20T10:49:05.669Z"
   },
   {
    "duration": 44295,
    "start_time": "2025-07-20T10:49:08.769Z"
   },
   {
    "duration": 2,
    "start_time": "2025-07-20T10:53:22.409Z"
   },
   {
    "duration": 2302,
    "start_time": "2025-07-20T10:53:31.538Z"
   },
   {
    "duration": 9,
    "start_time": "2025-07-20T10:53:50.958Z"
   },
   {
    "duration": 2185,
    "start_time": "2025-07-20T10:54:02.677Z"
   },
   {
    "duration": 7,
    "start_time": "2025-07-20T10:54:06.278Z"
   },
   {
    "duration": 185,
    "start_time": "2025-07-20T10:54:22.418Z"
   },
   {
    "duration": 22,
    "start_time": "2025-07-20T10:54:36.888Z"
   },
   {
    "duration": 12,
    "start_time": "2025-07-20T10:55:04.298Z"
   },
   {
    "duration": 3,
    "start_time": "2025-07-20T10:55:49.248Z"
   },
   {
    "duration": 305,
    "start_time": "2025-07-20T10:56:20.758Z"
   },
   {
    "duration": 14,
    "start_time": "2025-07-20T10:56:34.538Z"
   },
   {
    "duration": 15,
    "start_time": "2025-07-20T10:56:47.057Z"
   },
   {
    "duration": 3,
    "start_time": "2025-07-20T11:10:21.714Z"
   },
   {
    "duration": 5,
    "start_time": "2025-07-20T11:10:23.624Z"
   },
   {
    "duration": 70486,
    "start_time": "2025-07-20T11:12:07.903Z"
   },
   {
    "duration": 8,
    "start_time": "2025-07-20T11:13:22.854Z"
   },
   {
    "duration": 2,
    "start_time": "2025-07-20T11:13:32.264Z"
   },
   {
    "duration": 54,
    "start_time": "2025-07-20T11:13:34.124Z"
   },
   {
    "duration": 44,
    "start_time": "2025-07-20T11:13:50.365Z"
   },
   {
    "duration": 1344,
    "start_time": "2025-07-20T11:13:57.494Z"
   },
   {
    "duration": 982,
    "start_time": "2025-07-20T11:13:59.743Z"
   },
   {
    "duration": 3,
    "start_time": "2025-07-20T11:14:05.714Z"
   },
   {
    "duration": 855,
    "start_time": "2025-07-20T11:14:06.093Z"
   },
   {
    "duration": 18,
    "start_time": "2025-07-20T11:14:06.950Z"
   },
   {
    "duration": 31,
    "start_time": "2025-07-20T11:14:07.303Z"
   },
   {
    "duration": 208,
    "start_time": "2025-07-20T11:14:07.844Z"
   },
   {
    "duration": 4,
    "start_time": "2025-07-20T11:14:08.234Z"
   },
   {
    "duration": 3,
    "start_time": "2025-07-20T11:14:08.854Z"
   },
   {
    "duration": 5,
    "start_time": "2025-07-20T11:14:09.702Z"
   },
   {
    "duration": 5,
    "start_time": "2025-07-20T11:14:10.163Z"
   },
   {
    "duration": 3,
    "start_time": "2025-07-20T11:14:13.383Z"
   },
   {
    "duration": 69423,
    "start_time": "2025-07-20T11:14:16.203Z"
   },
   {
    "duration": 8,
    "start_time": "2025-07-20T11:15:50.283Z"
   },
   {
    "duration": 2,
    "start_time": "2025-07-20T11:15:53.144Z"
   },
   {
    "duration": 31,
    "start_time": "2025-07-20T11:15:54.523Z"
   },
   {
    "duration": 2087,
    "start_time": "2025-07-20T11:15:56.043Z"
   },
   {
    "duration": 3,
    "start_time": "2025-07-20T11:16:06.263Z"
   }
  ],
  "kernelspec": {
   "display_name": "Python 3 (ipykernel)",
   "language": "python",
   "name": "python3"
  },
  "language_info": {
   "codemirror_mode": {
    "name": "ipython",
    "version": 3
   },
   "file_extension": ".py",
   "mimetype": "text/x-python",
   "name": "python",
   "nbconvert_exporter": "python",
   "pygments_lexer": "ipython3",
   "version": "3.9.19"
  },
  "toc": {
   "base_numbering": 1,
   "nav_menu": {},
   "number_sections": true,
   "sideBar": true,
   "skip_h1_title": true,
   "title_cell": "Содержание",
   "title_sidebar": "Contents",
   "toc_cell": true,
   "toc_position": {
    "height": "calc(100% - 180px)",
    "left": "10px",
    "top": "150px",
    "width": "302.391px"
   },
   "toc_section_display": true,
   "toc_window_display": false
  }
 },
 "nbformat": 4,
 "nbformat_minor": 2
}
