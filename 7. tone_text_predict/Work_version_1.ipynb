{
 "cells": [
  {
   "cell_type": "markdown",
   "metadata": {
    "toc": true
   },
   "source": [
    "<h1>Содержание<span class=\"tocSkip\"></span></h1>\n",
    "<div class=\"toc\"><ul class=\"toc-item\"><li><span><a href=\"#Подготовка\" data-toc-modified-id=\"Подготовка-1\"><span class=\"toc-item-num\">1&nbsp;&nbsp;</span>Подготовка</a></span></li><li><span><a href=\"#Обучение\" data-toc-modified-id=\"Обучение-2\"><span class=\"toc-item-num\">2&nbsp;&nbsp;</span>Обучение</a></span></li><li><span><a href=\"#Выводы\" data-toc-modified-id=\"Выводы-3\"><span class=\"toc-item-num\">3&nbsp;&nbsp;</span>Выводы</a></span></li><li><span><a href=\"#Чек-лист-проверки\" data-toc-modified-id=\"Чек-лист-проверки-4\"><span class=\"toc-item-num\">4&nbsp;&nbsp;</span>Чек-лист проверки</a></span></li></ul></div>"
   ]
  },
  {
   "cell_type": "markdown",
   "metadata": {},
   "source": [
    "# Проект для «Викишоп»"
   ]
  },
  {
   "cell_type": "markdown",
   "metadata": {},
   "source": [
    "Интернет-магазин «Викишоп» запускает новый сервис. Теперь пользователи могут редактировать и дополнять описания товаров, как в вики-сообществах. То есть клиенты предлагают свои правки и комментируют изменения других. Магазину нужен инструмент, который будет искать токсичные комментарии и отправлять их на модерацию. \n",
    "\n",
    "Обучите модель классифицировать комментарии на позитивные и негативные. В вашем распоряжении набор данных с разметкой о токсичности правок.\n",
    "\n",
    "Постройте модель со значением метрики качества *F1* не меньше 0.75. \n",
    "\n",
    "**Инструкция по выполнению проекта**\n",
    "\n",
    "1. Загрузите и подготовьте данные.\n",
    "2. Обучите разные модели. \n",
    "3. Сделайте выводы.\n",
    "\n",
    "Для выполнения проекта применять *BERT* необязательно, но вы можете попробовать.\n",
    "\n",
    "**Описание данных**\n",
    "\n",
    "Данные находятся в файле `toxic_comments.csv`. Столбец *text* в нём содержит текст комментария, а *toxic* — целевой признак."
   ]
  },
  {
   "cell_type": "markdown",
   "metadata": {},
   "source": [
    "## Подготовка"
   ]
  },
  {
   "cell_type": "code",
   "execution_count": 1,
   "metadata": {},
   "outputs": [],
   "source": [
    "import pandas as pd\n",
    "from pymystem3 import Mystem\n",
    "from tqdm import notebook\n",
    "from tqdm.notebook import tqdm\n",
    "import re\n",
    "import nltk\n",
    "from nltk.corpus import stopwords as nltk_stopwords\n",
    "from sklearn.model_selection import train_test_split\n",
    "from sklearn.feature_extraction.text import TfidfVectorizer\n",
    "from sklearn.linear_model import LogisticRegression\n",
    "from sklearn.metrics import f1_score\n",
    "RANDOM_STATE =42"
   ]
  },
  {
   "cell_type": "code",
   "execution_count": 2,
   "metadata": {},
   "outputs": [],
   "source": [
    "df = pd.read_csv('/datasets/toxic_comments.csv', index_col=0)"
   ]
  },
  {
   "cell_type": "code",
   "execution_count": 3,
   "metadata": {},
   "outputs": [
    {
     "data": {
      "text/html": [
       "<div>\n",
       "<style scoped>\n",
       "    .dataframe tbody tr th:only-of-type {\n",
       "        vertical-align: middle;\n",
       "    }\n",
       "\n",
       "    .dataframe tbody tr th {\n",
       "        vertical-align: top;\n",
       "    }\n",
       "\n",
       "    .dataframe thead th {\n",
       "        text-align: right;\n",
       "    }\n",
       "</style>\n",
       "<table border=\"1\" class=\"dataframe\">\n",
       "  <thead>\n",
       "    <tr style=\"text-align: right;\">\n",
       "      <th></th>\n",
       "      <th>text</th>\n",
       "      <th>toxic</th>\n",
       "    </tr>\n",
       "  </thead>\n",
       "  <tbody>\n",
       "    <tr>\n",
       "      <th>0</th>\n",
       "      <td>Explanation\\nWhy the edits made under my usern...</td>\n",
       "      <td>0</td>\n",
       "    </tr>\n",
       "    <tr>\n",
       "      <th>1</th>\n",
       "      <td>D'aww! He matches this background colour I'm s...</td>\n",
       "      <td>0</td>\n",
       "    </tr>\n",
       "    <tr>\n",
       "      <th>2</th>\n",
       "      <td>Hey man, I'm really not trying to edit war. It...</td>\n",
       "      <td>0</td>\n",
       "    </tr>\n",
       "    <tr>\n",
       "      <th>3</th>\n",
       "      <td>\"\\nMore\\nI can't make any real suggestions on ...</td>\n",
       "      <td>0</td>\n",
       "    </tr>\n",
       "    <tr>\n",
       "      <th>4</th>\n",
       "      <td>You, sir, are my hero. Any chance you remember...</td>\n",
       "      <td>0</td>\n",
       "    </tr>\n",
       "  </tbody>\n",
       "</table>\n",
       "</div>"
      ],
      "text/plain": [
       "                                                text  toxic\n",
       "0  Explanation\\nWhy the edits made under my usern...      0\n",
       "1  D'aww! He matches this background colour I'm s...      0\n",
       "2  Hey man, I'm really not trying to edit war. It...      0\n",
       "3  \"\\nMore\\nI can't make any real suggestions on ...      0\n",
       "4  You, sir, are my hero. Any chance you remember...      0"
      ]
     },
     "execution_count": 3,
     "metadata": {},
     "output_type": "execute_result"
    }
   ],
   "source": [
    "df.head()"
   ]
  },
  {
   "cell_type": "code",
   "execution_count": 4,
   "metadata": {
    "scrolled": true
   },
   "outputs": [
    {
     "name": "stdout",
     "output_type": "stream",
     "text": [
      "<class 'pandas.core.frame.DataFrame'>\n",
      "Int64Index: 159292 entries, 0 to 159450\n",
      "Data columns (total 2 columns):\n",
      " #   Column  Non-Null Count   Dtype \n",
      "---  ------  --------------   ----- \n",
      " 0   text    159292 non-null  object\n",
      " 1   toxic   159292 non-null  int64 \n",
      "dtypes: int64(1), object(1)\n",
      "memory usage: 3.6+ MB\n"
     ]
    }
   ],
   "source": [
    "df.info()"
   ]
  },
  {
   "cell_type": "code",
   "execution_count": 7,
   "metadata": {},
   "outputs": [],
   "source": [
    "tqdm.pandas()\n",
    "m = Mystem()"
   ]
  },
  {
   "cell_type": "code",
   "execution_count": 9,
   "metadata": {},
   "outputs": [],
   "source": [
    "# custom_stopwords = set(nltk_stopwords.words('english')) | {\n",
    "#     'would', 'could', 'should', 'might', 'may', 'also', 'us', 'get', 'go', 'like'\n",
    "# }"
   ]
  },
  {
   "cell_type": "code",
   "execution_count": 10,
   "metadata": {},
   "outputs": [],
   "source": [
    "# def clear_text(text):\n",
    "#     \"\"\"Улучшенная очистка текста\"\"\"\n",
    "#     text = text.lower()  \n",
    "#     text = re.sub(r'[^a-zA-Zа-яА-Я\\s]', ' ', text)  \n",
    "#     text = re.sub(r'\\s+', ' ', text).strip()  \n",
    "#     return text\n",
    "\n",
    "# def lemmatize(text):\n",
    "#     cleaned = clear_text(text)\n",
    "#     lemmas = m.lemmatize(cleaned)\n",
    "#     lemm_text = \"\".join(lemmas).strip()\n",
    "#     words = [word for word in lemm_text.split() if word not in custom_stopwords]\n",
    "#     return \" \".join(words)"
   ]
  },
  {
   "cell_type": "code",
   "execution_count": 8,
   "metadata": {},
   "outputs": [],
   "source": [
    "def clear_text(text):\n",
    "    \"\"\"Очистка текста от не-буквенных символов\"\"\"\n",
    "    tmp = re.sub(r'[^a-zA-Zа-яА-Я]', ' ', text)\n",
    "    tmp_lst = tmp.split()\n",
    "    return ' '.join(tmp_lst)\n",
    "\n",
    "def lemmatize(text):\n",
    "    \"\"\"Лемматизация очищенного текста\"\"\"\n",
    "    cleaned = clear_text(text)\n",
    "    lemm_list = m.lemmatize(cleaned)\n",
    "    lemm_text = \"\".join(lemm_list).strip()\n",
    "    return lemm_text\n"
   ]
  },
  {
   "cell_type": "code",
   "execution_count": 9,
   "metadata": {},
   "outputs": [
    {
     "data": {
      "application/vnd.jupyter.widget-view+json": {
       "model_id": "242b774ea8024c94990f6f38aa3b94b7",
       "version_major": 2,
       "version_minor": 0
      },
      "text/plain": [
       "  0%|          | 0/159292 [00:00<?, ?it/s]"
      ]
     },
     "metadata": {},
     "output_type": "display_data"
    }
   ],
   "source": [
    "df['clear_lemma'] = df['text'].progress_apply(lemmatize)"
   ]
  },
  {
   "cell_type": "code",
   "execution_count": 10,
   "metadata": {},
   "outputs": [
    {
     "data": {
      "text/html": [
       "<div>\n",
       "<style scoped>\n",
       "    .dataframe tbody tr th:only-of-type {\n",
       "        vertical-align: middle;\n",
       "    }\n",
       "\n",
       "    .dataframe tbody tr th {\n",
       "        vertical-align: top;\n",
       "    }\n",
       "\n",
       "    .dataframe thead th {\n",
       "        text-align: right;\n",
       "    }\n",
       "</style>\n",
       "<table border=\"1\" class=\"dataframe\">\n",
       "  <thead>\n",
       "    <tr style=\"text-align: right;\">\n",
       "      <th></th>\n",
       "      <th>text</th>\n",
       "      <th>toxic</th>\n",
       "      <th>clear_lemma</th>\n",
       "    </tr>\n",
       "  </thead>\n",
       "  <tbody>\n",
       "    <tr>\n",
       "      <th>0</th>\n",
       "      <td>Explanation\\nWhy the edits made under my usern...</td>\n",
       "      <td>0</td>\n",
       "      <td>Explanation Why the edits made under my userna...</td>\n",
       "    </tr>\n",
       "    <tr>\n",
       "      <th>1</th>\n",
       "      <td>D'aww! He matches this background colour I'm s...</td>\n",
       "      <td>0</td>\n",
       "      <td>D aww He matches this background colour I m se...</td>\n",
       "    </tr>\n",
       "    <tr>\n",
       "      <th>2</th>\n",
       "      <td>Hey man, I'm really not trying to edit war. It...</td>\n",
       "      <td>0</td>\n",
       "      <td>Hey man I m really not trying to edit war It s...</td>\n",
       "    </tr>\n",
       "    <tr>\n",
       "      <th>3</th>\n",
       "      <td>\"\\nMore\\nI can't make any real suggestions on ...</td>\n",
       "      <td>0</td>\n",
       "      <td>More I can t make any real suggestions on impr...</td>\n",
       "    </tr>\n",
       "    <tr>\n",
       "      <th>4</th>\n",
       "      <td>You, sir, are my hero. Any chance you remember...</td>\n",
       "      <td>0</td>\n",
       "      <td>You sir are my hero Any chance you remember wh...</td>\n",
       "    </tr>\n",
       "  </tbody>\n",
       "</table>\n",
       "</div>"
      ],
      "text/plain": [
       "                                                text  toxic  \\\n",
       "0  Explanation\\nWhy the edits made under my usern...      0   \n",
       "1  D'aww! He matches this background colour I'm s...      0   \n",
       "2  Hey man, I'm really not trying to edit war. It...      0   \n",
       "3  \"\\nMore\\nI can't make any real suggestions on ...      0   \n",
       "4  You, sir, are my hero. Any chance you remember...      0   \n",
       "\n",
       "                                         clear_lemma  \n",
       "0  Explanation Why the edits made under my userna...  \n",
       "1  D aww He matches this background colour I m se...  \n",
       "2  Hey man I m really not trying to edit war It s...  \n",
       "3  More I can t make any real suggestions on impr...  \n",
       "4  You sir are my hero Any chance you remember wh...  "
      ]
     },
     "execution_count": 10,
     "metadata": {},
     "output_type": "execute_result"
    }
   ],
   "source": [
    "df.head()"
   ]
  },
  {
   "cell_type": "code",
   "execution_count": 11,
   "metadata": {},
   "outputs": [],
   "source": [
    "X = df['clear_lemma']\n",
    "y = df['toxic']"
   ]
  },
  {
   "cell_type": "code",
   "execution_count": 12,
   "metadata": {},
   "outputs": [],
   "source": [
    "X_train, X_test, y_train, y_test = train_test_split(X, y, random_state=RANDOM_STATE)"
   ]
  },
  {
   "cell_type": "code",
   "execution_count": 13,
   "metadata": {},
   "outputs": [],
   "source": [
    "X_train = X_train.values.astype('U')\n",
    "X_test = X_test.values.astype('U')"
   ]
  },
  {
   "cell_type": "code",
   "execution_count": 14,
   "metadata": {
    "scrolled": false
   },
   "outputs": [
    {
     "name": "stderr",
     "output_type": "stream",
     "text": [
      "[nltk_data] Downloading package stopwords to /home/jovyan/nltk_data...\n",
      "[nltk_data]   Package stopwords is already up-to-date!\n"
     ]
    }
   ],
   "source": [
    "nltk.download('stopwords')\n",
    "stopwords = list(nltk_stopwords.words('english'))"
   ]
  },
  {
   "cell_type": "code",
   "execution_count": 16,
   "metadata": {},
   "outputs": [],
   "source": [
    "tfidf = TfidfVectorizer(\n",
    "    stop_words=stopwords,\n",
    "    )"
   ]
  },
  {
   "cell_type": "code",
   "execution_count": 17,
   "metadata": {
    "scrolled": false
   },
   "outputs": [],
   "source": [
    "X_train_tfidf = tfidf.fit_transform(X_train)"
   ]
  },
  {
   "cell_type": "code",
   "execution_count": 18,
   "metadata": {},
   "outputs": [
    {
     "data": {
      "text/plain": [
       "(119469, 142320)"
      ]
     },
     "execution_count": 18,
     "metadata": {},
     "output_type": "execute_result"
    }
   ],
   "source": [
    "X_train_tfidf.shape"
   ]
  },
  {
   "cell_type": "code",
   "execution_count": 20,
   "metadata": {},
   "outputs": [],
   "source": [
    "model = LogisticRegression(solver=\"saga\", max_iter=500, random_state=RANDOM_STATE)\n"
   ]
  },
  {
   "cell_type": "code",
   "execution_count": 21,
   "metadata": {
    "scrolled": true
   },
   "outputs": [
    {
     "data": {
      "application/vnd.jupyter.widget-view+json": {
       "model_id": "02b86def69c54f2ab80a90d65f0ef7b0",
       "version_major": 2,
       "version_minor": 0
      },
      "text/plain": [
       "Training model:   0%|          | 0/1 [00:00<?, ?it/s]"
      ]
     },
     "metadata": {},
     "output_type": "display_data"
    }
   ],
   "source": [
    "with tqdm(total=1, desc=\"Training model\") as pbar:\n",
    "    model.fit(X_train_tfidf, y_train)\n",
    "    pbar.update(1)"
   ]
  },
  {
   "cell_type": "code",
   "execution_count": 22,
   "metadata": {},
   "outputs": [],
   "source": [
    "X_test_tfidf = tfidf.transform(X_test) "
   ]
  },
  {
   "cell_type": "code",
   "execution_count": 23,
   "metadata": {
    "scrolled": true
   },
   "outputs": [],
   "source": [
    "predictions = model.predict(X_test_tfidf)"
   ]
  },
  {
   "cell_type": "code",
   "execution_count": 24,
   "metadata": {
    "scrolled": true
   },
   "outputs": [
    {
     "name": "stdout",
     "output_type": "stream",
     "text": [
      "F1-score на тренировочных данных: 0.7242\n"
     ]
    }
   ],
   "source": [
    "f1 = f1_score(predictions, y_test)\n",
    "print(f\"F1-score на тренировочных данных: {f1:.4f}\")"
   ]
  },
  {
   "cell_type": "markdown",
   "metadata": {},
   "source": [
    "## Обучение"
   ]
  },
  {
   "cell_type": "code",
   "execution_count": 25,
   "metadata": {},
   "outputs": [],
   "source": [
    "from xgboost import XGBClassifier\n",
    "\n",
    "model = XGBClassifier(\n",
    "    n_estimators=200,\n",
    "    max_depth=5,\n",
    "    learning_rate=0.1,\n",
    "    random_state=RANDOM_STATE,\n",
    "    eval_metric='logloss',  # для бинарной классификации\n",
    "    use_label_encoder=False\n",
    ")\n"
   ]
  },
  {
   "cell_type": "code",
   "execution_count": 29,
   "metadata": {},
   "outputs": [],
   "source": [
    "model_2 = XGBClassifier(random_state=RANDOM_STATE)"
   ]
  },
  {
   "cell_type": "code",
   "execution_count": 30,
   "metadata": {},
   "outputs": [
    {
     "name": "stderr",
     "output_type": "stream",
     "text": [
      "/opt/conda/lib/python3.9/site-packages/xgboost/sklearn.py:1224: UserWarning: The use of label encoder in XGBClassifier is deprecated and will be removed in a future release. To remove this warning, do the following: 1) Pass option use_label_encoder=False when constructing XGBClassifier object; and 2) Encode your labels (y) as integers starting with 0, i.e. 0, 1, 2, ..., [num_class - 1].\n",
      "  warnings.warn(label_encoder_deprecation_msg, UserWarning)\n"
     ]
    },
    {
     "name": "stdout",
     "output_type": "stream",
     "text": [
      "[11:49:03] WARNING: ../src/learner.cc:1115: Starting in XGBoost 1.3.0, the default evaluation metric used with the objective 'binary:logistic' was changed from 'error' to 'logloss'. Explicitly set eval_metric if you'd like to restore the old behavior.\n"
     ]
    },
    {
     "data": {
      "text/plain": [
       "XGBClassifier(base_score=0.5, booster='gbtree', colsample_bylevel=1,\n",
       "              colsample_bynode=1, colsample_bytree=1, enable_categorical=False,\n",
       "              gamma=0, gpu_id=-1, importance_type=None,\n",
       "              interaction_constraints='', learning_rate=0.300000012,\n",
       "              max_delta_step=0, max_depth=6, min_child_weight=1, missing=nan,\n",
       "              monotone_constraints='()', n_estimators=100, n_jobs=8,\n",
       "              num_parallel_tree=1, predictor='auto', random_state=42,\n",
       "              reg_alpha=0, reg_lambda=1, scale_pos_weight=1, subsample=1,\n",
       "              tree_method='exact', validate_parameters=1, verbosity=None)"
      ]
     },
     "execution_count": 30,
     "metadata": {},
     "output_type": "execute_result"
    }
   ],
   "source": [
    "model_2.fit(X_train_tfidf, y_train)"
   ]
  },
  {
   "cell_type": "code",
   "execution_count": 31,
   "metadata": {},
   "outputs": [],
   "source": [
    "predictions = model_2.predict(X_test_tfidf)\n"
   ]
  },
  {
   "cell_type": "code",
   "execution_count": 32,
   "metadata": {},
   "outputs": [
    {
     "name": "stdout",
     "output_type": "stream",
     "text": [
      "F1-score с XGBoost: 0.7128\n"
     ]
    }
   ],
   "source": [
    "f1 = f1_score(y_test, predictions)\n",
    "print(f\"F1-score с XGBoost: {f1:.4f}\")"
   ]
  },
  {
   "cell_type": "markdown",
   "metadata": {},
   "source": [
    "## Выводы"
   ]
  },
  {
   "cell_type": "code",
   "execution_count": 35,
   "metadata": {},
   "outputs": [
    {
     "data": {
      "text/plain": [
       "<1x142320 sparse matrix of type '<class 'numpy.float64'>'\n",
       "\twith 72 stored elements in Compressed Sparse Row format>"
      ]
     },
     "execution_count": 35,
     "metadata": {},
     "output_type": "execute_result"
    }
   ],
   "source": [
    "X_test_tfidf[0]"
   ]
  },
  {
   "cell_type": "markdown",
   "metadata": {},
   "source": [
    "## Чек-лист проверки"
   ]
  },
  {
   "cell_type": "markdown",
   "metadata": {},
   "source": [
    "- [x]  Jupyter Notebook открыт\n",
    "- [ ]  Весь код выполняется без ошибок\n",
    "- [ ]  Ячейки с кодом расположены в порядке исполнения\n",
    "- [ ]  Данные загружены и подготовлены\n",
    "- [ ]  Модели обучены\n",
    "- [ ]  Значение метрики *F1* не меньше 0.75\n",
    "- [ ]  Выводы написаны"
   ]
  }
 ],
 "metadata": {
  "ExecuteTimeLog": [
   {
    "duration": 434,
    "start_time": "2025-07-19T08:15:16.606Z"
   },
   {
    "duration": 1030,
    "start_time": "2025-07-19T08:15:48.756Z"
   },
   {
    "duration": 15,
    "start_time": "2025-07-19T08:15:57.051Z"
   },
   {
    "duration": 41,
    "start_time": "2025-07-19T08:16:09.686Z"
   },
   {
    "duration": 8,
    "start_time": "2025-07-19T08:16:19.335Z"
   },
   {
    "duration": 956,
    "start_time": "2025-07-19T08:35:26.540Z"
   },
   {
    "duration": 9,
    "start_time": "2025-07-19T08:35:29.040Z"
   },
   {
    "duration": 70,
    "start_time": "2025-07-19T08:36:04.840Z"
   },
   {
    "duration": 236,
    "start_time": "2025-07-19T08:36:09.420Z"
   },
   {
    "duration": 200,
    "start_time": "2025-07-19T08:36:14.330Z"
   },
   {
    "duration": 5,
    "start_time": "2025-07-19T08:38:33.249Z"
   },
   {
    "duration": 11,
    "start_time": "2025-07-19T08:38:54.860Z"
   },
   {
    "duration": 20,
    "start_time": "2025-07-19T08:39:14.040Z"
   },
   {
    "duration": 9144,
    "start_time": "2025-07-19T08:40:23.288Z"
   },
   {
    "duration": 41,
    "start_time": "2025-07-19T08:41:21.719Z"
   },
   {
    "duration": 4,
    "start_time": "2025-07-19T08:42:48.058Z"
   },
   {
    "duration": 10,
    "start_time": "2025-07-19T08:43:49.878Z"
   },
   {
    "duration": 3,
    "start_time": "2025-07-19T08:43:57.208Z"
   },
   {
    "duration": 2,
    "start_time": "2025-07-19T08:44:11.439Z"
   },
   {
    "duration": 3,
    "start_time": "2025-07-19T08:44:14.218Z"
   },
   {
    "duration": 100044,
    "start_time": "2025-07-19T08:44:36.358Z"
   },
   {
    "duration": 12,
    "start_time": "2025-07-19T08:46:54.397Z"
   },
   {
    "duration": 31,
    "start_time": "2025-07-19T08:49:15.387Z"
   },
   {
    "duration": 4,
    "start_time": "2025-07-19T08:50:02.446Z"
   },
   {
    "duration": 94,
    "start_time": "2025-07-19T08:51:07.157Z"
   },
   {
    "duration": 91,
    "start_time": "2025-07-19T08:51:18.796Z"
   },
   {
    "duration": 13,
    "start_time": "2025-07-19T08:51:23.436Z"
   },
   {
    "duration": 3,
    "start_time": "2025-07-19T08:51:28.907Z"
   },
   {
    "duration": 4,
    "start_time": "2025-07-19T08:51:32.757Z"
   },
   {
    "duration": 779,
    "start_time": "2025-07-19T08:51:34.037Z"
   },
   {
    "duration": 14,
    "start_time": "2025-07-19T08:51:42.097Z"
   },
   {
    "duration": 1315,
    "start_time": "2025-07-19T08:53:21.006Z"
   },
   {
    "duration": 24,
    "start_time": "2025-07-19T08:55:25.456Z"
   },
   {
    "duration": 6,
    "start_time": "2025-07-19T08:55:27.846Z"
   },
   {
    "duration": 88667,
    "start_time": "2025-07-19T08:55:33.826Z"
   },
   {
    "duration": 12,
    "start_time": "2025-07-19T09:45:00.805Z"
   },
   {
    "duration": 1718,
    "start_time": "2025-07-19T09:45:59.665Z"
   },
   {
    "duration": 3,
    "start_time": "2025-07-19T10:00:39.282Z"
   },
   {
    "duration": 982,
    "start_time": "2025-07-19T10:00:39.874Z"
   },
   {
    "duration": 8,
    "start_time": "2025-07-19T10:00:41.822Z"
   },
   {
    "duration": 34,
    "start_time": "2025-07-19T10:00:42.473Z"
   },
   {
    "duration": 288,
    "start_time": "2025-07-19T10:00:43.403Z"
   },
   {
    "duration": 4,
    "start_time": "2025-07-19T10:00:44.353Z"
   },
   {
    "duration": 24,
    "start_time": "2025-07-19T10:00:45.712Z"
   },
   {
    "duration": 4,
    "start_time": "2025-07-19T10:00:46.453Z"
   },
   {
    "duration": 90347,
    "start_time": "2025-07-19T10:00:47.372Z"
   },
   {
    "duration": 1318,
    "start_time": "2025-07-20T10:26:30.726Z"
   },
   {
    "duration": 961,
    "start_time": "2025-07-20T10:26:32.046Z"
   },
   {
    "duration": 12,
    "start_time": "2025-07-20T10:26:33.009Z"
   },
   {
    "duration": 55,
    "start_time": "2025-07-20T10:26:33.022Z"
   },
   {
    "duration": 239,
    "start_time": "2025-07-20T10:26:33.079Z"
   },
   {
    "duration": 4,
    "start_time": "2025-07-20T10:26:33.319Z"
   },
   {
    "duration": 23,
    "start_time": "2025-07-20T10:26:33.324Z"
   },
   {
    "duration": 9,
    "start_time": "2025-07-20T10:26:33.348Z"
   },
   {
    "duration": 67083,
    "start_time": "2025-07-20T10:26:33.358Z"
   },
   {
    "duration": 120,
    "start_time": "2025-07-20T10:27:40.443Z"
   },
   {
    "duration": 1,
    "start_time": "2025-07-20T10:27:40.564Z"
   },
   {
    "duration": 0,
    "start_time": "2025-07-20T10:27:40.566Z"
   },
   {
    "duration": 3,
    "start_time": "2025-07-20T10:39:36.233Z"
   },
   {
    "duration": 8,
    "start_time": "2025-07-20T10:39:48.043Z"
   },
   {
    "duration": 3,
    "start_time": "2025-07-20T10:40:31.233Z"
   },
   {
    "duration": 2,
    "start_time": "2025-07-20T10:43:06.182Z"
   },
   {
    "duration": 33,
    "start_time": "2025-07-20T10:43:10.281Z"
   },
   {
    "duration": 1248,
    "start_time": "2025-07-20T10:43:33.602Z"
   },
   {
    "duration": 6,
    "start_time": "2025-07-20T10:43:41.151Z"
   },
   {
    "duration": 2073,
    "start_time": "2025-07-20T10:43:52.631Z"
   },
   {
    "duration": 4,
    "start_time": "2025-07-20T10:43:59.091Z"
   },
   {
    "duration": 476,
    "start_time": "2025-07-20T10:44:28.361Z"
   },
   {
    "duration": 9,
    "start_time": "2025-07-20T10:44:43.681Z"
   },
   {
    "duration": 3,
    "start_time": "2025-07-20T10:44:59.351Z"
   },
   {
    "duration": 3,
    "start_time": "2025-07-20T10:45:02.530Z"
   },
   {
    "duration": 6480,
    "start_time": "2025-07-20T10:45:05.251Z"
   },
   {
    "duration": 11,
    "start_time": "2025-07-20T10:47:35.561Z"
   },
   {
    "duration": 3,
    "start_time": "2025-07-20T10:48:08.261Z"
   },
   {
    "duration": 15,
    "start_time": "2025-07-20T10:48:22.489Z"
   },
   {
    "duration": 6586,
    "start_time": "2025-07-20T10:48:23.669Z"
   },
   {
    "duration": 3,
    "start_time": "2025-07-20T10:48:43.060Z"
   },
   {
    "duration": 11,
    "start_time": "2025-07-20T10:48:53.669Z"
   },
   {
    "duration": 4,
    "start_time": "2025-07-20T10:49:05.669Z"
   },
   {
    "duration": 44295,
    "start_time": "2025-07-20T10:49:08.769Z"
   },
   {
    "duration": 2,
    "start_time": "2025-07-20T10:53:22.409Z"
   },
   {
    "duration": 2302,
    "start_time": "2025-07-20T10:53:31.538Z"
   },
   {
    "duration": 9,
    "start_time": "2025-07-20T10:53:50.958Z"
   },
   {
    "duration": 2185,
    "start_time": "2025-07-20T10:54:02.677Z"
   },
   {
    "duration": 7,
    "start_time": "2025-07-20T10:54:06.278Z"
   },
   {
    "duration": 185,
    "start_time": "2025-07-20T10:54:22.418Z"
   },
   {
    "duration": 22,
    "start_time": "2025-07-20T10:54:36.888Z"
   },
   {
    "duration": 12,
    "start_time": "2025-07-20T10:55:04.298Z"
   },
   {
    "duration": 3,
    "start_time": "2025-07-20T10:55:49.248Z"
   },
   {
    "duration": 305,
    "start_time": "2025-07-20T10:56:20.758Z"
   },
   {
    "duration": 14,
    "start_time": "2025-07-20T10:56:34.538Z"
   },
   {
    "duration": 15,
    "start_time": "2025-07-20T10:56:47.057Z"
   },
   {
    "duration": 3,
    "start_time": "2025-07-20T11:10:21.714Z"
   },
   {
    "duration": 5,
    "start_time": "2025-07-20T11:10:23.624Z"
   },
   {
    "duration": 70486,
    "start_time": "2025-07-20T11:12:07.903Z"
   },
   {
    "duration": 8,
    "start_time": "2025-07-20T11:13:22.854Z"
   },
   {
    "duration": 2,
    "start_time": "2025-07-20T11:13:32.264Z"
   },
   {
    "duration": 54,
    "start_time": "2025-07-20T11:13:34.124Z"
   },
   {
    "duration": 44,
    "start_time": "2025-07-20T11:13:50.365Z"
   },
   {
    "duration": 1344,
    "start_time": "2025-07-20T11:13:57.494Z"
   },
   {
    "duration": 982,
    "start_time": "2025-07-20T11:13:59.743Z"
   },
   {
    "duration": 3,
    "start_time": "2025-07-20T11:14:05.714Z"
   },
   {
    "duration": 855,
    "start_time": "2025-07-20T11:14:06.093Z"
   },
   {
    "duration": 18,
    "start_time": "2025-07-20T11:14:06.950Z"
   },
   {
    "duration": 31,
    "start_time": "2025-07-20T11:14:07.303Z"
   },
   {
    "duration": 208,
    "start_time": "2025-07-20T11:14:07.844Z"
   },
   {
    "duration": 4,
    "start_time": "2025-07-20T11:14:08.234Z"
   },
   {
    "duration": 3,
    "start_time": "2025-07-20T11:14:08.854Z"
   },
   {
    "duration": 5,
    "start_time": "2025-07-20T11:14:09.702Z"
   },
   {
    "duration": 5,
    "start_time": "2025-07-20T11:14:10.163Z"
   },
   {
    "duration": 3,
    "start_time": "2025-07-20T11:14:13.383Z"
   },
   {
    "duration": 69423,
    "start_time": "2025-07-20T11:14:16.203Z"
   },
   {
    "duration": 8,
    "start_time": "2025-07-20T11:15:50.283Z"
   },
   {
    "duration": 2,
    "start_time": "2025-07-20T11:15:53.144Z"
   },
   {
    "duration": 31,
    "start_time": "2025-07-20T11:15:54.523Z"
   },
   {
    "duration": 2087,
    "start_time": "2025-07-20T11:15:56.043Z"
   },
   {
    "duration": 3,
    "start_time": "2025-07-20T11:16:06.263Z"
   },
   {
    "duration": 46,
    "start_time": "2025-07-20T11:24:31.911Z"
   },
   {
    "duration": 1310,
    "start_time": "2025-07-20T11:24:40.211Z"
   },
   {
    "duration": 991,
    "start_time": "2025-07-20T11:24:42.061Z"
   },
   {
    "duration": 13,
    "start_time": "2025-07-20T11:24:43.054Z"
   },
   {
    "duration": 32,
    "start_time": "2025-07-20T11:24:43.311Z"
   },
   {
    "duration": 224,
    "start_time": "2025-07-20T11:24:44.101Z"
   },
   {
    "duration": 4,
    "start_time": "2025-07-20T11:24:44.661Z"
   },
   {
    "duration": 3,
    "start_time": "2025-07-20T11:24:45.271Z"
   },
   {
    "duration": 6,
    "start_time": "2025-07-20T11:24:45.921Z"
   },
   {
    "duration": 5,
    "start_time": "2025-07-20T11:24:46.591Z"
   },
   {
    "duration": 2,
    "start_time": "2025-07-20T11:24:47.301Z"
   },
   {
    "duration": 70097,
    "start_time": "2025-07-20T11:24:47.971Z"
   },
   {
    "duration": 8,
    "start_time": "2025-07-20T11:25:58.070Z"
   },
   {
    "duration": 4,
    "start_time": "2025-07-20T11:25:58.079Z"
   },
   {
    "duration": 40,
    "start_time": "2025-07-20T11:25:58.084Z"
   },
   {
    "duration": 2126,
    "start_time": "2025-07-20T11:25:58.126Z"
   },
   {
    "duration": 3,
    "start_time": "2025-07-20T11:26:51.671Z"
   },
   {
    "duration": 1346,
    "start_time": "2025-07-20T11:27:43.892Z"
   },
   {
    "duration": 1013,
    "start_time": "2025-07-20T11:27:45.240Z"
   },
   {
    "duration": 13,
    "start_time": "2025-07-20T11:27:46.255Z"
   },
   {
    "duration": 32,
    "start_time": "2025-07-20T11:27:47.230Z"
   },
   {
    "duration": 219,
    "start_time": "2025-07-20T11:27:48.650Z"
   },
   {
    "duration": 4,
    "start_time": "2025-07-20T11:27:49.561Z"
   },
   {
    "duration": 4,
    "start_time": "2025-07-20T11:27:56.011Z"
   },
   {
    "duration": 3,
    "start_time": "2025-07-20T11:28:10.351Z"
   },
   {
    "duration": 66883,
    "start_time": "2025-07-20T11:28:13.540Z"
   },
   {
    "duration": 8,
    "start_time": "2025-07-20T11:31:06.590Z"
   },
   {
    "duration": 3,
    "start_time": "2025-07-20T11:31:07.940Z"
   },
   {
    "duration": 31,
    "start_time": "2025-07-20T11:31:08.719Z"
   },
   {
    "duration": 2106,
    "start_time": "2025-07-20T11:31:09.450Z"
   },
   {
    "duration": 156,
    "start_time": "2025-07-20T11:31:13.790Z"
   },
   {
    "duration": 109,
    "start_time": "2025-07-20T11:31:16.580Z"
   },
   {
    "duration": 2,
    "start_time": "2025-07-20T11:31:32.270Z"
   },
   {
    "duration": 6613,
    "start_time": "2025-07-20T11:31:35.700Z"
   },
   {
    "duration": 3,
    "start_time": "2025-07-20T11:31:43.440Z"
   },
   {
    "duration": 3,
    "start_time": "2025-07-20T11:31:45.900Z"
   },
   {
    "duration": 2,
    "start_time": "2025-07-20T11:31:46.800Z"
   },
   {
    "duration": 2016,
    "start_time": "2025-07-20T11:31:48.799Z"
   },
   {
    "duration": 2081,
    "start_time": "2025-07-20T11:31:52.720Z"
   },
   {
    "duration": 7,
    "start_time": "2025-07-20T11:31:55.810Z"
   },
   {
    "duration": 16,
    "start_time": "2025-07-20T11:31:56.809Z"
   },
   {
    "duration": 132,
    "start_time": "2025-07-20T11:32:07.110Z"
   },
   {
    "duration": 343989,
    "start_time": "2025-07-20T11:32:21.989Z"
   },
   {
    "duration": 396,
    "start_time": "2025-07-20T11:38:05.979Z"
   },
   {
    "duration": 14,
    "start_time": "2025-07-20T11:38:06.377Z"
   },
   {
    "duration": 3,
    "start_time": "2025-07-20T11:48:55.826Z"
   },
   {
    "duration": 191504,
    "start_time": "2025-07-20T11:49:01.096Z"
   },
   {
    "duration": 274,
    "start_time": "2025-07-20T11:52:12.602Z"
   },
   {
    "duration": 14,
    "start_time": "2025-07-20T11:52:12.878Z"
   },
   {
    "duration": 4,
    "start_time": "2025-07-20T12:00:31.991Z"
   },
   {
    "duration": 11,
    "start_time": "2025-07-20T12:00:45.912Z"
   },
   {
    "duration": 4,
    "start_time": "2025-07-20T12:00:54.892Z"
   }
  ],
  "kernelspec": {
   "display_name": "Python 3 (ipykernel)",
   "language": "python",
   "name": "python3"
  },
  "language_info": {
   "codemirror_mode": {
    "name": "ipython",
    "version": 3
   },
   "file_extension": ".py",
   "mimetype": "text/x-python",
   "name": "python",
   "nbconvert_exporter": "python",
   "pygments_lexer": "ipython3",
   "version": "3.9.5"
  },
  "toc": {
   "base_numbering": 1,
   "nav_menu": {},
   "number_sections": true,
   "sideBar": true,
   "skip_h1_title": true,
   "title_cell": "Содержание",
   "title_sidebar": "Contents",
   "toc_cell": true,
   "toc_position": {
    "height": "calc(100% - 180px)",
    "left": "10px",
    "top": "150px",
    "width": "302.391px"
   },
   "toc_section_display": true,
   "toc_window_display": false
  }
 },
 "nbformat": 4,
 "nbformat_minor": 2
}
