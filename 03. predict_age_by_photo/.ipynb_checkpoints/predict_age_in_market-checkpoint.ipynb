{
 "cells": [
  {
   "cell_type": "markdown",
   "metadata": {},
   "source": [
    "<div style=\"border:solid green 2px; padding: 20px\">\n",
    "    \n",
    "<b>Егор, привет!</b> Мы рады тебя видеть на территории код-ревьюеров 😎. Ты проделал большую работу над проектом, но давай познакомимся и сделаем его еще лучше! У нас тут своя атмосфера и несколько правил:\n",
    "\n",
    "\n",
    "1. Меня зовут Александр Матвеевский. Я работаю код-ревьюером, моя основная цель — не указать на совершенные тобою ошибки, а поделиться своим опытом и помочь тебе стать дата-специалистом.\n",
    "2. Общаемся на ты.\n",
    "3. Если хочешь написать, спросить - не нужно стесняться. Только выбери свой цвет для комментария.  \n",
    "4. Это учебный проект, тут можно не бояться сделать ошибку.  \n",
    "5. У нас с тобой 6 попыток для сдачи проекта.  \n",
    "6. Let's Go!\n",
    "\n",
    "---\n",
    "\n",
    "Я буду красить комментарии цветом, пожалуйста, не удаляй их:\n",
    "\n",
    "<div class=\"alert alert-block alert-danger\">✍\n",
    "    \n",
    "\n",
    "__Комментарий от ревьюера №1__\n",
    "\n",
    "Такой комментарий нужно исправить обязательно, он критически влияет на удачное выполнение проекта.\n",
    "</div>\n",
    "    \n",
    "---\n",
    "\n",
    "<div class=\"alert alert-block alert-warning\">📝\n",
    "    \n",
    "\n",
    "__Комментарий от ревьюера №1__\n",
    "\n",
    "\n",
    "Такой комментарий является рекомендацией или советом. Можешь использовать их на своё усмотрение.\n",
    "</div>\n",
    "\n",
    "---\n",
    "\n",
    "<div class=\"alert alert-block alert-success\">✔️\n",
    "    \n",
    "\n",
    "__Комментарий от ревьюера №1__\n",
    "\n",
    "Такой комментарий  говорит о том, что было сделано что-то качественное и правильное =)\n",
    "</div>\n",
    "    \n",
    "---\n",
    "    \n",
    "Предлагаю работать над проектом в диалоге: если ты что-то меняешь в проекте или отвечаешь на мои комментарии — пиши об этом. Мне будет легче отследить изменения, если ты выделишь свои комментарии:   \n",
    "    \n",
    "<div class=\"alert alert-info\"> <b>Комментарии студента:</b> Например, вот так.</div>\n",
    "    \n",
    "Всё это поможет выполнить повторную проверку твоего проекта оперативнее. Если будут какие-нибудь вопросы по моим комментариям, пиши, будем разбираться вместе :)    \n",
    "    \n",
    "---"
   ]
  },
  {
   "cell_type": "markdown",
   "metadata": {},
   "source": []
  },
  {
   "cell_type": "markdown",
   "metadata": {},
   "source": [
    "<div class=\"alert alert-block alert-warning\">📝\n",
    "    \n",
    "\n",
    "__Комментарий от ревьюера №1__\n",
    "\n",
    "    \n",
    "Хотя основной целью проекта и является обучение модели, хорошо бы добавить постановку задачи: краткое ее описание и описание данных."
   ]
  },
  {
   "cell_type": "markdown",
   "metadata": {},
   "source": []
  },
  {
   "cell_type": "markdown",
   "metadata": {},
   "source": [
    "# Определение возраста покупателей"
   ]
  },
  {
   "cell_type": "markdown",
   "metadata": {},
   "source": [
    "## Исследовательский анализ данных"
   ]
  },
  {
   "cell_type": "code",
   "execution_count": 1,
   "metadata": {},
   "outputs": [],
   "source": [
    "from tensorflow.keras.preprocessing.image import ImageDataGenerator\n",
    "from tensorflow.keras.models import Sequential\n",
    "from tensorflow.keras.layers import Conv2D, AveragePooling2D, Flatten, Dense\n",
    "import pandas as pd\n",
    "import matplotlib.pyplot as plt\n",
    "import seaborn as sns"
   ]
  },
  {
   "cell_type": "code",
   "execution_count": 2,
   "metadata": {},
   "outputs": [],
   "source": [
    "def show_info(df):\n",
    "    print('Количество строк выборки составляет:',df.shape[0],'\\n')\n",
    "    display('Первые пять строк', df.head())\n",
    "    print('Общая информация о данных\\n')\n",
    "    print(df.info())\n",
    "    display('Описание',df.describe().T)\n",
    "    print('Количество явных дубликатов составляет',df.duplicated().sum())"
   ]
  },
  {
   "cell_type": "code",
   "execution_count": null,
   "metadata": {},
   "outputs": [],
   "source": [
    "labels = pd.read_csv('/datasets/faces/labels.csv')\n",
    "train_datagen = ImageDataGenerator(rescale=1./255)\n",
    "train_gen_flow = train_datagen.flow_from_dataframe(\n",
    "        dataframe=labels,\n",
    "        directory='/datasets/faces/final_files/',\n",
    "        x_col='file_name',\n",
    "        y_col='real_age',\n",
    "        target_size=(224, 224),\n",
    "        batch_size=32,\n",
    "        class_mode='raw',\n",
    "        seed=12345) "
   ]
  },
  {
   "cell_type": "code",
   "execution_count": null,
   "metadata": {},
   "outputs": [],
   "source": [
    "show_info(labels)"
   ]
  },
  {
   "cell_type": "markdown",
   "metadata": {},
   "source": []
  },
  {
   "cell_type": "markdown",
   "metadata": {},
   "source": [
    "данные содержат 7591 фото."
   ]
  },
  {
   "cell_type": "code",
   "execution_count": null,
   "metadata": {},
   "outputs": [],
   "source": [
    "mean = labels['real_age'].mean()\n",
    "median = labels['real_age'].median()\n",
    "q25 = labels['real_age'].quantile(0.25)\n",
    "q75 = labels['real_age'].quantile(0.75)\n",
    "\n",
    "fig, ax = plt.subplots(2, 1, figsize=(12, 10))\n",
    "fig.suptitle(f\"График распределения возраста\", fontsize=13)\n",
    "\n",
    "# Гистограмма\n",
    "hist = sns.histplot(labels['real_age'], bins=50, kde=True, ax=ax[0])\n",
    "ax[0].set_title('Гистограмма', fontsize=10)\n",
    "ax[0].set_xlabel(\"Количество лет\")\n",
    "ax[0].set_ylabel('Частота')\n",
    "ax[0].grid(True)\n",
    "\n",
    "# Закрашиваем область между квантилями\n",
    "for patch in hist.patches:\n",
    "    if q25 <= patch.get_x() <= q75:\n",
    "        patch.set_facecolor('moccasin')\n",
    "\n",
    "ax[0].axvline(mean, color='red', linestyle='--', label=f'Среднее = {mean:.2f}')\n",
    "ax[0].axvline(median, color='purple', linestyle='-.', label=f'Медиана = {median:.2f}')\n",
    "ax[0].axvline(q25, color='blue', linestyle=':', alpha=0.5, label='25% квантиль')\n",
    "ax[0].axvline(q75, color='blue', linestyle=':', alpha=0.5, label='75% квантиль')\n",
    "ax[0].legend()\n",
    "\n",
    "# Boxplot\n",
    "sns.boxplot(x=labels['real_age'], ax=ax[1], color='pink')\n",
    "ax[1].set_title('Диаграмма размаха', fontsize=10)\n",
    "ax[1].axvline(median, color='green', linestyle='-.')\n",
    "ax[1].grid(True)\n",
    "\n",
    "plt.tight_layout(rect=[0, 0, 1, 0.95])\n",
    "plt.show();"
   ]
  },
  {
   "cell_type": "markdown",
   "metadata": {},
   "source": [
    "<div class=\"alert alert-block alert-success\">✔️\n",
    "    \n",
    "\n",
    "__Комментарий от ревьюера №1__\n",
    "\n",
    "Молодец, что распределение данных смотришь, как на гистограмме, так и на диаграмме  размаха"
   ]
  },
  {
   "cell_type": "markdown",
   "metadata": {},
   "source": [
    "1) Визуально гистограмма показывает, что данные близки к нормальному распределению.\n",
    "\n",
    "2) Среднее и медиана: Среднее (31.20) выше медианы (29.00), что говорит о легком правом смещении. Это из-за наличие выбросов высокого возраста, что особенно заметно на боксплоте.\n",
    "\n",
    "3) Большая часть покупателей(~50%) в возрасте от 20 до 40 лет\n"
   ]
  },
  {
   "cell_type": "code",
   "execution_count": null,
   "metadata": {},
   "outputs": [],
   "source": [
    "batch_images, batch_labels = next(train_gen_flow)\n",
    "fig, axes = plt.subplots(4, 4, figsize=(10, 10))\n",
    "for i, ax in enumerate(axes.flat):\n",
    "    ax.imshow(batch_images[i+15])\n",
    "    ax.set_title(f\"Label: {batch_labels[i+15]}\")\n",
    "    ax.axis('off')\n",
    "plt.tight_layout()\n",
    "plt.show()"
   ]
  },
  {
   "cell_type": "markdown",
   "metadata": {},
   "source": [
    "1) большинство изображений имеют четко изображение,разные эмоции, освещение и национальность -- данные достаточно разнообразны     \n",
    "2) часть изображение аугментированы, это видно по поворотоам и небольшим размытием на некоторых фото"
   ]
  },
  {
   "cell_type": "markdown",
   "metadata": {},
   "source": [
    "## Обучение модели"
   ]
  },
  {
   "cell_type": "markdown",
   "metadata": {},
   "source": [
    "Архитектура модели:\n",
    "* Transfer Learning: В качестве основы взята предобученная на ImageNet модель ResNet50 (без верхних слоев) \n",
    "\n",
    "Добавленные слои:\n",
    "* GlobalAveragePooling2D() для уменьшения размерности.\n",
    "    * Полносвязные слои (Dense) с активацией ReLU и BatchNormalization.\n",
    "    * Финальный слой с одним нейроном (регрессия)."
   ]
  },
  {
   "cell_type": "markdown",
   "metadata": {},
   "source": [
    "```python\n",
    "\n",
    "from keras.models import Sequential\n",
    "import numpy as np\n",
    "from keras.layers import  GlobalAveragePooling2D, Conv2D, MaxPooling2D, Flatten, Dense, BatchNormalization,Dropout\n",
    "from keras.optimizers import Adam\n",
    "from keras.preprocessing.image import ImageDataGenerator\n",
    "from keras.applications.resnet import ResNet50\n",
    "from keras.regularizers import l2\n",
    "import pandas as pd\n",
    "\n",
    "\n",
    "def load_train(path):\n",
    "    \n",
    "    labels = pd.read_csv(path + 'labels.csv')\n",
    "\n",
    "    datagen = ImageDataGenerator(\n",
    "        validation_split=0.25,\n",
    "        rescale=1/255.,\n",
    "        horizontal_flip=True,\n",
    "        width_shift_range=0.15,\n",
    "        height_shift_range=0.15,\n",
    "        zoom_range=0.1,\n",
    "    )\n",
    "\n",
    "    return datagen.flow_from_dataframe(\n",
    "        dataframe = labels,\n",
    "        directory = path+'final_files/',\n",
    "        x_col='file_name',\n",
    "        y_col='real_age',\n",
    "        target_size=(224, 224),\n",
    "        batch_size=32,\n",
    "        class_mode='raw',\n",
    "        subset='training',\n",
    "        seed=123,\n",
    "    )\n",
    "\n",
    "\n",
    "def load_test(path):\n",
    "    \n",
    "    labels = pd.read_csv(path + 'labels.csv')\n",
    "\n",
    "    datagen = ImageDataGenerator(\n",
    "        validation_split=0.25,\n",
    "        rescale=1/255.)\n",
    "\n",
    "    return datagen.flow_from_dataframe(\n",
    "        dataframe=labels,\n",
    "        directory=path+'final_files/',\n",
    "        x_col='file_name',\n",
    "        y_col='real_age',\n",
    "        target_size=(224, 224),\n",
    "        batch_size=32,\n",
    "        class_mode='raw',\n",
    "        subset='validation',\n",
    "        seed=123,\n",
    "    )\n",
    "\n",
    "def create_model(input_shape=(224, 224, 3)):\n",
    "    \"\"\"Создание модели на основе ResNet50\"\"\"\n",
    "    print(\"Модель нейросети в процессе подготовки...\")\n",
    "    \n",
    "    weights_path = '/datasets/keras_models/resnet50_weights_tf_dim_ordering_tf_kernels_notop.h5'\n",
    "    # Загрузка предобученной ResNet50 без верхних слоев\n",
    "    backbone = ResNet50(\n",
    "        input_shape=input_shape,\n",
    "        weights=weights_path,  \n",
    "        include_top=False\n",
    "    )\n",
    "    # for layer in backbone.layers[:100]:\n",
    "    #     layer.trainable = False\n",
    "    # for layer in backbone.layers[100:]:\n",
    "    #     layer.trainable = True\n",
    "    model = Sequential([\n",
    "        backbone,\n",
    "        GlobalAveragePooling2D(),\n",
    "        BatchNormalization(),\n",
    "        # Dropout(0.5),\n",
    "        Dense(256, activation='relu'),\n",
    "        BatchNormalization(),\n",
    "        Dense(128, activation='relu'),\n",
    "        # Dropout(0.5),\n",
    "        Dense(1) \n",
    "    ])\n",
    "    \n",
    "    model.compile(\n",
    "        optimizer=Adam(learning_rate=0.0005),  \n",
    "        loss='mse',  # MSE для регрессии\n",
    "        metrics=['mae']  # MAE как метрика\n",
    "    )\n",
    "    \n",
    "    print(\"Модель нейросети готова!\")\n",
    "    return model\n",
    "\n",
    "def train_model(model, train_data, val_data, epochs=40, steps_per_epoch=None, validation_steps=None):\n",
    "   \n",
    "    model.fit(\n",
    "        train_data,\n",
    "        validation_data=val_data,\n",
    "        epochs=epochs,\n",
    "        steps_per_epoch=steps_per_epoch,\n",
    "        validation_steps=validation_steps,\n",
    "        verbose=2\n",
    "    )\n",
    "    \n",
    "    return model\n",
    "```"
   ]
  },
  {
   "cell_type": "markdown",
   "metadata": {},
   "source": [
    "```\n",
    "\n",
    "2025-08-16 05:51:32.977406: I tensorflow/stream_executor/platform/default/dso_loader.cc:44] Successfully opened dynamic library libnvinfer.so.6\n",
    "2025-08-16 05:51:33.068285: I tensorflow/stream_executor/platform/default/dso_loader.cc:44] Successfully opened dynamic library libnvinfer_plugin.so.6\n",
    "2025-08-16 05:51:39.666712: I tensorflow/stream_executor/platform/default/dso_loader.cc:44] Successfully opened dynamic library libcuda.so.1\n",
    "2025-08-16 05:51:40.392731: I tensorflow/core/common_runtime/gpu/gpu_device.cc:1555] Found device 0 with properties: \n",
    "pciBusID: 0000:8b:00.0 name: Tesla V100-SXM2-32GB computeCapability: 7.0\n",
    "coreClock: 1.53GHz coreCount: 80 deviceMemorySize: 31.75GiB deviceMemoryBandwidth: 836.37GiB/s\n",
    "2025-08-16 05:51:40.392813: I tensorflow/stream_executor/platform/default/dso_loader.cc:44] Successfully opened dynamic library libcudart.so.10.1\n",
    "2025-08-16 05:51:40.392845: I tensorflow/stream_executor/platform/default/dso_loader.cc:44] Successfully opened dynamic library libcublas.so.10\n",
    "2025-08-16 05:51:40.756331: I tensorflow/stream_executor/platform/default/dso_loader.cc:44] Successfully opened dynamic library libcufft.so.10\n",
    "2025-08-16 05:51:40.768164: I tensorflow/stream_executor/platform/default/dso_loader.cc:44] Successfully opened dynamic library libcurand.so.10\n",
    "2025-08-16 05:51:40.885411: I tensorflow/stream_executor/platform/default/dso_loader.cc:44] Successfully opened dynamic library libcusolver.so.10\n",
    "2025-08-16 05:51:40.894990: I tensorflow/stream_executor/platform/default/dso_loader.cc:44] Successfully opened dynamic library libcusparse.so.10\n",
    "2025-08-16 05:51:40.895086: I tensorflow/stream_executor/platform/default/dso_loader.cc:44] Successfully opened dynamic library libcudnn.so.7\n",
    "2025-08-16 05:51:40.898092: I tensorflow/core/common_runtime/gpu/gpu_device.cc:1697] Adding visible gpu devices: 0\n",
    "Using TensorFlow backend.\n",
    "Found 5694 validated image filenames.\n",
    "Found 1897 validated image filenames.\n",
    "Модель нейросети в процессе подготовки...\n",
    "2025-08-16 05:51:41.377491: I tensorflow/core/platform/cpu_feature_guard.cc:142] Your CPU supports instructions that this TensorFlow binary was not compiled to use: AVX2 AVX512F FMA\n",
    "2025-08-16 05:51:41.424860: I tensorflow/core/platform/profile_utils/cpu_utils.cc:94] CPU Frequency: 2099990000 Hz\n",
    "2025-08-16 05:51:41.426440: I tensorflow/compiler/xla/service/service.cc:168] XLA service 0x4f62cb0 initialized for platform Host (this does not guarantee that XLA will be used). Devices:\n",
    "2025-08-16 05:51:41.426467: I tensorflow/compiler/xla/service/service.cc:176]   StreamExecutor device (0): Host, Default Version\n",
    "2025-08-16 05:51:41.601460: I tensorflow/compiler/xla/service/service.cc:168] XLA service 0x45c2fd0 initialized for platform CUDA (this does not guarantee that XLA will be used). Devices:\n",
    "2025-08-16 05:51:41.601502: I tensorflow/compiler/xla/service/service.cc:176]   StreamExecutor device (0): Tesla V100-SXM2-32GB, Compute Capability 7.0\n",
    "2025-08-16 05:51:41.603199: I tensorflow/core/common_runtime/gpu/gpu_device.cc:1555] Found device 0 with properties: \n",
    "pciBusID: 0000:8b:00.0 name: Tesla V100-SXM2-32GB computeCapability: 7.0\n",
    "coreClock: 1.53GHz coreCount: 80 deviceMemorySize: 31.75GiB deviceMemoryBandwidth: 836.37GiB/s\n",
    "2025-08-16 05:51:41.603249: I tensorflow/stream_executor/platform/default/dso_loader.cc:44] Successfully opened dynamic library libcudart.so.10.1\n",
    "2025-08-16 05:51:41.603258: I tensorflow/stream_executor/platform/default/dso_loader.cc:44] Successfully opened dynamic library libcublas.so.10\n",
    "2025-08-16 05:51:41.603283: I tensorflow/stream_executor/platform/default/dso_loader.cc:44] Successfully opened dynamic library libcufft.so.10\n",
    "2025-08-16 05:51:41.603293: I tensorflow/stream_executor/platform/default/dso_loader.cc:44] Successfully opened dynamic library libcurand.so.10\n",
    "2025-08-16 05:51:41.603301: I tensorflow/stream_executor/platform/default/dso_loader.cc:44] Successfully opened dynamic library libcusolver.so.10\n",
    "2025-08-16 05:51:41.603310: I tensorflow/stream_executor/platform/default/dso_loader.cc:44] Successfully opened dynamic library libcusparse.so.10\n",
    "2025-08-16 05:51:41.603317: I tensorflow/stream_executor/platform/default/dso_loader.cc:44] Successfully opened dynamic library libcudnn.so.7\n",
    "2025-08-16 05:51:41.606122: I tensorflow/core/common_runtime/gpu/gpu_device.cc:1697] Adding visible gpu devices: 0\n",
    "2025-08-16 05:51:41.620068: I tensorflow/stream_executor/platform/default/dso_loader.cc:44] Successfully opened dynamic library libcudart.so.10.1\n",
    "2025-08-16 05:51:43.410694: I tensorflow/core/common_runtime/gpu/gpu_device.cc:1096] Device interconnect StreamExecutor with strength 1 edge matrix:\n",
    "2025-08-16 05:51:43.410757: I tensorflow/core/common_runtime/gpu/gpu_device.cc:1102]      0 \n",
    "2025-08-16 05:51:43.410769: I tensorflow/core/common_runtime/gpu/gpu_device.cc:1115] 0:   N \n",
    "2025-08-16 05:51:43.414012: W tensorflow/core/common_runtime/gpu/gpu_bfc_allocator.cc:39] Overriding allow_growth setting because the TF_FORCE_GPU_ALLOW_GROWTH environment variable is set. Original config value was 0.\n",
    "2025-08-16 05:51:43.414058: I tensorflow/core/common_runtime/gpu/gpu_device.cc:1241] Created TensorFlow device (/job:localhost/replica:0/task:0/device:GPU:0 with 10240 MB memory) -> physical GPU (device: 0, name: Tesla V100-SXM2-32GB, pci bus id: 0000:8b:00.0, compute capability: 7.0)\n",
    "Модель нейросети готова!\n",
    "<class 'keras.engine.sequential.Sequential'>\n",
    "Epoch 1/40\n",
    "2025-08-16 05:52:35.544092: I tensorflow/stream_executor/platform/default/dso_loader.cc:44] Successfully opened dynamic library libcublas.so.10\n",
    "2025-08-16 05:52:37.183563: I tensorflow/stream_executor/platform/default/dso_loader.cc:44] Successfully opened dynamic library libcudnn.so.7\n",
    " - 139s - loss: 418.7607 - mae: 15.8334 - val_loss: 507.0015 - val_mae: 17.3408\n",
    "Epoch 2/40\n",
    " - 84s - loss: 189.2066 - mae: 10.6041 - val_loss: 281.9799 - val_mae: 14.2165\n",
    "Epoch 3/40\n",
    " - 83s - loss: 158.3437 - mae: 9.6345 - val_loss: 204.8202 - val_mae: 12.8144\n",
    "Epoch 4/40\n",
    " - 84s - loss: 136.5417 - mae: 8.9209 - val_loss: 92.4518 - val_mae: 11.7667\n",
    "Epoch 5/40\n",
    " - 84s - loss: 128.7029 - mae: 8.6853 - val_loss: 869.2525 - val_mae: 11.5100\n",
    "Epoch 6/40\n",
    " - 84s - loss: 119.9535 - mae: 8.3736 - val_loss: 156.2972 - val_mae: 8.8187\n",
    "Epoch 7/40\n",
    " - 84s - loss: 116.0410 - mae: 8.2183 - val_loss: 204.1507 - val_mae: 11.1251\n",
    "Epoch 8/40\n",
    " - 83s - loss: 109.1057 - mae: 7.9954 - val_loss: 43.6924 - val_mae: 8.3601\n",
    "Epoch 9/40\n",
    " - 84s - loss: 104.8736 - mae: 7.8159 - val_loss: 231.3077 - val_mae: 10.1133\n",
    "Epoch 10/40\n",
    " - 84s - loss: 108.2711 - mae: 7.9431 - val_loss: 464.6949 - val_mae: 13.0401\n",
    "Epoch 11/40\n",
    " - 83s - loss: 106.4149 - mae: 7.8833 - val_loss: 120.7289 - val_mae: 10.8293\n",
    "Epoch 12/40\n",
    " - 83s - loss: 114.1272 - mae: 8.1348 - val_loss: 298.2072 - val_mae: 9.2984\n",
    "Epoch 13/40\n",
    " - 83s - loss: 108.5712 - mae: 7.9522 - val_loss: 64.7465 - val_mae: 10.7447\n",
    "Epoch 14/40\n",
    " - 84s - loss: 101.2120 - mae: 7.6189 - val_loss: 66.3751 - val_mae: 7.5628\n",
    "Epoch 15/40\n",
    " - 83s - loss: 92.1939 - mae: 7.3380 - val_loss: 103.9344 - val_mae: 8.7532\n",
    "Epoch 16/40\n",
    " - 83s - loss: 91.2258 - mae: 7.2950 - val_loss: 84.2461 - val_mae: 7.8197\n",
    "Epoch 17/40\n",
    " - 84s - loss: 83.7064 - mae: 7.0694 - val_loss: 183.8632 - val_mae: 7.9339\n",
    "Epoch 18/40\n",
    " - 83s - loss: 80.0558 - mae: 6.7791 - val_loss: 293.6172 - val_mae: 7.5948\n",
    "Epoch 19/40\n",
    " - 83s - loss: 82.9647 - mae: 6.9618 - val_loss: 88.0434 - val_mae: 7.9657\n",
    "Epoch 20/40\n",
    " - 83s - loss: 80.3844 - mae: 6.8284 - val_loss: 281.2224 - val_mae: 8.8015\n",
    "Epoch 21/40\n",
    " - 83s - loss: 74.4569 - mae: 6.5832 - val_loss: 25.7375 - val_mae: 8.7381\n",
    "Epoch 22/40\n",
    " - 83s - loss: 74.8828 - mae: 6.5252 - val_loss: 61.2066 - val_mae: 7.6275\n",
    "Epoch 23/40\n",
    " - 83s - loss: 69.9999 - mae: 6.4070 - val_loss: 52.8453 - val_mae: 7.6331\n",
    "Epoch 24/40\n",
    " - 84s - loss: 67.3455 - mae: 6.2487 - val_loss: 69.8021 - val_mae: 7.5460\n",
    "Epoch 25/40\n",
    " - 84s - loss: 64.9677 - mae: 6.1304 - val_loss: 244.2747 - val_mae: 7.9022\n",
    "Epoch 26/40\n",
    " - 84s - loss: 61.6995 - mae: 6.0099 - val_loss: 374.6970 - val_mae: 10.0721\n",
    "Epoch 27/40\n",
    " - 84s - loss: 59.8070 - mae: 5.9304 - val_loss: 97.7904 - val_mae: 7.5791\n",
    "Epoch 28/40\n",
    " - 84s - loss: 59.9690 - mae: 5.8953 - val_loss: 217.4491 - val_mae: 9.7187\n",
    "Epoch 29/40\n",
    " - 83s - loss: 64.5314 - mae: 6.1427 - val_loss: 78.9597 - val_mae: 7.5284\n",
    "Epoch 30/40\n",
    " - 83s - loss: 59.1026 - mae: 5.8752 - val_loss: 114.7969 - val_mae: 7.3581\n",
    "Epoch 31/40\n",
    " - 83s - loss: 60.7440 - mae: 5.9188 - val_loss: 102.2581 - val_mae: 7.4458\n",
    "Epoch 32/40\n",
    " - 84s - loss: 55.5241 - mae: 5.7327 - val_loss: 119.9596 - val_mae: 7.8448\n",
    "Epoch 33/40\n",
    " - 84s - loss: 53.3223 - mae: 5.5966 - val_loss: 15.0040 - val_mae: 6.9535\n",
    "Epoch 34/40\n",
    " - 84s - loss: 53.3710 - mae: 5.6248 - val_loss: 106.9556 - val_mae: 7.7079\n",
    "Epoch 35/40\n",
    " - 84s - loss: 48.9773 - mae: 5.3815 - val_loss: 90.3384 - val_mae: 7.9341\n",
    "Epoch 36/40\n",
    " - 85s - loss: 48.2016 - mae: 5.3552 - val_loss: 29.2457 - val_mae: 7.5177\n",
    "Epoch 37/40\n",
    " - 83s - loss: 45.2306 - mae: 5.1190 - val_loss: 86.6646 - val_mae: 8.9686\n",
    "Epoch 38/40\n",
    " - 83s - loss: 49.0627 - mae: 5.3882 - val_loss: 161.8053 - val_mae: 7.8318\n",
    "Epoch 39/40\n",
    " - 84s - loss: 57.7532 - mae: 5.7787 - val_loss: 51.8476 - val_mae: 6.8515\n",
    "Epoch 40/40\n",
    " - 84s - loss: 52.3726 - mae: 5.5294 - val_loss: 10.5891 - val_mae: 6.7964\n",
    "Test MAE: 6.7964\n",
    "\n",
    "```"
   ]
  },
  {
   "cell_type": "markdown",
   "metadata": {},
   "source": [
    "<div class=\"alert alert-block alert-success\">✔️\n",
    "    \n",
    "\n",
    "__Комментарий от ревьюера №1__\n",
    "        \n",
    "    \n",
    "Что можно сделать для улучшения качества: не считая увеличения и корректировки самой выборки, можно попробовать другие методы аугментации данных (кстати, вот интересная библиотека: [albumentations](https://github.com/albumentations-team/albumentations).), также можно рассмотреть добавление новых слоев и использование методов борьбы с переобучением (тот же dropout, к примеру). Что касается оптимизатора и шага градиента, то тут все хорошо.  Adam довольно универсален, хотя и уступает в некоторых вещах SGD и AdamW. Он хорош тем, что довольно быстро ищет минимум. Но если есть время на эксперименты и если это необходимо, то действительно можно попробовать разные методы оптимизации. При желании можно попробовать использовать [LearningRateScheduler](https://keras.io/api/callbacks/learning_rate_scheduler/), который меняет шаг в зависимости от стадии обучения. Правда, с малым числом эпох в этом не так много смысла :) \n",
    "\n",
    "\n",
    "Неплохой идеей будет использование других предобученных моделей. \n",
    "\n",
    "Ну а что касается задачи определения совершеннолетних, то на мой взгляд, тут мы если не бессильны, то очень ограничены в возможностях. К примеру, подростки часто выглядят старше своих лет. Кроме того, есть болезни, которые сильно меняют внешность человека в ту или иную сторону. Здесь заказчику можно предложить подумать над сканированием паспорта и сопоставлением фотографии в паспорте с лицом покупателя. Это не только проще, но и надежнее. \n",
    "</div>"
   ]
  },
  {
   "cell_type": "markdown",
   "metadata": {},
   "source": []
  },
  {
   "cell_type": "markdown",
   "metadata": {},
   "source": [
    "## Анализ обученной модели"
   ]
  },
  {
   "cell_type": "markdown",
   "metadata": {},
   "source": [
    "Итоговый MAE на валидации: 6.79 лет (<8 по заданию) за 40 эпох обучения.\n",
    "\n",
    "**Рекомендации:**  \n",
    "- Заморозить часть слоев ResNet для сохранения полезных признаков.  \n",
    "- Добавить регуляризацию (Dropout, L2) для снижения переобучения.  \n",
    "- Уменьшить `learning_rate` для более стабильной тонкой настройки. \n",
    "- Использовать большее кол-во эпох\n",
    "\n",
    "**Вывод:** Модель работоспособна, но требует небольшой оптимизации для повышения точности.**"
   ]
  },
  {
   "cell_type": "markdown",
   "metadata": {},
   "source": [
    "<div style=\"border:solid blue 3px; padding: 20px\">\n",
    "<div class=\"alert alert-block alert-success\">✔️\n",
    "    \n",
    "\n",
    "__Коментарий от ревьюера №1__\n",
    "\n",
    "\n",
    "В остальном всё чудно😊. Твой проект так и просится на github =)   \n",
    "    \n",
    "Поздравляю с успешным завершением проекта 😊👍\n",
    "И желаю успехов в новых работах 😊\n",
    "    \n",
    "---\n",
    "    \n",
    "От себя хочу порекомендовать тебе отличную книгу про язык Python. Она очень классная (можно купить как новую, так и на Авито попадается. Вот ссылка на pdf этой книги)\n",
    "    \n",
    "https://monster-book.com/avtomatizaciya-zadach-s-python\n",
    "</div>"
   ]
  },
  {
   "cell_type": "markdown",
   "metadata": {},
   "source": [
    "## Чек-лист"
   ]
  },
  {
   "cell_type": "raw",
   "metadata": {},
   "source": [
    "- [x]  Jupyter Notebook открыт\n",
    "- [ ]  Весь код выполняется без ошибок\n",
    "- [ ]  Ячейки с кодом расположены в порядке исполнения\n",
    "- [ ]  Исследовательский анализ данных выполнен\n",
    "- [ ]  Результаты исследовательского анализа данных перенесены в финальную тетрадь\n",
    "- [ ]  MAE модели не больше 8\n",
    "- [ ]  Код обучения модели скопирован в финальную тетрадь\n",
    "- [ ]  Результат вывода модели на экран перенесён в финальную тетрадь\n",
    "- [ ]  По итогам обучения модели сделаны выводы"
   ]
  }
 ],
 "metadata": {
  "ExecuteTimeLog": [
   {
    "duration": 96,
    "start_time": "2025-08-16T06:03:15.794Z"
   },
   {
    "duration": 2565,
    "start_time": "2025-08-16T06:04:58.353Z"
   },
   {
    "duration": 4,
    "start_time": "2025-08-16T06:05:00.920Z"
   },
   {
    "duration": 90220,
    "start_time": "2025-08-16T06:05:00.925Z"
   },
   {
    "duration": 35,
    "start_time": "2025-08-16T06:06:31.147Z"
   },
   {
    "duration": 658,
    "start_time": "2025-08-16T06:06:31.184Z"
   },
   {
    "duration": 1667,
    "start_time": "2025-08-16T06:06:31.843Z"
   },
   {
    "duration": 711,
    "start_time": "2025-08-16T07:04:25.860Z"
   },
   {
    "duration": 623,
    "start_time": "2025-08-16T07:05:54.110Z"
   },
   {
    "duration": 2712,
    "start_time": "2025-08-16T11:30:33.560Z"
   },
   {
    "duration": 4,
    "start_time": "2025-08-16T11:30:36.274Z"
   }
  ],
  "kernelspec": {
   "display_name": "Python 3 (ipykernel)",
   "language": "python",
   "name": "python3"
  },
  "language_info": {
   "codemirror_mode": {
    "name": "ipython",
    "version": 3
   },
   "file_extension": ".py",
   "mimetype": "text/x-python",
   "name": "python",
   "nbconvert_exporter": "python",
   "pygments_lexer": "ipython3",
   "version": "3.9.19"
  },
  "toc": {
   "base_numbering": 1,
   "nav_menu": {},
   "number_sections": true,
   "sideBar": true,
   "skip_h1_title": true,
   "title_cell": "Table of Contents",
   "title_sidebar": "Contents",
   "toc_cell": false,
   "toc_position": {},
   "toc_section_display": true,
   "toc_window_display": true
  }
 },
 "nbformat": 4,
 "nbformat_minor": 2
}
